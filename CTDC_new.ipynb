{
  "nbformat": 4,
  "nbformat_minor": 0,
  "metadata": {
    "colab": {
      "provenance": [],
      "authorship_tag": "ABX9TyOYvtoQYo/TXDXI+hI2TgPq",
      "include_colab_link": true
    },
    "kernelspec": {
      "name": "python3",
      "display_name": "Python 3"
    },
    "language_info": {
      "name": "python"
    }
  },
  "cells": [
    {
      "cell_type": "markdown",
      "metadata": {
        "id": "view-in-github",
        "colab_type": "text"
      },
      "source": [
        "<a href=\"https://colab.research.google.com/github/AkashJahid/STHPP/blob/main/CTDC_new.ipynb\" target=\"_parent\"><img src=\"https://colab.research.google.com/assets/colab-badge.svg\" alt=\"Open In Colab\"/></a>"
      ]
    },
    {
      "cell_type": "code",
      "execution_count": null,
      "metadata": {
        "id": "UNwU9Hqo8BDB"
      },
      "outputs": [],
      "source": [
        "import pandas as pd\n",
        "import numpy as np\n",
        "import matplotlib.pyplot as plt\n",
        "import seaborn as sns"
      ]
    },
    {
      "cell_type": "markdown",
      "source": [
        "# New Section"
      ],
      "metadata": {
        "id": "Gpa5oy2imYTv"
      }
    },
    {
      "cell_type": "code",
      "source": [
        "!pip install catboost"
      ],
      "metadata": {
        "id": "4YZnVRVWog1w",
        "colab": {
          "base_uri": "https://localhost:8080/"
        },
        "outputId": "f669e748-69a9-47fb-d569-cabe709eee1f"
      },
      "execution_count": null,
      "outputs": [
        {
          "output_type": "stream",
          "name": "stdout",
          "text": [
            "Collecting catboost\n",
            "  Downloading catboost-1.2.2-cp310-cp310-manylinux2014_x86_64.whl (98.7 MB)\n",
            "\u001b[2K     \u001b[90m━━━━━━━━━━━━━━━━━━━━━━━━━━━━━━━━━━━━━━━━\u001b[0m \u001b[32m98.7/98.7 MB\u001b[0m \u001b[31m8.6 MB/s\u001b[0m eta \u001b[36m0:00:00\u001b[0m\n",
            "\u001b[?25hRequirement already satisfied: graphviz in /usr/local/lib/python3.10/dist-packages (from catboost) (0.20.1)\n",
            "Requirement already satisfied: matplotlib in /usr/local/lib/python3.10/dist-packages (from catboost) (3.7.1)\n",
            "Requirement already satisfied: numpy>=1.16.0 in /usr/local/lib/python3.10/dist-packages (from catboost) (1.23.5)\n",
            "Requirement already satisfied: pandas>=0.24 in /usr/local/lib/python3.10/dist-packages (from catboost) (1.5.3)\n",
            "Requirement already satisfied: scipy in /usr/local/lib/python3.10/dist-packages (from catboost) (1.11.4)\n",
            "Requirement already satisfied: plotly in /usr/local/lib/python3.10/dist-packages (from catboost) (5.15.0)\n",
            "Requirement already satisfied: six in /usr/local/lib/python3.10/dist-packages (from catboost) (1.16.0)\n",
            "Requirement already satisfied: python-dateutil>=2.8.1 in /usr/local/lib/python3.10/dist-packages (from pandas>=0.24->catboost) (2.8.2)\n",
            "Requirement already satisfied: pytz>=2020.1 in /usr/local/lib/python3.10/dist-packages (from pandas>=0.24->catboost) (2023.3.post1)\n",
            "Requirement already satisfied: contourpy>=1.0.1 in /usr/local/lib/python3.10/dist-packages (from matplotlib->catboost) (1.2.0)\n",
            "Requirement already satisfied: cycler>=0.10 in /usr/local/lib/python3.10/dist-packages (from matplotlib->catboost) (0.12.1)\n",
            "Requirement already satisfied: fonttools>=4.22.0 in /usr/local/lib/python3.10/dist-packages (from matplotlib->catboost) (4.46.0)\n",
            "Requirement already satisfied: kiwisolver>=1.0.1 in /usr/local/lib/python3.10/dist-packages (from matplotlib->catboost) (1.4.5)\n",
            "Requirement already satisfied: packaging>=20.0 in /usr/local/lib/python3.10/dist-packages (from matplotlib->catboost) (23.2)\n",
            "Requirement already satisfied: pillow>=6.2.0 in /usr/local/lib/python3.10/dist-packages (from matplotlib->catboost) (9.4.0)\n",
            "Requirement already satisfied: pyparsing>=2.3.1 in /usr/local/lib/python3.10/dist-packages (from matplotlib->catboost) (3.1.1)\n",
            "Requirement already satisfied: tenacity>=6.2.0 in /usr/local/lib/python3.10/dist-packages (from plotly->catboost) (8.2.3)\n",
            "Installing collected packages: catboost\n",
            "Successfully installed catboost-1.2.2\n"
          ]
        }
      ]
    },
    {
      "cell_type": "code",
      "source": [
        "from sklearn.ensemble import RandomForestClassifier\n",
        "from xgboost import XGBClassifier\n",
        "from lightgbm import LGBMClassifier\n",
        "from catboost import CatBoostClassifier\n",
        "from sklearn.ensemble import StackingClassifier\n",
        "from sklearn.model_selection import train_test_split\n",
        "from sklearn.metrics import accuracy_score, f1_score, precision_score, recall_score, confusion_matrix\n",
        "from sklearn.model_selection import KFold\n",
        "from sklearn.model_selection import cross_val_score, cross_val_predict\n",
        "from sklearn.metrics import matthews_corrcoef"
      ],
      "metadata": {
        "id": "GsTt3G3j8N3E"
      },
      "execution_count": null,
      "outputs": []
    },
    {
      "cell_type": "code",
      "source": [
        "df_tr = pd.read_csv('/content/CTDC Training.csv')\n",
        "df_ts = pd.read_csv('/content/CTDC testing.csv')"
      ],
      "metadata": {
        "id": "ZXwa4LHk8q-7"
      },
      "execution_count": null,
      "outputs": []
    },
    {
      "cell_type": "code",
      "source": [
        "columns = df_tr.columns.tolist()\n",
        "columns = [c for c in columns if c not in ['Target']]\n",
        "target = 'Target'\n",
        "xtrain = df_tr[columns]\n",
        "ytrain = df_tr[target]"
      ],
      "metadata": {
        "id": "wj2nndOt87wW"
      },
      "execution_count": null,
      "outputs": []
    },
    {
      "cell_type": "code",
      "source": [
        "columns = df_ts.columns.tolist()\n",
        "columns = [c for c in columns if c not in ['Target']]\n",
        "target = 'Target'\n",
        "xtest = df_ts[columns]\n",
        "ytest = df_ts[target]"
      ],
      "metadata": {
        "id": "iNjNxTMe9EdD"
      },
      "execution_count": null,
      "outputs": []
    },
    {
      "cell_type": "markdown",
      "source": [
        "**Cross Valadiation**"
      ],
      "metadata": {
        "id": "UDK9QomH-EJc"
      }
    },
    {
      "cell_type": "code",
      "source": [
        "cv = KFold(n_splits=5, random_state=1, shuffle=True)"
      ],
      "metadata": {
        "id": "QUU4L6P69OhB"
      },
      "execution_count": null,
      "outputs": []
    },
    {
      "cell_type": "markdown",
      "source": [
        "algorithm define : **Random Forest**"
      ],
      "metadata": {
        "id": "J3x6b1r0Hjmg"
      }
    },
    {
      "cell_type": "code",
      "source": [
        "model = RandomForestClassifier(n_estimators = 500, max_depth = 50)"
      ],
      "metadata": {
        "id": "cXfxYhS59cRK"
      },
      "execution_count": null,
      "outputs": []
    },
    {
      "cell_type": "code",
      "source": [
        "pred = cross_val_predict(model, xtrain, ytrain, cv=cv, n_jobs=-1)"
      ],
      "metadata": {
        "id": "1kZyX4IK9lo_"
      },
      "execution_count": null,
      "outputs": []
    },
    {
      "cell_type": "code",
      "source": [
        "accuracy_score(ytrain,pred), precision_score(ytrain, pred), recall_score(ytrain, pred), f1_score(ytrain, pred)"
      ],
      "metadata": {
        "colab": {
          "base_uri": "https://localhost:8080/"
        },
        "id": "e7JuJOpg91Iz",
        "outputId": "2df3ff22-89f3-40f8-b785-951b467b37a1"
      },
      "execution_count": null,
      "outputs": [
        {
          "output_type": "execute_result",
          "data": {
            "text/plain": [
              "(0.9223638470451911,\n",
              " 0.8952536824877251,\n",
              " 0.9374464438731791,\n",
              " 0.9158643784010047)"
            ]
          },
          "metadata": {},
          "execution_count": 10
        }
      ]
    },
    {
      "cell_type": "code",
      "source": [
        "mcc = matthews_corrcoef(ytrain, pred)\n",
        "mcc"
      ],
      "metadata": {
        "colab": {
          "base_uri": "https://localhost:8080/"
        },
        "id": "7NO5_yOoHGA7",
        "outputId": "6aea02ed-6cbc-4ad3-c04f-4d3d536b3556"
      },
      "execution_count": null,
      "outputs": [
        {
          "output_type": "execute_result",
          "data": {
            "text/plain": [
              "0.8473489224822481"
            ]
          },
          "metadata": {},
          "execution_count": 10
        }
      ]
    },
    {
      "cell_type": "code",
      "source": [
        "cm = confusion_matrix(ytrain,pred)"
      ],
      "metadata": {
        "id": "Z-jieOmjB4xZ"
      },
      "execution_count": null,
      "outputs": []
    },
    {
      "cell_type": "code",
      "source": [
        "cm"
      ],
      "metadata": {
        "colab": {
          "base_uri": "https://localhost:8080/"
        },
        "id": "vIFdEoY8O3QW",
        "outputId": "e4e9e02e-53de-43b3-cbfe-1ea9ab897d3b"
      },
      "execution_count": null,
      "outputs": [
        {
          "output_type": "execute_result",
          "data": {
            "text/plain": [
              "array([[1294,  128],\n",
              "       [  73, 1094]])"
            ]
          },
          "metadata": {},
          "execution_count": 12
        }
      ]
    },
    {
      "cell_type": "code",
      "source": [
        "# True Positives (TP)\n",
        "tp = cm[1, 1]\n",
        "\n",
        "# True Negatives (TN)\n",
        "tn = cm[0, 0]\n",
        "\n",
        "# False Positives (FP)\n",
        "fp = cm[0, 1]\n",
        "\n",
        "# False Negatives (FN)\n",
        "fn = cm[1, 0]\n",
        "\n",
        "# Sensitivity (True Positive Rate or Recall)\n",
        "sensitivity = tp / (tp + fn)\n",
        "\n",
        "# Specificity (True Negative Rate)\n",
        "specificity = tn / (tn + fp)\n",
        "\n",
        "print(\"Sensitivity:\", sensitivity)\n",
        "print(\"Specificity:\", specificity)"
      ],
      "metadata": {
        "colab": {
          "base_uri": "https://localhost:8080/"
        },
        "id": "PpADF6t2OoIq",
        "outputId": "33af6621-d0cf-412d-a263-5ff09b3d2c3e"
      },
      "execution_count": null,
      "outputs": [
        {
          "output_type": "stream",
          "name": "stdout",
          "text": [
            "Sensitivity: 0.9374464438731791\n",
            "Specificity: 0.909985935302391\n"
          ]
        }
      ]
    },
    {
      "cell_type": "code",
      "source": [
        "plt.figure(figsize=(4, 3))\n",
        "sns.set(font_scale=1.2)\n",
        "sns.heatmap(cm, annot=True, fmt='d', cmap='Blues', annot_kws={\"size\": 16}, cbar=False)\n",
        "plt.xlabel('Predicted')\n",
        "plt.ylabel('True')\n",
        "plt.title('Confusion Matrix')\n",
        "plt.show()"
      ],
      "metadata": {
        "colab": {
          "base_uri": "https://localhost:8080/",
          "height": 347
        },
        "id": "_UeBb_t3Qpvr",
        "outputId": "8425ab0b-05ef-4d18-d584-83313dac5550"
      },
      "execution_count": null,
      "outputs": [
        {
          "output_type": "display_data",
          "data": {
            "text/plain": [
              "<Figure size 400x300 with 1 Axes>"
            ],
            "image/png": "[encoded data removed]"
          },
          "metadata": {}
        }
      ]
    },
    {
      "cell_type": "markdown",
      "source": [
        "**Independent Test**"
      ],
      "metadata": {
        "id": "482WRLy2-JFm"
      }
    },
    {
      "cell_type": "code",
      "source": [
        "model.fit(xtrain, ytrain)"
      ],
      "metadata": {
        "colab": {
          "base_uri": "https://localhost:8080/",
          "height": 75
        },
        "id": "o9lh2TH5-NUW",
        "outputId": "b0f5da5a-5ae4-45f4-c41b-6a18b2e374dc"
      },
      "execution_count": null,
      "outputs": [
        {
          "output_type": "execute_result",
          "data": {
            "text/plain": [
              "RandomForestClassifier(max_depth=50, n_estimators=500)"
            ],
            "text/html": [
              "<style>#sk-container-id-1 {color: black;background-color: white;}#sk-container-id-1 pre{padding: 0;}#sk-container-id-1 div.sk-toggleable {background-color: white;}#sk-container-id-1 label.sk-toggleable__label {cursor: pointer;display: block;width: 100%;margin-bottom: 0;padding: 0.3em;box-sizing: border-box;text-align: center;}#sk-container-id-1 label.sk-toggleable__label-arrow:before {content: \"▸\";float: left;margin-right: 0.25em;color: #696969;}#sk-container-id-1 label.sk-toggleable__label-arrow:hover:before {color: black;}#sk-container-id-1 div.sk-estimator:hover label.sk-toggleable__label-arrow:before {color: black;}#sk-container-id-1 div.sk-toggleable__content {max-height: 0;max-width: 0;overflow: hidden;text-align: left;background-color: #f0f8ff;}#sk-container-id-1 div.sk-toggleable__content pre {margin: 0.2em;color: black;border-radius: 0.25em;background-color: #f0f8ff;}#sk-container-id-1 input.sk-toggleable__control:checked~div.sk-toggleable__content {max-height: 200px;max-width: 100%;overflow: auto;}#sk-container-id-1 input.sk-toggleable__control:checked~label.sk-toggleable__label-arrow:before {content: \"▾\";}#sk-container-id-1 div.sk-estimator input.sk-toggleable__control:checked~label.sk-toggleable__label {background-color: #d4ebff;}#sk-container-id-1 div.sk-label input.sk-toggleable__control:checked~label.sk-toggleable__label {background-color: #d4ebff;}#sk-container-id-1 input.sk-hidden--visually {border: 0;clip: rect(1px 1px 1px 1px);clip: rect(1px, 1px, 1px, 1px);height: 1px;margin: -1px;overflow: hidden;padding: 0;position: absolute;width: 1px;}#sk-container-id-1 div.sk-estimator {font-family: monospace;background-color: #f0f8ff;border: 1px dotted black;border-radius: 0.25em;box-sizing: border-box;margin-bottom: 0.5em;}#sk-container-id-1 div.sk-estimator:hover {background-color: #d4ebff;}#sk-container-id-1 div.sk-parallel-item::after {content: \"\";width: 100%;border-bottom: 1px solid gray;flex-grow: 1;}#sk-container-id-1 div.sk-label:hover label.sk-toggleable__label {background-color: #d4ebff;}#sk-container-id-1 div.sk-serial::before {content: \"\";position: absolute;border-left: 1px solid gray;box-sizing: border-box;top: 0;bottom: 0;left: 50%;z-index: 0;}#sk-container-id-1 div.sk-serial {display: flex;flex-direction: column;align-items: center;background-color: white;padding-right: 0.2em;padding-left: 0.2em;position: relative;}#sk-container-id-1 div.sk-item {position: relative;z-index: 1;}#sk-container-id-1 div.sk-parallel {display: flex;align-items: stretch;justify-content: center;background-color: white;position: relative;}#sk-container-id-1 div.sk-item::before, #sk-container-id-1 div.sk-parallel-item::before {content: \"\";position: absolute;border-left: 1px solid gray;box-sizing: border-box;top: 0;bottom: 0;left: 50%;z-index: -1;}#sk-container-id-1 div.sk-parallel-item {display: flex;flex-direction: column;z-index: 1;position: relative;background-color: white;}#sk-container-id-1 div.sk-parallel-item:first-child::after {align-self: flex-end;width: 50%;}#sk-container-id-1 div.sk-parallel-item:last-child::after {align-self: flex-start;width: 50%;}#sk-container-id-1 div.sk-parallel-item:only-child::after {width: 0;}#sk-container-id-1 div.sk-dashed-wrapped {border: 1px dashed gray;margin: 0 0.4em 0.5em 0.4em;box-sizing: border-box;padding-bottom: 0.4em;background-color: white;}#sk-container-id-1 div.sk-label label {font-family: monospace;font-weight: bold;display: inline-block;line-height: 1.2em;}#sk-container-id-1 div.sk-label-container {text-align: center;}#sk-container-id-1 div.sk-container {/* jupyter's `normalize.less` sets `[hidden] { display: none; }` but bootstrap.min.css set `[hidden] { display: none !important; }` so we also need the `!important` here to be able to override the default hidden behavior on the sphinx rendered scikit-learn.org. See: https://github.com/scikit-learn/scikit-learn/issues/21755 */display: inline-block !important;position: relative;}#sk-container-id-1 div.sk-text-repr-fallback {display: none;}</style><div id=\"sk-container-id-1\" class=\"sk-top-container\"><div class=\"sk-text-repr-fallback\"><pre>RandomForestClassifier(max_depth=50, n_estimators=500)</pre><b>In a Jupyter environment, please rerun this cell to show the HTML representation or trust the notebook. <br />On GitHub, the HTML representation is unable to render, please try loading this page with nbviewer.org.</b></div><div class=\"sk-container\" hidden><div class=\"sk-item\"><div class=\"sk-estimator sk-toggleable\"><input class=\"sk-toggleable__control sk-hidden--visually\" id=\"sk-estimator-id-1\" type=\"checkbox\" checked><label for=\"sk-estimator-id-1\" class=\"sk-toggleable__label sk-toggleable__label-arrow\">RandomForestClassifier</label><div class=\"sk-toggleable__content\"><pre>RandomForestClassifier(max_depth=50, n_estimators=500)</pre></div></div></div></div></div>"
            ]
          },
          "metadata": {},
          "execution_count": 11
        }
      ]
    },
    {
      "cell_type": "code",
      "source": [
        "pred = model.predict(xtest)"
      ],
      "metadata": {
        "id": "Fxz2HxrK-UmI"
      },
      "execution_count": null,
      "outputs": []
    },
    {
      "cell_type": "code",
      "source": [
        "accuracy_score(ytest,pred), precision_score(ytest, pred), recall_score(ytest, pred), f1_score(ytest, pred)"
      ],
      "metadata": {
        "colab": {
          "base_uri": "https://localhost:8080/"
        },
        "id": "VbO4vfmz-aCQ",
        "outputId": "a895ec99-63be-45d2-c84f-1f227436faba"
      },
      "execution_count": null,
      "outputs": [
        {
          "output_type": "execute_result",
          "data": {
            "text/plain": [
              "(0.9692307692307692, 0.9420289855072463, 1.0, 0.9701492537313433)"
            ]
          },
          "metadata": {},
          "execution_count": 17
        }
      ]
    },
    {
      "cell_type": "code",
      "source": [
        "mcc = matthews_corrcoef(ytest, pred)\n",
        "mcc"
      ],
      "metadata": {
        "colab": {
          "base_uri": "https://localhost:8080/"
        },
        "outputId": "41257f4a-c76e-4697-a831-07aab35b2ca8",
        "id": "C2hxdr1ocBGJ"
      },
      "execution_count": null,
      "outputs": [
        {
          "output_type": "execute_result",
          "data": {
            "text/plain": [
              "0.947528479243818"
            ]
          },
          "metadata": {},
          "execution_count": 13
        }
      ]
    },
    {
      "cell_type": "code",
      "source": [
        "cm=confusion_matrix(ytest,pred)"
      ],
      "metadata": {
        "id": "NhyWAysPCLhd"
      },
      "execution_count": null,
      "outputs": []
    },
    {
      "cell_type": "code",
      "source": [
        "cm"
      ],
      "metadata": {
        "colab": {
          "base_uri": "https://localhost:8080/"
        },
        "id": "WI3lOl95R2pT",
        "outputId": "28b4a2be-09a0-4fe6-9c8e-c72cdd8e516c"
      },
      "execution_count": null,
      "outputs": [
        {
          "output_type": "execute_result",
          "data": {
            "text/plain": [
              "array([[122,   8],\n",
              "       [  0, 130]])"
            ]
          },
          "metadata": {},
          "execution_count": 19
        }
      ]
    },
    {
      "cell_type": "code",
      "source": [
        "# True Positives (TP)\n",
        "tp = cm[1, 1]\n",
        "\n",
        "# True Negatives (TN)\n",
        "tn = cm[0, 0]\n",
        "\n",
        "# False Positives (FP)\n",
        "fp = cm[0, 1]\n",
        "\n",
        "# False Negatives (FN)\n",
        "fn = cm[1, 0]\n",
        "\n",
        "# Sensitivity (True Positive Rate or Recall)\n",
        "sensitivity = tp / (tp + fn)\n",
        "\n",
        "# Specificity (True Negative Rate)\n",
        "specificity = tn / (tn + fp)\n",
        "\n",
        "print(\"Sensitivity:\", sensitivity)\n",
        "print(\"Specificity:\", specificity)"
      ],
      "metadata": {
        "colab": {
          "base_uri": "https://localhost:8080/"
        },
        "outputId": "538847f2-f0f7-4ca2-dbfd-7907997e7340",
        "id": "JCdmO2fIRbAa"
      },
      "execution_count": null,
      "outputs": [
        {
          "output_type": "stream",
          "name": "stdout",
          "text": [
            "Sensitivity: 1.0\n",
            "Specificity: 0.9384615384615385\n"
          ]
        }
      ]
    },
    {
      "cell_type": "code",
      "source": [
        "plt.figure(figsize=(4, 3))\n",
        "sns.set(font_scale=1.2)\n",
        "sns.heatmap(cm, annot=True, fmt='d', cmap='Blues', annot_kws={\"size\": 16}, cbar=False)\n",
        "plt.xlabel('Predicted')\n",
        "plt.ylabel('True')\n",
        "plt.title('Confusion Matrix')\n",
        "plt.show()"
      ],
      "metadata": {
        "colab": {
          "base_uri": "https://localhost:8080/",
          "height": 347
        },
        "outputId": "8b11caa3-18c7-4e62-9b3d-ab6d338b03a2",
        "id": "DIY_Gmv5SAHX"
      },
      "execution_count": null,
      "outputs": [
        {
          "output_type": "display_data",
          "data": {
            "text/plain": [
              "<Figure size 400x300 with 1 Axes>"
            ],
            "image/png": "[encoded data removed]"
          },
          "metadata": {}
        }
      ]
    },
    {
      "cell_type": "markdown",
      "source": [
        "xb booster"
      ],
      "metadata": {
        "id": "FzcgpfXueoCF"
      }
    },
    {
      "cell_type": "code",
      "source": [
        "model = XGBClassifier(n_estimators = 500,max_depth = 7, base_score = 0.88, learning_rate = 0.2)\n"
      ],
      "metadata": {
        "id": "0qvw83Ocer5M"
      },
      "execution_count": null,
      "outputs": []
    },
    {
      "cell_type": "code",
      "source": [
        "pred = cross_val_predict(model, xtrain, ytrain, cv=cv, n_jobs=-1)"
      ],
      "metadata": {
        "id": "tp8Q-UP_fCq8"
      },
      "execution_count": null,
      "outputs": []
    },
    {
      "cell_type": "markdown",
      "source": [
        "Cross Valadiation"
      ],
      "metadata": {
        "id": "trc_2wW-gir7"
      }
    },
    {
      "cell_type": "code",
      "source": [
        "accuracy_score(ytrain,pred), precision_score(ytrain, pred), recall_score(ytrain, pred), f1_score(ytrain, pred)"
      ],
      "metadata": {
        "colab": {
          "base_uri": "https://localhost:8080/"
        },
        "id": "_EDAEH8XfJOn",
        "outputId": "db93af79-4e83-46c2-e07b-2c523f0e1108"
      },
      "execution_count": null,
      "outputs": [
        {
          "output_type": "execute_result",
          "data": {
            "text/plain": [
              "(0.9223638470451911,\n",
              " 0.8933224755700325,\n",
              " 0.9400171379605827,\n",
              " 0.9160751565762004)"
            ]
          },
          "metadata": {},
          "execution_count": 24
        }
      ]
    },
    {
      "cell_type": "code",
      "source": [
        "mcc = matthews_corrcoef(ytrain, pred)\n",
        "mcc"
      ],
      "metadata": {
        "colab": {
          "base_uri": "https://localhost:8080/"
        },
        "outputId": "36376cc6-5587-40cb-c685-c86f22f26dd5",
        "id": "3-UTp_z6c30O"
      },
      "execution_count": null,
      "outputs": [
        {
          "output_type": "execute_result",
          "data": {
            "text/plain": [
              "0.8463560531883163"
            ]
          },
          "metadata": {},
          "execution_count": 16
        }
      ]
    },
    {
      "cell_type": "code",
      "source": [
        "cm = confusion_matrix(ytrain,pred)"
      ],
      "metadata": {
        "id": "60ANTFaNiQSB"
      },
      "execution_count": null,
      "outputs": []
    },
    {
      "cell_type": "code",
      "source": [
        "cm"
      ],
      "metadata": {
        "colab": {
          "base_uri": "https://localhost:8080/"
        },
        "id": "IBHD-59bSgsB",
        "outputId": "f5c8272b-f6f6-4c4d-b8fd-ed59ed97e641"
      },
      "execution_count": null,
      "outputs": [
        {
          "output_type": "execute_result",
          "data": {
            "text/plain": [
              "array([[1291,  131],\n",
              "       [  70, 1097]])"
            ]
          },
          "metadata": {},
          "execution_count": 26
        }
      ]
    },
    {
      "cell_type": "code",
      "source": [
        "# True Positives (TP)\n",
        "tp = cm[1, 1]\n",
        "\n",
        "# True Negatives (TN)\n",
        "tn = cm[0, 0]\n",
        "\n",
        "# False Positives (FP)\n",
        "fp = cm[0, 1]\n",
        "\n",
        "# False Negatives (FN)\n",
        "fn = cm[1, 0]\n",
        "\n",
        "# Sensitivity (True Positive Rate or Recall)\n",
        "sensitivity = tp / (tp + fn)\n",
        "\n",
        "# Specificity (True Negative Rate)\n",
        "specificity = tn / (tn + fp)\n",
        "\n",
        "print(\"Sensitivity:\", sensitivity)\n",
        "print(\"Specificity:\", specificity)"
      ],
      "metadata": {
        "colab": {
          "base_uri": "https://localhost:8080/"
        },
        "id": "1JZDqCuoSivt",
        "outputId": "ac65a950-b04f-45b9-aab0-068e4b4596ee"
      },
      "execution_count": null,
      "outputs": [
        {
          "output_type": "stream",
          "name": "stdout",
          "text": [
            "Sensitivity: 0.9400171379605827\n",
            "Specificity: 0.9078762306610408\n"
          ]
        }
      ]
    },
    {
      "cell_type": "code",
      "source": [
        "plt.figure(figsize=(4, 3))\n",
        "sns.set(font_scale=1.2)\n",
        "sns.heatmap(cm, annot=True, fmt='d', cmap='Blues', annot_kws={\"size\": 16}, cbar=False)\n",
        "plt.xlabel('Predicted')\n",
        "plt.ylabel('True')\n",
        "plt.title('Confusion Matrix')\n",
        "plt.show()"
      ],
      "metadata": {
        "colab": {
          "base_uri": "https://localhost:8080/",
          "height": 347
        },
        "id": "I-O25x72Sn41",
        "outputId": "a18ca5a5-98e8-4288-fbb5-b19042aa49a4"
      },
      "execution_count": null,
      "outputs": [
        {
          "output_type": "display_data",
          "data": {
            "text/plain": [
              "<Figure size 400x300 with 1 Axes>"
            ],
            "image/png": "[encoded data removed]"
          },
          "metadata": {}
        }
      ]
    },
    {
      "cell_type": "markdown",
      "source": [
        "indipendent test"
      ],
      "metadata": {
        "id": "hvLiCdEQgfx3"
      }
    },
    {
      "cell_type": "code",
      "source": [
        "model.fit(xtrain, ytrain)"
      ],
      "metadata": {
        "colab": {
          "base_uri": "https://localhost:8080/",
          "height": 248
        },
        "id": "VNZez6znfLYM",
        "outputId": "04fd3afa-dd8e-423c-d21d-6636fd98e597"
      },
      "execution_count": null,
      "outputs": [
        {
          "output_type": "execute_result",
          "data": {
            "text/plain": [
              "XGBClassifier(base_score=0.88, booster=None, callbacks=None,\n",
              "              colsample_bylevel=None, colsample_bynode=None,\n",
              "              colsample_bytree=None, device=None, early_stopping_rounds=None,\n",
              "              enable_categorical=False, eval_metric=None, feature_types=None,\n",
              "              gamma=None, grow_policy=None, importance_type=None,\n",
              "              interaction_constraints=None, learning_rate=0.2, max_bin=None,\n",
              "              max_cat_threshold=None, max_cat_to_onehot=None,\n",
              "              max_delta_step=None, max_depth=7, max_leaves=None,\n",
              "              min_child_weight=None, missing=nan, monotone_constraints=None,\n",
              "              multi_strategy=None, n_estimators=500, n_jobs=None,\n",
              "              num_parallel_tree=None, random_state=None, ...)"
            ],
            "text/html": [
              "<style>#sk-container-id-2 {color: black;background-color: white;}#sk-container-id-2 pre{padding: 0;}#sk-container-id-2 div.sk-toggleable {background-color: white;}#sk-container-id-2 label.sk-toggleable__label {cursor: pointer;display: block;width: 100%;margin-bottom: 0;padding: 0.3em;box-sizing: border-box;text-align: center;}#sk-container-id-2 label.sk-toggleable__label-arrow:before {content: \"▸\";float: left;margin-right: 0.25em;color: #696969;}#sk-container-id-2 label.sk-toggleable__label-arrow:hover:before {color: black;}#sk-container-id-2 div.sk-estimator:hover label.sk-toggleable__label-arrow:before {color: black;}#sk-container-id-2 div.sk-toggleable__content {max-height: 0;max-width: 0;overflow: hidden;text-align: left;background-color: #f0f8ff;}#sk-container-id-2 div.sk-toggleable__content pre {margin: 0.2em;color: black;border-radius: 0.25em;background-color: #f0f8ff;}#sk-container-id-2 input.sk-toggleable__control:checked~div.sk-toggleable__content {max-height: 200px;max-width: 100%;overflow: auto;}#sk-container-id-2 input.sk-toggleable__control:checked~label.sk-toggleable__label-arrow:before {content: \"▾\";}#sk-container-id-2 div.sk-estimator input.sk-toggleable__control:checked~label.sk-toggleable__label {background-color: #d4ebff;}#sk-container-id-2 div.sk-label input.sk-toggleable__control:checked~label.sk-toggleable__label {background-color: #d4ebff;}#sk-container-id-2 input.sk-hidden--visually {border: 0;clip: rect(1px 1px 1px 1px);clip: rect(1px, 1px, 1px, 1px);height: 1px;margin: -1px;overflow: hidden;padding: 0;position: absolute;width: 1px;}#sk-container-id-2 div.sk-estimator {font-family: monospace;background-color: #f0f8ff;border: 1px dotted black;border-radius: 0.25em;box-sizing: border-box;margin-bottom: 0.5em;}#sk-container-id-2 div.sk-estimator:hover {background-color: #d4ebff;}#sk-container-id-2 div.sk-parallel-item::after {content: \"\";width: 100%;border-bottom: 1px solid gray;flex-grow: 1;}#sk-container-id-2 div.sk-label:hover label.sk-toggleable__label {background-color: #d4ebff;}#sk-container-id-2 div.sk-serial::before {content: \"\";position: absolute;border-left: 1px solid gray;box-sizing: border-box;top: 0;bottom: 0;left: 50%;z-index: 0;}#sk-container-id-2 div.sk-serial {display: flex;flex-direction: column;align-items: center;background-color: white;padding-right: 0.2em;padding-left: 0.2em;position: relative;}#sk-container-id-2 div.sk-item {position: relative;z-index: 1;}#sk-container-id-2 div.sk-parallel {display: flex;align-items: stretch;justify-content: center;background-color: white;position: relative;}#sk-container-id-2 div.sk-item::before, #sk-container-id-2 div.sk-parallel-item::before {content: \"\";position: absolute;border-left: 1px solid gray;box-sizing: border-box;top: 0;bottom: 0;left: 50%;z-index: -1;}#sk-container-id-2 div.sk-parallel-item {display: flex;flex-direction: column;z-index: 1;position: relative;background-color: white;}#sk-container-id-2 div.sk-parallel-item:first-child::after {align-self: flex-end;width: 50%;}#sk-container-id-2 div.sk-parallel-item:last-child::after {align-self: flex-start;width: 50%;}#sk-container-id-2 div.sk-parallel-item:only-child::after {width: 0;}#sk-container-id-2 div.sk-dashed-wrapped {border: 1px dashed gray;margin: 0 0.4em 0.5em 0.4em;box-sizing: border-box;padding-bottom: 0.4em;background-color: white;}#sk-container-id-2 div.sk-label label {font-family: monospace;font-weight: bold;display: inline-block;line-height: 1.2em;}#sk-container-id-2 div.sk-label-container {text-align: center;}#sk-container-id-2 div.sk-container {/* jupyter's `normalize.less` sets `[hidden] { display: none; }` but bootstrap.min.css set `[hidden] { display: none !important; }` so we also need the `!important` here to be able to override the default hidden behavior on the sphinx rendered scikit-learn.org. See: https://github.com/scikit-learn/scikit-learn/issues/21755 */display: inline-block !important;position: relative;}#sk-container-id-2 div.sk-text-repr-fallback {display: none;}</style><div id=\"sk-container-id-2\" class=\"sk-top-container\"><div class=\"sk-text-repr-fallback\"><pre>XGBClassifier(base_score=0.88, booster=None, callbacks=None,\n",
              "              colsample_bylevel=None, colsample_bynode=None,\n",
              "              colsample_bytree=None, device=None, early_stopping_rounds=None,\n",
              "              enable_categorical=False, eval_metric=None, feature_types=None,\n",
              "              gamma=None, grow_policy=None, importance_type=None,\n",
              "              interaction_constraints=None, learning_rate=0.2, max_bin=None,\n",
              "              max_cat_threshold=None, max_cat_to_onehot=None,\n",
              "              max_delta_step=None, max_depth=7, max_leaves=None,\n",
              "              min_child_weight=None, missing=nan, monotone_constraints=None,\n",
              "              multi_strategy=None, n_estimators=500, n_jobs=None,\n",
              "              num_parallel_tree=None, random_state=None, ...)</pre><b>In a Jupyter environment, please rerun this cell to show the HTML representation or trust the notebook. <br />On GitHub, the HTML representation is unable to render, please try loading this page with nbviewer.org.</b></div><div class=\"sk-container\" hidden><div class=\"sk-item\"><div class=\"sk-estimator sk-toggleable\"><input class=\"sk-toggleable__control sk-hidden--visually\" id=\"sk-estimator-id-2\" type=\"checkbox\" checked><label for=\"sk-estimator-id-2\" class=\"sk-toggleable__label sk-toggleable__label-arrow\">XGBClassifier</label><div class=\"sk-toggleable__content\"><pre>XGBClassifier(base_score=0.88, booster=None, callbacks=None,\n",
              "              colsample_bylevel=None, colsample_bynode=None,\n",
              "              colsample_bytree=None, device=None, early_stopping_rounds=None,\n",
              "              enable_categorical=False, eval_metric=None, feature_types=None,\n",
              "              gamma=None, grow_policy=None, importance_type=None,\n",
              "              interaction_constraints=None, learning_rate=0.2, max_bin=None,\n",
              "              max_cat_threshold=None, max_cat_to_onehot=None,\n",
              "              max_delta_step=None, max_depth=7, max_leaves=None,\n",
              "              min_child_weight=None, missing=nan, monotone_constraints=None,\n",
              "              multi_strategy=None, n_estimators=500, n_jobs=None,\n",
              "              num_parallel_tree=None, random_state=None, ...)</pre></div></div></div></div></div>"
            ]
          },
          "metadata": {},
          "execution_count": 17
        }
      ]
    },
    {
      "cell_type": "code",
      "source": [
        "pred = model.predict(xtest)"
      ],
      "metadata": {
        "id": "ME5IKMTyhSBH"
      },
      "execution_count": null,
      "outputs": []
    },
    {
      "cell_type": "code",
      "source": [
        "accuracy_score(ytest,pred), precision_score(ytest, pred), recall_score(ytest, pred), f1_score(ytest, pred)"
      ],
      "metadata": {
        "colab": {
          "base_uri": "https://localhost:8080/"
        },
        "id": "vqn8dIedhYzv",
        "outputId": "ddce72d1-ec8e-4df3-b331-0796b7aab74e"
      },
      "execution_count": null,
      "outputs": [
        {
          "output_type": "execute_result",
          "data": {
            "text/plain": [
              "(0.9769230769230769, 0.9558823529411765, 1.0, 0.9774436090225563)"
            ]
          },
          "metadata": {},
          "execution_count": 31
        }
      ]
    },
    {
      "cell_type": "code",
      "source": [
        "mcc = matthews_corrcoef(ytest, pred)\n",
        "mcc"
      ],
      "metadata": {
        "colab": {
          "base_uri": "https://localhost:8080/"
        },
        "outputId": "189fc88e-2480-409e-b8b7-d06b150c5a9c",
        "id": "7fJ1V_-gdTZJ"
      },
      "execution_count": null,
      "outputs": [
        {
          "output_type": "execute_result",
          "data": {
            "text/plain": [
              "0.954863710632231"
            ]
          },
          "metadata": {},
          "execution_count": 20
        }
      ]
    },
    {
      "cell_type": "code",
      "source": [
        "cm = confusion_matrix(ytest,pred)"
      ],
      "metadata": {
        "id": "RoAn0eixhfSR"
      },
      "execution_count": null,
      "outputs": []
    },
    {
      "cell_type": "code",
      "source": [
        "cm"
      ],
      "metadata": {
        "colab": {
          "base_uri": "https://localhost:8080/"
        },
        "id": "tzeh2qzaSKyy",
        "outputId": "e90f64fd-de49-444c-c57c-65494a31b066"
      },
      "execution_count": null,
      "outputs": [
        {
          "output_type": "execute_result",
          "data": {
            "text/plain": [
              "array([[124,   6],\n",
              "       [  0, 130]])"
            ]
          },
          "metadata": {},
          "execution_count": 33
        }
      ]
    },
    {
      "cell_type": "code",
      "source": [
        "# True Positives (TP)\n",
        "tp = cm[1, 1]\n",
        "\n",
        "# True Negatives (TN)\n",
        "tn = cm[0, 0]\n",
        "\n",
        "# False Positives (FP)\n",
        "fp = cm[0, 1]\n",
        "\n",
        "# False Negatives (FN)\n",
        "fn = cm[1, 0]\n",
        "\n",
        "# Sensitivity (True Positive Rate or Recall)\n",
        "sensitivity = tp / (tp + fn)\n",
        "\n",
        "# Specificity (True Negative Rate)\n",
        "specificity = tn / (tn + fp)\n",
        "\n",
        "print(\"Sensitivity:\", sensitivity)\n",
        "print(\"Specificity:\", specificity)"
      ],
      "metadata": {
        "colab": {
          "base_uri": "https://localhost:8080/"
        },
        "id": "0DgHq-ylSYUv",
        "outputId": "a4781eac-bb4d-491b-a659-3296eabdc472"
      },
      "execution_count": null,
      "outputs": [
        {
          "output_type": "stream",
          "name": "stdout",
          "text": [
            "Sensitivity: 1.0\n",
            "Specificity: 0.9538461538461539\n"
          ]
        }
      ]
    },
    {
      "cell_type": "code",
      "source": [
        "plt.figure(figsize=(4, 3))\n",
        "sns.set(font_scale=1.2)\n",
        "sns.heatmap(cm, annot=True, fmt='d', cmap='Blues', annot_kws={\"size\": 16}, cbar=False)\n",
        "plt.xlabel('Predicted')\n",
        "plt.ylabel('True')\n",
        "plt.title('Confusion Matrix')\n",
        "plt.show()"
      ],
      "metadata": {
        "colab": {
          "base_uri": "https://localhost:8080/",
          "height": 347
        },
        "outputId": "7a5d595e-0a56-420d-b0c8-34a519dbd876",
        "id": "DcQKaDLcSLjX"
      },
      "execution_count": null,
      "outputs": [
        {
          "output_type": "display_data",
          "data": {
            "text/plain": [
              "<Figure size 400x300 with 1 Axes>"
            ],
            "image/png": "[encoded data removed]"
          },
          "metadata": {}
        }
      ]
    },
    {
      "cell_type": "markdown",
      "source": [
        "**LGBM**"
      ],
      "metadata": {
        "id": "nCdbfPGnitN-"
      }
    },
    {
      "cell_type": "code",
      "source": [
        "model = LGBMClassifier(max_depth=7, learning_rate=0.5)"
      ],
      "metadata": {
        "id": "WUYaa0Qci9PD"
      },
      "execution_count": null,
      "outputs": []
    },
    {
      "cell_type": "code",
      "source": [
        "pred = cross_val_predict(model, xtrain, ytrain, cv=cv, n_jobs=-1)"
      ],
      "metadata": {
        "id": "Okv-MIVxjMd3"
      },
      "execution_count": null,
      "outputs": []
    },
    {
      "cell_type": "code",
      "source": [
        "accuracy_score(ytrain,pred), precision_score(ytrain, pred), recall_score(ytrain, pred), f1_score(ytrain, pred)"
      ],
      "metadata": {
        "colab": {
          "base_uri": "https://localhost:8080/"
        },
        "id": "eZAdyYHIjP6w",
        "outputId": "9c550d4f-2d8e-43cf-bd9a-4500b3ee7f55"
      },
      "execution_count": null,
      "outputs": [
        {
          "output_type": "execute_result",
          "data": {
            "text/plain": [
              "(0.9246813441483198,\n",
              " 0.8913043478260869,\n",
              " 0.9485861182519281,\n",
              " 0.9190535491905355)"
            ]
          },
          "metadata": {},
          "execution_count": 38
        }
      ]
    },
    {
      "cell_type": "code",
      "source": [
        "mcc = matthews_corrcoef(ytrain, pred)\n",
        "mcc"
      ],
      "metadata": {
        "colab": {
          "base_uri": "https://localhost:8080/"
        },
        "outputId": "6e287e7c-50ce-48c6-9266-1348468753c4",
        "id": "4rAV2SN9dqkJ"
      },
      "execution_count": null,
      "outputs": [
        {
          "output_type": "execute_result",
          "data": {
            "text/plain": [
              "0.8501981872074584"
            ]
          },
          "metadata": {},
          "execution_count": 23
        }
      ]
    },
    {
      "cell_type": "code",
      "source": [
        "cm = confusion_matrix(ytrain,pred)"
      ],
      "metadata": {
        "id": "Y0qnDujljUYf"
      },
      "execution_count": null,
      "outputs": []
    },
    {
      "cell_type": "code",
      "source": [
        "cm"
      ],
      "metadata": {
        "colab": {
          "base_uri": "https://localhost:8080/"
        },
        "id": "ZEiVAVqbSvNh",
        "outputId": "7dbcf896-528e-48f6-eec5-80ce1fa293dd"
      },
      "execution_count": null,
      "outputs": [
        {
          "output_type": "execute_result",
          "data": {
            "text/plain": [
              "array([[1287,  135],\n",
              "       [  60, 1107]])"
            ]
          },
          "metadata": {},
          "execution_count": 40
        }
      ]
    },
    {
      "cell_type": "code",
      "source": [
        "# True Positives (TP)\n",
        "tp = cm[1, 1]\n",
        "\n",
        "# True Negatives (TN)\n",
        "tn = cm[0, 0]\n",
        "\n",
        "# False Positives (FP)\n",
        "fp = cm[0, 1]\n",
        "\n",
        "# False Negatives (FN)\n",
        "fn = cm[1, 0]\n",
        "\n",
        "# Sensitivity (True Positive Rate or Recall)\n",
        "sensitivity = tp / (tp + fn)\n",
        "\n",
        "# Specificity (True Negative Rate)\n",
        "specificity = tn / (tn + fp)\n",
        "\n",
        "print(\"Sensitivity:\", sensitivity)\n",
        "print(\"Specificity:\", specificity)"
      ],
      "metadata": {
        "colab": {
          "base_uri": "https://localhost:8080/"
        },
        "id": "mmcOXh8hSwg5",
        "outputId": "78698baf-cb3a-4393-f93c-9cfaa70a2b10"
      },
      "execution_count": null,
      "outputs": [
        {
          "output_type": "stream",
          "name": "stdout",
          "text": [
            "Sensitivity: 0.9485861182519281\n",
            "Specificity: 0.9050632911392406\n"
          ]
        }
      ]
    },
    {
      "cell_type": "code",
      "source": [
        "plt.figure(figsize=(4, 3))\n",
        "sns.set(font_scale=1.2)\n",
        "sns.heatmap(cm, annot=True, fmt='d', cmap='Blues', annot_kws={\"size\": 16}, cbar=False)\n",
        "plt.xlabel('Predicted')\n",
        "plt.ylabel('True')\n",
        "plt.title('Confusion Matrix')\n",
        "plt.show()"
      ],
      "metadata": {
        "colab": {
          "base_uri": "https://localhost:8080/",
          "height": 347
        },
        "id": "vDdwySJ3S3jD",
        "outputId": "9da3ceac-273b-4e57-ed90-b63430840d20"
      },
      "execution_count": null,
      "outputs": [
        {
          "output_type": "display_data",
          "data": {
            "text/plain": [
              "<Figure size 400x300 with 1 Axes>"
            ],
            "image/png": "[encoded data removed]"
          },
          "metadata": {}
        }
      ]
    },
    {
      "cell_type": "code",
      "source": [
        "model.fit(xtrain, ytrain)"
      ],
      "metadata": {
        "colab": {
          "base_uri": "https://localhost:8080/",
          "height": 648
        },
        "id": "L1qASeFnjY_K",
        "outputId": "9b2764c0-e289-4314-d203-0d0ec18157a7"
      },
      "execution_count": null,
      "outputs": [
        {
          "output_type": "stream",
          "name": "stdout",
          "text": [
            "[LightGBM] [Warning] Accuracy may be bad since you didn't explicitly set num_leaves OR 2^max_depth > num_leaves. (num_leaves=31).\n",
            "[LightGBM] [Warning] Accuracy may be bad since you didn't explicitly set num_leaves OR 2^max_depth > num_leaves. (num_leaves=31).\n",
            "[LightGBM] [Info] Number of positive: 1167, number of negative: 1422\n",
            "[LightGBM] [Info] Auto-choosing col-wise multi-threading, the overhead of testing was 0.001737 seconds.\n",
            "You can set `force_col_wise=true` to remove the overhead.\n",
            "[LightGBM] [Info] Total Bins 3590\n",
            "[LightGBM] [Info] Number of data points in the train set: 2589, number of used features: 39\n",
            "[LightGBM] [Info] [binary:BoostFromScore]: pavg=0.450753 -> initscore=-0.197628\n",
            "[LightGBM] [Info] Start training from score -0.197628\n",
            "[LightGBM] [Warning] No further splits with positive gain, best gain: -inf\n",
            "[LightGBM] [Warning] No further splits with positive gain, best gain: -inf\n",
            "[LightGBM] [Warning] No further splits with positive gain, best gain: -inf\n",
            "[LightGBM] [Warning] No further splits with positive gain, best gain: -inf\n",
            "[LightGBM] [Warning] No further splits with positive gain, best gain: -inf\n",
            "[LightGBM] [Warning] No further splits with positive gain, best gain: -inf\n",
            "[LightGBM] [Warning] No further splits with positive gain, best gain: -inf\n",
            "[LightGBM] [Warning] No further splits with positive gain, best gain: -inf\n",
            "[LightGBM] [Warning] No further splits with positive gain, best gain: -inf\n",
            "[LightGBM] [Warning] No further splits with positive gain, best gain: -inf\n",
            "[LightGBM] [Warning] No further splits with positive gain, best gain: -inf\n",
            "[LightGBM] [Warning] No further splits with positive gain, best gain: -inf\n",
            "[LightGBM] [Warning] No further splits with positive gain, best gain: -inf\n",
            "[LightGBM] [Warning] No further splits with positive gain, best gain: -inf\n",
            "[LightGBM] [Warning] No further splits with positive gain, best gain: -inf\n",
            "[LightGBM] [Warning] No further splits with positive gain, best gain: -inf\n",
            "[LightGBM] [Warning] No further splits with positive gain, best gain: -inf\n",
            "[LightGBM] [Warning] No further splits with positive gain, best gain: -inf\n",
            "[LightGBM] [Warning] No further splits with positive gain, best gain: -inf\n",
            "[LightGBM] [Warning] No further splits with positive gain, best gain: -inf\n",
            "[LightGBM] [Warning] No further splits with positive gain, best gain: -inf\n",
            "[LightGBM] [Warning] No further splits with positive gain, best gain: -inf\n",
            "[LightGBM] [Warning] No further splits with positive gain, best gain: -inf\n",
            "[LightGBM] [Warning] No further splits with positive gain, best gain: -inf\n"
          ]
        },
        {
          "output_type": "execute_result",
          "data": {
            "text/plain": [
              "LGBMClassifier(learning_rate=0.5, max_depth=7)"
            ],
            "text/html": [
              "<style>#sk-container-id-3 {color: black;background-color: white;}#sk-container-id-3 pre{padding: 0;}#sk-container-id-3 div.sk-toggleable {background-color: white;}#sk-container-id-3 label.sk-toggleable__label {cursor: pointer;display: block;width: 100%;margin-bottom: 0;padding: 0.3em;box-sizing: border-box;text-align: center;}#sk-container-id-3 label.sk-toggleable__label-arrow:before {content: \"▸\";float: left;margin-right: 0.25em;color: #696969;}#sk-container-id-3 label.sk-toggleable__label-arrow:hover:before {color: black;}#sk-container-id-3 div.sk-estimator:hover label.sk-toggleable__label-arrow:before {color: black;}#sk-container-id-3 div.sk-toggleable__content {max-height: 0;max-width: 0;overflow: hidden;text-align: left;background-color: #f0f8ff;}#sk-container-id-3 div.sk-toggleable__content pre {margin: 0.2em;color: black;border-radius: 0.25em;background-color: #f0f8ff;}#sk-container-id-3 input.sk-toggleable__control:checked~div.sk-toggleable__content {max-height: 200px;max-width: 100%;overflow: auto;}#sk-container-id-3 input.sk-toggleable__control:checked~label.sk-toggleable__label-arrow:before {content: \"▾\";}#sk-container-id-3 div.sk-estimator input.sk-toggleable__control:checked~label.sk-toggleable__label {background-color: #d4ebff;}#sk-container-id-3 div.sk-label input.sk-toggleable__control:checked~label.sk-toggleable__label {background-color: #d4ebff;}#sk-container-id-3 input.sk-hidden--visually {border: 0;clip: rect(1px 1px 1px 1px);clip: rect(1px, 1px, 1px, 1px);height: 1px;margin: -1px;overflow: hidden;padding: 0;position: absolute;width: 1px;}#sk-container-id-3 div.sk-estimator {font-family: monospace;background-color: #f0f8ff;border: 1px dotted black;border-radius: 0.25em;box-sizing: border-box;margin-bottom: 0.5em;}#sk-container-id-3 div.sk-estimator:hover {background-color: #d4ebff;}#sk-container-id-3 div.sk-parallel-item::after {content: \"\";width: 100%;border-bottom: 1px solid gray;flex-grow: 1;}#sk-container-id-3 div.sk-label:hover label.sk-toggleable__label {background-color: #d4ebff;}#sk-container-id-3 div.sk-serial::before {content: \"\";position: absolute;border-left: 1px solid gray;box-sizing: border-box;top: 0;bottom: 0;left: 50%;z-index: 0;}#sk-container-id-3 div.sk-serial {display: flex;flex-direction: column;align-items: center;background-color: white;padding-right: 0.2em;padding-left: 0.2em;position: relative;}#sk-container-id-3 div.sk-item {position: relative;z-index: 1;}#sk-container-id-3 div.sk-parallel {display: flex;align-items: stretch;justify-content: center;background-color: white;position: relative;}#sk-container-id-3 div.sk-item::before, #sk-container-id-3 div.sk-parallel-item::before {content: \"\";position: absolute;border-left: 1px solid gray;box-sizing: border-box;top: 0;bottom: 0;left: 50%;z-index: -1;}#sk-container-id-3 div.sk-parallel-item {display: flex;flex-direction: column;z-index: 1;position: relative;background-color: white;}#sk-container-id-3 div.sk-parallel-item:first-child::after {align-self: flex-end;width: 50%;}#sk-container-id-3 div.sk-parallel-item:last-child::after {align-self: flex-start;width: 50%;}#sk-container-id-3 div.sk-parallel-item:only-child::after {width: 0;}#sk-container-id-3 div.sk-dashed-wrapped {border: 1px dashed gray;margin: 0 0.4em 0.5em 0.4em;box-sizing: border-box;padding-bottom: 0.4em;background-color: white;}#sk-container-id-3 div.sk-label label {font-family: monospace;font-weight: bold;display: inline-block;line-height: 1.2em;}#sk-container-id-3 div.sk-label-container {text-align: center;}#sk-container-id-3 div.sk-container {/* jupyter's `normalize.less` sets `[hidden] { display: none; }` but bootstrap.min.css set `[hidden] { display: none !important; }` so we also need the `!important` here to be able to override the default hidden behavior on the sphinx rendered scikit-learn.org. See: https://github.com/scikit-learn/scikit-learn/issues/21755 */display: inline-block !important;position: relative;}#sk-container-id-3 div.sk-text-repr-fallback {display: none;}</style><div id=\"sk-container-id-3\" class=\"sk-top-container\"><div class=\"sk-text-repr-fallback\"><pre>LGBMClassifier(learning_rate=0.5, max_depth=7)</pre><b>In a Jupyter environment, please rerun this cell to show the HTML representation or trust the notebook. <br />On GitHub, the HTML representation is unable to render, please try loading this page with nbviewer.org.</b></div><div class=\"sk-container\" hidden><div class=\"sk-item\"><div class=\"sk-estimator sk-toggleable\"><input class=\"sk-toggleable__control sk-hidden--visually\" id=\"sk-estimator-id-3\" type=\"checkbox\" checked><label for=\"sk-estimator-id-3\" class=\"sk-toggleable__label sk-toggleable__label-arrow\">LGBMClassifier</label><div class=\"sk-toggleable__content\"><pre>LGBMClassifier(learning_rate=0.5, max_depth=7)</pre></div></div></div></div></div>"
            ]
          },
          "metadata": {},
          "execution_count": 24
        }
      ]
    },
    {
      "cell_type": "code",
      "source": [
        "pred = model.predict(xtest)"
      ],
      "metadata": {
        "colab": {
          "base_uri": "https://localhost:8080/"
        },
        "id": "w2WGgWuhjhEa",
        "outputId": "b44898af-bf48-4493-be39-3641b0e8f3ec"
      },
      "execution_count": null,
      "outputs": [
        {
          "output_type": "stream",
          "name": "stdout",
          "text": [
            "[LightGBM] [Warning] Accuracy may be bad since you didn't explicitly set num_leaves OR 2^max_depth > num_leaves. (num_leaves=31).\n"
          ]
        }
      ]
    },
    {
      "cell_type": "code",
      "source": [
        "accuracy_score(ytest,pred), precision_score(ytest, pred), recall_score(ytest, pred), f1_score(ytest, pred)"
      ],
      "metadata": {
        "colab": {
          "base_uri": "https://localhost:8080/"
        },
        "id": "7rPzOvOBjlNB",
        "outputId": "11f71af2-1e36-40a7-f598-853e05064678"
      },
      "execution_count": null,
      "outputs": [
        {
          "output_type": "execute_result",
          "data": {
            "text/plain": [
              "(0.9692307692307692, 0.9420289855072463, 1.0, 0.9701492537313433)"
            ]
          },
          "metadata": {},
          "execution_count": 45
        }
      ]
    },
    {
      "cell_type": "code",
      "source": [
        "mcc = matthews_corrcoef(ytest, pred)\n",
        "mcc"
      ],
      "metadata": {
        "colab": {
          "base_uri": "https://localhost:8080/"
        },
        "outputId": "b9115424-6982-436d-f9e3-099166e55d91",
        "id": "BBbuT0N_d0SS"
      },
      "execution_count": null,
      "outputs": [
        {
          "output_type": "execute_result",
          "data": {
            "text/plain": [
              "0.9402435700468751"
            ]
          },
          "metadata": {},
          "execution_count": 26
        }
      ]
    },
    {
      "cell_type": "code",
      "source": [
        "cm = confusion_matrix(ytest,pred)"
      ],
      "metadata": {
        "id": "TahVG5eejmIE"
      },
      "execution_count": null,
      "outputs": []
    },
    {
      "cell_type": "code",
      "source": [
        "cm"
      ],
      "metadata": {
        "colab": {
          "base_uri": "https://localhost:8080/"
        },
        "id": "r6D4zJ5RS9jW",
        "outputId": "724c7df2-c3fa-437a-ab1b-b9b51f0d218d"
      },
      "execution_count": null,
      "outputs": [
        {
          "output_type": "execute_result",
          "data": {
            "text/plain": [
              "array([[122,   8],\n",
              "       [  0, 130]])"
            ]
          },
          "metadata": {},
          "execution_count": 47
        }
      ]
    },
    {
      "cell_type": "code",
      "source": [
        "# True Positives (TP)\n",
        "tp = cm[1, 1]\n",
        "\n",
        "# True Negatives (TN)\n",
        "tn = cm[0, 0]\n",
        "\n",
        "# False Positives (FP)\n",
        "fp = cm[0, 1]\n",
        "\n",
        "# False Negatives (FN)\n",
        "fn = cm[1, 0]\n",
        "\n",
        "# Sensitivity (True Positive Rate or Recall)\n",
        "sensitivity = tp / (tp + fn)\n",
        "\n",
        "# Specificity (True Negative Rate)\n",
        "specificity = tn / (tn + fp)\n",
        "\n",
        "print(\"Sensitivity:\", sensitivity)\n",
        "print(\"Specificity:\", specificity)"
      ],
      "metadata": {
        "colab": {
          "base_uri": "https://localhost:8080/"
        },
        "id": "JlI4NjlyTLSs",
        "outputId": "b210592f-be2b-46bd-d3d7-183fa9849077"
      },
      "execution_count": null,
      "outputs": [
        {
          "output_type": "stream",
          "name": "stdout",
          "text": [
            "Sensitivity: 1.0\n",
            "Specificity: 0.9384615384615385\n"
          ]
        }
      ]
    },
    {
      "cell_type": "code",
      "source": [
        "plt.figure(figsize=(4, 3))\n",
        "sns.set(font_scale=1.2)\n",
        "sns.heatmap(cm, annot=True, fmt='d', cmap='Blues', annot_kws={\"size\": 16}, cbar=False)\n",
        "plt.xlabel('Predicted')\n",
        "plt.ylabel('True')\n",
        "plt.title('Confusion Matrix')\n",
        "plt.show()"
      ],
      "metadata": {
        "colab": {
          "base_uri": "https://localhost:8080/",
          "height": 347
        },
        "id": "mc-aTlD8TBwg",
        "outputId": "066b7fe3-b072-48db-aabb-972ba7a2a496"
      },
      "execution_count": null,
      "outputs": [
        {
          "output_type": "display_data",
          "data": {
            "text/plain": [
              "<Figure size 400x300 with 1 Axes>"
            ],
            "image/png": "[encoded data removed]"
          },
          "metadata": {}
        }
      ]
    },
    {
      "cell_type": "markdown",
      "source": [
        "**CAT** **BOOSTER**"
      ],
      "metadata": {
        "id": "l30YRUwukyjM"
      }
    },
    {
      "cell_type": "code",
      "source": [
        "model = CatBoostClassifier(depth= 10, iterations = 54, learning_rate = 0.2079912391974028)\n"
      ],
      "metadata": {
        "id": "EbEhz-vgj_3Z"
      },
      "execution_count": null,
      "outputs": []
    },
    {
      "cell_type": "code",
      "source": [
        "pred = cross_val_predict(model, xtrain, ytrain, cv=cv, n_jobs=-1)"
      ],
      "metadata": {
        "id": "stR7w_DUlNMx"
      },
      "execution_count": null,
      "outputs": []
    },
    {
      "cell_type": "code",
      "source": [
        "accuracy_score(ytrain,pred), precision_score(ytrain, pred), recall_score(ytrain, pred), f1_score(ytrain, pred)"
      ],
      "metadata": {
        "colab": {
          "base_uri": "https://localhost:8080/"
        },
        "id": "fnzaPGoXlTdp",
        "outputId": "76e24a06-09b7-4247-e03a-36e608285165"
      },
      "execution_count": null,
      "outputs": [
        {
          "output_type": "execute_result",
          "data": {
            "text/plain": [
              "(0.9165701042873696,\n",
              " 0.8862713241267263,\n",
              " 0.9348757497857755,\n",
              " 0.9099249374478732)"
            ]
          },
          "metadata": {},
          "execution_count": 52
        }
      ]
    },
    {
      "cell_type": "code",
      "source": [
        "mcc = matthews_corrcoef(ytrain, pred)\n",
        "mcc"
      ],
      "metadata": {
        "colab": {
          "base_uri": "https://localhost:8080/"
        },
        "outputId": "eb06f21b-590c-405d-ed04-17bf4e3db25f",
        "id": "sH0_e5I7d5xw"
      },
      "execution_count": null,
      "outputs": [
        {
          "output_type": "execute_result",
          "data": {
            "text/plain": [
              "0.8333591573875399"
            ]
          },
          "metadata": {},
          "execution_count": 29
        }
      ]
    },
    {
      "cell_type": "code",
      "source": [
        "cm = confusion_matrix(ytrain,pred)"
      ],
      "metadata": {
        "id": "zEWYsIn-lYus"
      },
      "execution_count": null,
      "outputs": []
    },
    {
      "cell_type": "code",
      "source": [
        "cm"
      ],
      "metadata": {
        "colab": {
          "base_uri": "https://localhost:8080/"
        },
        "id": "orzjEfleVRlb",
        "outputId": "cd6ce972-8d89-41f7-8d72-149ba0188738"
      },
      "execution_count": null,
      "outputs": [
        {
          "output_type": "execute_result",
          "data": {
            "text/plain": [
              "array([[1282,  140],\n",
              "       [  76, 1091]])"
            ]
          },
          "metadata": {},
          "execution_count": 54
        }
      ]
    },
    {
      "cell_type": "code",
      "source": [
        "# True Positives (TP)\n",
        "tp = cm[1, 1]\n",
        "\n",
        "# True Negatives (TN)\n",
        "tn = cm[0, 0]\n",
        "\n",
        "# False Positives (FP)\n",
        "fp = cm[0, 1]\n",
        "\n",
        "# False Negatives (FN)\n",
        "fn = cm[1, 0]\n",
        "\n",
        "# Sensitivity (True Positive Rate or Recall)\n",
        "sensitivity = tp / (tp + fn)\n",
        "\n",
        "# Specificity (True Negative Rate)\n",
        "specificity = tn / (tn + fp)\n",
        "\n",
        "print(\"Sensitivity:\", sensitivity)\n",
        "print(\"Specificity:\", specificity)"
      ],
      "metadata": {
        "colab": {
          "base_uri": "https://localhost:8080/"
        },
        "id": "cZeuHNFrVUl8",
        "outputId": "32be2944-57d8-4a95-c749-d7b52b9e1c69"
      },
      "execution_count": null,
      "outputs": [
        {
          "output_type": "stream",
          "name": "stdout",
          "text": [
            "Sensitivity: 0.9348757497857755\n",
            "Specificity: 0.9015471167369902\n"
          ]
        }
      ]
    },
    {
      "cell_type": "code",
      "source": [
        "plt.figure(figsize=(4, 3))\n",
        "sns.set(font_scale=1.2)\n",
        "sns.heatmap(cm, annot=True, fmt='d', cmap='Blues', annot_kws={\"size\": 16}, cbar=False)\n",
        "plt.xlabel('Predicted')\n",
        "plt.ylabel('True')\n",
        "plt.title('Confusion Matrix')\n",
        "plt.show()"
      ],
      "metadata": {
        "colab": {
          "base_uri": "https://localhost:8080/",
          "height": 347
        },
        "id": "D_ukE9CLVaD8",
        "outputId": "e2f84192-d3ab-4128-e20f-05bc1dc8602c"
      },
      "execution_count": null,
      "outputs": [
        {
          "output_type": "display_data",
          "data": {
            "text/plain": [
              "<Figure size 400x300 with 1 Axes>"
            ],
            "image/png": "[encoded data removed]"
          },
          "metadata": {}
        }
      ]
    },
    {
      "cell_type": "code",
      "source": [
        "model.fit(xtrain, ytrain)"
      ],
      "metadata": {
        "colab": {
          "base_uri": "https://localhost:8080/"
        },
        "id": "ZMlGYOynldnD",
        "outputId": "4a84f306-1ce4-42b7-cc28-cc46b46bae2d"
      },
      "execution_count": null,
      "outputs": [
        {
          "output_type": "stream",
          "name": "stdout",
          "text": [
            "0:\tlearn: 0.5730374\ttotal: 133ms\tremaining: 7.02s\n",
            "1:\tlearn: 0.4927082\ttotal: 226ms\tremaining: 5.88s\n",
            "2:\tlearn: 0.4331080\ttotal: 375ms\tremaining: 6.38s\n",
            "3:\tlearn: 0.3801378\ttotal: 488ms\tremaining: 6.11s\n",
            "4:\tlearn: 0.3440921\ttotal: 584ms\tremaining: 5.73s\n",
            "5:\tlearn: 0.3194524\ttotal: 677ms\tremaining: 5.42s\n",
            "6:\tlearn: 0.3000726\ttotal: 764ms\tremaining: 5.13s\n",
            "7:\tlearn: 0.2820790\ttotal: 872ms\tremaining: 5.01s\n",
            "8:\tlearn: 0.2630240\ttotal: 1s\tremaining: 5.01s\n",
            "9:\tlearn: 0.2510954\ttotal: 1.11s\tremaining: 4.87s\n",
            "10:\tlearn: 0.2334166\ttotal: 1.25s\tremaining: 4.88s\n",
            "11:\tlearn: 0.2200040\ttotal: 1.35s\tremaining: 4.72s\n",
            "12:\tlearn: 0.2056570\ttotal: 1.48s\tremaining: 4.67s\n",
            "13:\tlearn: 0.1949892\ttotal: 1.58s\tremaining: 4.52s\n",
            "14:\tlearn: 0.1852443\ttotal: 1.66s\tremaining: 4.33s\n",
            "15:\tlearn: 0.1754818\ttotal: 1.74s\tremaining: 4.13s\n",
            "16:\tlearn: 0.1694520\ttotal: 1.83s\tremaining: 3.99s\n",
            "17:\tlearn: 0.1619493\ttotal: 1.94s\tremaining: 3.88s\n",
            "18:\tlearn: 0.1558090\ttotal: 2.03s\tremaining: 3.74s\n",
            "19:\tlearn: 0.1518043\ttotal: 2.12s\tremaining: 3.6s\n",
            "20:\tlearn: 0.1434033\ttotal: 2.19s\tremaining: 3.44s\n",
            "21:\tlearn: 0.1370286\ttotal: 2.29s\tremaining: 3.32s\n",
            "22:\tlearn: 0.1306012\ttotal: 2.37s\tremaining: 3.2s\n",
            "23:\tlearn: 0.1247227\ttotal: 2.46s\tremaining: 3.07s\n",
            "24:\tlearn: 0.1203192\ttotal: 2.54s\tremaining: 2.95s\n",
            "25:\tlearn: 0.1169737\ttotal: 2.62s\tremaining: 2.82s\n",
            "26:\tlearn: 0.1117836\ttotal: 2.68s\tremaining: 2.68s\n",
            "27:\tlearn: 0.1049896\ttotal: 2.76s\tremaining: 2.56s\n",
            "28:\tlearn: 0.1017100\ttotal: 2.85s\tremaining: 2.45s\n",
            "29:\tlearn: 0.0970551\ttotal: 2.93s\tremaining: 2.35s\n",
            "30:\tlearn: 0.0924528\ttotal: 3.02s\tremaining: 2.24s\n",
            "31:\tlearn: 0.0892992\ttotal: 3.12s\tremaining: 2.15s\n",
            "32:\tlearn: 0.0858959\ttotal: 3.19s\tremaining: 2.03s\n",
            "33:\tlearn: 0.0821534\ttotal: 3.23s\tremaining: 1.9s\n",
            "34:\tlearn: 0.0801986\ttotal: 3.28s\tremaining: 1.78s\n",
            "35:\tlearn: 0.0772004\ttotal: 3.33s\tremaining: 1.66s\n",
            "36:\tlearn: 0.0746524\ttotal: 3.37s\tremaining: 1.55s\n",
            "37:\tlearn: 0.0714704\ttotal: 3.41s\tremaining: 1.44s\n",
            "38:\tlearn: 0.0678673\ttotal: 3.46s\tremaining: 1.33s\n",
            "39:\tlearn: 0.0665915\ttotal: 3.54s\tremaining: 1.24s\n",
            "40:\tlearn: 0.0636287\ttotal: 3.64s\tremaining: 1.15s\n",
            "41:\tlearn: 0.0621065\ttotal: 3.74s\tremaining: 1.07s\n",
            "42:\tlearn: 0.0601946\ttotal: 3.85s\tremaining: 985ms\n",
            "43:\tlearn: 0.0582852\ttotal: 3.93s\tremaining: 894ms\n",
            "44:\tlearn: 0.0558626\ttotal: 4.05s\tremaining: 810ms\n",
            "45:\tlearn: 0.0540905\ttotal: 4.15s\tremaining: 721ms\n",
            "46:\tlearn: 0.0522197\ttotal: 4.26s\tremaining: 634ms\n",
            "47:\tlearn: 0.0496959\ttotal: 4.37s\tremaining: 546ms\n",
            "48:\tlearn: 0.0483293\ttotal: 4.51s\tremaining: 460ms\n",
            "49:\tlearn: 0.0459958\ttotal: 4.66s\tremaining: 373ms\n",
            "50:\tlearn: 0.0448728\ttotal: 4.84s\tremaining: 285ms\n",
            "51:\tlearn: 0.0429474\ttotal: 5.01s\tremaining: 193ms\n",
            "52:\tlearn: 0.0411818\ttotal: 5.22s\tremaining: 98.5ms\n",
            "53:\tlearn: 0.0394707\ttotal: 5.44s\tremaining: 0us\n"
          ]
        },
        {
          "output_type": "execute_result",
          "data": {
            "text/plain": [
              "<catboost.core.CatBoostClassifier at 0x79c538fcc790>"
            ]
          },
          "metadata": {},
          "execution_count": 30
        }
      ]
    },
    {
      "cell_type": "code",
      "source": [
        "pred = model.predict(xtest)"
      ],
      "metadata": {
        "id": "y-2A-NqIli02"
      },
      "execution_count": null,
      "outputs": []
    },
    {
      "cell_type": "code",
      "source": [
        "accuracy_score(ytest,pred), precision_score(ytest, pred), recall_score(ytest, pred), f1_score(ytest, pred)"
      ],
      "metadata": {
        "colab": {
          "base_uri": "https://localhost:8080/"
        },
        "id": "7fmU0SK5lmft",
        "outputId": "b19d0e23-7821-473c-8ac9-cb2495f2f77b"
      },
      "execution_count": null,
      "outputs": [
        {
          "output_type": "execute_result",
          "data": {
            "text/plain": [
              "(0.9730769230769231, 0.948905109489051, 1.0, 0.9737827715355805)"
            ]
          },
          "metadata": {},
          "execution_count": 59
        }
      ]
    },
    {
      "cell_type": "code",
      "source": [
        "mcc = matthews_corrcoef(ytest, pred)\n",
        "mcc"
      ],
      "metadata": {
        "colab": {
          "base_uri": "https://localhost:8080/"
        },
        "outputId": "5dbbd948-c43a-41f4-86e6-2a3dd3c427eb",
        "id": "g5SYEQWld813"
      },
      "execution_count": null,
      "outputs": [
        {
          "output_type": "execute_result",
          "data": {
            "text/plain": [
              "0.947528479243818"
            ]
          },
          "metadata": {},
          "execution_count": 32
        }
      ]
    },
    {
      "cell_type": "code",
      "source": [
        "cm = confusion_matrix(ytest,pred)"
      ],
      "metadata": {
        "id": "KRU5nDAJlo7l"
      },
      "execution_count": null,
      "outputs": []
    },
    {
      "cell_type": "code",
      "source": [
        "cm"
      ],
      "metadata": {
        "colab": {
          "base_uri": "https://localhost:8080/"
        },
        "id": "NrzFBNMpXmCh",
        "outputId": "0fa5a245-b738-476d-c61a-7a1c75fd0b2f"
      },
      "execution_count": null,
      "outputs": [
        {
          "output_type": "execute_result",
          "data": {
            "text/plain": [
              "array([[123,   7],\n",
              "       [  0, 130]])"
            ]
          },
          "metadata": {},
          "execution_count": 61
        }
      ]
    },
    {
      "cell_type": "code",
      "source": [
        "# True Positives (TP)\n",
        "tp = cm[1, 1]\n",
        "\n",
        "# True Negatives (TN)\n",
        "tn = cm[0, 0]\n",
        "\n",
        "# False Positives (FP)\n",
        "fp = cm[0, 1]\n",
        "\n",
        "# False Negatives (FN)\n",
        "fn = cm[1, 0]\n",
        "\n",
        "# Sensitivity (True Positive Rate or Recall)\n",
        "sensitivity = tp / (tp + fn)\n",
        "\n",
        "# Specificity (True Negative Rate)\n",
        "specificity = tn / (tn + fp)\n",
        "\n",
        "print(\"Sensitivity:\", sensitivity)\n",
        "print(\"Specificity:\", specificity)\n"
      ],
      "metadata": {
        "colab": {
          "base_uri": "https://localhost:8080/"
        },
        "id": "P-80W42aXm8a",
        "outputId": "298e0f0f-3665-445a-db28-d6f292f5c418"
      },
      "execution_count": null,
      "outputs": [
        {
          "output_type": "stream",
          "name": "stdout",
          "text": [
            "Sensitivity: 1.0\n",
            "Specificity: 0.9461538461538461\n"
          ]
        }
      ]
    },
    {
      "cell_type": "code",
      "source": [
        "plt.figure(figsize=(4, 3))\n",
        "sns.set(font_scale=1.2)\n",
        "sns.heatmap(cm, annot=True, fmt='d', cmap='Blues', annot_kws={\"size\": 16}, cbar=False)\n",
        "plt.xlabel('Predicted')\n",
        "plt.ylabel('True')\n",
        "plt.title('Confusion Matrix')\n",
        "plt.show()"
      ],
      "metadata": {
        "colab": {
          "base_uri": "https://localhost:8080/",
          "height": 347
        },
        "id": "yag_ibFPX3x8",
        "outputId": "0902846a-a66d-4a38-e945-78d20854b615"
      },
      "execution_count": null,
      "outputs": [
        {
          "output_type": "display_data",
          "data": {
            "text/plain": [
              "<Figure size 400x300 with 1 Axes>"
            ],
            "image/png": "[encoded data removed]"
          },
          "metadata": {}
        }
      ]
    },
    {
      "cell_type": "markdown",
      "source": [
        "**Stacking**"
      ],
      "metadata": {
        "id": "89UMFxfIphkx"
      }
    },
    {
      "cell_type": "code",
      "source": [
        "estimator = [('RF',RandomForestClassifier(n_estimators = 400, max_depth = 10)),\n",
        "             ('XGB',XGBClassifier(n_estimators = 500,max_depth = 7, base_score = 0.88, learning_rate = 0.2)),\n",
        "             ('LGBM',LGBMClassifier(max_depth=7, learning_rate=0.5)),\n",
        "             ('CAT',CatBoostClassifier(depth= 10, iterations = 54, learning_rate = 0.2079912391974028))]\n",
        "model = StackingClassifier(estimators=estimator, final_estimator=CatBoostClassifier(depth= 10, iterations = 54, learning_rate = 0.2079912391974028))"
      ],
      "metadata": {
        "id": "Jsqn9Z2_pf91"
      },
      "execution_count": null,
      "outputs": []
    },
    {
      "cell_type": "code",
      "source": [
        "pred = cross_val_predict(model, xtrain, ytrain, cv=cv, n_jobs=-1)"
      ],
      "metadata": {
        "id": "wewk7anaqD_2"
      },
      "execution_count": null,
      "outputs": []
    },
    {
      "cell_type": "code",
      "source": [
        "accuracy_score(ytrain,pred), precision_score(ytrain, pred), recall_score(ytrain, pred), f1_score(ytrain, pred)"
      ],
      "metadata": {
        "id": "DNRoXY5_qJf6",
        "colab": {
          "base_uri": "https://localhost:8080/"
        },
        "outputId": "c11dbfe3-0db6-4f54-f83e-a217b883c9b4"
      },
      "execution_count": null,
      "outputs": [
        {
          "output_type": "execute_result",
          "data": {
            "text/plain": [
              "(0.9231363460795674,\n",
              " 0.9290780141843972,\n",
              " 0.8980291345329906,\n",
              " 0.9132897603485839)"
            ]
          },
          "metadata": {},
          "execution_count": 66
        }
      ]
    },
    {
      "cell_type": "code",
      "source": [
        "mcc = matthews_corrcoef(ytrain, pred)\n",
        "mcc"
      ],
      "metadata": {
        "colab": {
          "base_uri": "https://localhost:8080/"
        },
        "outputId": "da2ad892-3b97-4223-a4e3-4643440b3fe5",
        "id": "sZeWfp6DeCeX"
      },
      "execution_count": null,
      "outputs": [
        {
          "output_type": "execute_result",
          "data": {
            "text/plain": [
              "0.8479960814758962"
            ]
          },
          "metadata": {},
          "execution_count": 35
        }
      ]
    },
    {
      "cell_type": "code",
      "source": [
        "cm = confusion_matrix(ytrain,pred)"
      ],
      "metadata": {
        "id": "1PV8vrJ5qOzE"
      },
      "execution_count": null,
      "outputs": []
    },
    {
      "cell_type": "code",
      "source": [
        "cm"
      ],
      "metadata": {
        "id": "uxSYr627YH6P",
        "colab": {
          "base_uri": "https://localhost:8080/"
        },
        "outputId": "6fa3c7b2-eb6f-4233-c04a-91b4a52910be"
      },
      "execution_count": null,
      "outputs": [
        {
          "output_type": "execute_result",
          "data": {
            "text/plain": [
              "array([[1342,   80],\n",
              "       [ 119, 1048]])"
            ]
          },
          "metadata": {},
          "execution_count": 68
        }
      ]
    },
    {
      "cell_type": "code",
      "source": [
        "# True Positives (TP)\n",
        "tp = cm[1, 1]\n",
        "\n",
        "# True Negatives (TN)\n",
        "tn = cm[0, 0]\n",
        "\n",
        "# False Positives (FP)\n",
        "fp = cm[0, 1]\n",
        "\n",
        "# False Negatives (FN)\n",
        "fn = cm[1, 0]\n",
        "\n",
        "# Sensitivity (True Positive Rate or Recall)\n",
        "sensitivity = tp / (tp + fn)\n",
        "\n",
        "# Specificity (True Negative Rate)\n",
        "specificity = tn / (tn + fp)\n",
        "\n",
        "print(\"Sensitivity:\", sensitivity)\n",
        "print(\"Specificity:\", specificity)"
      ],
      "metadata": {
        "id": "LI7awbZxYQJf",
        "colab": {
          "base_uri": "https://localhost:8080/"
        },
        "outputId": "8f49f893-c98b-494d-e214-412b25266140"
      },
      "execution_count": null,
      "outputs": [
        {
          "output_type": "stream",
          "name": "stdout",
          "text": [
            "Sensitivity: 0.8980291345329906\n",
            "Specificity: 0.9437412095639943\n"
          ]
        }
      ]
    },
    {
      "cell_type": "code",
      "source": [
        "plt.figure(figsize=(4, 3))\n",
        "sns.set(font_scale=1.2)\n",
        "sns.heatmap(cm, annot=True, fmt='d', cmap='Blues', annot_kws={\"size\": 16}, cbar=False)\n",
        "plt.xlabel('Predicted')\n",
        "plt.ylabel('True')\n",
        "plt.title('Confusion Matrix')\n",
        "plt.show()"
      ],
      "metadata": {
        "id": "9BhEXlMQYL92",
        "colab": {
          "base_uri": "https://localhost:8080/",
          "height": 347
        },
        "outputId": "660e11a1-f92d-415f-d202-f6ac978afc52"
      },
      "execution_count": null,
      "outputs": [
        {
          "output_type": "display_data",
          "data": {
            "text/plain": [
              "<Figure size 400x300 with 1 Axes>"
            ],
            "image/png": "[encoded data removed]"
          },
          "metadata": {}
        }
      ]
    },
    {
      "cell_type": "code",
      "source": [
        "model.fit(xtrain, ytrain)"
      ],
      "metadata": {
        "id": "zGPIngb8qb3z",
        "colab": {
          "base_uri": "https://localhost:8080/",
          "height": 1000
        },
        "outputId": "f6c14335-b10b-487f-ff99-45c174432ef7"
      },
      "execution_count": null,
      "outputs": [
        {
          "output_type": "stream",
          "name": "stdout",
          "text": [
            "[LightGBM] [Warning] Accuracy may be bad since you didn't explicitly set num_leaves OR 2^max_depth > num_leaves. (num_leaves=31).\n",
            "[LightGBM] [Warning] Accuracy may be bad since you didn't explicitly set num_leaves OR 2^max_depth > num_leaves. (num_leaves=31).\n",
            "[LightGBM] [Info] Number of positive: 1167, number of negative: 1422\n",
            "[LightGBM] [Info] Auto-choosing col-wise multi-threading, the overhead of testing was 0.001160 seconds.\n",
            "You can set `force_col_wise=true` to remove the overhead.\n",
            "[LightGBM] [Info] Total Bins 3590\n",
            "[LightGBM] [Info] Number of data points in the train set: 2589, number of used features: 39\n",
            "[LightGBM] [Info] [binary:BoostFromScore]: pavg=0.450753 -> initscore=-0.197628\n",
            "[LightGBM] [Info] Start training from score -0.197628\n",
            "[LightGBM] [Warning] No further splits with positive gain, best gain: -inf\n",
            "[LightGBM] [Warning] No further splits with positive gain, best gain: -inf\n",
            "[LightGBM] [Warning] No further splits with positive gain, best gain: -inf\n",
            "[LightGBM] [Warning] No further splits with positive gain, best gain: -inf\n",
            "[LightGBM] [Warning] No further splits with positive gain, best gain: -inf\n",
            "[LightGBM] [Warning] No further splits with positive gain, best gain: -inf\n",
            "[LightGBM] [Warning] No further splits with positive gain, best gain: -inf\n",
            "[LightGBM] [Warning] No further splits with positive gain, best gain: -inf\n",
            "[LightGBM] [Warning] No further splits with positive gain, best gain: -inf\n",
            "[LightGBM] [Warning] No further splits with positive gain, best gain: -inf\n",
            "[LightGBM] [Warning] No further splits with positive gain, best gain: -inf\n",
            "[LightGBM] [Warning] No further splits with positive gain, best gain: -inf\n",
            "[LightGBM] [Warning] No further splits with positive gain, best gain: -inf\n",
            "[LightGBM] [Warning] No further splits with positive gain, best gain: -inf\n",
            "[LightGBM] [Warning] No further splits with positive gain, best gain: -inf\n",
            "[LightGBM] [Warning] No further splits with positive gain, best gain: -inf\n",
            "[LightGBM] [Warning] No further splits with positive gain, best gain: -inf\n",
            "[LightGBM] [Warning] No further splits with positive gain, best gain: -inf\n",
            "[LightGBM] [Warning] No further splits with positive gain, best gain: -inf\n",
            "[LightGBM] [Warning] No further splits with positive gain, best gain: -inf\n",
            "[LightGBM] [Warning] No further splits with positive gain, best gain: -inf\n",
            "[LightGBM] [Warning] No further splits with positive gain, best gain: -inf\n",
            "[LightGBM] [Warning] No further splits with positive gain, best gain: -inf\n",
            "[LightGBM] [Warning] No further splits with positive gain, best gain: -inf\n",
            "0:\tlearn: 0.5730374\ttotal: 42.9ms\tremaining: 2.27s\n",
            "1:\tlearn: 0.4927082\ttotal: 84.7ms\tremaining: 2.2s\n",
            "2:\tlearn: 0.4331080\ttotal: 134ms\tremaining: 2.28s\n",
            "3:\tlearn: 0.3801378\ttotal: 185ms\tremaining: 2.32s\n",
            "4:\tlearn: 0.3440921\ttotal: 228ms\tremaining: 2.23s\n",
            "5:\tlearn: 0.3194524\ttotal: 272ms\tremaining: 2.17s\n",
            "6:\tlearn: 0.3000726\ttotal: 313ms\tremaining: 2.1s\n",
            "7:\tlearn: 0.2820790\ttotal: 355ms\tremaining: 2.04s\n",
            "8:\tlearn: 0.2630240\ttotal: 396ms\tremaining: 1.98s\n",
            "9:\tlearn: 0.2510954\ttotal: 438ms\tremaining: 1.93s\n",
            "10:\tlearn: 0.2334166\ttotal: 484ms\tremaining: 1.89s\n",
            "11:\tlearn: 0.2200040\ttotal: 526ms\tremaining: 1.84s\n",
            "12:\tlearn: 0.2056570\ttotal: 569ms\tremaining: 1.8s\n",
            "13:\tlearn: 0.1949892\ttotal: 612ms\tremaining: 1.75s\n",
            "14:\tlearn: 0.1852443\ttotal: 653ms\tremaining: 1.7s\n",
            "15:\tlearn: 0.1754818\ttotal: 698ms\tremaining: 1.66s\n",
            "16:\tlearn: 0.1694520\ttotal: 751ms\tremaining: 1.64s\n",
            "17:\tlearn: 0.1619493\ttotal: 793ms\tremaining: 1.59s\n",
            "18:\tlearn: 0.1558090\ttotal: 835ms\tremaining: 1.54s\n",
            "19:\tlearn: 0.1518043\ttotal: 878ms\tremaining: 1.49s\n",
            "20:\tlearn: 0.1434033\ttotal: 922ms\tremaining: 1.45s\n",
            "21:\tlearn: 0.1370286\ttotal: 969ms\tremaining: 1.41s\n",
            "22:\tlearn: 0.1306012\ttotal: 1.01s\tremaining: 1.36s\n",
            "23:\tlearn: 0.1247227\ttotal: 1.05s\tremaining: 1.32s\n",
            "24:\tlearn: 0.1203192\ttotal: 1.09s\tremaining: 1.27s\n",
            "25:\tlearn: 0.1169737\ttotal: 1.14s\tremaining: 1.23s\n",
            "26:\tlearn: 0.1117836\ttotal: 1.18s\tremaining: 1.18s\n",
            "27:\tlearn: 0.1049896\ttotal: 1.23s\tremaining: 1.14s\n",
            "28:\tlearn: 0.1017100\ttotal: 1.27s\tremaining: 1.09s\n",
            "29:\tlearn: 0.0970551\ttotal: 1.31s\tremaining: 1.05s\n",
            "30:\tlearn: 0.0924528\ttotal: 1.36s\tremaining: 1.01s\n",
            "31:\tlearn: 0.0892992\ttotal: 1.41s\tremaining: 966ms\n",
            "32:\tlearn: 0.0858959\ttotal: 1.45s\tremaining: 921ms\n",
            "33:\tlearn: 0.0821534\ttotal: 1.49s\tremaining: 877ms\n",
            "34:\tlearn: 0.0801986\ttotal: 1.53s\tremaining: 832ms\n",
            "35:\tlearn: 0.0772004\ttotal: 1.58s\tremaining: 789ms\n",
            "36:\tlearn: 0.0746524\ttotal: 1.62s\tremaining: 745ms\n",
            "37:\tlearn: 0.0714704\ttotal: 1.66s\tremaining: 700ms\n",
            "38:\tlearn: 0.0678673\ttotal: 1.7s\tremaining: 656ms\n",
            "39:\tlearn: 0.0665915\ttotal: 1.75s\tremaining: 613ms\n",
            "40:\tlearn: 0.0636287\ttotal: 1.81s\tremaining: 573ms\n",
            "41:\tlearn: 0.0621065\ttotal: 1.85s\tremaining: 529ms\n",
            "42:\tlearn: 0.0601946\ttotal: 1.9s\tremaining: 486ms\n",
            "43:\tlearn: 0.0582852\ttotal: 1.94s\tremaining: 442ms\n",
            "44:\tlearn: 0.0558626\ttotal: 1.99s\tremaining: 397ms\n",
            "45:\tlearn: 0.0540905\ttotal: 2.03s\tremaining: 354ms\n",
            "46:\tlearn: 0.0522197\ttotal: 2.08s\tremaining: 309ms\n",
            "47:\tlearn: 0.0496959\ttotal: 2.12s\tremaining: 265ms\n",
            "48:\tlearn: 0.0483293\ttotal: 2.16s\tremaining: 221ms\n",
            "49:\tlearn: 0.0459958\ttotal: 2.2s\tremaining: 176ms\n",
            "50:\tlearn: 0.0448728\ttotal: 2.25s\tremaining: 132ms\n",
            "51:\tlearn: 0.0429474\ttotal: 2.29s\tremaining: 88.2ms\n",
            "52:\tlearn: 0.0411818\ttotal: 2.34s\tremaining: 44.1ms\n",
            "53:\tlearn: 0.0394707\ttotal: 2.39s\tremaining: 0us\n",
            "[LightGBM] [Warning] Accuracy may be bad since you didn't explicitly set num_leaves OR 2^max_depth > num_leaves. (num_leaves=31).\n",
            "[LightGBM] [Warning] Accuracy may be bad since you didn't explicitly set num_leaves OR 2^max_depth > num_leaves. (num_leaves=31).\n",
            "[LightGBM] [Info] Number of positive: 933, number of negative: 1138\n",
            "[LightGBM] [Info] Auto-choosing row-wise multi-threading, the overhead of testing was 0.000331 seconds.\n",
            "You can set `force_row_wise=true` to remove the overhead.\n",
            "And if memory is not enough, you can set `force_col_wise=true`.\n",
            "[LightGBM] [Info] Total Bins 3423\n",
            "[LightGBM] [Info] Number of data points in the train set: 2071, number of used features: 39\n",
            "[LightGBM] [Info] [binary:BoostFromScore]: pavg=0.450507 -> initscore=-0.198622\n",
            "[LightGBM] [Info] Start training from score -0.198622\n",
            "[LightGBM] [Warning] No further splits with positive gain, best gain: -inf\n",
            "[LightGBM] [Warning] No further splits with positive gain, best gain: -inf\n",
            "[LightGBM] [Warning] No further splits with positive gain, best gain: -inf\n",
            "[LightGBM] [Warning] No further splits with positive gain, best gain: -inf\n",
            "[LightGBM] [Warning] No further splits with positive gain, best gain: -inf\n",
            "[LightGBM] [Warning] No further splits with positive gain, best gain: -inf\n",
            "[LightGBM] [Warning] No further splits with positive gain, best gain: -inf\n",
            "[LightGBM] [Warning] No further splits with positive gain, best gain: -inf\n",
            "[LightGBM] [Warning] No further splits with positive gain, best gain: -inf\n",
            "[LightGBM] [Warning] No further splits with positive gain, best gain: -inf\n",
            "[LightGBM] [Warning] No further splits with positive gain, best gain: -inf\n",
            "[LightGBM] [Warning] No further splits with positive gain, best gain: -inf\n",
            "[LightGBM] [Warning] No further splits with positive gain, best gain: -inf\n",
            "[LightGBM] [Warning] No further splits with positive gain, best gain: -inf\n",
            "[LightGBM] [Warning] No further splits with positive gain, best gain: -inf\n",
            "[LightGBM] [Warning] No further splits with positive gain, best gain: -inf\n",
            "[LightGBM] [Warning] No further splits with positive gain, best gain: -inf\n",
            "[LightGBM] [Warning] No further splits with positive gain, best gain: -inf\n",
            "[LightGBM] [Warning] No further splits with positive gain, best gain: -inf\n",
            "[LightGBM] [Warning] No further splits with positive gain, best gain: -inf\n",
            "[LightGBM] [Warning] No further splits with positive gain, best gain: -inf\n",
            "[LightGBM] [Warning] No further splits with positive gain, best gain: -inf\n",
            "[LightGBM] [Warning] No further splits with positive gain, best gain: -inf\n",
            "[LightGBM] [Warning] No further splits with positive gain, best gain: -inf\n",
            "[LightGBM] [Warning] No further splits with positive gain, best gain: -inf\n",
            "[LightGBM] [Warning] No further splits with positive gain, best gain: -inf\n",
            "[LightGBM] [Warning] No further splits with positive gain, best gain: -inf\n",
            "[LightGBM] [Warning] No further splits with positive gain, best gain: -inf\n",
            "[LightGBM] [Warning] No further splits with positive gain, best gain: -inf\n",
            "[LightGBM] [Warning] No further splits with positive gain, best gain: -inf\n",
            "[LightGBM] [Warning] No further splits with positive gain, best gain: -inf\n",
            "[LightGBM] [Warning] No further splits with positive gain, best gain: -inf\n",
            "[LightGBM] [Warning] No further splits with positive gain, best gain: -inf\n",
            "[LightGBM] [Warning] No further splits with positive gain, best gain: -inf\n",
            "[LightGBM] [Warning] No further splits with positive gain, best gain: -inf\n",
            "[LightGBM] [Warning] No further splits with positive gain, best gain: -inf\n",
            "[LightGBM] [Warning] Accuracy may be bad since you didn't explicitly set num_leaves OR 2^max_depth > num_leaves. (num_leaves=31).\n",
            "[LightGBM] [Warning] Accuracy may be bad since you didn't explicitly set num_leaves OR 2^max_depth > num_leaves. (num_leaves=31).\n",
            "[LightGBM] [Warning] Accuracy may be bad since you didn't explicitly set num_leaves OR 2^max_depth > num_leaves. (num_leaves=31).\n",
            "[LightGBM] [Info] Number of positive: 933, number of negative: 1138\n",
            "[LightGBM] [Info] Auto-choosing col-wise multi-threading, the overhead of testing was 0.001338 seconds.\n",
            "You can set `force_col_wise=true` to remove the overhead.\n",
            "[LightGBM] [Info] Total Bins 3454\n",
            "[LightGBM] [Info] Number of data points in the train set: 2071, number of used features: 39\n",
            "[LightGBM] [Info] [binary:BoostFromScore]: pavg=0.450507 -> initscore=-0.198622\n",
            "[LightGBM] [Info] Start training from score -0.198622\n",
            "[LightGBM] [Warning] No further splits with positive gain, best gain: -inf\n",
            "[LightGBM] [Warning] No further splits with positive gain, best gain: -inf\n",
            "[LightGBM] [Warning] No further splits with positive gain, best gain: -inf\n",
            "[LightGBM] [Warning] No further splits with positive gain, best gain: -inf\n",
            "[LightGBM] [Warning] No further splits with positive gain, best gain: -inf\n",
            "[LightGBM] [Warning] No further splits with positive gain, best gain: -inf\n",
            "[LightGBM] [Warning] No further splits with positive gain, best gain: -inf\n",
            "[LightGBM] [Warning] No further splits with positive gain, best gain: -inf\n",
            "[LightGBM] [Warning] No further splits with positive gain, best gain: -inf\n",
            "[LightGBM] [Warning] No further splits with positive gain, best gain: -inf\n",
            "[LightGBM] [Warning] No further splits with positive gain, best gain: -inf\n",
            "[LightGBM] [Warning] No further splits with positive gain, best gain: -inf\n",
            "[LightGBM] [Warning] No further splits with positive gain, best gain: -inf\n",
            "[LightGBM] [Warning] No further splits with positive gain, best gain: -inf\n",
            "[LightGBM] [Warning] No further splits with positive gain, best gain: -inf\n",
            "[LightGBM] [Warning] No further splits with positive gain, best gain: -inf\n",
            "[LightGBM] [Warning] No further splits with positive gain, best gain: -inf\n",
            "[LightGBM] [Warning] No further splits with positive gain, best gain: -inf\n",
            "[LightGBM] [Warning] No further splits with positive gain, best gain: -inf\n",
            "[LightGBM] [Warning] No further splits with positive gain, best gain: -inf\n",
            "[LightGBM] [Warning] No further splits with positive gain, best gain: -inf\n",
            "[LightGBM] [Warning] No further splits with positive gain, best gain: -inf\n",
            "[LightGBM] [Warning] No further splits with positive gain, best gain: -inf\n",
            "[LightGBM] [Warning] No further splits with positive gain, best gain: -inf\n",
            "[LightGBM] [Warning] No further splits with positive gain, best gain: -inf\n",
            "[LightGBM] [Warning] No further splits with positive gain, best gain: -inf\n",
            "[LightGBM] [Warning] No further splits with positive gain, best gain: -inf\n",
            "[LightGBM] [Warning] No further splits with positive gain, best gain: -inf\n",
            "[LightGBM] [Warning] No further splits with positive gain, best gain: -inf\n",
            "[LightGBM] [Warning] No further splits with positive gain, best gain: -inf\n",
            "[LightGBM] [Warning] No further splits with positive gain, best gain: -inf\n",
            "[LightGBM] [Warning] No further splits with positive gain, best gain: -inf\n",
            "[LightGBM] [Warning] No further splits with positive gain, best gain: -inf\n",
            "[LightGBM] [Warning] No further splits with positive gain, best gain: -inf\n",
            "[LightGBM] [Warning] No further splits with positive gain, best gain: -inf\n",
            "[LightGBM] [Warning] No further splits with positive gain, best gain: -inf\n",
            "[LightGBM] [Warning] No further splits with positive gain, best gain: -inf\n",
            "[LightGBM] [Warning] No further splits with positive gain, best gain: -inf\n",
            "[LightGBM] [Warning] No further splits with positive gain, best gain: -inf\n",
            "[LightGBM] [Warning] No further splits with positive gain, best gain: -inf\n",
            "[LightGBM] [Warning] Accuracy may be bad since you didn't explicitly set num_leaves OR 2^max_depth > num_leaves. (num_leaves=31).\n",
            "[LightGBM] [Warning] Accuracy may be bad since you didn't explicitly set num_leaves OR 2^max_depth > num_leaves. (num_leaves=31).\n",
            "[LightGBM] [Warning] Accuracy may be bad since you didn't explicitly set num_leaves OR 2^max_depth > num_leaves. (num_leaves=31).\n",
            "[LightGBM] [Info] Number of positive: 934, number of negative: 1137\n",
            "[LightGBM] [Info] Auto-choosing col-wise multi-threading, the overhead of testing was 0.001004 seconds.\n",
            "You can set `force_col_wise=true` to remove the overhead.\n",
            "[LightGBM] [Info] Total Bins 3547\n",
            "[LightGBM] [Info] Number of data points in the train set: 2071, number of used features: 39\n",
            "[LightGBM] [Info] [binary:BoostFromScore]: pavg=0.450990 -> initscore=-0.196672\n",
            "[LightGBM] [Info] Start training from score -0.196672\n",
            "[LightGBM] [Warning] No further splits with positive gain, best gain: -inf\n",
            "[LightGBM] [Warning] No further splits with positive gain, best gain: -inf\n",
            "[LightGBM] [Warning] No further splits with positive gain, best gain: -inf\n",
            "[LightGBM] [Warning] No further splits with positive gain, best gain: -inf\n",
            "[LightGBM] [Warning] No further splits with positive gain, best gain: -inf\n",
            "[LightGBM] [Warning] No further splits with positive gain, best gain: -inf\n",
            "[LightGBM] [Warning] No further splits with positive gain, best gain: -inf\n",
            "[LightGBM] [Warning] No further splits with positive gain, best gain: -inf\n",
            "[LightGBM] [Warning] No further splits with positive gain, best gain: -inf\n",
            "[LightGBM] [Warning] No further splits with positive gain, best gain: -inf\n",
            "[LightGBM] [Warning] No further splits with positive gain, best gain: -inf\n",
            "[LightGBM] [Warning] No further splits with positive gain, best gain: -inf\n",
            "[LightGBM] [Warning] No further splits with positive gain, best gain: -inf\n",
            "[LightGBM] [Warning] No further splits with positive gain, best gain: -inf\n",
            "[LightGBM] [Warning] No further splits with positive gain, best gain: -inf\n",
            "[LightGBM] [Warning] No further splits with positive gain, best gain: -inf\n",
            "[LightGBM] [Warning] No further splits with positive gain, best gain: -inf\n",
            "[LightGBM] [Warning] No further splits with positive gain, best gain: -inf\n",
            "[LightGBM] [Warning] No further splits with positive gain, best gain: -inf\n",
            "[LightGBM] [Warning] No further splits with positive gain, best gain: -inf\n",
            "[LightGBM] [Warning] No further splits with positive gain, best gain: -inf\n",
            "[LightGBM] [Warning] No further splits with positive gain, best gain: -inf\n",
            "[LightGBM] [Warning] No further splits with positive gain, best gain: -inf\n",
            "[LightGBM] [Warning] No further splits with positive gain, best gain: -inf\n",
            "[LightGBM] [Warning] No further splits with positive gain, best gain: -inf\n",
            "[LightGBM] [Warning] No further splits with positive gain, best gain: -inf\n",
            "[LightGBM] [Warning] No further splits with positive gain, best gain: -inf\n",
            "[LightGBM] [Warning] No further splits with positive gain, best gain: -inf\n",
            "[LightGBM] [Warning] No further splits with positive gain, best gain: -inf\n",
            "[LightGBM] [Warning] No further splits with positive gain, best gain: -inf\n",
            "[LightGBM] [Warning] No further splits with positive gain, best gain: -inf\n",
            "[LightGBM] [Warning] No further splits with positive gain, best gain: -inf\n",
            "[LightGBM] [Warning] No further splits with positive gain, best gain: -inf\n",
            "[LightGBM] [Warning] No further splits with positive gain, best gain: -inf\n",
            "[LightGBM] [Warning] No further splits with positive gain, best gain: -inf\n",
            "[LightGBM] [Warning] No further splits with positive gain, best gain: -inf\n",
            "[LightGBM] [Warning] No further splits with positive gain, best gain: -inf\n",
            "[LightGBM] [Warning] No further splits with positive gain, best gain: -inf\n",
            "[LightGBM] [Warning] No further splits with positive gain, best gain: -inf\n",
            "[LightGBM] [Warning] No further splits with positive gain, best gain: -inf\n",
            "[LightGBM] [Warning] No further splits with positive gain, best gain: -inf\n",
            "[LightGBM] [Warning] No further splits with positive gain, best gain: -inf\n",
            "[LightGBM] [Warning] Accuracy may be bad since you didn't explicitly set num_leaves OR 2^max_depth > num_leaves. (num_leaves=31).\n",
            "[LightGBM] [Warning] Accuracy may be bad since you didn't explicitly set num_leaves OR 2^max_depth > num_leaves. (num_leaves=31).\n",
            "[LightGBM] [Warning] Accuracy may be bad since you didn't explicitly set num_leaves OR 2^max_depth > num_leaves. (num_leaves=31).\n",
            "[LightGBM] [Info] Number of positive: 934, number of negative: 1137\n",
            "[LightGBM] [Info] Auto-choosing col-wise multi-threading, the overhead of testing was 0.001628 seconds.\n",
            "You can set `force_col_wise=true` to remove the overhead.\n",
            "[LightGBM] [Info] Total Bins 3433\n",
            "[LightGBM] [Info] Number of data points in the train set: 2071, number of used features: 39\n",
            "[LightGBM] [Info] [binary:BoostFromScore]: pavg=0.450990 -> initscore=-0.196672\n",
            "[LightGBM] [Info] Start training from score -0.196672\n",
            "[LightGBM] [Warning] No further splits with positive gain, best gain: -inf\n",
            "[LightGBM] [Warning] No further splits with positive gain, best gain: -inf\n",
            "[LightGBM] [Warning] No further splits with positive gain, best gain: -inf\n",
            "[LightGBM] [Warning] No further splits with positive gain, best gain: -inf\n",
            "[LightGBM] [Warning] No further splits with positive gain, best gain: -inf\n",
            "[LightGBM] [Warning] No further splits with positive gain, best gain: -inf\n",
            "[LightGBM] [Warning] No further splits with positive gain, best gain: -inf\n",
            "[LightGBM] [Warning] No further splits with positive gain, best gain: -inf\n",
            "[LightGBM] [Warning] No further splits with positive gain, best gain: -inf\n",
            "[LightGBM] [Warning] No further splits with positive gain, best gain: -inf\n",
            "[LightGBM] [Warning] No further splits with positive gain, best gain: -inf\n",
            "[LightGBM] [Warning] No further splits with positive gain, best gain: -inf\n",
            "[LightGBM] [Warning] No further splits with positive gain, best gain: -inf\n",
            "[LightGBM] [Warning] No further splits with positive gain, best gain: -inf\n",
            "[LightGBM] [Warning] No further splits with positive gain, best gain: -inf\n",
            "[LightGBM] [Warning] No further splits with positive gain, best gain: -inf\n",
            "[LightGBM] [Warning] No further splits with positive gain, best gain: -inf\n",
            "[LightGBM] [Warning] No further splits with positive gain, best gain: -inf\n",
            "[LightGBM] [Warning] No further splits with positive gain, best gain: -inf\n",
            "[LightGBM] [Warning] No further splits with positive gain, best gain: -inf\n",
            "[LightGBM] [Warning] No further splits with positive gain, best gain: -inf\n",
            "[LightGBM] [Warning] No further splits with positive gain, best gain: -inf\n",
            "[LightGBM] [Warning] No further splits with positive gain, best gain: -inf\n",
            "[LightGBM] [Warning] No further splits with positive gain, best gain: -inf\n",
            "[LightGBM] [Warning] No further splits with positive gain, best gain: -inf\n",
            "[LightGBM] [Warning] No further splits with positive gain, best gain: -inf\n",
            "[LightGBM] [Warning] No further splits with positive gain, best gain: -inf\n",
            "[LightGBM] [Warning] No further splits with positive gain, best gain: -inf\n",
            "[LightGBM] [Warning] No further splits with positive gain, best gain: -inf\n",
            "[LightGBM] [Warning] No further splits with positive gain, best gain: -inf\n",
            "[LightGBM] [Warning] No further splits with positive gain, best gain: -inf\n",
            "[LightGBM] [Warning] No further splits with positive gain, best gain: -inf\n",
            "[LightGBM] [Warning] No further splits with positive gain, best gain: -inf\n",
            "[LightGBM] [Warning] Accuracy may be bad since you didn't explicitly set num_leaves OR 2^max_depth > num_leaves. (num_leaves=31).\n",
            "[LightGBM] [Warning] Accuracy may be bad since you didn't explicitly set num_leaves OR 2^max_depth > num_leaves. (num_leaves=31).\n",
            "[LightGBM] [Warning] Accuracy may be bad since you didn't explicitly set num_leaves OR 2^max_depth > num_leaves. (num_leaves=31).\n",
            "[LightGBM] [Info] Number of positive: 934, number of negative: 1138\n",
            "[LightGBM] [Info] Auto-choosing col-wise multi-threading, the overhead of testing was 0.001406 seconds.\n",
            "You can set `force_col_wise=true` to remove the overhead.\n",
            "[LightGBM] [Info] Total Bins 3251\n",
            "[LightGBM] [Info] Number of data points in the train set: 2072, number of used features: 39\n",
            "[LightGBM] [Info] [binary:BoostFromScore]: pavg=0.450772 -> initscore=-0.197551\n",
            "[LightGBM] [Info] Start training from score -0.197551\n",
            "[LightGBM] [Warning] No further splits with positive gain, best gain: -inf\n",
            "[LightGBM] [Warning] No further splits with positive gain, best gain: -inf\n",
            "[LightGBM] [Warning] No further splits with positive gain, best gain: -inf\n",
            "[LightGBM] [Warning] No further splits with positive gain, best gain: -inf\n",
            "[LightGBM] [Warning] No further splits with positive gain, best gain: -inf\n",
            "[LightGBM] [Warning] No further splits with positive gain, best gain: -inf\n",
            "[LightGBM] [Warning] No further splits with positive gain, best gain: -inf\n",
            "[LightGBM] [Warning] No further splits with positive gain, best gain: -inf\n",
            "[LightGBM] [Warning] No further splits with positive gain, best gain: -inf\n",
            "[LightGBM] [Warning] No further splits with positive gain, best gain: -inf\n",
            "[LightGBM] [Warning] No further splits with positive gain, best gain: -inf\n",
            "[LightGBM] [Warning] No further splits with positive gain, best gain: -inf\n",
            "[LightGBM] [Warning] No further splits with positive gain, best gain: -inf\n",
            "[LightGBM] [Warning] No further splits with positive gain, best gain: -inf\n",
            "[LightGBM] [Warning] No further splits with positive gain, best gain: -inf\n",
            "[LightGBM] [Warning] No further splits with positive gain, best gain: -inf\n",
            "[LightGBM] [Warning] No further splits with positive gain, best gain: -inf\n",
            "[LightGBM] [Warning] No further splits with positive gain, best gain: -inf\n",
            "[LightGBM] [Warning] No further splits with positive gain, best gain: -inf\n",
            "[LightGBM] [Warning] No further splits with positive gain, best gain: -inf\n",
            "[LightGBM] [Warning] No further splits with positive gain, best gain: -inf\n",
            "[LightGBM] [Warning] No further splits with positive gain, best gain: -inf\n",
            "[LightGBM] [Warning] No further splits with positive gain, best gain: -inf\n",
            "[LightGBM] [Warning] No further splits with positive gain, best gain: -inf\n",
            "[LightGBM] [Warning] No further splits with positive gain, best gain: -inf\n",
            "[LightGBM] [Warning] No further splits with positive gain, best gain: -inf\n",
            "[LightGBM] [Warning] No further splits with positive gain, best gain: -inf\n",
            "[LightGBM] [Warning] No further splits with positive gain, best gain: -inf\n",
            "[LightGBM] [Warning] No further splits with positive gain, best gain: -inf\n",
            "[LightGBM] [Warning] No further splits with positive gain, best gain: -inf\n",
            "[LightGBM] [Warning] No further splits with positive gain, best gain: -inf\n",
            "[LightGBM] [Warning] No further splits with positive gain, best gain: -inf\n",
            "[LightGBM] [Warning] No further splits with positive gain, best gain: -inf\n",
            "[LightGBM] [Warning] No further splits with positive gain, best gain: -inf\n",
            "[LightGBM] [Warning] No further splits with positive gain, best gain: -inf\n",
            "[LightGBM] [Warning] Accuracy may be bad since you didn't explicitly set num_leaves OR 2^max_depth > num_leaves. (num_leaves=31).\n",
            "0:\tlearn: 0.5781478\ttotal: 88.2ms\tremaining: 4.68s\n",
            "1:\tlearn: 0.5011193\ttotal: 169ms\tremaining: 4.4s\n",
            "2:\tlearn: 0.4540921\ttotal: 252ms\tremaining: 4.29s\n",
            "3:\tlearn: 0.4006751\ttotal: 337ms\tremaining: 4.21s\n",
            "4:\tlearn: 0.3581619\ttotal: 417ms\tremaining: 4.08s\n",
            "5:\tlearn: 0.3342884\ttotal: 506ms\tremaining: 4.04s\n",
            "6:\tlearn: 0.3150487\ttotal: 589ms\tremaining: 3.96s\n",
            "7:\tlearn: 0.2915841\ttotal: 675ms\tremaining: 3.88s\n",
            "8:\tlearn: 0.2673441\ttotal: 757ms\tremaining: 3.78s\n",
            "9:\tlearn: 0.2545590\ttotal: 835ms\tremaining: 3.67s\n",
            "10:\tlearn: 0.2408445\ttotal: 914ms\tremaining: 3.57s\n",
            "11:\tlearn: 0.2264889\ttotal: 994ms\tremaining: 3.48s\n",
            "12:\tlearn: 0.2105542\ttotal: 1.08s\tremaining: 3.4s\n",
            "13:\tlearn: 0.2010856\ttotal: 1.16s\tremaining: 3.31s\n",
            "14:\tlearn: 0.1928753\ttotal: 1.24s\tremaining: 3.22s\n",
            "15:\tlearn: 0.1837485\ttotal: 1.31s\tremaining: 3.12s\n",
            "16:\tlearn: 0.1756052\ttotal: 1.4s\tremaining: 3.04s\n",
            "17:\tlearn: 0.1652344\ttotal: 1.46s\tremaining: 2.93s\n",
            "18:\tlearn: 0.1569797\ttotal: 1.55s\tremaining: 2.85s\n",
            "19:\tlearn: 0.1470460\ttotal: 1.63s\tremaining: 2.77s\n",
            "20:\tlearn: 0.1401252\ttotal: 1.71s\tremaining: 2.69s\n",
            "21:\tlearn: 0.1352713\ttotal: 1.78s\tremaining: 2.59s\n",
            "22:\tlearn: 0.1265790\ttotal: 1.84s\tremaining: 2.48s\n",
            "23:\tlearn: 0.1220441\ttotal: 1.91s\tremaining: 2.38s\n",
            "24:\tlearn: 0.1190640\ttotal: 1.97s\tremaining: 2.28s\n",
            "25:\tlearn: 0.1142961\ttotal: 2.04s\tremaining: 2.2s\n",
            "26:\tlearn: 0.1112005\ttotal: 2.13s\tremaining: 2.13s\n",
            "27:\tlearn: 0.1048147\ttotal: 2.21s\tremaining: 2.05s\n",
            "28:\tlearn: 0.0983898\ttotal: 2.29s\tremaining: 1.98s\n",
            "29:\tlearn: 0.0950641\ttotal: 2.38s\tremaining: 1.9s\n",
            "30:\tlearn: 0.0899398\ttotal: 2.45s\tremaining: 1.82s\n",
            "31:\tlearn: 0.0862477\ttotal: 2.54s\tremaining: 1.75s\n",
            "32:\tlearn: 0.0836662\ttotal: 2.62s\tremaining: 1.67s\n",
            "33:\tlearn: 0.0800207\ttotal: 2.7s\tremaining: 1.59s\n",
            "34:\tlearn: 0.0782608\ttotal: 2.79s\tremaining: 1.51s\n",
            "35:\tlearn: 0.0751677\ttotal: 2.87s\tremaining: 1.43s\n",
            "36:\tlearn: 0.0716488\ttotal: 2.94s\tremaining: 1.35s\n",
            "37:\tlearn: 0.0694219\ttotal: 3.02s\tremaining: 1.27s\n",
            "38:\tlearn: 0.0667924\ttotal: 3.11s\tremaining: 1.2s\n",
            "39:\tlearn: 0.0636941\ttotal: 3.19s\tremaining: 1.11s\n",
            "40:\tlearn: 0.0612279\ttotal: 3.27s\tremaining: 1.04s\n",
            "41:\tlearn: 0.0595470\ttotal: 3.35s\tremaining: 959ms\n",
            "42:\tlearn: 0.0583132\ttotal: 3.43s\tremaining: 879ms\n",
            "43:\tlearn: 0.0552205\ttotal: 3.5s\tremaining: 796ms\n",
            "44:\tlearn: 0.0529862\ttotal: 3.58s\tremaining: 715ms\n",
            "45:\tlearn: 0.0518894\ttotal: 3.66s\tremaining: 637ms\n",
            "46:\tlearn: 0.0505349\ttotal: 3.74s\tremaining: 556ms\n",
            "47:\tlearn: 0.0488759\ttotal: 3.81s\tremaining: 476ms\n",
            "48:\tlearn: 0.0473210\ttotal: 3.88s\tremaining: 396ms\n",
            "49:\tlearn: 0.0461875\ttotal: 3.96s\tremaining: 317ms\n",
            "50:\tlearn: 0.0449927\ttotal: 4.04s\tremaining: 237ms\n",
            "51:\tlearn: 0.0435380\ttotal: 4.12s\tremaining: 158ms\n",
            "52:\tlearn: 0.0423861\ttotal: 4.19s\tremaining: 79.1ms\n",
            "53:\tlearn: 0.0410048\ttotal: 4.27s\tremaining: 0us\n",
            "0:\tlearn: 0.5953994\ttotal: 41.9ms\tremaining: 2.22s\n",
            "1:\tlearn: 0.5169318\ttotal: 87ms\tremaining: 2.26s\n",
            "2:\tlearn: 0.4442275\ttotal: 129ms\tremaining: 2.19s\n",
            "3:\tlearn: 0.3980242\ttotal: 171ms\tremaining: 2.14s\n",
            "4:\tlearn: 0.3563661\ttotal: 212ms\tremaining: 2.08s\n",
            "5:\tlearn: 0.3255481\ttotal: 261ms\tremaining: 2.09s\n",
            "6:\tlearn: 0.3034575\ttotal: 313ms\tremaining: 2.1s\n",
            "7:\tlearn: 0.2818739\ttotal: 355ms\tremaining: 2.04s\n",
            "8:\tlearn: 0.2656619\ttotal: 396ms\tremaining: 1.98s\n",
            "9:\tlearn: 0.2509901\ttotal: 442ms\tremaining: 1.94s\n",
            "10:\tlearn: 0.2343435\ttotal: 484ms\tremaining: 1.89s\n",
            "11:\tlearn: 0.2239050\ttotal: 531ms\tremaining: 1.86s\n",
            "12:\tlearn: 0.2075168\ttotal: 572ms\tremaining: 1.8s\n",
            "13:\tlearn: 0.1928534\ttotal: 613ms\tremaining: 1.75s\n",
            "14:\tlearn: 0.1800304\ttotal: 654ms\tremaining: 1.7s\n",
            "15:\tlearn: 0.1658637\ttotal: 696ms\tremaining: 1.65s\n",
            "16:\tlearn: 0.1586844\ttotal: 743ms\tremaining: 1.62s\n",
            "17:\tlearn: 0.1499892\ttotal: 784ms\tremaining: 1.57s\n",
            "18:\tlearn: 0.1426487\ttotal: 825ms\tremaining: 1.52s\n",
            "19:\tlearn: 0.1376423\ttotal: 867ms\tremaining: 1.47s\n",
            "20:\tlearn: 0.1314330\ttotal: 909ms\tremaining: 1.43s\n",
            "21:\tlearn: 0.1271530\ttotal: 954ms\tremaining: 1.39s\n",
            "22:\tlearn: 0.1200873\ttotal: 995ms\tremaining: 1.34s\n",
            "23:\tlearn: 0.1148126\ttotal: 1.04s\tremaining: 1.3s\n",
            "24:\tlearn: 0.1123633\ttotal: 1.08s\tremaining: 1.26s\n",
            "25:\tlearn: 0.1084126\ttotal: 1.13s\tremaining: 1.21s\n",
            "26:\tlearn: 0.1049763\ttotal: 1.17s\tremaining: 1.17s\n",
            "27:\tlearn: 0.0987740\ttotal: 1.21s\tremaining: 1.13s\n",
            "28:\tlearn: 0.0946398\ttotal: 1.25s\tremaining: 1.08s\n",
            "29:\tlearn: 0.0901833\ttotal: 1.31s\tremaining: 1.05s\n",
            "30:\tlearn: 0.0872292\ttotal: 1.35s\tremaining: 1s\n",
            "31:\tlearn: 0.0827807\ttotal: 1.4s\tremaining: 960ms\n",
            "32:\tlearn: 0.0802994\ttotal: 1.44s\tremaining: 915ms\n",
            "33:\tlearn: 0.0777099\ttotal: 1.48s\tremaining: 871ms\n",
            "34:\tlearn: 0.0741452\ttotal: 1.52s\tremaining: 828ms\n",
            "35:\tlearn: 0.0712117\ttotal: 1.57s\tremaining: 783ms\n",
            "36:\tlearn: 0.0697539\ttotal: 1.61s\tremaining: 741ms\n",
            "37:\tlearn: 0.0672747\ttotal: 1.65s\tremaining: 696ms\n",
            "38:\tlearn: 0.0652152\ttotal: 1.7s\tremaining: 652ms\n",
            "39:\tlearn: 0.0624335\ttotal: 1.74s\tremaining: 609ms\n",
            "40:\tlearn: 0.0598923\ttotal: 1.78s\tremaining: 564ms\n",
            "41:\tlearn: 0.0585817\ttotal: 1.82s\tremaining: 522ms\n",
            "42:\tlearn: 0.0579801\ttotal: 1.87s\tremaining: 478ms\n",
            "43:\tlearn: 0.0553621\ttotal: 1.91s\tremaining: 434ms\n",
            "44:\tlearn: 0.0537786\ttotal: 1.95s\tremaining: 390ms\n",
            "45:\tlearn: 0.0520281\ttotal: 1.99s\tremaining: 346ms\n",
            "46:\tlearn: 0.0501665\ttotal: 2.04s\tremaining: 304ms\n",
            "47:\tlearn: 0.0477924\ttotal: 2.08s\tremaining: 260ms\n",
            "48:\tlearn: 0.0461044\ttotal: 2.13s\tremaining: 217ms\n",
            "49:\tlearn: 0.0448077\ttotal: 2.17s\tremaining: 173ms\n",
            "50:\tlearn: 0.0437434\ttotal: 2.21s\tremaining: 130ms\n",
            "51:\tlearn: 0.0419586\ttotal: 2.26s\tremaining: 86.9ms\n",
            "52:\tlearn: 0.0403510\ttotal: 2.31s\tremaining: 43.5ms\n",
            "53:\tlearn: 0.0394143\ttotal: 2.35s\tremaining: 0us\n",
            "0:\tlearn: 0.5707968\ttotal: 42.2ms\tremaining: 2.24s\n",
            "1:\tlearn: 0.4995961\ttotal: 91.9ms\tremaining: 2.39s\n",
            "2:\tlearn: 0.4431068\ttotal: 134ms\tremaining: 2.27s\n",
            "3:\tlearn: 0.3890459\ttotal: 175ms\tremaining: 2.19s\n",
            "4:\tlearn: 0.3428574\ttotal: 217ms\tremaining: 2.13s\n",
            "5:\tlearn: 0.3164239\ttotal: 258ms\tremaining: 2.07s\n",
            "6:\tlearn: 0.2963204\ttotal: 305ms\tremaining: 2.04s\n",
            "7:\tlearn: 0.2752160\ttotal: 348ms\tremaining: 2s\n",
            "8:\tlearn: 0.2566566\ttotal: 390ms\tremaining: 1.95s\n",
            "9:\tlearn: 0.2372994\ttotal: 432ms\tremaining: 1.9s\n",
            "10:\tlearn: 0.2238277\ttotal: 472ms\tremaining: 1.85s\n",
            "11:\tlearn: 0.2075241\ttotal: 517ms\tremaining: 1.81s\n",
            "12:\tlearn: 0.1924245\ttotal: 560ms\tremaining: 1.76s\n",
            "13:\tlearn: 0.1801533\ttotal: 603ms\tremaining: 1.72s\n",
            "14:\tlearn: 0.1743064\ttotal: 647ms\tremaining: 1.68s\n",
            "15:\tlearn: 0.1646343\ttotal: 688ms\tremaining: 1.63s\n",
            "16:\tlearn: 0.1583254\ttotal: 732ms\tremaining: 1.59s\n",
            "17:\tlearn: 0.1468058\ttotal: 774ms\tremaining: 1.55s\n",
            "18:\tlearn: 0.1397345\ttotal: 815ms\tremaining: 1.5s\n",
            "19:\tlearn: 0.1318413\ttotal: 857ms\tremaining: 1.46s\n",
            "20:\tlearn: 0.1262032\ttotal: 898ms\tremaining: 1.41s\n",
            "21:\tlearn: 0.1220165\ttotal: 950ms\tremaining: 1.38s\n",
            "22:\tlearn: 0.1169122\ttotal: 995ms\tremaining: 1.34s\n",
            "23:\tlearn: 0.1108991\ttotal: 1.04s\tremaining: 1.29s\n",
            "24:\tlearn: 0.1070441\ttotal: 1.08s\tremaining: 1.25s\n",
            "25:\tlearn: 0.1039943\ttotal: 1.12s\tremaining: 1.21s\n",
            "26:\tlearn: 0.1005229\ttotal: 1.17s\tremaining: 1.17s\n",
            "27:\tlearn: 0.0939576\ttotal: 1.21s\tremaining: 1.13s\n",
            "28:\tlearn: 0.0890864\ttotal: 1.25s\tremaining: 1.08s\n",
            "29:\tlearn: 0.0846107\ttotal: 1.3s\tremaining: 1.04s\n",
            "30:\tlearn: 0.0812386\ttotal: 1.34s\tremaining: 997ms\n",
            "31:\tlearn: 0.0771243\ttotal: 1.39s\tremaining: 955ms\n",
            "32:\tlearn: 0.0731773\ttotal: 1.43s\tremaining: 910ms\n",
            "33:\tlearn: 0.0704128\ttotal: 1.47s\tremaining: 866ms\n",
            "34:\tlearn: 0.0677301\ttotal: 1.51s\tremaining: 823ms\n",
            "35:\tlearn: 0.0647935\ttotal: 1.56s\tremaining: 779ms\n",
            "36:\tlearn: 0.0624975\ttotal: 1.6s\tremaining: 736ms\n",
            "37:\tlearn: 0.0607220\ttotal: 1.64s\tremaining: 692ms\n",
            "38:\tlearn: 0.0586136\ttotal: 1.69s\tremaining: 649ms\n",
            "39:\tlearn: 0.0557316\ttotal: 1.73s\tremaining: 605ms\n",
            "40:\tlearn: 0.0538186\ttotal: 1.77s\tremaining: 562ms\n",
            "41:\tlearn: 0.0510313\ttotal: 1.81s\tremaining: 519ms\n",
            "42:\tlearn: 0.0500040\ttotal: 1.86s\tremaining: 475ms\n",
            "43:\tlearn: 0.0476570\ttotal: 1.9s\tremaining: 432ms\n",
            "44:\tlearn: 0.0458974\ttotal: 1.94s\tremaining: 388ms\n",
            "45:\tlearn: 0.0445832\ttotal: 1.99s\tremaining: 347ms\n",
            "46:\tlearn: 0.0431438\ttotal: 2.04s\tremaining: 304ms\n",
            "47:\tlearn: 0.0416951\ttotal: 2.08s\tremaining: 260ms\n",
            "48:\tlearn: 0.0399585\ttotal: 2.12s\tremaining: 217ms\n",
            "49:\tlearn: 0.0388524\ttotal: 2.17s\tremaining: 173ms\n",
            "50:\tlearn: 0.0374572\ttotal: 2.21s\tremaining: 130ms\n",
            "51:\tlearn: 0.0366751\ttotal: 2.25s\tremaining: 86.7ms\n",
            "52:\tlearn: 0.0352388\ttotal: 2.29s\tremaining: 43.3ms\n",
            "53:\tlearn: 0.0339375\ttotal: 2.34s\tremaining: 0us\n",
            "0:\tlearn: 0.5655272\ttotal: 42.8ms\tremaining: 2.27s\n",
            "1:\tlearn: 0.4953280\ttotal: 87.6ms\tremaining: 2.28s\n",
            "2:\tlearn: 0.4286956\ttotal: 145ms\tremaining: 2.46s\n",
            "3:\tlearn: 0.3873002\ttotal: 186ms\tremaining: 2.32s\n",
            "4:\tlearn: 0.3427197\ttotal: 227ms\tremaining: 2.23s\n",
            "5:\tlearn: 0.3109278\ttotal: 273ms\tremaining: 2.18s\n",
            "6:\tlearn: 0.2827734\ttotal: 318ms\tremaining: 2.13s\n",
            "7:\tlearn: 0.2631876\ttotal: 360ms\tremaining: 2.07s\n",
            "8:\tlearn: 0.2428915\ttotal: 401ms\tremaining: 2s\n",
            "9:\tlearn: 0.2282214\ttotal: 442ms\tremaining: 1.95s\n",
            "10:\tlearn: 0.2078792\ttotal: 485ms\tremaining: 1.89s\n",
            "11:\tlearn: 0.1993628\ttotal: 531ms\tremaining: 1.86s\n",
            "12:\tlearn: 0.1911598\ttotal: 573ms\tremaining: 1.81s\n",
            "13:\tlearn: 0.1805591\ttotal: 626ms\tremaining: 1.79s\n",
            "14:\tlearn: 0.1713731\ttotal: 667ms\tremaining: 1.74s\n",
            "15:\tlearn: 0.1644705\ttotal: 709ms\tremaining: 1.68s\n",
            "16:\tlearn: 0.1586922\ttotal: 755ms\tremaining: 1.64s\n",
            "17:\tlearn: 0.1510013\ttotal: 796ms\tremaining: 1.59s\n",
            "18:\tlearn: 0.1411631\ttotal: 841ms\tremaining: 1.55s\n",
            "19:\tlearn: 0.1343722\ttotal: 882ms\tremaining: 1.5s\n",
            "20:\tlearn: 0.1279255\ttotal: 923ms\tremaining: 1.45s\n",
            "21:\tlearn: 0.1225540\ttotal: 970ms\tremaining: 1.41s\n",
            "22:\tlearn: 0.1167018\ttotal: 1.01s\tremaining: 1.36s\n",
            "23:\tlearn: 0.1117498\ttotal: 1.05s\tremaining: 1.31s\n",
            "24:\tlearn: 0.1094707\ttotal: 1.09s\tremaining: 1.27s\n",
            "25:\tlearn: 0.1054092\ttotal: 1.13s\tremaining: 1.22s\n",
            "26:\tlearn: 0.1002059\ttotal: 1.18s\tremaining: 1.18s\n",
            "27:\tlearn: 0.0945766\ttotal: 1.22s\tremaining: 1.13s\n",
            "28:\tlearn: 0.0901951\ttotal: 1.26s\tremaining: 1.09s\n",
            "29:\tlearn: 0.0872785\ttotal: 1.3s\tremaining: 1.04s\n",
            "30:\tlearn: 0.0854633\ttotal: 1.34s\tremaining: 995ms\n",
            "31:\tlearn: 0.0817958\ttotal: 1.39s\tremaining: 956ms\n",
            "32:\tlearn: 0.0793016\ttotal: 1.43s\tremaining: 911ms\n",
            "33:\tlearn: 0.0765701\ttotal: 1.48s\tremaining: 868ms\n",
            "34:\tlearn: 0.0727977\ttotal: 1.52s\tremaining: 825ms\n",
            "35:\tlearn: 0.0705931\ttotal: 1.56s\tremaining: 781ms\n",
            "36:\tlearn: 0.0691337\ttotal: 1.6s\tremaining: 738ms\n",
            "37:\tlearn: 0.0673523\ttotal: 1.66s\tremaining: 699ms\n",
            "38:\tlearn: 0.0647653\ttotal: 1.7s\tremaining: 654ms\n",
            "39:\tlearn: 0.0619773\ttotal: 1.74s\tremaining: 609ms\n",
            "40:\tlearn: 0.0598884\ttotal: 1.78s\tremaining: 565ms\n",
            "41:\tlearn: 0.0583608\ttotal: 1.83s\tremaining: 522ms\n",
            "42:\tlearn: 0.0565798\ttotal: 1.87s\tremaining: 478ms\n",
            "43:\tlearn: 0.0545728\ttotal: 1.91s\tremaining: 434ms\n",
            "44:\tlearn: 0.0524206\ttotal: 1.95s\tremaining: 390ms\n",
            "45:\tlearn: 0.0500277\ttotal: 1.99s\tremaining: 346ms\n",
            "46:\tlearn: 0.0482158\ttotal: 2.04s\tremaining: 303ms\n",
            "47:\tlearn: 0.0463148\ttotal: 2.08s\tremaining: 260ms\n",
            "48:\tlearn: 0.0448815\ttotal: 2.13s\tremaining: 217ms\n",
            "49:\tlearn: 0.0438282\ttotal: 2.17s\tremaining: 173ms\n",
            "50:\tlearn: 0.0423435\ttotal: 2.21s\tremaining: 130ms\n",
            "51:\tlearn: 0.0407138\ttotal: 2.25s\tremaining: 86.7ms\n",
            "52:\tlearn: 0.0394988\ttotal: 2.29s\tremaining: 43.3ms\n",
            "53:\tlearn: 0.0380814\ttotal: 2.33s\tremaining: 0us\n",
            "0:\tlearn: 0.5923863\ttotal: 41.3ms\tremaining: 2.19s\n",
            "1:\tlearn: 0.5010994\ttotal: 85.3ms\tremaining: 2.22s\n",
            "2:\tlearn: 0.4421844\ttotal: 128ms\tremaining: 2.17s\n",
            "3:\tlearn: 0.4023399\ttotal: 169ms\tremaining: 2.12s\n",
            "4:\tlearn: 0.3613198\ttotal: 210ms\tremaining: 2.05s\n",
            "5:\tlearn: 0.3296371\ttotal: 254ms\tremaining: 2.03s\n",
            "6:\tlearn: 0.3055187\ttotal: 309ms\tremaining: 2.08s\n",
            "7:\tlearn: 0.2794156\ttotal: 349ms\tremaining: 2.01s\n",
            "8:\tlearn: 0.2621683\ttotal: 390ms\tremaining: 1.95s\n",
            "9:\tlearn: 0.2499198\ttotal: 430ms\tremaining: 1.89s\n",
            "10:\tlearn: 0.2324418\ttotal: 470ms\tremaining: 1.83s\n",
            "11:\tlearn: 0.2136367\ttotal: 515ms\tremaining: 1.8s\n",
            "12:\tlearn: 0.2052857\ttotal: 555ms\tremaining: 1.75s\n",
            "13:\tlearn: 0.1930414\ttotal: 600ms\tremaining: 1.71s\n",
            "14:\tlearn: 0.1805985\ttotal: 642ms\tremaining: 1.67s\n",
            "15:\tlearn: 0.1705471\ttotal: 682ms\tremaining: 1.62s\n",
            "16:\tlearn: 0.1639953\ttotal: 727ms\tremaining: 1.58s\n",
            "17:\tlearn: 0.1553883\ttotal: 768ms\tremaining: 1.54s\n",
            "18:\tlearn: 0.1482632\ttotal: 813ms\tremaining: 1.5s\n",
            "19:\tlearn: 0.1401925\ttotal: 854ms\tremaining: 1.45s\n",
            "20:\tlearn: 0.1360844\ttotal: 895ms\tremaining: 1.41s\n",
            "21:\tlearn: 0.1309360\ttotal: 940ms\tremaining: 1.37s\n",
            "22:\tlearn: 0.1255664\ttotal: 982ms\tremaining: 1.32s\n",
            "23:\tlearn: 0.1188547\ttotal: 1.02s\tremaining: 1.28s\n",
            "24:\tlearn: 0.1151349\ttotal: 1.07s\tremaining: 1.24s\n",
            "25:\tlearn: 0.1103925\ttotal: 1.11s\tremaining: 1.19s\n",
            "26:\tlearn: 0.1066990\ttotal: 1.15s\tremaining: 1.15s\n",
            "27:\tlearn: 0.1020753\ttotal: 1.2s\tremaining: 1.11s\n",
            "28:\tlearn: 0.0984078\ttotal: 1.24s\tremaining: 1.07s\n",
            "29:\tlearn: 0.0949954\ttotal: 1.28s\tremaining: 1.02s\n",
            "30:\tlearn: 0.0912792\ttotal: 1.33s\tremaining: 991ms\n",
            "31:\tlearn: 0.0879379\ttotal: 1.38s\tremaining: 949ms\n",
            "32:\tlearn: 0.0826148\ttotal: 1.42s\tremaining: 905ms\n",
            "33:\tlearn: 0.0790997\ttotal: 1.46s\tremaining: 860ms\n",
            "34:\tlearn: 0.0753150\ttotal: 1.5s\tremaining: 815ms\n",
            "35:\tlearn: 0.0731676\ttotal: 1.54s\tremaining: 771ms\n",
            "36:\tlearn: 0.0703775\ttotal: 1.59s\tremaining: 729ms\n",
            "37:\tlearn: 0.0684544\ttotal: 1.63s\tremaining: 685ms\n",
            "38:\tlearn: 0.0666257\ttotal: 1.67s\tremaining: 641ms\n",
            "39:\tlearn: 0.0643338\ttotal: 1.71s\tremaining: 598ms\n",
            "40:\tlearn: 0.0615192\ttotal: 1.75s\tremaining: 554ms\n",
            "41:\tlearn: 0.0588443\ttotal: 1.8s\tremaining: 513ms\n",
            "42:\tlearn: 0.0562379\ttotal: 1.84s\tremaining: 471ms\n",
            "43:\tlearn: 0.0544432\ttotal: 1.88s\tremaining: 427ms\n",
            "44:\tlearn: 0.0524262\ttotal: 1.92s\tremaining: 384ms\n",
            "45:\tlearn: 0.0510135\ttotal: 1.96s\tremaining: 341ms\n",
            "46:\tlearn: 0.0487925\ttotal: 2s\tremaining: 299ms\n",
            "47:\tlearn: 0.0470270\ttotal: 2.04s\tremaining: 256ms\n",
            "48:\tlearn: 0.0468556\ttotal: 2.09s\tremaining: 213ms\n",
            "49:\tlearn: 0.0452128\ttotal: 2.13s\tremaining: 170ms\n",
            "50:\tlearn: 0.0437579\ttotal: 2.17s\tremaining: 128ms\n",
            "51:\tlearn: 0.0423005\ttotal: 2.21s\tremaining: 85.1ms\n",
            "52:\tlearn: 0.0408138\ttotal: 2.26s\tremaining: 42.6ms\n",
            "53:\tlearn: 0.0393744\ttotal: 2.3s\tremaining: 0us\n",
            "0:\tlearn: 0.5417629\ttotal: 12.7ms\tremaining: 673ms\n",
            "1:\tlearn: 0.4396382\ttotal: 23.6ms\tremaining: 613ms\n",
            "2:\tlearn: 0.3658795\ttotal: 34.3ms\tremaining: 583ms\n",
            "3:\tlearn: 0.3107787\ttotal: 45.1ms\tremaining: 564ms\n",
            "4:\tlearn: 0.2694299\ttotal: 57.6ms\tremaining: 565ms\n",
            "5:\tlearn: 0.2390298\ttotal: 72.1ms\tremaining: 577ms\n",
            "6:\tlearn: 0.2134359\ttotal: 93.3ms\tremaining: 626ms\n",
            "7:\tlearn: 0.1934269\ttotal: 104ms\tremaining: 600ms\n",
            "8:\tlearn: 0.1786863\ttotal: 115ms\tremaining: 575ms\n",
            "9:\tlearn: 0.1660086\ttotal: 125ms\tremaining: 552ms\n",
            "10:\tlearn: 0.1557515\ttotal: 138ms\tremaining: 539ms\n",
            "11:\tlearn: 0.1473476\ttotal: 149ms\tremaining: 520ms\n",
            "12:\tlearn: 0.1402914\ttotal: 159ms\tremaining: 501ms\n",
            "13:\tlearn: 0.1355143\ttotal: 169ms\tremaining: 483ms\n",
            "14:\tlearn: 0.1307375\ttotal: 179ms\tremaining: 467ms\n",
            "15:\tlearn: 0.1274628\ttotal: 190ms\tremaining: 451ms\n",
            "16:\tlearn: 0.1253783\ttotal: 191ms\tremaining: 415ms\n",
            "17:\tlearn: 0.1231575\ttotal: 201ms\tremaining: 403ms\n",
            "18:\tlearn: 0.1210191\ttotal: 213ms\tremaining: 392ms\n",
            "19:\tlearn: 0.1185505\ttotal: 225ms\tremaining: 382ms\n",
            "20:\tlearn: 0.1173725\ttotal: 236ms\tremaining: 371ms\n",
            "21:\tlearn: 0.1158814\ttotal: 247ms\tremaining: 359ms\n",
            "22:\tlearn: 0.1142883\ttotal: 257ms\tremaining: 347ms\n",
            "23:\tlearn: 0.1124260\ttotal: 268ms\tremaining: 335ms\n",
            "24:\tlearn: 0.1113184\ttotal: 279ms\tremaining: 323ms\n",
            "25:\tlearn: 0.1107158\ttotal: 294ms\tremaining: 316ms\n",
            "26:\tlearn: 0.1092623\ttotal: 305ms\tremaining: 305ms\n",
            "27:\tlearn: 0.1083784\ttotal: 315ms\tremaining: 293ms\n",
            "28:\tlearn: 0.1074076\ttotal: 326ms\tremaining: 281ms\n",
            "29:\tlearn: 0.1067645\ttotal: 337ms\tremaining: 270ms\n",
            "30:\tlearn: 0.1061836\ttotal: 353ms\tremaining: 262ms\n",
            "31:\tlearn: 0.1057781\ttotal: 365ms\tremaining: 251ms\n",
            "32:\tlearn: 0.1048040\ttotal: 378ms\tremaining: 240ms\n",
            "33:\tlearn: 0.1041644\ttotal: 389ms\tremaining: 229ms\n",
            "34:\tlearn: 0.1037982\ttotal: 399ms\tremaining: 217ms\n",
            "35:\tlearn: 0.1032996\ttotal: 410ms\tremaining: 205ms\n",
            "36:\tlearn: 0.1027397\ttotal: 421ms\tremaining: 194ms\n",
            "37:\tlearn: 0.1019469\ttotal: 441ms\tremaining: 186ms\n",
            "38:\tlearn: 0.1013805\ttotal: 460ms\tremaining: 177ms\n",
            "39:\tlearn: 0.1011381\ttotal: 476ms\tremaining: 166ms\n",
            "40:\tlearn: 0.1008974\ttotal: 500ms\tremaining: 159ms\n",
            "41:\tlearn: 0.1001336\ttotal: 519ms\tremaining: 148ms\n",
            "42:\tlearn: 0.0994056\ttotal: 540ms\tremaining: 138ms\n",
            "43:\tlearn: 0.0989979\ttotal: 556ms\tremaining: 126ms\n",
            "44:\tlearn: 0.0985947\ttotal: 578ms\tremaining: 116ms\n",
            "45:\tlearn: 0.0982129\ttotal: 602ms\tremaining: 105ms\n",
            "46:\tlearn: 0.0975862\ttotal: 625ms\tremaining: 93.1ms\n",
            "47:\tlearn: 0.0967945\ttotal: 645ms\tremaining: 80.7ms\n",
            "48:\tlearn: 0.0963327\ttotal: 665ms\tremaining: 67.9ms\n",
            "49:\tlearn: 0.0957316\ttotal: 684ms\tremaining: 54.7ms\n",
            "50:\tlearn: 0.0951106\ttotal: 700ms\tremaining: 41.2ms\n",
            "51:\tlearn: 0.0943280\ttotal: 724ms\tremaining: 27.8ms\n",
            "52:\tlearn: 0.0940740\ttotal: 747ms\tremaining: 14.1ms\n",
            "53:\tlearn: 0.0934721\ttotal: 773ms\tremaining: 0us\n"
          ]
        },
        {
          "output_type": "execute_result",
          "data": {
            "text/plain": [
              "StackingClassifier(estimators=[('RF',\n",
              "                                RandomForestClassifier(max_depth=10,\n",
              "                                                       n_estimators=400)),\n",
              "                               ('XGB',\n",
              "                                XGBClassifier(base_score=0.88, booster=None,\n",
              "                                              callbacks=None,\n",
              "                                              colsample_bylevel=None,\n",
              "                                              colsample_bynode=None,\n",
              "                                              colsample_bytree=None,\n",
              "                                              device=None,\n",
              "                                              early_stopping_rounds=None,\n",
              "                                              enable_categorical=False,\n",
              "                                              eval_metric=None,\n",
              "                                              feature_types=None, gamma=None,\n",
              "                                              grow_policy=Non...\n",
              "                                              min_child_weight=None,\n",
              "                                              missing=nan,\n",
              "                                              monotone_constraints=None,\n",
              "                                              multi_strategy=None,\n",
              "                                              n_estimators=500, n_jobs=None,\n",
              "                                              num_parallel_tree=None,\n",
              "                                              random_state=None, ...)),\n",
              "                               ('LGBM',\n",
              "                                LGBMClassifier(learning_rate=0.5, max_depth=7)),\n",
              "                               ('CAT',\n",
              "                                <catboost.core.CatBoostClassifier object at 0x79c538fee830>)],\n",
              "                   final_estimator=<catboost.core.CatBoostClassifier object at 0x79c538fefbe0>)"
            ],
            "text/html": [
              "<style>#sk-container-id-4 {color: black;background-color: white;}#sk-container-id-4 pre{padding: 0;}#sk-container-id-4 div.sk-toggleable {background-color: white;}#sk-container-id-4 label.sk-toggleable__label {cursor: pointer;display: block;width: 100%;margin-bottom: 0;padding: 0.3em;box-sizing: border-box;text-align: center;}#sk-container-id-4 label.sk-toggleable__label-arrow:before {content: \"▸\";float: left;margin-right: 0.25em;color: #696969;}#sk-container-id-4 label.sk-toggleable__label-arrow:hover:before {color: black;}#sk-container-id-4 div.sk-estimator:hover label.sk-toggleable__label-arrow:before {color: black;}#sk-container-id-4 div.sk-toggleable__content {max-height: 0;max-width: 0;overflow: hidden;text-align: left;background-color: #f0f8ff;}#sk-container-id-4 div.sk-toggleable__content pre {margin: 0.2em;color: black;border-radius: 0.25em;background-color: #f0f8ff;}#sk-container-id-4 input.sk-toggleable__control:checked~div.sk-toggleable__content {max-height: 200px;max-width: 100%;overflow: auto;}#sk-container-id-4 input.sk-toggleable__control:checked~label.sk-toggleable__label-arrow:before {content: \"▾\";}#sk-container-id-4 div.sk-estimator input.sk-toggleable__control:checked~label.sk-toggleable__label {background-color: #d4ebff;}#sk-container-id-4 div.sk-label input.sk-toggleable__control:checked~label.sk-toggleable__label {background-color: #d4ebff;}#sk-container-id-4 input.sk-hidden--visually {border: 0;clip: rect(1px 1px 1px 1px);clip: rect(1px, 1px, 1px, 1px);height: 1px;margin: -1px;overflow: hidden;padding: 0;position: absolute;width: 1px;}#sk-container-id-4 div.sk-estimator {font-family: monospace;background-color: #f0f8ff;border: 1px dotted black;border-radius: 0.25em;box-sizing: border-box;margin-bottom: 0.5em;}#sk-container-id-4 div.sk-estimator:hover {background-color: #d4ebff;}#sk-container-id-4 div.sk-parallel-item::after {content: \"\";width: 100%;border-bottom: 1px solid gray;flex-grow: 1;}#sk-container-id-4 div.sk-label:hover label.sk-toggleable__label {background-color: #d4ebff;}#sk-container-id-4 div.sk-serial::before {content: \"\";position: absolute;border-left: 1px solid gray;box-sizing: border-box;top: 0;bottom: 0;left: 50%;z-index: 0;}#sk-container-id-4 div.sk-serial {display: flex;flex-direction: column;align-items: center;background-color: white;padding-right: 0.2em;padding-left: 0.2em;position: relative;}#sk-container-id-4 div.sk-item {position: relative;z-index: 1;}#sk-container-id-4 div.sk-parallel {display: flex;align-items: stretch;justify-content: center;background-color: white;position: relative;}#sk-container-id-4 div.sk-item::before, #sk-container-id-4 div.sk-parallel-item::before {content: \"\";position: absolute;border-left: 1px solid gray;box-sizing: border-box;top: 0;bottom: 0;left: 50%;z-index: -1;}#sk-container-id-4 div.sk-parallel-item {display: flex;flex-direction: column;z-index: 1;position: relative;background-color: white;}#sk-container-id-4 div.sk-parallel-item:first-child::after {align-self: flex-end;width: 50%;}#sk-container-id-4 div.sk-parallel-item:last-child::after {align-self: flex-start;width: 50%;}#sk-container-id-4 div.sk-parallel-item:only-child::after {width: 0;}#sk-container-id-4 div.sk-dashed-wrapped {border: 1px dashed gray;margin: 0 0.4em 0.5em 0.4em;box-sizing: border-box;padding-bottom: 0.4em;background-color: white;}#sk-container-id-4 div.sk-label label {font-family: monospace;font-weight: bold;display: inline-block;line-height: 1.2em;}#sk-container-id-4 div.sk-label-container {text-align: center;}#sk-container-id-4 div.sk-container {/* jupyter's `normalize.less` sets `[hidden] { display: none; }` but bootstrap.min.css set `[hidden] { display: none !important; }` so we also need the `!important` here to be able to override the default hidden behavior on the sphinx rendered scikit-learn.org. See: https://github.com/scikit-learn/scikit-learn/issues/21755 */display: inline-block !important;position: relative;}#sk-container-id-4 div.sk-text-repr-fallback {display: none;}</style><div id=\"sk-container-id-4\" class=\"sk-top-container\"><div class=\"sk-text-repr-fallback\"><pre>StackingClassifier(estimators=[(&#x27;RF&#x27;,\n",
              "                                RandomForestClassifier(max_depth=10,\n",
              "                                                       n_estimators=400)),\n",
              "                               (&#x27;XGB&#x27;,\n",
              "                                XGBClassifier(base_score=0.88, booster=None,\n",
              "                                              callbacks=None,\n",
              "                                              colsample_bylevel=None,\n",
              "                                              colsample_bynode=None,\n",
              "                                              colsample_bytree=None,\n",
              "                                              device=None,\n",
              "                                              early_stopping_rounds=None,\n",
              "                                              enable_categorical=False,\n",
              "                                              eval_metric=None,\n",
              "                                              feature_types=None, gamma=None,\n",
              "                                              grow_policy=Non...\n",
              "                                              min_child_weight=None,\n",
              "                                              missing=nan,\n",
              "                                              monotone_constraints=None,\n",
              "                                              multi_strategy=None,\n",
              "                                              n_estimators=500, n_jobs=None,\n",
              "                                              num_parallel_tree=None,\n",
              "                                              random_state=None, ...)),\n",
              "                               (&#x27;LGBM&#x27;,\n",
              "                                LGBMClassifier(learning_rate=0.5, max_depth=7)),\n",
              "                               (&#x27;CAT&#x27;,\n",
              "                                &lt;catboost.core.CatBoostClassifier object at 0x79c538fee830&gt;)],\n",
              "                   final_estimator=&lt;catboost.core.CatBoostClassifier object at 0x79c538fefbe0&gt;)</pre><b>In a Jupyter environment, please rerun this cell to show the HTML representation or trust the notebook. <br />On GitHub, the HTML representation is unable to render, please try loading this page with nbviewer.org.</b></div><div class=\"sk-container\" hidden><div class=\"sk-item sk-dashed-wrapped\"><div class=\"sk-label-container\"><div class=\"sk-label sk-toggleable\"><input class=\"sk-toggleable__control sk-hidden--visually\" id=\"sk-estimator-id-4\" type=\"checkbox\" ><label for=\"sk-estimator-id-4\" class=\"sk-toggleable__label sk-toggleable__label-arrow\">StackingClassifier</label><div class=\"sk-toggleable__content\"><pre>StackingClassifier(estimators=[(&#x27;RF&#x27;,\n",
              "                                RandomForestClassifier(max_depth=10,\n",
              "                                                       n_estimators=400)),\n",
              "                               (&#x27;XGB&#x27;,\n",
              "                                XGBClassifier(base_score=0.88, booster=None,\n",
              "                                              callbacks=None,\n",
              "                                              colsample_bylevel=None,\n",
              "                                              colsample_bynode=None,\n",
              "                                              colsample_bytree=None,\n",
              "                                              device=None,\n",
              "                                              early_stopping_rounds=None,\n",
              "                                              enable_categorical=False,\n",
              "                                              eval_metric=None,\n",
              "                                              feature_types=None, gamma=None,\n",
              "                                              grow_policy=Non...\n",
              "                                              min_child_weight=None,\n",
              "                                              missing=nan,\n",
              "                                              monotone_constraints=None,\n",
              "                                              multi_strategy=None,\n",
              "                                              n_estimators=500, n_jobs=None,\n",
              "                                              num_parallel_tree=None,\n",
              "                                              random_state=None, ...)),\n",
              "                               (&#x27;LGBM&#x27;,\n",
              "                                LGBMClassifier(learning_rate=0.5, max_depth=7)),\n",
              "                               (&#x27;CAT&#x27;,\n",
              "                                &lt;catboost.core.CatBoostClassifier object at 0x79c538fee830&gt;)],\n",
              "                   final_estimator=&lt;catboost.core.CatBoostClassifier object at 0x79c538fefbe0&gt;)</pre></div></div></div><div class=\"sk-serial\"><div class=\"sk-item\"><div class=\"sk-parallel\"><div class=\"sk-parallel-item\"><div class=\"sk-item\"><div class=\"sk-label-container\"><div class=\"sk-label sk-toggleable\"><label>RF</label></div></div><div class=\"sk-serial\"><div class=\"sk-item\"><div class=\"sk-estimator sk-toggleable\"><input class=\"sk-toggleable__control sk-hidden--visually\" id=\"sk-estimator-id-5\" type=\"checkbox\" ><label for=\"sk-estimator-id-5\" class=\"sk-toggleable__label sk-toggleable__label-arrow\">RandomForestClassifier</label><div class=\"sk-toggleable__content\"><pre>RandomForestClassifier(max_depth=10, n_estimators=400)</pre></div></div></div></div></div></div><div class=\"sk-parallel-item\"><div class=\"sk-item\"><div class=\"sk-label-container\"><div class=\"sk-label sk-toggleable\"><label>XGB</label></div></div><div class=\"sk-serial\"><div class=\"sk-item\"><div class=\"sk-estimator sk-toggleable\"><input class=\"sk-toggleable__control sk-hidden--visually\" id=\"sk-estimator-id-6\" type=\"checkbox\" ><label for=\"sk-estimator-id-6\" class=\"sk-toggleable__label sk-toggleable__label-arrow\">XGBClassifier</label><div class=\"sk-toggleable__content\"><pre>XGBClassifier(base_score=0.88, booster=None, callbacks=None,\n",
              "              colsample_bylevel=None, colsample_bynode=None,\n",
              "              colsample_bytree=None, device=None, early_stopping_rounds=None,\n",
              "              enable_categorical=False, eval_metric=None, feature_types=None,\n",
              "              gamma=None, grow_policy=None, importance_type=None,\n",
              "              interaction_constraints=None, learning_rate=0.2, max_bin=None,\n",
              "              max_cat_threshold=None, max_cat_to_onehot=None,\n",
              "              max_delta_step=None, max_depth=7, max_leaves=None,\n",
              "              min_child_weight=None, missing=nan, monotone_constraints=None,\n",
              "              multi_strategy=None, n_estimators=500, n_jobs=None,\n",
              "              num_parallel_tree=None, random_state=None, ...)</pre></div></div></div></div></div></div><div class=\"sk-parallel-item\"><div class=\"sk-item\"><div class=\"sk-label-container\"><div class=\"sk-label sk-toggleable\"><label>LGBM</label></div></div><div class=\"sk-serial\"><div class=\"sk-item\"><div class=\"sk-estimator sk-toggleable\"><input class=\"sk-toggleable__control sk-hidden--visually\" id=\"sk-estimator-id-7\" type=\"checkbox\" ><label for=\"sk-estimator-id-7\" class=\"sk-toggleable__label sk-toggleable__label-arrow\">LGBMClassifier</label><div class=\"sk-toggleable__content\"><pre>LGBMClassifier(learning_rate=0.5, max_depth=7)</pre></div></div></div></div></div></div><div class=\"sk-parallel-item\"><div class=\"sk-item\"><div class=\"sk-label-container\"><div class=\"sk-label sk-toggleable\"><label>CAT</label></div></div><div class=\"sk-serial\"><div class=\"sk-item\"><div class=\"sk-estimator sk-toggleable\"><input class=\"sk-toggleable__control sk-hidden--visually\" id=\"sk-estimator-id-8\" type=\"checkbox\" ><label for=\"sk-estimator-id-8\" class=\"sk-toggleable__label sk-toggleable__label-arrow\">CatBoostClassifier</label><div class=\"sk-toggleable__content\"><pre>&lt;catboost.core.CatBoostClassifier object at 0x79c538fee830&gt;</pre></div></div></div></div></div></div></div></div><div class=\"sk-item\"><div class=\"sk-parallel\"><div class=\"sk-parallel-item\"><div class=\"sk-item\"><div class=\"sk-label-container\"><div class=\"sk-label sk-toggleable\"><label>final_estimator</label></div></div><div class=\"sk-serial\"><div class=\"sk-item\"><div class=\"sk-estimator sk-toggleable\"><input class=\"sk-toggleable__control sk-hidden--visually\" id=\"sk-estimator-id-9\" type=\"checkbox\" ><label for=\"sk-estimator-id-9\" class=\"sk-toggleable__label sk-toggleable__label-arrow\">CatBoostClassifier</label><div class=\"sk-toggleable__content\"><pre>&lt;catboost.core.CatBoostClassifier object at 0x79c538fefbe0&gt;</pre></div></div></div></div></div></div></div></div></div></div></div></div>"
            ]
          },
          "metadata": {},
          "execution_count": 36
        }
      ]
    },
    {
      "cell_type": "code",
      "source": [
        "pred = model.predict(xtest)"
      ],
      "metadata": {
        "id": "-VnRhjELqgEn",
        "colab": {
          "base_uri": "https://localhost:8080/"
        },
        "outputId": "fde639f4-b660-444e-ea36-57d76eb22880"
      },
      "execution_count": null,
      "outputs": [
        {
          "output_type": "stream",
          "name": "stdout",
          "text": [
            "[LightGBM] [Warning] Accuracy may be bad since you didn't explicitly set num_leaves OR 2^max_depth > num_leaves. (num_leaves=31).\n"
          ]
        }
      ]
    },
    {
      "cell_type": "code",
      "source": [
        "accuracy_score(ytest,pred), precision_score(ytest, pred), recall_score(ytest, pred), f1_score(ytest, pred)"
      ],
      "metadata": {
        "id": "1iyPoA5qqhCj",
        "colab": {
          "base_uri": "https://localhost:8080/"
        },
        "outputId": "efc5ce31-7449-42cc-c79a-6d000e59dc57"
      },
      "execution_count": null,
      "outputs": [
        {
          "output_type": "execute_result",
          "data": {
            "text/plain": [
              "(0.9884615384615385, 0.9774436090225563, 1.0, 0.988593155893536)"
            ]
          },
          "metadata": {},
          "execution_count": 73
        }
      ]
    },
    {
      "cell_type": "code",
      "source": [
        "mcc = matthews_corrcoef(ytest, pred)\n",
        "mcc"
      ],
      "metadata": {
        "colab": {
          "base_uri": "https://localhost:8080/"
        },
        "outputId": "34b99241-3383-4df2-d19b-52d90a5ada93",
        "id": "gsde7a9HeGj2"
      },
      "execution_count": null,
      "outputs": [
        {
          "output_type": "execute_result",
          "data": {
            "text/plain": [
              "0.9771833083127817"
            ]
          },
          "metadata": {},
          "execution_count": 38
        }
      ]
    },
    {
      "cell_type": "code",
      "source": [
        "cm = confusion_matrix(ytest,pred)"
      ],
      "metadata": {
        "id": "4NPx4J-Pqnm7"
      },
      "execution_count": null,
      "outputs": []
    },
    {
      "cell_type": "code",
      "source": [
        "cm"
      ],
      "metadata": {
        "id": "A6yJZASOYVOo",
        "colab": {
          "base_uri": "https://localhost:8080/"
        },
        "outputId": "bcb51489-4eb0-476b-a447-c1b1c375cc96"
      },
      "execution_count": null,
      "outputs": [
        {
          "output_type": "execute_result",
          "data": {
            "text/plain": [
              "array([[127,   3],\n",
              "       [  0, 130]])"
            ]
          },
          "metadata": {},
          "execution_count": 75
        }
      ]
    },
    {
      "cell_type": "code",
      "source": [
        "# True Positives (TP)\n",
        "tp = cm[1, 1]\n",
        "\n",
        "# True Negatives (TN)\n",
        "tn = cm[0, 0]\n",
        "\n",
        "# False Positives (FP)\n",
        "fp = cm[0, 1]\n",
        "\n",
        "# False Negatives (FN)\n",
        "fn = cm[1, 0]\n",
        "\n",
        "# Sensitivity (True Positive Rate or Recall)\n",
        "sensitivity = tp / (tp + fn)\n",
        "\n",
        "# Specificity (True Negative Rate)\n",
        "specificity = tn / (tn + fp)\n",
        "\n",
        "print(\"Sensitivity:\", sensitivity)\n",
        "print(\"Specificity:\", specificity)"
      ],
      "metadata": {
        "id": "-KF1RHZCYV6F",
        "colab": {
          "base_uri": "https://localhost:8080/"
        },
        "outputId": "cbac7713-59b6-4b36-b2f1-6165bb52ce3f"
      },
      "execution_count": null,
      "outputs": [
        {
          "output_type": "stream",
          "name": "stdout",
          "text": [
            "Sensitivity: 1.0\n",
            "Specificity: 0.9769230769230769\n"
          ]
        }
      ]
    },
    {
      "cell_type": "code",
      "source": [
        "plt.figure(figsize=(4, 3))\n",
        "sns.set(font_scale=1.2)\n",
        "sns.heatmap(cm, annot=True, fmt='d', cmap='Blues', annot_kws={\"size\": 16}, cbar=False)\n",
        "plt.xlabel('Predicted')\n",
        "plt.ylabel('True')\n",
        "plt.title('Confusion Matrix')\n",
        "plt.show()"
      ],
      "metadata": {
        "id": "osxa0jkOYbzD",
        "colab": {
          "base_uri": "https://localhost:8080/",
          "height": 347
        },
        "outputId": "03e00103-bc8b-478e-8137-7c58ec94eee5"
      },
      "execution_count": null,
      "outputs": [
        {
          "output_type": "display_data",
          "data": {
            "text/plain": [
              "<Figure size 400x300 with 1 Axes>"
            ],
            "image/png": "[encoded data removed]"
          },
          "metadata": {}
        }
      ]
    }
  ]
}