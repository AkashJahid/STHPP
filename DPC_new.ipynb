{
  "cells": [
    {
      "cell_type": "markdown",
      "metadata": {
        "id": "view-in-github",
        "colab_type": "text"
      },
      "source": [
        "<a href=\"https://colab.research.google.com/github/AkashJahid/STHPP/blob/main/DPC_new.ipynb\" target=\"_parent\"><img src=\"https://colab.research.google.com/assets/colab-badge.svg\" alt=\"Open In Colab\"/></a>"
      ]
    },
    {
      "cell_type": "code",
      "execution_count": null,
      "metadata": {
        "id": "UNwU9Hqo8BDB"
      },
      "outputs": [],
      "source": [
        "import pandas as pd\n",
        "import numpy as np\n",
        "import matplotlib.pyplot as plt\n",
        "import seaborn as sns"
      ]
    },
    {
      "cell_type": "markdown",
      "metadata": {
        "id": "Gpa5oy2imYTv"
      },
      "source": [
        "# New Section"
      ]
    },
    {
      "cell_type": "code",
      "execution_count": null,
      "metadata": {
        "colab": {
          "base_uri": "https://localhost:8080/"
        },
        "id": "4YZnVRVWog1w",
        "outputId": "a9f6391a-6c10-4432-e833-d0a20790a0d6"
      },
      "outputs": [
        {
          "output_type": "stream",
          "name": "stdout",
          "text": [
            "Requirement already satisfied: catboost in /usr/local/lib/python3.10/dist-packages (1.2.2)\n",
            "Requirement already satisfied: graphviz in /usr/local/lib/python3.10/dist-packages (from catboost) (0.20.1)\n",
            "Requirement already satisfied: matplotlib in /usr/local/lib/python3.10/dist-packages (from catboost) (3.7.1)\n",
            "Requirement already satisfied: numpy>=1.16.0 in /usr/local/lib/python3.10/dist-packages (from catboost) (1.23.5)\n",
            "Requirement already satisfied: pandas>=0.24 in /usr/local/lib/python3.10/dist-packages (from catboost) (1.5.3)\n",
            "Requirement already satisfied: scipy in /usr/local/lib/python3.10/dist-packages (from catboost) (1.11.4)\n",
            "Requirement already satisfied: plotly in /usr/local/lib/python3.10/dist-packages (from catboost) (5.15.0)\n",
            "Requirement already satisfied: six in /usr/local/lib/python3.10/dist-packages (from catboost) (1.16.0)\n",
            "Requirement already satisfied: python-dateutil>=2.8.1 in /usr/local/lib/python3.10/dist-packages (from pandas>=0.24->catboost) (2.8.2)\n",
            "Requirement already satisfied: pytz>=2020.1 in /usr/local/lib/python3.10/dist-packages (from pandas>=0.24->catboost) (2023.3.post1)\n",
            "Requirement already satisfied: contourpy>=1.0.1 in /usr/local/lib/python3.10/dist-packages (from matplotlib->catboost) (1.2.0)\n",
            "Requirement already satisfied: cycler>=0.10 in /usr/local/lib/python3.10/dist-packages (from matplotlib->catboost) (0.12.1)\n",
            "Requirement already satisfied: fonttools>=4.22.0 in /usr/local/lib/python3.10/dist-packages (from matplotlib->catboost) (4.46.0)\n",
            "Requirement already satisfied: kiwisolver>=1.0.1 in /usr/local/lib/python3.10/dist-packages (from matplotlib->catboost) (1.4.5)\n",
            "Requirement already satisfied: packaging>=20.0 in /usr/local/lib/python3.10/dist-packages (from matplotlib->catboost) (23.2)\n",
            "Requirement already satisfied: pillow>=6.2.0 in /usr/local/lib/python3.10/dist-packages (from matplotlib->catboost) (9.4.0)\n",
            "Requirement already satisfied: pyparsing>=2.3.1 in /usr/local/lib/python3.10/dist-packages (from matplotlib->catboost) (3.1.1)\n",
            "Requirement already satisfied: tenacity>=6.2.0 in /usr/local/lib/python3.10/dist-packages (from plotly->catboost) (8.2.3)\n"
          ]
        }
      ],
      "source": [
        "!pip install catboost"
      ]
    },
    {
      "cell_type": "code",
      "execution_count": null,
      "metadata": {
        "id": "GsTt3G3j8N3E"
      },
      "outputs": [],
      "source": [
        "from sklearn.ensemble import RandomForestClassifier\n",
        "from xgboost import XGBClassifier\n",
        "from lightgbm import LGBMClassifier\n",
        "from catboost import CatBoostClassifier\n",
        "from sklearn.ensemble import StackingClassifier\n",
        "from sklearn.model_selection import train_test_split\n",
        "from sklearn.metrics import accuracy_score, f1_score, precision_score, recall_score, confusion_matrix\n",
        "from sklearn.model_selection import KFold\n",
        "from sklearn.model_selection import cross_val_score, cross_val_predict\n",
        "from sklearn.metrics import matthews_corrcoef"
      ]
    },
    {
      "cell_type": "code",
      "execution_count": null,
      "metadata": {
        "id": "ZXwa4LHk8q-7"
      },
      "outputs": [],
      "source": [
        "df_tr = pd.read_csv('/content/DPC Training.csv')\n",
        "df_ts = pd.read_csv('/content/dpc testing.csv')"
      ]
    },
    {
      "cell_type": "code",
      "execution_count": null,
      "metadata": {
        "id": "wj2nndOt87wW"
      },
      "outputs": [],
      "source": [
        "columns = df_tr.columns.tolist()\n",
        "columns = [c for c in columns if c not in ['Target']]\n",
        "target = 'Target'\n",
        "xtrain = df_tr[columns]\n",
        "ytrain = df_tr[target]"
      ]
    },
    {
      "cell_type": "code",
      "execution_count": null,
      "metadata": {
        "id": "iNjNxTMe9EdD"
      },
      "outputs": [],
      "source": [
        "columns = df_ts.columns.tolist()\n",
        "columns = [c for c in columns if c not in ['Target']]\n",
        "target = 'Target'\n",
        "xtest = df_ts[columns]\n",
        "ytest = df_ts[target]"
      ]
    },
    {
      "cell_type": "markdown",
      "metadata": {
        "id": "UDK9QomH-EJc"
      },
      "source": [
        "**Cross Valadiation**"
      ]
    },
    {
      "cell_type": "code",
      "execution_count": null,
      "metadata": {
        "id": "QUU4L6P69OhB"
      },
      "outputs": [],
      "source": [
        "cv = KFold(n_splits=5, random_state=1, shuffle=True)"
      ]
    },
    {
      "cell_type": "markdown",
      "metadata": {
        "id": "J3x6b1r0Hjmg"
      },
      "source": [
        "algorithm define : **Random Forest**"
      ]
    },
    {
      "cell_type": "code",
      "execution_count": null,
      "metadata": {
        "id": "cXfxYhS59cRK"
      },
      "outputs": [],
      "source": [
        "model = RandomForestClassifier(n_estimators = 500, max_depth = 50)"
      ]
    },
    {
      "cell_type": "code",
      "execution_count": null,
      "metadata": {
        "id": "1kZyX4IK9lo_"
      },
      "outputs": [],
      "source": [
        "pred = cross_val_predict(model, xtrain, ytrain, cv=cv, n_jobs=-1)"
      ]
    },
    {
      "cell_type": "code",
      "execution_count": null,
      "metadata": {
        "colab": {
          "base_uri": "https://localhost:8080/"
        },
        "id": "e7JuJOpg91Iz",
        "outputId": "5c114da0-692b-4ffa-f2f3-a2250419a10c"
      },
      "outputs": [
        {
          "data": {
            "text/plain": [
              "(0.8868288914638857, 0.8780276816608996, 0.869751499571551, 0.8738699956952217)"
            ]
          },
          "execution_count": 10,
          "metadata": {},
          "output_type": "execute_result"
        }
      ],
      "source": [
        "accuracy_score(ytrain,pred), precision_score(ytrain, pred), recall_score(ytrain, pred), f1_score(ytrain, pred)"
      ]
    },
    {
      "cell_type": "code",
      "source": [
        "mcc = matthews_corrcoef(ytrain, pred)\n",
        "mcc"
      ],
      "metadata": {
        "colab": {
          "base_uri": "https://localhost:8080/"
        },
        "id": "h-9iUffjISHh",
        "outputId": "b956c3ce-dda0-4db3-beee-b253bab0428c"
      },
      "execution_count": null,
      "outputs": [
        {
          "output_type": "execute_result",
          "data": {
            "text/plain": [
              "0.7665226672159271"
            ]
          },
          "metadata": {},
          "execution_count": 22
        }
      ]
    },
    {
      "cell_type": "code",
      "execution_count": null,
      "metadata": {
        "id": "Z-jieOmjB4xZ"
      },
      "outputs": [],
      "source": [
        "cm = confusion_matrix(ytrain,pred)"
      ]
    },
    {
      "cell_type": "code",
      "execution_count": null,
      "metadata": {
        "colab": {
          "base_uri": "https://localhost:8080/"
        },
        "id": "vIFdEoY8O3QW",
        "outputId": "65db02e9-9873-475d-b19a-e305095518cb"
      },
      "outputs": [
        {
          "data": {
            "text/plain": [
              "array([[1281,  141],\n",
              "       [ 152, 1015]])"
            ]
          },
          "execution_count": 12,
          "metadata": {},
          "output_type": "execute_result"
        }
      ],
      "source": [
        "cm"
      ]
    },
    {
      "cell_type": "code",
      "execution_count": null,
      "metadata": {
        "colab": {
          "base_uri": "https://localhost:8080/"
        },
        "id": "PpADF6t2OoIq",
        "outputId": "44c72b5d-5ebe-4d7c-973b-d0a61ee1d431"
      },
      "outputs": [
        {
          "name": "stdout",
          "output_type": "stream",
          "text": [
            "Sensitivity: 0.869751499571551\n",
            "Specificity: 0.9008438818565401\n"
          ]
        }
      ],
      "source": [
        "# True Positives (TP)\n",
        "tp = cm[1, 1]\n",
        "\n",
        "# True Negatives (TN)\n",
        "tn = cm[0, 0]\n",
        "\n",
        "# False Positives (FP)\n",
        "fp = cm[0, 1]\n",
        "\n",
        "# False Negatives (FN)\n",
        "fn = cm[1, 0]\n",
        "\n",
        "# Sensitivity (True Positive Rate or Recall)\n",
        "sensitivity = tp / (tp + fn)\n",
        "\n",
        "# Specificity (True Negative Rate)\n",
        "specificity = tn / (tn + fp)\n",
        "\n",
        "print(\"Sensitivity:\", sensitivity)\n",
        "print(\"Specificity:\", specificity)"
      ]
    },
    {
      "cell_type": "code",
      "execution_count": null,
      "metadata": {
        "colab": {
          "base_uri": "https://localhost:8080/",
          "height": 347
        },
        "id": "_UeBb_t3Qpvr",
        "outputId": "4971b147-dfca-42f5-dfaf-a5abdcfe1783"
      },
      "outputs": [
        {
          "data": {
            "image/png": "[encoded data removed]",
            "text/plain": [
              "<Figure size 400x300 with 1 Axes>"
            ]
          },
          "metadata": {},
          "output_type": "display_data"
        }
      ],
      "source": [
        "plt.figure(figsize=(4, 3))\n",
        "sns.set(font_scale=1.2)\n",
        "sns.heatmap(cm, annot=True, fmt='d', cmap='Blues', annot_kws={\"size\": 16}, cbar=False)\n",
        "plt.xlabel('Predicted')\n",
        "plt.ylabel('True')\n",
        "plt.title('Confusion Matrix')\n",
        "plt.show()"
      ]
    },
    {
      "cell_type": "markdown",
      "metadata": {
        "id": "482WRLy2-JFm"
      },
      "source": [
        "**Independent Test**"
      ]
    },
    {
      "cell_type": "code",
      "execution_count": null,
      "metadata": {
        "colab": {
          "base_uri": "https://localhost:8080/",
          "height": 75
        },
        "id": "o9lh2TH5-NUW",
        "outputId": "669da04c-3885-4447-ab1e-010c878af232"
      },
      "outputs": [
        {
          "output_type": "execute_result",
          "data": {
            "text/plain": [
              "RandomForestClassifier(max_depth=50, n_estimators=500)"
            ],
            "text/html": [
              "<style>#sk-container-id-1 {color: black;background-color: white;}#sk-container-id-1 pre{padding: 0;}#sk-container-id-1 div.sk-toggleable {background-color: white;}#sk-container-id-1 label.sk-toggleable__label {cursor: pointer;display: block;width: 100%;margin-bottom: 0;padding: 0.3em;box-sizing: border-box;text-align: center;}#sk-container-id-1 label.sk-toggleable__label-arrow:before {content: \"▸\";float: left;margin-right: 0.25em;color: #696969;}#sk-container-id-1 label.sk-toggleable__label-arrow:hover:before {color: black;}#sk-container-id-1 div.sk-estimator:hover label.sk-toggleable__label-arrow:before {color: black;}#sk-container-id-1 div.sk-toggleable__content {max-height: 0;max-width: 0;overflow: hidden;text-align: left;background-color: #f0f8ff;}#sk-container-id-1 div.sk-toggleable__content pre {margin: 0.2em;color: black;border-radius: 0.25em;background-color: #f0f8ff;}#sk-container-id-1 input.sk-toggleable__control:checked~div.sk-toggleable__content {max-height: 200px;max-width: 100%;overflow: auto;}#sk-container-id-1 input.sk-toggleable__control:checked~label.sk-toggleable__label-arrow:before {content: \"▾\";}#sk-container-id-1 div.sk-estimator input.sk-toggleable__control:checked~label.sk-toggleable__label {background-color: #d4ebff;}#sk-container-id-1 div.sk-label input.sk-toggleable__control:checked~label.sk-toggleable__label {background-color: #d4ebff;}#sk-container-id-1 input.sk-hidden--visually {border: 0;clip: rect(1px 1px 1px 1px);clip: rect(1px, 1px, 1px, 1px);height: 1px;margin: -1px;overflow: hidden;padding: 0;position: absolute;width: 1px;}#sk-container-id-1 div.sk-estimator {font-family: monospace;background-color: #f0f8ff;border: 1px dotted black;border-radius: 0.25em;box-sizing: border-box;margin-bottom: 0.5em;}#sk-container-id-1 div.sk-estimator:hover {background-color: #d4ebff;}#sk-container-id-1 div.sk-parallel-item::after {content: \"\";width: 100%;border-bottom: 1px solid gray;flex-grow: 1;}#sk-container-id-1 div.sk-label:hover label.sk-toggleable__label {background-color: #d4ebff;}#sk-container-id-1 div.sk-serial::before {content: \"\";position: absolute;border-left: 1px solid gray;box-sizing: border-box;top: 0;bottom: 0;left: 50%;z-index: 0;}#sk-container-id-1 div.sk-serial {display: flex;flex-direction: column;align-items: center;background-color: white;padding-right: 0.2em;padding-left: 0.2em;position: relative;}#sk-container-id-1 div.sk-item {position: relative;z-index: 1;}#sk-container-id-1 div.sk-parallel {display: flex;align-items: stretch;justify-content: center;background-color: white;position: relative;}#sk-container-id-1 div.sk-item::before, #sk-container-id-1 div.sk-parallel-item::before {content: \"\";position: absolute;border-left: 1px solid gray;box-sizing: border-box;top: 0;bottom: 0;left: 50%;z-index: -1;}#sk-container-id-1 div.sk-parallel-item {display: flex;flex-direction: column;z-index: 1;position: relative;background-color: white;}#sk-container-id-1 div.sk-parallel-item:first-child::after {align-self: flex-end;width: 50%;}#sk-container-id-1 div.sk-parallel-item:last-child::after {align-self: flex-start;width: 50%;}#sk-container-id-1 div.sk-parallel-item:only-child::after {width: 0;}#sk-container-id-1 div.sk-dashed-wrapped {border: 1px dashed gray;margin: 0 0.4em 0.5em 0.4em;box-sizing: border-box;padding-bottom: 0.4em;background-color: white;}#sk-container-id-1 div.sk-label label {font-family: monospace;font-weight: bold;display: inline-block;line-height: 1.2em;}#sk-container-id-1 div.sk-label-container {text-align: center;}#sk-container-id-1 div.sk-container {/* jupyter's `normalize.less` sets `[hidden] { display: none; }` but bootstrap.min.css set `[hidden] { display: none !important; }` so we also need the `!important` here to be able to override the default hidden behavior on the sphinx rendered scikit-learn.org. See: https://github.com/scikit-learn/scikit-learn/issues/21755 */display: inline-block !important;position: relative;}#sk-container-id-1 div.sk-text-repr-fallback {display: none;}</style><div id=\"sk-container-id-1\" class=\"sk-top-container\"><div class=\"sk-text-repr-fallback\"><pre>RandomForestClassifier(max_depth=50, n_estimators=500)</pre><b>In a Jupyter environment, please rerun this cell to show the HTML representation or trust the notebook. <br />On GitHub, the HTML representation is unable to render, please try loading this page with nbviewer.org.</b></div><div class=\"sk-container\" hidden><div class=\"sk-item\"><div class=\"sk-estimator sk-toggleable\"><input class=\"sk-toggleable__control sk-hidden--visually\" id=\"sk-estimator-id-1\" type=\"checkbox\" checked><label for=\"sk-estimator-id-1\" class=\"sk-toggleable__label sk-toggleable__label-arrow\">RandomForestClassifier</label><div class=\"sk-toggleable__content\"><pre>RandomForestClassifier(max_depth=50, n_estimators=500)</pre></div></div></div></div></div>"
            ]
          },
          "metadata": {},
          "execution_count": 23
        }
      ],
      "source": [
        "model.fit(xtrain, ytrain)"
      ]
    },
    {
      "cell_type": "code",
      "execution_count": null,
      "metadata": {
        "id": "Fxz2HxrK-UmI"
      },
      "outputs": [],
      "source": [
        "pred = model.predict(xtest)"
      ]
    },
    {
      "cell_type": "code",
      "execution_count": null,
      "metadata": {
        "colab": {
          "base_uri": "https://localhost:8080/"
        },
        "id": "VbO4vfmz-aCQ",
        "outputId": "f6ceef9d-7727-43d8-dc63-2bd3bb56325c"
      },
      "outputs": [
        {
          "data": {
            "text/plain": [
              "(0.9384615384615385,\n",
              " 0.9384615384615385,\n",
              " 0.9384615384615385,\n",
              " 0.9384615384615385)"
            ]
          },
          "execution_count": 17,
          "metadata": {},
          "output_type": "execute_result"
        }
      ],
      "source": [
        "accuracy_score(ytest,pred), precision_score(ytest, pred), recall_score(ytest, pred), f1_score(ytest, pred)"
      ]
    },
    {
      "cell_type": "code",
      "source": [
        "mcc = matthews_corrcoef(ytest, pred)\n",
        "mcc"
      ],
      "metadata": {
        "colab": {
          "base_uri": "https://localhost:8080/"
        },
        "id": "drdBS2nIWsWk",
        "outputId": "ae22863d-2c62-4e57-f8f0-683eeb2958a2"
      },
      "execution_count": null,
      "outputs": [
        {
          "output_type": "execute_result",
          "data": {
            "text/plain": [
              "0.8773384834252591"
            ]
          },
          "metadata": {},
          "execution_count": 25
        }
      ]
    },
    {
      "cell_type": "code",
      "execution_count": null,
      "metadata": {
        "id": "NhyWAysPCLhd"
      },
      "outputs": [],
      "source": [
        "cm=confusion_matrix(ytest,pred)"
      ]
    },
    {
      "cell_type": "code",
      "execution_count": null,
      "metadata": {
        "colab": {
          "base_uri": "https://localhost:8080/"
        },
        "id": "WI3lOl95R2pT",
        "outputId": "1da84a72-225b-4d52-93ca-4f2791a855c4"
      },
      "outputs": [
        {
          "data": {
            "text/plain": [
              "array([[122,   8],\n",
              "       [  8, 122]])"
            ]
          },
          "execution_count": 19,
          "metadata": {},
          "output_type": "execute_result"
        }
      ],
      "source": [
        "cm"
      ]
    },
    {
      "cell_type": "code",
      "execution_count": null,
      "metadata": {
        "colab": {
          "base_uri": "https://localhost:8080/"
        },
        "id": "JCdmO2fIRbAa",
        "outputId": "99591723-eae1-402d-b4a4-e0c0ae0955ae"
      },
      "outputs": [
        {
          "name": "stdout",
          "output_type": "stream",
          "text": [
            "Sensitivity: 0.9384615384615385\n",
            "Specificity: 0.9384615384615385\n"
          ]
        }
      ],
      "source": [
        "# True Positives (TP)\n",
        "tp = cm[1, 1]\n",
        "\n",
        "# True Negatives (TN)\n",
        "tn = cm[0, 0]\n",
        "\n",
        "# False Positives (FP)\n",
        "fp = cm[0, 1]\n",
        "\n",
        "# False Negatives (FN)\n",
        "fn = cm[1, 0]\n",
        "\n",
        "# Sensitivity (True Positive Rate or Recall)\n",
        "sensitivity = tp / (tp + fn)\n",
        "\n",
        "# Specificity (True Negative Rate)\n",
        "specificity = tn / (tn + fp)\n",
        "\n",
        "print(\"Sensitivity:\", sensitivity)\n",
        "print(\"Specificity:\", specificity)"
      ]
    },
    {
      "cell_type": "code",
      "execution_count": null,
      "metadata": {
        "colab": {
          "base_uri": "https://localhost:8080/",
          "height": 347
        },
        "id": "DIY_Gmv5SAHX",
        "outputId": "98ae6e9a-6bd3-48b1-d518-46b8068d0ef3"
      },
      "outputs": [
        {
          "data": {
            "image/png": "[encoded data removed]",
            "text/plain": [
              "<Figure size 400x300 with 1 Axes>"
            ]
          },
          "metadata": {},
          "output_type": "display_data"
        }
      ],
      "source": [
        "plt.figure(figsize=(4, 3))\n",
        "sns.set(font_scale=1.2)\n",
        "sns.heatmap(cm, annot=True, fmt='d', cmap='Blues', annot_kws={\"size\": 16}, cbar=False)\n",
        "plt.xlabel('Predicted')\n",
        "plt.ylabel('True')\n",
        "plt.title('Confusion Matrix')\n",
        "plt.show()"
      ]
    },
    {
      "cell_type": "markdown",
      "metadata": {
        "id": "FzcgpfXueoCF"
      },
      "source": [
        "xb booster"
      ]
    },
    {
      "cell_type": "code",
      "execution_count": null,
      "metadata": {
        "id": "0qvw83Ocer5M"
      },
      "outputs": [],
      "source": [
        "model = XGBClassifier(n_estimators = 500,max_depth = 7, base_score = 0.88, learning_rate = 0.2)\n"
      ]
    },
    {
      "cell_type": "code",
      "execution_count": null,
      "metadata": {
        "id": "tp8Q-UP_fCq8"
      },
      "outputs": [],
      "source": [
        "pred = cross_val_predict(model, xtrain, ytrain, cv=cv, n_jobs=-1)"
      ]
    },
    {
      "cell_type": "markdown",
      "metadata": {
        "id": "trc_2wW-gir7"
      },
      "source": [
        "Cross Valadiation"
      ]
    },
    {
      "cell_type": "code",
      "execution_count": null,
      "metadata": {
        "colab": {
          "base_uri": "https://localhost:8080/"
        },
        "id": "_EDAEH8XfJOn",
        "outputId": "b3194186-fcf8-408f-fe57-83f7ee4892ff"
      },
      "outputs": [
        {
          "data": {
            "text/plain": [
              "(0.9061413673232909,\n",
              " 0.8660855784469097,\n",
              " 0.9365895458440445,\n",
              " 0.8999588307945656)"
            ]
          },
          "execution_count": 24,
          "metadata": {},
          "output_type": "execute_result"
        }
      ],
      "source": [
        "accuracy_score(ytrain,pred), precision_score(ytrain, pred), recall_score(ytrain, pred), f1_score(ytrain, pred)"
      ]
    },
    {
      "cell_type": "code",
      "source": [
        "mcc = matthews_corrcoef(ytrain, pred)\n",
        "mcc"
      ],
      "metadata": {
        "colab": {
          "base_uri": "https://localhost:8080/"
        },
        "id": "5MU9ALAZW_to",
        "outputId": "4dd67a79-929f-4ddb-d50f-3daf04b9e784"
      },
      "execution_count": null,
      "outputs": [
        {
          "output_type": "execute_result",
          "data": {
            "text/plain": [
              "0.8133077370325277"
            ]
          },
          "metadata": {},
          "execution_count": 28
        }
      ]
    },
    {
      "cell_type": "code",
      "execution_count": null,
      "metadata": {
        "id": "60ANTFaNiQSB"
      },
      "outputs": [],
      "source": [
        "cm = confusion_matrix(ytrain,pred)"
      ]
    },
    {
      "cell_type": "code",
      "execution_count": null,
      "metadata": {
        "colab": {
          "base_uri": "https://localhost:8080/"
        },
        "id": "IBHD-59bSgsB",
        "outputId": "c80c610c-30ca-4b49-92db-c45b6e389f18"
      },
      "outputs": [
        {
          "data": {
            "text/plain": [
              "array([[1253,  169],\n",
              "       [  74, 1093]])"
            ]
          },
          "execution_count": 26,
          "metadata": {},
          "output_type": "execute_result"
        }
      ],
      "source": [
        "cm"
      ]
    },
    {
      "cell_type": "code",
      "execution_count": null,
      "metadata": {
        "colab": {
          "base_uri": "https://localhost:8080/"
        },
        "id": "1JZDqCuoSivt",
        "outputId": "3e083eb1-d1ae-470c-bad9-c63310380b1f"
      },
      "outputs": [
        {
          "name": "stdout",
          "output_type": "stream",
          "text": [
            "Sensitivity: 0.9365895458440445\n",
            "Specificity: 0.8811533052039381\n"
          ]
        }
      ],
      "source": [
        "# True Positives (TP)\n",
        "tp = cm[1, 1]\n",
        "\n",
        "# True Negatives (TN)\n",
        "tn = cm[0, 0]\n",
        "\n",
        "# False Positives (FP)\n",
        "fp = cm[0, 1]\n",
        "\n",
        "# False Negatives (FN)\n",
        "fn = cm[1, 0]\n",
        "\n",
        "# Sensitivity (True Positive Rate or Recall)\n",
        "sensitivity = tp / (tp + fn)\n",
        "\n",
        "# Specificity (True Negative Rate)\n",
        "specificity = tn / (tn + fp)\n",
        "\n",
        "print(\"Sensitivity:\", sensitivity)\n",
        "print(\"Specificity:\", specificity)"
      ]
    },
    {
      "cell_type": "code",
      "execution_count": null,
      "metadata": {
        "colab": {
          "base_uri": "https://localhost:8080/",
          "height": 347
        },
        "id": "I-O25x72Sn41",
        "outputId": "fca184b1-0c73-449c-eb92-c7839c8466ef"
      },
      "outputs": [
        {
          "data": {
            "image/png": "[encoded data removed]",
            "text/plain": [
              "<Figure size 400x300 with 1 Axes>"
            ]
          },
          "metadata": {},
          "output_type": "display_data"
        }
      ],
      "source": [
        "plt.figure(figsize=(4, 3))\n",
        "sns.set(font_scale=1.2)\n",
        "sns.heatmap(cm, annot=True, fmt='d', cmap='Blues', annot_kws={\"size\": 16}, cbar=False)\n",
        "plt.xlabel('Predicted')\n",
        "plt.ylabel('True')\n",
        "plt.title('Confusion Matrix')\n",
        "plt.show()"
      ]
    },
    {
      "cell_type": "markdown",
      "metadata": {
        "id": "hvLiCdEQgfx3"
      },
      "source": [
        "indipendent test"
      ]
    },
    {
      "cell_type": "code",
      "execution_count": null,
      "metadata": {
        "colab": {
          "base_uri": "https://localhost:8080/",
          "height": 248
        },
        "id": "VNZez6znfLYM",
        "outputId": "ca70526e-1e0e-48ae-cfdc-db89eca55551"
      },
      "outputs": [
        {
          "output_type": "execute_result",
          "data": {
            "text/plain": [
              "XGBClassifier(base_score=0.88, booster=None, callbacks=None,\n",
              "              colsample_bylevel=None, colsample_bynode=None,\n",
              "              colsample_bytree=None, device=None, early_stopping_rounds=None,\n",
              "              enable_categorical=False, eval_metric=None, feature_types=None,\n",
              "              gamma=None, grow_policy=None, importance_type=None,\n",
              "              interaction_constraints=None, learning_rate=0.2, max_bin=None,\n",
              "              max_cat_threshold=None, max_cat_to_onehot=None,\n",
              "              max_delta_step=None, max_depth=7, max_leaves=None,\n",
              "              min_child_weight=None, missing=nan, monotone_constraints=None,\n",
              "              multi_strategy=None, n_estimators=500, n_jobs=None,\n",
              "              num_parallel_tree=None, random_state=None, ...)"
            ],
            "text/html": [
              "<style>#sk-container-id-2 {color: black;background-color: white;}#sk-container-id-2 pre{padding: 0;}#sk-container-id-2 div.sk-toggleable {background-color: white;}#sk-container-id-2 label.sk-toggleable__label {cursor: pointer;display: block;width: 100%;margin-bottom: 0;padding: 0.3em;box-sizing: border-box;text-align: center;}#sk-container-id-2 label.sk-toggleable__label-arrow:before {content: \"▸\";float: left;margin-right: 0.25em;color: #696969;}#sk-container-id-2 label.sk-toggleable__label-arrow:hover:before {color: black;}#sk-container-id-2 div.sk-estimator:hover label.sk-toggleable__label-arrow:before {color: black;}#sk-container-id-2 div.sk-toggleable__content {max-height: 0;max-width: 0;overflow: hidden;text-align: left;background-color: #f0f8ff;}#sk-container-id-2 div.sk-toggleable__content pre {margin: 0.2em;color: black;border-radius: 0.25em;background-color: #f0f8ff;}#sk-container-id-2 input.sk-toggleable__control:checked~div.sk-toggleable__content {max-height: 200px;max-width: 100%;overflow: auto;}#sk-container-id-2 input.sk-toggleable__control:checked~label.sk-toggleable__label-arrow:before {content: \"▾\";}#sk-container-id-2 div.sk-estimator input.sk-toggleable__control:checked~label.sk-toggleable__label {background-color: #d4ebff;}#sk-container-id-2 div.sk-label input.sk-toggleable__control:checked~label.sk-toggleable__label {background-color: #d4ebff;}#sk-container-id-2 input.sk-hidden--visually {border: 0;clip: rect(1px 1px 1px 1px);clip: rect(1px, 1px, 1px, 1px);height: 1px;margin: -1px;overflow: hidden;padding: 0;position: absolute;width: 1px;}#sk-container-id-2 div.sk-estimator {font-family: monospace;background-color: #f0f8ff;border: 1px dotted black;border-radius: 0.25em;box-sizing: border-box;margin-bottom: 0.5em;}#sk-container-id-2 div.sk-estimator:hover {background-color: #d4ebff;}#sk-container-id-2 div.sk-parallel-item::after {content: \"\";width: 100%;border-bottom: 1px solid gray;flex-grow: 1;}#sk-container-id-2 div.sk-label:hover label.sk-toggleable__label {background-color: #d4ebff;}#sk-container-id-2 div.sk-serial::before {content: \"\";position: absolute;border-left: 1px solid gray;box-sizing: border-box;top: 0;bottom: 0;left: 50%;z-index: 0;}#sk-container-id-2 div.sk-serial {display: flex;flex-direction: column;align-items: center;background-color: white;padding-right: 0.2em;padding-left: 0.2em;position: relative;}#sk-container-id-2 div.sk-item {position: relative;z-index: 1;}#sk-container-id-2 div.sk-parallel {display: flex;align-items: stretch;justify-content: center;background-color: white;position: relative;}#sk-container-id-2 div.sk-item::before, #sk-container-id-2 div.sk-parallel-item::before {content: \"\";position: absolute;border-left: 1px solid gray;box-sizing: border-box;top: 0;bottom: 0;left: 50%;z-index: -1;}#sk-container-id-2 div.sk-parallel-item {display: flex;flex-direction: column;z-index: 1;position: relative;background-color: white;}#sk-container-id-2 div.sk-parallel-item:first-child::after {align-self: flex-end;width: 50%;}#sk-container-id-2 div.sk-parallel-item:last-child::after {align-self: flex-start;width: 50%;}#sk-container-id-2 div.sk-parallel-item:only-child::after {width: 0;}#sk-container-id-2 div.sk-dashed-wrapped {border: 1px dashed gray;margin: 0 0.4em 0.5em 0.4em;box-sizing: border-box;padding-bottom: 0.4em;background-color: white;}#sk-container-id-2 div.sk-label label {font-family: monospace;font-weight: bold;display: inline-block;line-height: 1.2em;}#sk-container-id-2 div.sk-label-container {text-align: center;}#sk-container-id-2 div.sk-container {/* jupyter's `normalize.less` sets `[hidden] { display: none; }` but bootstrap.min.css set `[hidden] { display: none !important; }` so we also need the `!important` here to be able to override the default hidden behavior on the sphinx rendered scikit-learn.org. See: https://github.com/scikit-learn/scikit-learn/issues/21755 */display: inline-block !important;position: relative;}#sk-container-id-2 div.sk-text-repr-fallback {display: none;}</style><div id=\"sk-container-id-2\" class=\"sk-top-container\"><div class=\"sk-text-repr-fallback\"><pre>XGBClassifier(base_score=0.88, booster=None, callbacks=None,\n",
              "              colsample_bylevel=None, colsample_bynode=None,\n",
              "              colsample_bytree=None, device=None, early_stopping_rounds=None,\n",
              "              enable_categorical=False, eval_metric=None, feature_types=None,\n",
              "              gamma=None, grow_policy=None, importance_type=None,\n",
              "              interaction_constraints=None, learning_rate=0.2, max_bin=None,\n",
              "              max_cat_threshold=None, max_cat_to_onehot=None,\n",
              "              max_delta_step=None, max_depth=7, max_leaves=None,\n",
              "              min_child_weight=None, missing=nan, monotone_constraints=None,\n",
              "              multi_strategy=None, n_estimators=500, n_jobs=None,\n",
              "              num_parallel_tree=None, random_state=None, ...)</pre><b>In a Jupyter environment, please rerun this cell to show the HTML representation or trust the notebook. <br />On GitHub, the HTML representation is unable to render, please try loading this page with nbviewer.org.</b></div><div class=\"sk-container\" hidden><div class=\"sk-item\"><div class=\"sk-estimator sk-toggleable\"><input class=\"sk-toggleable__control sk-hidden--visually\" id=\"sk-estimator-id-2\" type=\"checkbox\" checked><label for=\"sk-estimator-id-2\" class=\"sk-toggleable__label sk-toggleable__label-arrow\">XGBClassifier</label><div class=\"sk-toggleable__content\"><pre>XGBClassifier(base_score=0.88, booster=None, callbacks=None,\n",
              "              colsample_bylevel=None, colsample_bynode=None,\n",
              "              colsample_bytree=None, device=None, early_stopping_rounds=None,\n",
              "              enable_categorical=False, eval_metric=None, feature_types=None,\n",
              "              gamma=None, grow_policy=None, importance_type=None,\n",
              "              interaction_constraints=None, learning_rate=0.2, max_bin=None,\n",
              "              max_cat_threshold=None, max_cat_to_onehot=None,\n",
              "              max_delta_step=None, max_depth=7, max_leaves=None,\n",
              "              min_child_weight=None, missing=nan, monotone_constraints=None,\n",
              "              multi_strategy=None, n_estimators=500, n_jobs=None,\n",
              "              num_parallel_tree=None, random_state=None, ...)</pre></div></div></div></div></div>"
            ]
          },
          "metadata": {},
          "execution_count": 29
        }
      ],
      "source": [
        "model.fit(xtrain, ytrain)"
      ]
    },
    {
      "cell_type": "code",
      "execution_count": null,
      "metadata": {
        "id": "ME5IKMTyhSBH"
      },
      "outputs": [],
      "source": [
        "pred = model.predict(xtest)"
      ]
    },
    {
      "cell_type": "code",
      "execution_count": null,
      "metadata": {
        "colab": {
          "base_uri": "https://localhost:8080/"
        },
        "id": "vqn8dIedhYzv",
        "outputId": "ec60cd39-dead-47b7-ef03-45e179c080b7"
      },
      "outputs": [
        {
          "data": {
            "text/plain": [
              "(0.9653846153846154,\n",
              " 0.9416058394160584,\n",
              " 0.9923076923076923,\n",
              " 0.9662921348314606)"
            ]
          },
          "execution_count": 31,
          "metadata": {},
          "output_type": "execute_result"
        }
      ],
      "source": [
        "accuracy_score(ytest,pred), precision_score(ytest, pred), recall_score(ytest, pred), f1_score(ytest, pred)"
      ]
    },
    {
      "cell_type": "code",
      "source": [
        "mcc = matthews_corrcoef(ytest, pred)\n",
        "mcc"
      ],
      "metadata": {
        "colab": {
          "base_uri": "https://localhost:8080/"
        },
        "id": "43xZKDMNXG2M",
        "outputId": "8172ea72-36c0-4e7e-e389-bbbc45a0e909"
      },
      "execution_count": null,
      "outputs": [
        {
          "output_type": "execute_result",
          "data": {
            "text/plain": [
              "0.9321215121016421"
            ]
          },
          "metadata": {},
          "execution_count": 31
        }
      ]
    },
    {
      "cell_type": "code",
      "execution_count": null,
      "metadata": {
        "id": "RoAn0eixhfSR"
      },
      "outputs": [],
      "source": [
        "cm = confusion_matrix(ytest,pred)"
      ]
    },
    {
      "cell_type": "code",
      "execution_count": null,
      "metadata": {
        "colab": {
          "base_uri": "https://localhost:8080/"
        },
        "id": "tzeh2qzaSKyy",
        "outputId": "883a7e8e-4bc6-4a5d-e5c1-33166b38a09f"
      },
      "outputs": [
        {
          "data": {
            "text/plain": [
              "array([[122,   8],\n",
              "       [  1, 129]])"
            ]
          },
          "execution_count": 33,
          "metadata": {},
          "output_type": "execute_result"
        }
      ],
      "source": [
        "cm"
      ]
    },
    {
      "cell_type": "code",
      "execution_count": null,
      "metadata": {
        "colab": {
          "base_uri": "https://localhost:8080/"
        },
        "id": "0DgHq-ylSYUv",
        "outputId": "c096c498-c561-46b2-bd54-0ce3336a9876"
      },
      "outputs": [
        {
          "name": "stdout",
          "output_type": "stream",
          "text": [
            "Sensitivity: 0.9923076923076923\n",
            "Specificity: 0.9384615384615385\n"
          ]
        }
      ],
      "source": [
        "# True Positives (TP)\n",
        "tp = cm[1, 1]\n",
        "\n",
        "# True Negatives (TN)\n",
        "tn = cm[0, 0]\n",
        "\n",
        "# False Positives (FP)\n",
        "fp = cm[0, 1]\n",
        "\n",
        "# False Negatives (FN)\n",
        "fn = cm[1, 0]\n",
        "\n",
        "# Sensitivity (True Positive Rate or Recall)\n",
        "sensitivity = tp / (tp + fn)\n",
        "\n",
        "# Specificity (True Negative Rate)\n",
        "specificity = tn / (tn + fp)\n",
        "\n",
        "print(\"Sensitivity:\", sensitivity)\n",
        "print(\"Specificity:\", specificity)"
      ]
    },
    {
      "cell_type": "code",
      "execution_count": null,
      "metadata": {
        "colab": {
          "base_uri": "https://localhost:8080/",
          "height": 347
        },
        "id": "DcQKaDLcSLjX",
        "outputId": "70d07545-5c63-4db0-dd65-31d8524f2146"
      },
      "outputs": [
        {
          "data": {
            "image/png": "[encoded data removed]",
            "text/plain": [
              "<Figure size 400x300 with 1 Axes>"
            ]
          },
          "metadata": {},
          "output_type": "display_data"
        }
      ],
      "source": [
        "plt.figure(figsize=(4, 3))\n",
        "sns.set(font_scale=1.2)\n",
        "sns.heatmap(cm, annot=True, fmt='d', cmap='Blues', annot_kws={\"size\": 16}, cbar=False)\n",
        "plt.xlabel('Predicted')\n",
        "plt.ylabel('True')\n",
        "plt.title('Confusion Matrix')\n",
        "plt.show()"
      ]
    },
    {
      "cell_type": "markdown",
      "metadata": {
        "id": "nCdbfPGnitN-"
      },
      "source": [
        "**LGBM**"
      ]
    },
    {
      "cell_type": "code",
      "execution_count": null,
      "metadata": {
        "id": "WUYaa0Qci9PD"
      },
      "outputs": [],
      "source": [
        "model = LGBMClassifier(max_depth=7, learning_rate=0.5)"
      ]
    },
    {
      "cell_type": "code",
      "execution_count": null,
      "metadata": {
        "id": "Okv-MIVxjMd3"
      },
      "outputs": [],
      "source": [
        "pred = cross_val_predict(model, xtrain, ytrain, cv=cv, n_jobs=-1)"
      ]
    },
    {
      "cell_type": "code",
      "execution_count": null,
      "metadata": {
        "colab": {
          "base_uri": "https://localhost:8080/"
        },
        "id": "eZAdyYHIjP6w",
        "outputId": "8288bc11-e810-4b7a-c703-d0305865e407"
      },
      "outputs": [
        {
          "data": {
            "text/plain": [
              "(0.8933951332560834,\n",
              " 0.8595641646489104,\n",
              " 0.9125964010282777,\n",
              " 0.8852867830423939)"
            ]
          },
          "execution_count": 38,
          "metadata": {},
          "output_type": "execute_result"
        }
      ],
      "source": [
        "accuracy_score(ytrain,pred), precision_score(ytrain, pred), recall_score(ytrain, pred), f1_score(ytrain, pred)"
      ]
    },
    {
      "cell_type": "code",
      "source": [
        "mcc = matthews_corrcoef(ytrain, pred)\n",
        "mcc"
      ],
      "metadata": {
        "colab": {
          "base_uri": "https://localhost:8080/"
        },
        "id": "zS7Dvl2KXUSB",
        "outputId": "2fcfc830-4d12-4b86-8121-2c54e7f04301"
      },
      "execution_count": null,
      "outputs": [
        {
          "output_type": "execute_result",
          "data": {
            "text/plain": [
              "0.787114916736394"
            ]
          },
          "metadata": {},
          "execution_count": 34
        }
      ]
    },
    {
      "cell_type": "code",
      "execution_count": null,
      "metadata": {
        "id": "Y0qnDujljUYf"
      },
      "outputs": [],
      "source": [
        "cm = confusion_matrix(ytrain,pred)"
      ]
    },
    {
      "cell_type": "code",
      "execution_count": null,
      "metadata": {
        "colab": {
          "base_uri": "https://localhost:8080/"
        },
        "id": "ZEiVAVqbSvNh",
        "outputId": "70780776-97fb-4e17-df23-e7e820a944a1"
      },
      "outputs": [
        {
          "data": {
            "text/plain": [
              "array([[1248,  174],\n",
              "       [ 102, 1065]])"
            ]
          },
          "execution_count": 40,
          "metadata": {},
          "output_type": "execute_result"
        }
      ],
      "source": [
        "cm"
      ]
    },
    {
      "cell_type": "code",
      "execution_count": null,
      "metadata": {
        "colab": {
          "base_uri": "https://localhost:8080/"
        },
        "id": "mmcOXh8hSwg5",
        "outputId": "1d2f76f3-1b9d-42f0-dc32-83cbade2fdaf"
      },
      "outputs": [
        {
          "name": "stdout",
          "output_type": "stream",
          "text": [
            "Sensitivity: 0.9125964010282777\n",
            "Specificity: 0.8776371308016878\n"
          ]
        }
      ],
      "source": [
        "# True Positives (TP)\n",
        "tp = cm[1, 1]\n",
        "\n",
        "# True Negatives (TN)\n",
        "tn = cm[0, 0]\n",
        "\n",
        "# False Positives (FP)\n",
        "fp = cm[0, 1]\n",
        "\n",
        "# False Negatives (FN)\n",
        "fn = cm[1, 0]\n",
        "\n",
        "# Sensitivity (True Positive Rate or Recall)\n",
        "sensitivity = tp / (tp + fn)\n",
        "\n",
        "# Specificity (True Negative Rate)\n",
        "specificity = tn / (tn + fp)\n",
        "\n",
        "print(\"Sensitivity:\", sensitivity)\n",
        "print(\"Specificity:\", specificity)"
      ]
    },
    {
      "cell_type": "code",
      "execution_count": null,
      "metadata": {
        "colab": {
          "base_uri": "https://localhost:8080/",
          "height": 347
        },
        "id": "vDdwySJ3S3jD",
        "outputId": "cf91688a-cb2d-4f33-b864-cb5040cd2b9d"
      },
      "outputs": [
        {
          "data": {
            "image/png": "[encoded data removed]",
            "text/plain": [
              "<Figure size 400x300 with 1 Axes>"
            ]
          },
          "metadata": {},
          "output_type": "display_data"
        }
      ],
      "source": [
        "plt.figure(figsize=(4, 3))\n",
        "sns.set(font_scale=1.2)\n",
        "sns.heatmap(cm, annot=True, fmt='d', cmap='Blues', annot_kws={\"size\": 16}, cbar=False)\n",
        "plt.xlabel('Predicted')\n",
        "plt.ylabel('True')\n",
        "plt.title('Confusion Matrix')\n",
        "plt.show()"
      ]
    },
    {
      "cell_type": "code",
      "execution_count": null,
      "metadata": {
        "colab": {
          "base_uri": "https://localhost:8080/",
          "height": 1000
        },
        "id": "L1qASeFnjY_K",
        "outputId": "08d80f1b-1052-4c19-f03a-04e807252395"
      },
      "outputs": [
        {
          "output_type": "stream",
          "name": "stdout",
          "text": [
            "[LightGBM] [Warning] Accuracy may be bad since you didn't explicitly set num_leaves OR 2^max_depth > num_leaves. (num_leaves=31).\n",
            "[LightGBM] [Warning] Accuracy may be bad since you didn't explicitly set num_leaves OR 2^max_depth > num_leaves. (num_leaves=31).\n",
            "[LightGBM] [Info] Number of positive: 1167, number of negative: 1422\n",
            "[LightGBM] [Info] Auto-choosing row-wise multi-threading, the overhead of testing was 0.007175 seconds.\n",
            "You can set `force_row_wise=true` to remove the overhead.\n",
            "And if memory is not enough, you can set `force_col_wise=true`.\n",
            "[LightGBM] [Info] Total Bins 4714\n",
            "[LightGBM] [Info] Number of data points in the train set: 2589, number of used features: 380\n",
            "[LightGBM] [Info] [binary:BoostFromScore]: pavg=0.450753 -> initscore=-0.197628\n",
            "[LightGBM] [Info] Start training from score -0.197628\n",
            "[LightGBM] [Warning] No further splits with positive gain, best gain: -inf\n",
            "[LightGBM] [Warning] No further splits with positive gain, best gain: -inf\n",
            "[LightGBM] [Warning] No further splits with positive gain, best gain: -inf\n",
            "[LightGBM] [Warning] No further splits with positive gain, best gain: -inf\n",
            "[LightGBM] [Warning] No further splits with positive gain, best gain: -inf\n",
            "[LightGBM] [Warning] No further splits with positive gain, best gain: -inf\n",
            "[LightGBM] [Warning] No further splits with positive gain, best gain: -inf\n",
            "[LightGBM] [Warning] No further splits with positive gain, best gain: -inf\n",
            "[LightGBM] [Warning] No further splits with positive gain, best gain: -inf\n",
            "[LightGBM] [Warning] No further splits with positive gain, best gain: -inf\n",
            "[LightGBM] [Warning] No further splits with positive gain, best gain: -inf\n",
            "[LightGBM] [Warning] No further splits with positive gain, best gain: -inf\n",
            "[LightGBM] [Warning] No further splits with positive gain, best gain: -inf\n",
            "[LightGBM] [Warning] No further splits with positive gain, best gain: -inf\n",
            "[LightGBM] [Warning] No further splits with positive gain, best gain: -inf\n",
            "[LightGBM] [Warning] No further splits with positive gain, best gain: -inf\n",
            "[LightGBM] [Warning] No further splits with positive gain, best gain: -inf\n",
            "[LightGBM] [Warning] No further splits with positive gain, best gain: -inf\n",
            "[LightGBM] [Warning] No further splits with positive gain, best gain: -inf\n",
            "[LightGBM] [Warning] No further splits with positive gain, best gain: -inf\n",
            "[LightGBM] [Warning] No further splits with positive gain, best gain: -inf\n",
            "[LightGBM] [Warning] No further splits with positive gain, best gain: -inf\n",
            "[LightGBM] [Warning] No further splits with positive gain, best gain: -inf\n",
            "[LightGBM] [Warning] No further splits with positive gain, best gain: -inf\n",
            "[LightGBM] [Warning] No further splits with positive gain, best gain: -inf\n",
            "[LightGBM] [Warning] No further splits with positive gain, best gain: -inf\n",
            "[LightGBM] [Warning] No further splits with positive gain, best gain: -inf\n",
            "[LightGBM] [Warning] No further splits with positive gain, best gain: -inf\n",
            "[LightGBM] [Warning] No further splits with positive gain, best gain: -inf\n",
            "[LightGBM] [Warning] No further splits with positive gain, best gain: -inf\n",
            "[LightGBM] [Warning] No further splits with positive gain, best gain: -inf\n",
            "[LightGBM] [Warning] No further splits with positive gain, best gain: -inf\n",
            "[LightGBM] [Warning] No further splits with positive gain, best gain: -inf\n",
            "[LightGBM] [Warning] No further splits with positive gain, best gain: -inf\n",
            "[LightGBM] [Warning] No further splits with positive gain, best gain: -inf\n",
            "[LightGBM] [Warning] No further splits with positive gain, best gain: -inf\n",
            "[LightGBM] [Warning] No further splits with positive gain, best gain: -inf\n",
            "[LightGBM] [Warning] No further splits with positive gain, best gain: -inf\n",
            "[LightGBM] [Warning] No further splits with positive gain, best gain: -inf\n",
            "[LightGBM] [Warning] No further splits with positive gain, best gain: -inf\n",
            "[LightGBM] [Warning] No further splits with positive gain, best gain: -inf\n",
            "[LightGBM] [Warning] No further splits with positive gain, best gain: -inf\n",
            "[LightGBM] [Warning] No further splits with positive gain, best gain: -inf\n",
            "[LightGBM] [Warning] No further splits with positive gain, best gain: -inf\n",
            "[LightGBM] [Warning] No further splits with positive gain, best gain: -inf\n",
            "[LightGBM] [Warning] No further splits with positive gain, best gain: -inf\n",
            "[LightGBM] [Warning] No further splits with positive gain, best gain: -inf\n",
            "[LightGBM] [Warning] No further splits with positive gain, best gain: -inf\n",
            "[LightGBM] [Warning] No further splits with positive gain, best gain: -inf\n",
            "[LightGBM] [Warning] No further splits with positive gain, best gain: -inf\n",
            "[LightGBM] [Warning] No further splits with positive gain, best gain: -inf\n",
            "[LightGBM] [Warning] No further splits with positive gain, best gain: -inf\n",
            "[LightGBM] [Warning] No further splits with positive gain, best gain: -inf\n",
            "[LightGBM] [Warning] No further splits with positive gain, best gain: -inf\n",
            "[LightGBM] [Warning] No further splits with positive gain, best gain: -inf\n",
            "[LightGBM] [Warning] No further splits with positive gain, best gain: -inf\n",
            "[LightGBM] [Warning] No further splits with positive gain, best gain: -inf\n",
            "[LightGBM] [Warning] No further splits with positive gain, best gain: -inf\n",
            "[LightGBM] [Warning] No further splits with positive gain, best gain: -inf\n",
            "[LightGBM] [Warning] No further splits with positive gain, best gain: -inf\n",
            "[LightGBM] [Warning] No further splits with positive gain, best gain: -inf\n",
            "[LightGBM] [Warning] No further splits with positive gain, best gain: -inf\n",
            "[LightGBM] [Warning] No further splits with positive gain, best gain: -inf\n",
            "[LightGBM] [Warning] No further splits with positive gain, best gain: -inf\n",
            "[LightGBM] [Warning] No further splits with positive gain, best gain: -inf\n",
            "[LightGBM] [Warning] No further splits with positive gain, best gain: -inf\n",
            "[LightGBM] [Warning] No further splits with positive gain, best gain: -inf\n",
            "[LightGBM] [Warning] No further splits with positive gain, best gain: -inf\n",
            "[LightGBM] [Warning] No further splits with positive gain, best gain: -inf\n",
            "[LightGBM] [Warning] No further splits with positive gain, best gain: -inf\n",
            "[LightGBM] [Warning] No further splits with positive gain, best gain: -inf\n",
            "[LightGBM] [Warning] No further splits with positive gain, best gain: -inf\n",
            "[LightGBM] [Warning] No further splits with positive gain, best gain: -inf\n",
            "[LightGBM] [Warning] No further splits with positive gain, best gain: -inf\n",
            "[LightGBM] [Warning] No further splits with positive gain, best gain: -inf\n",
            "[LightGBM] [Warning] No further splits with positive gain, best gain: -inf\n",
            "[LightGBM] [Warning] No further splits with positive gain, best gain: -inf\n",
            "[LightGBM] [Warning] No further splits with positive gain, best gain: -inf\n",
            "[LightGBM] [Warning] No further splits with positive gain, best gain: -inf\n",
            "[LightGBM] [Warning] No further splits with positive gain, best gain: -inf\n",
            "[LightGBM] [Warning] No further splits with positive gain, best gain: -inf\n",
            "[LightGBM] [Warning] No further splits with positive gain, best gain: -inf\n",
            "[LightGBM] [Warning] No further splits with positive gain, best gain: -inf\n",
            "[LightGBM] [Warning] No further splits with positive gain, best gain: -inf\n",
            "[LightGBM] [Warning] No further splits with positive gain, best gain: -inf\n",
            "[LightGBM] [Warning] No further splits with positive gain, best gain: -inf\n",
            "[LightGBM] [Warning] No further splits with positive gain, best gain: -inf\n",
            "[LightGBM] [Warning] No further splits with positive gain, best gain: -inf\n",
            "[LightGBM] [Warning] No further splits with positive gain, best gain: -inf\n",
            "[LightGBM] [Warning] No further splits with positive gain, best gain: -inf\n",
            "[LightGBM] [Warning] No further splits with positive gain, best gain: -inf\n",
            "[LightGBM] [Warning] No further splits with positive gain, best gain: -inf\n",
            "[LightGBM] [Warning] No further splits with positive gain, best gain: -inf\n",
            "[LightGBM] [Warning] No further splits with positive gain, best gain: -inf\n",
            "[LightGBM] [Warning] No further splits with positive gain, best gain: -inf\n",
            "[LightGBM] [Warning] No further splits with positive gain, best gain: -inf\n",
            "[LightGBM] [Warning] No further splits with positive gain, best gain: -inf\n",
            "[LightGBM] [Warning] No further splits with positive gain, best gain: -inf\n",
            "[LightGBM] [Warning] No further splits with positive gain, best gain: -inf\n",
            "[LightGBM] [Warning] No further splits with positive gain, best gain: -inf\n"
          ]
        },
        {
          "output_type": "execute_result",
          "data": {
            "text/plain": [
              "LGBMClassifier(learning_rate=0.5, max_depth=7)"
            ],
            "text/html": [
              "<style>#sk-container-id-3 {color: black;background-color: white;}#sk-container-id-3 pre{padding: 0;}#sk-container-id-3 div.sk-toggleable {background-color: white;}#sk-container-id-3 label.sk-toggleable__label {cursor: pointer;display: block;width: 100%;margin-bottom: 0;padding: 0.3em;box-sizing: border-box;text-align: center;}#sk-container-id-3 label.sk-toggleable__label-arrow:before {content: \"▸\";float: left;margin-right: 0.25em;color: #696969;}#sk-container-id-3 label.sk-toggleable__label-arrow:hover:before {color: black;}#sk-container-id-3 div.sk-estimator:hover label.sk-toggleable__label-arrow:before {color: black;}#sk-container-id-3 div.sk-toggleable__content {max-height: 0;max-width: 0;overflow: hidden;text-align: left;background-color: #f0f8ff;}#sk-container-id-3 div.sk-toggleable__content pre {margin: 0.2em;color: black;border-radius: 0.25em;background-color: #f0f8ff;}#sk-container-id-3 input.sk-toggleable__control:checked~div.sk-toggleable__content {max-height: 200px;max-width: 100%;overflow: auto;}#sk-container-id-3 input.sk-toggleable__control:checked~label.sk-toggleable__label-arrow:before {content: \"▾\";}#sk-container-id-3 div.sk-estimator input.sk-toggleable__control:checked~label.sk-toggleable__label {background-color: #d4ebff;}#sk-container-id-3 div.sk-label input.sk-toggleable__control:checked~label.sk-toggleable__label {background-color: #d4ebff;}#sk-container-id-3 input.sk-hidden--visually {border: 0;clip: rect(1px 1px 1px 1px);clip: rect(1px, 1px, 1px, 1px);height: 1px;margin: -1px;overflow: hidden;padding: 0;position: absolute;width: 1px;}#sk-container-id-3 div.sk-estimator {font-family: monospace;background-color: #f0f8ff;border: 1px dotted black;border-radius: 0.25em;box-sizing: border-box;margin-bottom: 0.5em;}#sk-container-id-3 div.sk-estimator:hover {background-color: #d4ebff;}#sk-container-id-3 div.sk-parallel-item::after {content: \"\";width: 100%;border-bottom: 1px solid gray;flex-grow: 1;}#sk-container-id-3 div.sk-label:hover label.sk-toggleable__label {background-color: #d4ebff;}#sk-container-id-3 div.sk-serial::before {content: \"\";position: absolute;border-left: 1px solid gray;box-sizing: border-box;top: 0;bottom: 0;left: 50%;z-index: 0;}#sk-container-id-3 div.sk-serial {display: flex;flex-direction: column;align-items: center;background-color: white;padding-right: 0.2em;padding-left: 0.2em;position: relative;}#sk-container-id-3 div.sk-item {position: relative;z-index: 1;}#sk-container-id-3 div.sk-parallel {display: flex;align-items: stretch;justify-content: center;background-color: white;position: relative;}#sk-container-id-3 div.sk-item::before, #sk-container-id-3 div.sk-parallel-item::before {content: \"\";position: absolute;border-left: 1px solid gray;box-sizing: border-box;top: 0;bottom: 0;left: 50%;z-index: -1;}#sk-container-id-3 div.sk-parallel-item {display: flex;flex-direction: column;z-index: 1;position: relative;background-color: white;}#sk-container-id-3 div.sk-parallel-item:first-child::after {align-self: flex-end;width: 50%;}#sk-container-id-3 div.sk-parallel-item:last-child::after {align-self: flex-start;width: 50%;}#sk-container-id-3 div.sk-parallel-item:only-child::after {width: 0;}#sk-container-id-3 div.sk-dashed-wrapped {border: 1px dashed gray;margin: 0 0.4em 0.5em 0.4em;box-sizing: border-box;padding-bottom: 0.4em;background-color: white;}#sk-container-id-3 div.sk-label label {font-family: monospace;font-weight: bold;display: inline-block;line-height: 1.2em;}#sk-container-id-3 div.sk-label-container {text-align: center;}#sk-container-id-3 div.sk-container {/* jupyter's `normalize.less` sets `[hidden] { display: none; }` but bootstrap.min.css set `[hidden] { display: none !important; }` so we also need the `!important` here to be able to override the default hidden behavior on the sphinx rendered scikit-learn.org. See: https://github.com/scikit-learn/scikit-learn/issues/21755 */display: inline-block !important;position: relative;}#sk-container-id-3 div.sk-text-repr-fallback {display: none;}</style><div id=\"sk-container-id-3\" class=\"sk-top-container\"><div class=\"sk-text-repr-fallback\"><pre>LGBMClassifier(learning_rate=0.5, max_depth=7)</pre><b>In a Jupyter environment, please rerun this cell to show the HTML representation or trust the notebook. <br />On GitHub, the HTML representation is unable to render, please try loading this page with nbviewer.org.</b></div><div class=\"sk-container\" hidden><div class=\"sk-item\"><div class=\"sk-estimator sk-toggleable\"><input class=\"sk-toggleable__control sk-hidden--visually\" id=\"sk-estimator-id-3\" type=\"checkbox\" checked><label for=\"sk-estimator-id-3\" class=\"sk-toggleable__label sk-toggleable__label-arrow\">LGBMClassifier</label><div class=\"sk-toggleable__content\"><pre>LGBMClassifier(learning_rate=0.5, max_depth=7)</pre></div></div></div></div></div>"
            ]
          },
          "metadata": {},
          "execution_count": 35
        }
      ],
      "source": [
        "model.fit(xtrain, ytrain)"
      ]
    },
    {
      "cell_type": "code",
      "execution_count": null,
      "metadata": {
        "colab": {
          "base_uri": "https://localhost:8080/"
        },
        "id": "w2WGgWuhjhEa",
        "outputId": "9edb7f76-3886-416d-9ae9-b0bad8ab0b54"
      },
      "outputs": [
        {
          "output_type": "stream",
          "name": "stdout",
          "text": [
            "[LightGBM] [Warning] Accuracy may be bad since you didn't explicitly set num_leaves OR 2^max_depth > num_leaves. (num_leaves=31).\n"
          ]
        }
      ],
      "source": [
        "pred = model.predict(xtest)"
      ]
    },
    {
      "cell_type": "code",
      "execution_count": null,
      "metadata": {
        "colab": {
          "base_uri": "https://localhost:8080/"
        },
        "id": "7rPzOvOBjlNB",
        "outputId": "37f87c91-b86e-4408-deac-7c486366e97a"
      },
      "outputs": [
        {
          "data": {
            "text/plain": [
              "(0.9538461538461539,\n",
              " 0.9402985074626866,\n",
              " 0.9692307692307692,\n",
              " 0.9545454545454547)"
            ]
          },
          "execution_count": 45,
          "metadata": {},
          "output_type": "execute_result"
        }
      ],
      "source": [
        "accuracy_score(ytest,pred), precision_score(ytest, pred), recall_score(ytest, pred), f1_score(ytest, pred)"
      ]
    },
    {
      "cell_type": "code",
      "source": [
        "mcc = matthews_corrcoef(ytest, pred)\n",
        "mcc"
      ],
      "metadata": {
        "colab": {
          "base_uri": "https://localhost:8080/"
        },
        "id": "foUlHXz_XbsU",
        "outputId": "3796f80a-20e8-474b-fa4b-c2a01f42e5db"
      },
      "execution_count": null,
      "outputs": [
        {
          "output_type": "execute_result",
          "data": {
            "text/plain": [
              "0.9081222898612332"
            ]
          },
          "metadata": {},
          "execution_count": 37
        }
      ]
    },
    {
      "cell_type": "code",
      "execution_count": null,
      "metadata": {
        "id": "TahVG5eejmIE"
      },
      "outputs": [],
      "source": [
        "cm = confusion_matrix(ytest,pred)"
      ]
    },
    {
      "cell_type": "code",
      "execution_count": null,
      "metadata": {
        "colab": {
          "base_uri": "https://localhost:8080/"
        },
        "id": "r6D4zJ5RS9jW",
        "outputId": "90dfa8ff-2660-40f0-b313-9f52e1c3da6c"
      },
      "outputs": [
        {
          "data": {
            "text/plain": [
              "array([[122,   8],\n",
              "       [  4, 126]])"
            ]
          },
          "execution_count": 47,
          "metadata": {},
          "output_type": "execute_result"
        }
      ],
      "source": [
        "cm"
      ]
    },
    {
      "cell_type": "code",
      "execution_count": null,
      "metadata": {
        "colab": {
          "base_uri": "https://localhost:8080/"
        },
        "id": "JlI4NjlyTLSs",
        "outputId": "1de9b33e-4732-4444-8f88-e5cc8723f56f"
      },
      "outputs": [
        {
          "name": "stdout",
          "output_type": "stream",
          "text": [
            "Sensitivity: 0.9692307692307692\n",
            "Specificity: 0.9384615384615385\n"
          ]
        }
      ],
      "source": [
        "# True Positives (TP)\n",
        "tp = cm[1, 1]\n",
        "\n",
        "# True Negatives (TN)\n",
        "tn = cm[0, 0]\n",
        "\n",
        "# False Positives (FP)\n",
        "fp = cm[0, 1]\n",
        "\n",
        "# False Negatives (FN)\n",
        "fn = cm[1, 0]\n",
        "\n",
        "# Sensitivity (True Positive Rate or Recall)\n",
        "sensitivity = tp / (tp + fn)\n",
        "\n",
        "# Specificity (True Negative Rate)\n",
        "specificity = tn / (tn + fp)\n",
        "\n",
        "print(\"Sensitivity:\", sensitivity)\n",
        "print(\"Specificity:\", specificity)"
      ]
    },
    {
      "cell_type": "code",
      "execution_count": null,
      "metadata": {
        "colab": {
          "base_uri": "https://localhost:8080/",
          "height": 347
        },
        "id": "mc-aTlD8TBwg",
        "outputId": "d4b2eaaa-8ff7-4bff-b3a1-ebc93e16a525"
      },
      "outputs": [
        {
          "data": {
            "image/png": "[encoded data removed]",
            "text/plain": [
              "<Figure size 400x300 with 1 Axes>"
            ]
          },
          "metadata": {},
          "output_type": "display_data"
        }
      ],
      "source": [
        "plt.figure(figsize=(4, 3))\n",
        "sns.set(font_scale=1.2)\n",
        "sns.heatmap(cm, annot=True, fmt='d', cmap='Blues', annot_kws={\"size\": 16}, cbar=False)\n",
        "plt.xlabel('Predicted')\n",
        "plt.ylabel('True')\n",
        "plt.title('Confusion Matrix')\n",
        "plt.show()"
      ]
    },
    {
      "cell_type": "markdown",
      "metadata": {
        "id": "l30YRUwukyjM"
      },
      "source": [
        "**CAT** **BOOSTER**"
      ]
    },
    {
      "cell_type": "code",
      "execution_count": null,
      "metadata": {
        "id": "EbEhz-vgj_3Z"
      },
      "outputs": [],
      "source": [
        "model = CatBoostClassifier(depth= 10, iterations = 54, learning_rate = 0.2079912391974028)\n"
      ]
    },
    {
      "cell_type": "code",
      "execution_count": null,
      "metadata": {
        "id": "stR7w_DUlNMx"
      },
      "outputs": [],
      "source": [
        "pred = cross_val_predict(model, xtrain, ytrain, cv=cv, n_jobs=-1)"
      ]
    },
    {
      "cell_type": "code",
      "execution_count": null,
      "metadata": {
        "colab": {
          "base_uri": "https://localhost:8080/"
        },
        "id": "fnzaPGoXlTdp",
        "outputId": "d89eaf24-1258-4b13-b7ce-2be479639913"
      },
      "outputs": [
        {
          "data": {
            "text/plain": [
              "(0.8725376593279258,\n",
              " 0.8655021834061135,\n",
              " 0.8491859468723222,\n",
              " 0.8572664359861591)"
            ]
          },
          "execution_count": 52,
          "metadata": {},
          "output_type": "execute_result"
        }
      ],
      "source": [
        "accuracy_score(ytrain,pred), precision_score(ytrain, pred), recall_score(ytrain, pred), f1_score(ytrain, pred)"
      ]
    },
    {
      "cell_type": "code",
      "source": [
        "mcc = matthews_corrcoef(ytrain, pred)\n",
        "mcc"
      ],
      "metadata": {
        "colab": {
          "base_uri": "https://localhost:8080/"
        },
        "id": "0FK2kPyoXrTt",
        "outputId": "a13e3164-44f1-4e11-b2aa-f96f58283d40"
      },
      "execution_count": null,
      "outputs": [
        {
          "output_type": "execute_result",
          "data": {
            "text/plain": [
              "0.7422518952832101"
            ]
          },
          "metadata": {},
          "execution_count": 40
        }
      ]
    },
    {
      "cell_type": "code",
      "execution_count": null,
      "metadata": {
        "id": "zEWYsIn-lYus"
      },
      "outputs": [],
      "source": [
        "cm = confusion_matrix(ytrain,pred)"
      ]
    },
    {
      "cell_type": "code",
      "execution_count": null,
      "metadata": {
        "colab": {
          "base_uri": "https://localhost:8080/"
        },
        "id": "orzjEfleVRlb",
        "outputId": "011ffa50-a120-46c4-e7c2-3f16ebf487a8"
      },
      "outputs": [
        {
          "data": {
            "text/plain": [
              "array([[1268,  154],\n",
              "       [ 176,  991]])"
            ]
          },
          "execution_count": 54,
          "metadata": {},
          "output_type": "execute_result"
        }
      ],
      "source": [
        "cm"
      ]
    },
    {
      "cell_type": "code",
      "execution_count": null,
      "metadata": {
        "colab": {
          "base_uri": "https://localhost:8080/"
        },
        "id": "cZeuHNFrVUl8",
        "outputId": "068f8c42-b724-487b-b09f-481506ef7312"
      },
      "outputs": [
        {
          "name": "stdout",
          "output_type": "stream",
          "text": [
            "Sensitivity: 0.8491859468723222\n",
            "Specificity: 0.8917018284106891\n"
          ]
        }
      ],
      "source": [
        "# True Positives (TP)\n",
        "tp = cm[1, 1]\n",
        "\n",
        "# True Negatives (TN)\n",
        "tn = cm[0, 0]\n",
        "\n",
        "# False Positives (FP)\n",
        "fp = cm[0, 1]\n",
        "\n",
        "# False Negatives (FN)\n",
        "fn = cm[1, 0]\n",
        "\n",
        "# Sensitivity (True Positive Rate or Recall)\n",
        "sensitivity = tp / (tp + fn)\n",
        "\n",
        "# Specificity (True Negative Rate)\n",
        "specificity = tn / (tn + fp)\n",
        "\n",
        "print(\"Sensitivity:\", sensitivity)\n",
        "print(\"Specificity:\", specificity)"
      ]
    },
    {
      "cell_type": "code",
      "execution_count": null,
      "metadata": {
        "colab": {
          "base_uri": "https://localhost:8080/",
          "height": 347
        },
        "id": "D_ukE9CLVaD8",
        "outputId": "e5e33896-94b1-422b-f938-da7ca1865782"
      },
      "outputs": [
        {
          "data": {
            "image/png": "[encoded data removed]",
            "text/plain": [
              "<Figure size 400x300 with 1 Axes>"
            ]
          },
          "metadata": {},
          "output_type": "display_data"
        }
      ],
      "source": [
        "plt.figure(figsize=(4, 3))\n",
        "sns.set(font_scale=1.2)\n",
        "sns.heatmap(cm, annot=True, fmt='d', cmap='Blues', annot_kws={\"size\": 16}, cbar=False)\n",
        "plt.xlabel('Predicted')\n",
        "plt.ylabel('True')\n",
        "plt.title('Confusion Matrix')\n",
        "plt.show()"
      ]
    },
    {
      "cell_type": "code",
      "execution_count": null,
      "metadata": {
        "colab": {
          "base_uri": "https://localhost:8080/"
        },
        "id": "ZMlGYOynldnD",
        "outputId": "ced43540-2929-423a-9647-fc6bfea43fcd"
      },
      "outputs": [
        {
          "output_type": "stream",
          "name": "stdout",
          "text": [
            "0:\tlearn: 0.6483052\ttotal: 125ms\tremaining: 6.63s\n",
            "1:\tlearn: 0.6174643\ttotal: 203ms\tremaining: 5.28s\n",
            "2:\tlearn: 0.5942044\ttotal: 288ms\tremaining: 4.9s\n",
            "3:\tlearn: 0.5751181\ttotal: 390ms\tremaining: 4.88s\n",
            "4:\tlearn: 0.5478260\ttotal: 468ms\tremaining: 4.58s\n",
            "5:\tlearn: 0.5305191\ttotal: 549ms\tremaining: 4.39s\n",
            "6:\tlearn: 0.5165084\ttotal: 636ms\tremaining: 4.27s\n",
            "7:\tlearn: 0.4996331\ttotal: 718ms\tremaining: 4.13s\n",
            "8:\tlearn: 0.4858421\ttotal: 795ms\tremaining: 3.98s\n",
            "9:\tlearn: 0.4764122\ttotal: 877ms\tremaining: 3.86s\n",
            "10:\tlearn: 0.4650591\ttotal: 957ms\tremaining: 3.74s\n",
            "11:\tlearn: 0.4535992\ttotal: 1.04s\tremaining: 3.65s\n",
            "12:\tlearn: 0.4450380\ttotal: 1.13s\tremaining: 3.55s\n",
            "13:\tlearn: 0.4367309\ttotal: 1.21s\tremaining: 3.46s\n",
            "14:\tlearn: 0.4274544\ttotal: 1.37s\tremaining: 3.56s\n",
            "15:\tlearn: 0.4204832\ttotal: 1.52s\tremaining: 3.61s\n",
            "16:\tlearn: 0.4146019\ttotal: 1.68s\tremaining: 3.65s\n",
            "17:\tlearn: 0.4047178\ttotal: 1.82s\tremaining: 3.63s\n",
            "18:\tlearn: 0.3980420\ttotal: 1.97s\tremaining: 3.62s\n",
            "19:\tlearn: 0.3919588\ttotal: 2.11s\tremaining: 3.58s\n",
            "20:\tlearn: 0.3856864\ttotal: 2.24s\tremaining: 3.52s\n",
            "21:\tlearn: 0.3799814\ttotal: 2.37s\tremaining: 3.44s\n",
            "22:\tlearn: 0.3749238\ttotal: 2.65s\tremaining: 3.57s\n",
            "23:\tlearn: 0.3691186\ttotal: 3.23s\tremaining: 4.03s\n",
            "24:\tlearn: 0.3643277\ttotal: 3.73s\tremaining: 4.33s\n",
            "25:\tlearn: 0.3588697\ttotal: 4.05s\tremaining: 4.37s\n",
            "26:\tlearn: 0.3535690\ttotal: 4.21s\tremaining: 4.21s\n",
            "27:\tlearn: 0.3486954\ttotal: 4.37s\tremaining: 4.06s\n",
            "28:\tlearn: 0.3437416\ttotal: 4.54s\tremaining: 3.92s\n",
            "29:\tlearn: 0.3384278\ttotal: 4.71s\tremaining: 3.77s\n",
            "30:\tlearn: 0.3345456\ttotal: 4.87s\tremaining: 3.61s\n",
            "31:\tlearn: 0.3287572\ttotal: 5.02s\tremaining: 3.45s\n",
            "32:\tlearn: 0.3244096\ttotal: 5.18s\tremaining: 3.3s\n",
            "33:\tlearn: 0.3208312\ttotal: 5.34s\tremaining: 3.14s\n",
            "34:\tlearn: 0.3159745\ttotal: 5.49s\tremaining: 2.98s\n",
            "35:\tlearn: 0.3115008\ttotal: 5.64s\tremaining: 2.82s\n",
            "36:\tlearn: 0.3060641\ttotal: 5.79s\tremaining: 2.66s\n",
            "37:\tlearn: 0.3003004\ttotal: 5.92s\tremaining: 2.5s\n",
            "38:\tlearn: 0.2960806\ttotal: 6.06s\tremaining: 2.33s\n",
            "39:\tlearn: 0.2912440\ttotal: 6.2s\tremaining: 2.17s\n",
            "40:\tlearn: 0.2843848\ttotal: 6.34s\tremaining: 2.01s\n",
            "41:\tlearn: 0.2798259\ttotal: 6.48s\tremaining: 1.85s\n",
            "42:\tlearn: 0.2755153\ttotal: 6.57s\tremaining: 1.68s\n",
            "43:\tlearn: 0.2698813\ttotal: 6.66s\tremaining: 1.51s\n",
            "44:\tlearn: 0.2631332\ttotal: 6.75s\tremaining: 1.35s\n",
            "45:\tlearn: 0.2585140\ttotal: 6.83s\tremaining: 1.19s\n",
            "46:\tlearn: 0.2544578\ttotal: 6.91s\tremaining: 1.03s\n",
            "47:\tlearn: 0.2489872\ttotal: 7.01s\tremaining: 876ms\n",
            "48:\tlearn: 0.2447668\ttotal: 7.09s\tremaining: 723ms\n",
            "49:\tlearn: 0.2425299\ttotal: 7.17s\tremaining: 573ms\n",
            "50:\tlearn: 0.2362909\ttotal: 7.25s\tremaining: 427ms\n",
            "51:\tlearn: 0.2311837\ttotal: 7.33s\tremaining: 282ms\n",
            "52:\tlearn: 0.2268768\ttotal: 7.41s\tremaining: 140ms\n",
            "53:\tlearn: 0.2217075\ttotal: 7.49s\tremaining: 0us\n"
          ]
        },
        {
          "output_type": "execute_result",
          "data": {
            "text/plain": [
              "<catboost.core.CatBoostClassifier at 0x7f0c98c39240>"
            ]
          },
          "metadata": {},
          "execution_count": 41
        }
      ],
      "source": [
        "model.fit(xtrain, ytrain)"
      ]
    },
    {
      "cell_type": "code",
      "execution_count": null,
      "metadata": {
        "id": "y-2A-NqIli02"
      },
      "outputs": [],
      "source": [
        "pred = model.predict(xtest)"
      ]
    },
    {
      "cell_type": "code",
      "execution_count": null,
      "metadata": {
        "colab": {
          "base_uri": "https://localhost:8080/"
        },
        "id": "7fmU0SK5lmft",
        "outputId": "1f4bef29-0da9-420f-d65f-eeb384ca0cba"
      },
      "outputs": [
        {
          "data": {
            "text/plain": [
              "(0.9153846153846154, 0.921875, 0.9076923076923077, 0.9147286821705427)"
            ]
          },
          "execution_count": 59,
          "metadata": {},
          "output_type": "execute_result"
        }
      ],
      "source": [
        "accuracy_score(ytest,pred), precision_score(ytest, pred), recall_score(ytest, pred), f1_score(ytest, pred)"
      ]
    },
    {
      "cell_type": "code",
      "source": [
        "mcc = matthews_corrcoef(ytest, pred)\n",
        "mcc"
      ],
      "metadata": {
        "colab": {
          "base_uri": "https://localhost:8080/"
        },
        "id": "35r4lzqSX6uo",
        "outputId": "deaa6053-be5b-4bc1-85c9-a324e03fd7d9"
      },
      "execution_count": null,
      "outputs": [
        {
          "output_type": "execute_result",
          "data": {
            "text/plain": [
              "0.8308675641104959"
            ]
          },
          "metadata": {},
          "execution_count": 43
        }
      ]
    },
    {
      "cell_type": "code",
      "execution_count": null,
      "metadata": {
        "id": "KRU5nDAJlo7l"
      },
      "outputs": [],
      "source": [
        "cm = confusion_matrix(ytest,pred)"
      ]
    },
    {
      "cell_type": "code",
      "execution_count": null,
      "metadata": {
        "colab": {
          "base_uri": "https://localhost:8080/"
        },
        "id": "NrzFBNMpXmCh",
        "outputId": "eb2cd223-9ed6-4f7f-b1a8-49629101e158"
      },
      "outputs": [
        {
          "data": {
            "text/plain": [
              "array([[120,  10],\n",
              "       [ 12, 118]])"
            ]
          },
          "execution_count": 61,
          "metadata": {},
          "output_type": "execute_result"
        }
      ],
      "source": [
        "cm"
      ]
    },
    {
      "cell_type": "code",
      "execution_count": null,
      "metadata": {
        "colab": {
          "base_uri": "https://localhost:8080/"
        },
        "id": "P-80W42aXm8a",
        "outputId": "1669e39e-0dcc-4636-e2e4-e4bf3bf011ca"
      },
      "outputs": [
        {
          "name": "stdout",
          "output_type": "stream",
          "text": [
            "Sensitivity: 0.9076923076923077\n",
            "Specificity: 0.9230769230769231\n"
          ]
        }
      ],
      "source": [
        "# True Positives (TP)\n",
        "tp = cm[1, 1]\n",
        "\n",
        "# True Negatives (TN)\n",
        "tn = cm[0, 0]\n",
        "\n",
        "# False Positives (FP)\n",
        "fp = cm[0, 1]\n",
        "\n",
        "# False Negatives (FN)\n",
        "fn = cm[1, 0]\n",
        "\n",
        "# Sensitivity (True Positive Rate or Recall)\n",
        "sensitivity = tp / (tp + fn)\n",
        "\n",
        "# Specificity (True Negative Rate)\n",
        "specificity = tn / (tn + fp)\n",
        "\n",
        "print(\"Sensitivity:\", sensitivity)\n",
        "print(\"Specificity:\", specificity)\n"
      ]
    },
    {
      "cell_type": "code",
      "execution_count": null,
      "metadata": {
        "colab": {
          "base_uri": "https://localhost:8080/",
          "height": 347
        },
        "id": "yag_ibFPX3x8",
        "outputId": "b48bc533-a1af-4b2f-c112-a940ffa2413c"
      },
      "outputs": [
        {
          "data": {
            "image/png": "[encoded data removed]",
            "text/plain": [
              "<Figure size 400x300 with 1 Axes>"
            ]
          },
          "metadata": {},
          "output_type": "display_data"
        }
      ],
      "source": [
        "plt.figure(figsize=(4, 3))\n",
        "sns.set(font_scale=1.2)\n",
        "sns.heatmap(cm, annot=True, fmt='d', cmap='Blues', annot_kws={\"size\": 16}, cbar=False)\n",
        "plt.xlabel('Predicted')\n",
        "plt.ylabel('True')\n",
        "plt.title('Confusion Matrix')\n",
        "plt.show()"
      ]
    },
    {
      "cell_type": "markdown",
      "metadata": {
        "id": "89UMFxfIphkx"
      },
      "source": [
        "**Stacking**"
      ]
    },
    {
      "cell_type": "code",
      "execution_count": null,
      "metadata": {
        "id": "Jsqn9Z2_pf91"
      },
      "outputs": [],
      "source": [
        "estimator = [('RF',RandomForestClassifier(n_estimators = 400, max_depth = 10)),\n",
        "             ('XGB',XGBClassifier(n_estimators = 500,max_depth = 7, base_score = 0.88, learning_rate = 0.2)),\n",
        "             ('LGBM',LGBMClassifier(max_depth=7, learning_rate=0.5)),\n",
        "             ('CAT',CatBoostClassifier(depth= 10, iterations = 54, learning_rate = 0.2079912391974028))]\n",
        "model = StackingClassifier(estimators=estimator, final_estimator=CatBoostClassifier(depth= 10, iterations = 54, learning_rate = 0.2079912391974028))"
      ]
    },
    {
      "cell_type": "code",
      "execution_count": null,
      "metadata": {
        "id": "wewk7anaqD_2"
      },
      "outputs": [],
      "source": [
        "pred = cross_val_predict(model, xtrain, ytrain, cv=cv, n_jobs=-1)"
      ]
    },
    {
      "cell_type": "code",
      "execution_count": null,
      "metadata": {
        "colab": {
          "background_save": true
        },
        "id": "DNRoXY5_qJf6",
        "outputId": "56de523a-9637-465a-cdc2-ecbf3db50f95"
      },
      "outputs": [
        {
          "data": {
            "text/plain": [
              "(0.9061413673232909, 0.8989637305699482, 0.8920308483290489, 0.895483870967742)"
            ]
          },
          "execution_count": 66,
          "metadata": {},
          "output_type": "execute_result"
        }
      ],
      "source": [
        "accuracy_score(ytrain,pred), precision_score(ytrain, pred), recall_score(ytrain, pred), f1_score(ytrain, pred)"
      ]
    },
    {
      "cell_type": "code",
      "source": [
        "mcc = matthews_corrcoef(ytrain, pred)\n",
        "mcc"
      ],
      "metadata": {
        "colab": {
          "base_uri": "https://localhost:8080/"
        },
        "id": "ZtbcFmzSYApX",
        "outputId": "a2020067-5bb9-4533-c58d-00094480cc9d"
      },
      "execution_count": null,
      "outputs": [
        {
          "output_type": "execute_result",
          "data": {
            "text/plain": [
              "0.8127562676713346"
            ]
          },
          "metadata": {},
          "execution_count": 46
        }
      ]
    },
    {
      "cell_type": "code",
      "execution_count": null,
      "metadata": {
        "colab": {
          "background_save": true
        },
        "id": "1PV8vrJ5qOzE"
      },
      "outputs": [],
      "source": [
        "cm = confusion_matrix(ytrain,pred)"
      ]
    },
    {
      "cell_type": "code",
      "execution_count": null,
      "metadata": {
        "colab": {
          "background_save": true
        },
        "id": "uxSYr627YH6P",
        "outputId": "cf9b58c1-2db8-437b-c2f1-1e1f978b8693"
      },
      "outputs": [
        {
          "data": {
            "text/plain": [
              "array([[1305,  117],\n",
              "       [ 126, 1041]])"
            ]
          },
          "execution_count": 68,
          "metadata": {},
          "output_type": "execute_result"
        }
      ],
      "source": [
        "cm"
      ]
    },
    {
      "cell_type": "code",
      "execution_count": null,
      "metadata": {
        "colab": {
          "background_save": true
        },
        "id": "LI7awbZxYQJf",
        "outputId": "1a98b926-bcb8-4d78-c559-f8229fd666ae"
      },
      "outputs": [
        {
          "name": "stdout",
          "output_type": "stream",
          "text": [
            "Sensitivity: 0.8920308483290489\n",
            "Specificity: 0.9177215189873418\n"
          ]
        }
      ],
      "source": [
        "# True Positives (TP)\n",
        "tp = cm[1, 1]\n",
        "\n",
        "# True Negatives (TN)\n",
        "tn = cm[0, 0]\n",
        "\n",
        "# False Positives (FP)\n",
        "fp = cm[0, 1]\n",
        "\n",
        "# False Negatives (FN)\n",
        "fn = cm[1, 0]\n",
        "\n",
        "# Sensitivity (True Positive Rate or Recall)\n",
        "sensitivity = tp / (tp + fn)\n",
        "\n",
        "# Specificity (True Negative Rate)\n",
        "specificity = tn / (tn + fp)\n",
        "\n",
        "print(\"Sensitivity:\", sensitivity)\n",
        "print(\"Specificity:\", specificity)"
      ]
    },
    {
      "cell_type": "code",
      "execution_count": null,
      "metadata": {
        "colab": {
          "background_save": true
        },
        "id": "9BhEXlMQYL92",
        "outputId": "2f53816b-15e1-4843-cfed-fadb053c31ff"
      },
      "outputs": [
        {
          "data": {
            "image/png": "[encoded data removed]",
            "text/plain": [
              "<Figure size 400x300 with 1 Axes>"
            ]
          },
          "metadata": {},
          "output_type": "display_data"
        }
      ],
      "source": [
        "plt.figure(figsize=(4, 3))\n",
        "sns.set(font_scale=1.2)\n",
        "sns.heatmap(cm, annot=True, fmt='d', cmap='Blues', annot_kws={\"size\": 16}, cbar=False)\n",
        "plt.xlabel('Predicted')\n",
        "plt.ylabel('True')\n",
        "plt.title('Confusion Matrix')\n",
        "plt.show()"
      ]
    },
    {
      "cell_type": "code",
      "execution_count": null,
      "metadata": {
        "colab": {
          "base_uri": "https://localhost:8080/",
          "height": 1000
        },
        "id": "zGPIngb8qb3z",
        "outputId": "90b5c1ab-058c-4db9-a85d-7af8671438f6"
      },
      "outputs": [
        {
          "output_type": "stream",
          "name": "stdout",
          "text": [
            "[LightGBM] [Warning] Accuracy may be bad since you didn't explicitly set num_leaves OR 2^max_depth > num_leaves. (num_leaves=31).\n",
            "[LightGBM] [Warning] Accuracy may be bad since you didn't explicitly set num_leaves OR 2^max_depth > num_leaves. (num_leaves=31).\n",
            "[LightGBM] [Info] Number of positive: 1167, number of negative: 1422\n",
            "[LightGBM] [Info] Auto-choosing row-wise multi-threading, the overhead of testing was 0.007854 seconds.\n",
            "You can set `force_row_wise=true` to remove the overhead.\n",
            "And if memory is not enough, you can set `force_col_wise=true`.\n",
            "[LightGBM] [Info] Total Bins 4714\n",
            "[LightGBM] [Info] Number of data points in the train set: 2589, number of used features: 380\n",
            "[LightGBM] [Info] [binary:BoostFromScore]: pavg=0.450753 -> initscore=-0.197628\n",
            "[LightGBM] [Info] Start training from score -0.197628\n",
            "[LightGBM] [Warning] No further splits with positive gain, best gain: -inf\n",
            "[LightGBM] [Warning] No further splits with positive gain, best gain: -inf\n",
            "[LightGBM] [Warning] No further splits with positive gain, best gain: -inf\n",
            "[LightGBM] [Warning] No further splits with positive gain, best gain: -inf\n",
            "[LightGBM] [Warning] No further splits with positive gain, best gain: -inf\n",
            "[LightGBM] [Warning] No further splits with positive gain, best gain: -inf\n",
            "[LightGBM] [Warning] No further splits with positive gain, best gain: -inf\n",
            "[LightGBM] [Warning] No further splits with positive gain, best gain: -inf\n",
            "[LightGBM] [Warning] No further splits with positive gain, best gain: -inf\n",
            "[LightGBM] [Warning] No further splits with positive gain, best gain: -inf\n",
            "[LightGBM] [Warning] No further splits with positive gain, best gain: -inf\n",
            "[LightGBM] [Warning] No further splits with positive gain, best gain: -inf\n",
            "[LightGBM] [Warning] No further splits with positive gain, best gain: -inf\n",
            "[LightGBM] [Warning] No further splits with positive gain, best gain: -inf\n",
            "[LightGBM] [Warning] No further splits with positive gain, best gain: -inf\n",
            "[LightGBM] [Warning] No further splits with positive gain, best gain: -inf\n",
            "[LightGBM] [Warning] No further splits with positive gain, best gain: -inf\n",
            "[LightGBM] [Warning] No further splits with positive gain, best gain: -inf\n",
            "[LightGBM] [Warning] No further splits with positive gain, best gain: -inf\n",
            "[LightGBM] [Warning] No further splits with positive gain, best gain: -inf\n",
            "[LightGBM] [Warning] No further splits with positive gain, best gain: -inf\n",
            "[LightGBM] [Warning] No further splits with positive gain, best gain: -inf\n",
            "[LightGBM] [Warning] No further splits with positive gain, best gain: -inf\n",
            "[LightGBM] [Warning] No further splits with positive gain, best gain: -inf\n",
            "[LightGBM] [Warning] No further splits with positive gain, best gain: -inf\n",
            "[LightGBM] [Warning] No further splits with positive gain, best gain: -inf\n",
            "[LightGBM] [Warning] No further splits with positive gain, best gain: -inf\n",
            "[LightGBM] [Warning] No further splits with positive gain, best gain: -inf\n",
            "[LightGBM] [Warning] No further splits with positive gain, best gain: -inf\n",
            "[LightGBM] [Warning] No further splits with positive gain, best gain: -inf\n",
            "[LightGBM] [Warning] No further splits with positive gain, best gain: -inf\n",
            "[LightGBM] [Warning] No further splits with positive gain, best gain: -inf\n",
            "[LightGBM] [Warning] No further splits with positive gain, best gain: -inf\n",
            "[LightGBM] [Warning] No further splits with positive gain, best gain: -inf\n",
            "[LightGBM] [Warning] No further splits with positive gain, best gain: -inf\n",
            "[LightGBM] [Warning] No further splits with positive gain, best gain: -inf\n",
            "[LightGBM] [Warning] No further splits with positive gain, best gain: -inf\n",
            "[LightGBM] [Warning] No further splits with positive gain, best gain: -inf\n",
            "[LightGBM] [Warning] No further splits with positive gain, best gain: -inf\n",
            "[LightGBM] [Warning] No further splits with positive gain, best gain: -inf\n",
            "[LightGBM] [Warning] No further splits with positive gain, best gain: -inf\n",
            "[LightGBM] [Warning] No further splits with positive gain, best gain: -inf\n",
            "[LightGBM] [Warning] No further splits with positive gain, best gain: -inf\n",
            "[LightGBM] [Warning] No further splits with positive gain, best gain: -inf\n",
            "[LightGBM] [Warning] No further splits with positive gain, best gain: -inf\n",
            "[LightGBM] [Warning] No further splits with positive gain, best gain: -inf\n",
            "[LightGBM] [Warning] No further splits with positive gain, best gain: -inf\n",
            "[LightGBM] [Warning] No further splits with positive gain, best gain: -inf\n",
            "[LightGBM] [Warning] No further splits with positive gain, best gain: -inf\n",
            "[LightGBM] [Warning] No further splits with positive gain, best gain: -inf\n",
            "[LightGBM] [Warning] No further splits with positive gain, best gain: -inf\n",
            "[LightGBM] [Warning] No further splits with positive gain, best gain: -inf\n",
            "[LightGBM] [Warning] No further splits with positive gain, best gain: -inf\n",
            "[LightGBM] [Warning] No further splits with positive gain, best gain: -inf\n",
            "[LightGBM] [Warning] No further splits with positive gain, best gain: -inf\n",
            "[LightGBM] [Warning] No further splits with positive gain, best gain: -inf\n",
            "[LightGBM] [Warning] No further splits with positive gain, best gain: -inf\n",
            "[LightGBM] [Warning] No further splits with positive gain, best gain: -inf\n",
            "[LightGBM] [Warning] No further splits with positive gain, best gain: -inf\n",
            "[LightGBM] [Warning] No further splits with positive gain, best gain: -inf\n",
            "[LightGBM] [Warning] No further splits with positive gain, best gain: -inf\n",
            "[LightGBM] [Warning] No further splits with positive gain, best gain: -inf\n",
            "[LightGBM] [Warning] No further splits with positive gain, best gain: -inf\n",
            "[LightGBM] [Warning] No further splits with positive gain, best gain: -inf\n",
            "[LightGBM] [Warning] No further splits with positive gain, best gain: -inf\n",
            "[LightGBM] [Warning] No further splits with positive gain, best gain: -inf\n",
            "[LightGBM] [Warning] No further splits with positive gain, best gain: -inf\n",
            "[LightGBM] [Warning] No further splits with positive gain, best gain: -inf\n",
            "[LightGBM] [Warning] No further splits with positive gain, best gain: -inf\n",
            "[LightGBM] [Warning] No further splits with positive gain, best gain: -inf\n",
            "[LightGBM] [Warning] No further splits with positive gain, best gain: -inf\n",
            "[LightGBM] [Warning] No further splits with positive gain, best gain: -inf\n",
            "[LightGBM] [Warning] No further splits with positive gain, best gain: -inf\n",
            "[LightGBM] [Warning] No further splits with positive gain, best gain: -inf\n",
            "[LightGBM] [Warning] No further splits with positive gain, best gain: -inf\n",
            "[LightGBM] [Warning] No further splits with positive gain, best gain: -inf\n",
            "[LightGBM] [Warning] No further splits with positive gain, best gain: -inf\n",
            "[LightGBM] [Warning] No further splits with positive gain, best gain: -inf\n",
            "[LightGBM] [Warning] No further splits with positive gain, best gain: -inf\n",
            "[LightGBM] [Warning] No further splits with positive gain, best gain: -inf\n",
            "[LightGBM] [Warning] No further splits with positive gain, best gain: -inf\n",
            "[LightGBM] [Warning] No further splits with positive gain, best gain: -inf\n",
            "[LightGBM] [Warning] No further splits with positive gain, best gain: -inf\n",
            "[LightGBM] [Warning] No further splits with positive gain, best gain: -inf\n",
            "[LightGBM] [Warning] No further splits with positive gain, best gain: -inf\n",
            "[LightGBM] [Warning] No further splits with positive gain, best gain: -inf\n",
            "[LightGBM] [Warning] No further splits with positive gain, best gain: -inf\n",
            "[LightGBM] [Warning] No further splits with positive gain, best gain: -inf\n",
            "[LightGBM] [Warning] No further splits with positive gain, best gain: -inf\n",
            "[LightGBM] [Warning] No further splits with positive gain, best gain: -inf\n",
            "[LightGBM] [Warning] No further splits with positive gain, best gain: -inf\n",
            "[LightGBM] [Warning] No further splits with positive gain, best gain: -inf\n",
            "[LightGBM] [Warning] No further splits with positive gain, best gain: -inf\n",
            "[LightGBM] [Warning] No further splits with positive gain, best gain: -inf\n",
            "[LightGBM] [Warning] No further splits with positive gain, best gain: -inf\n",
            "[LightGBM] [Warning] No further splits with positive gain, best gain: -inf\n",
            "[LightGBM] [Warning] No further splits with positive gain, best gain: -inf\n",
            "[LightGBM] [Warning] No further splits with positive gain, best gain: -inf\n",
            "[LightGBM] [Warning] No further splits with positive gain, best gain: -inf\n",
            "[LightGBM] [Warning] No further splits with positive gain, best gain: -inf\n",
            "0:\tlearn: 0.6483052\ttotal: 95.2ms\tremaining: 5.04s\n",
            "1:\tlearn: 0.6174643\ttotal: 177ms\tremaining: 4.6s\n",
            "2:\tlearn: 0.5942044\ttotal: 259ms\tremaining: 4.4s\n",
            "3:\tlearn: 0.5751181\ttotal: 345ms\tremaining: 4.31s\n",
            "4:\tlearn: 0.5478260\ttotal: 423ms\tremaining: 4.15s\n",
            "5:\tlearn: 0.5305191\ttotal: 505ms\tremaining: 4.04s\n",
            "6:\tlearn: 0.5165084\ttotal: 588ms\tremaining: 3.95s\n",
            "7:\tlearn: 0.4996331\ttotal: 672ms\tremaining: 3.87s\n",
            "8:\tlearn: 0.4858421\ttotal: 753ms\tremaining: 3.77s\n",
            "9:\tlearn: 0.4764122\ttotal: 836ms\tremaining: 3.68s\n",
            "10:\tlearn: 0.4650591\ttotal: 917ms\tremaining: 3.58s\n",
            "11:\tlearn: 0.4535992\ttotal: 1s\tremaining: 3.5s\n",
            "12:\tlearn: 0.4450380\ttotal: 1.1s\tremaining: 3.47s\n",
            "13:\tlearn: 0.4367309\ttotal: 1.18s\tremaining: 3.37s\n",
            "14:\tlearn: 0.4274544\ttotal: 1.26s\tremaining: 3.28s\n",
            "15:\tlearn: 0.4204832\ttotal: 1.35s\tremaining: 3.21s\n",
            "16:\tlearn: 0.4146019\ttotal: 1.44s\tremaining: 3.14s\n",
            "17:\tlearn: 0.4047178\ttotal: 1.53s\tremaining: 3.05s\n",
            "18:\tlearn: 0.3980420\ttotal: 1.62s\tremaining: 2.99s\n",
            "19:\tlearn: 0.3919588\ttotal: 1.71s\tremaining: 2.9s\n",
            "20:\tlearn: 0.3856864\ttotal: 1.79s\tremaining: 2.82s\n",
            "21:\tlearn: 0.3799814\ttotal: 1.89s\tremaining: 2.76s\n",
            "22:\tlearn: 0.3749238\ttotal: 1.98s\tremaining: 2.66s\n",
            "23:\tlearn: 0.3691186\ttotal: 2.06s\tremaining: 2.57s\n",
            "24:\tlearn: 0.3643277\ttotal: 2.15s\tremaining: 2.5s\n",
            "25:\tlearn: 0.3588697\ttotal: 2.24s\tremaining: 2.41s\n",
            "26:\tlearn: 0.3535690\ttotal: 2.33s\tremaining: 2.33s\n",
            "27:\tlearn: 0.3486954\ttotal: 2.41s\tremaining: 2.24s\n",
            "28:\tlearn: 0.3437416\ttotal: 2.49s\tremaining: 2.15s\n",
            "29:\tlearn: 0.3384278\ttotal: 2.57s\tremaining: 2.05s\n",
            "30:\tlearn: 0.3345456\ttotal: 2.65s\tremaining: 1.97s\n",
            "31:\tlearn: 0.3287572\ttotal: 2.73s\tremaining: 1.88s\n",
            "32:\tlearn: 0.3244096\ttotal: 2.81s\tremaining: 1.79s\n",
            "33:\tlearn: 0.3208312\ttotal: 2.9s\tremaining: 1.71s\n",
            "34:\tlearn: 0.3159745\ttotal: 2.99s\tremaining: 1.62s\n",
            "35:\tlearn: 0.3115008\ttotal: 3.08s\tremaining: 1.54s\n",
            "36:\tlearn: 0.3060641\ttotal: 3.18s\tremaining: 1.46s\n",
            "37:\tlearn: 0.3003004\ttotal: 3.27s\tremaining: 1.38s\n",
            "38:\tlearn: 0.2960806\ttotal: 3.35s\tremaining: 1.29s\n",
            "39:\tlearn: 0.2912440\ttotal: 3.43s\tremaining: 1.2s\n",
            "40:\tlearn: 0.2843848\ttotal: 3.52s\tremaining: 1.11s\n",
            "41:\tlearn: 0.2798259\ttotal: 3.6s\tremaining: 1.03s\n",
            "42:\tlearn: 0.2755153\ttotal: 3.69s\tremaining: 944ms\n",
            "43:\tlearn: 0.2698813\ttotal: 3.77s\tremaining: 857ms\n",
            "44:\tlearn: 0.2631332\ttotal: 3.85s\tremaining: 770ms\n",
            "45:\tlearn: 0.2585140\ttotal: 3.94s\tremaining: 686ms\n",
            "46:\tlearn: 0.2544578\ttotal: 4.03s\tremaining: 599ms\n",
            "47:\tlearn: 0.2489872\ttotal: 4.11s\tremaining: 513ms\n",
            "48:\tlearn: 0.2447668\ttotal: 4.21s\tremaining: 430ms\n",
            "49:\tlearn: 0.2425299\ttotal: 4.29s\tremaining: 343ms\n",
            "50:\tlearn: 0.2362909\ttotal: 4.37s\tremaining: 257ms\n",
            "51:\tlearn: 0.2311837\ttotal: 4.45s\tremaining: 171ms\n",
            "52:\tlearn: 0.2268768\ttotal: 4.54s\tremaining: 85.6ms\n",
            "53:\tlearn: 0.2217075\ttotal: 4.63s\tremaining: 0us\n",
            "[LightGBM] [Warning] Accuracy may be bad since you didn't explicitly set num_leaves OR 2^max_depth > num_leaves. (num_leaves=31).\n",
            "[LightGBM] [Warning] Accuracy may be bad since you didn't explicitly set num_leaves OR 2^max_depth > num_leaves. (num_leaves=31).\n",
            "[LightGBM] [Info] Number of positive: 933, number of negative: 1138\n",
            "[LightGBM] [Info] Auto-choosing row-wise multi-threading, the overhead of testing was 0.007713 seconds.\n",
            "You can set `force_row_wise=true` to remove the overhead.\n",
            "And if memory is not enough, you can set `force_col_wise=true`.\n",
            "[LightGBM] [Info] Total Bins 4236\n",
            "[LightGBM] [Info] Number of data points in the train set: 2071, number of used features: 360\n",
            "[LightGBM] [Info] [binary:BoostFromScore]: pavg=0.450507 -> initscore=-0.198622\n",
            "[LightGBM] [Info] Start training from score -0.198622\n",
            "[LightGBM] [Warning] No further splits with positive gain, best gain: -inf\n",
            "[LightGBM] [Warning] No further splits with positive gain, best gain: -inf\n",
            "[LightGBM] [Warning] No further splits with positive gain, best gain: -inf\n",
            "[LightGBM] [Warning] No further splits with positive gain, best gain: -inf\n",
            "[LightGBM] [Warning] No further splits with positive gain, best gain: -inf\n",
            "[LightGBM] [Warning] No further splits with positive gain, best gain: -inf\n",
            "[LightGBM] [Warning] No further splits with positive gain, best gain: -inf\n",
            "[LightGBM] [Warning] No further splits with positive gain, best gain: -inf\n",
            "[LightGBM] [Warning] No further splits with positive gain, best gain: -inf\n",
            "[LightGBM] [Warning] No further splits with positive gain, best gain: -inf\n",
            "[LightGBM] [Warning] No further splits with positive gain, best gain: -inf\n",
            "[LightGBM] [Warning] No further splits with positive gain, best gain: -inf\n",
            "[LightGBM] [Warning] No further splits with positive gain, best gain: -inf\n",
            "[LightGBM] [Warning] No further splits with positive gain, best gain: -inf\n",
            "[LightGBM] [Warning] No further splits with positive gain, best gain: -inf\n",
            "[LightGBM] [Warning] No further splits with positive gain, best gain: -inf\n",
            "[LightGBM] [Warning] No further splits with positive gain, best gain: -inf\n",
            "[LightGBM] [Warning] No further splits with positive gain, best gain: -inf\n",
            "[LightGBM] [Warning] No further splits with positive gain, best gain: -inf\n",
            "[LightGBM] [Warning] No further splits with positive gain, best gain: -inf\n",
            "[LightGBM] [Warning] No further splits with positive gain, best gain: -inf\n",
            "[LightGBM] [Warning] No further splits with positive gain, best gain: -inf\n",
            "[LightGBM] [Warning] No further splits with positive gain, best gain: -inf\n",
            "[LightGBM] [Warning] No further splits with positive gain, best gain: -inf\n",
            "[LightGBM] [Warning] No further splits with positive gain, best gain: -inf\n",
            "[LightGBM] [Warning] No further splits with positive gain, best gain: -inf\n",
            "[LightGBM] [Warning] No further splits with positive gain, best gain: -inf\n",
            "[LightGBM] [Warning] No further splits with positive gain, best gain: -inf\n",
            "[LightGBM] [Warning] No further splits with positive gain, best gain: -inf\n",
            "[LightGBM] [Warning] No further splits with positive gain, best gain: -inf\n",
            "[LightGBM] [Warning] No further splits with positive gain, best gain: -inf\n",
            "[LightGBM] [Warning] No further splits with positive gain, best gain: -inf\n",
            "[LightGBM] [Warning] No further splits with positive gain, best gain: -inf\n",
            "[LightGBM] [Warning] No further splits with positive gain, best gain: -inf\n",
            "[LightGBM] [Warning] No further splits with positive gain, best gain: -inf\n",
            "[LightGBM] [Warning] No further splits with positive gain, best gain: -inf\n",
            "[LightGBM] [Warning] No further splits with positive gain, best gain: -inf\n",
            "[LightGBM] [Warning] No further splits with positive gain, best gain: -inf\n",
            "[LightGBM] [Warning] No further splits with positive gain, best gain: -inf\n",
            "[LightGBM] [Warning] No further splits with positive gain, best gain: -inf\n",
            "[LightGBM] [Warning] No further splits with positive gain, best gain: -inf\n",
            "[LightGBM] [Warning] No further splits with positive gain, best gain: -inf\n",
            "[LightGBM] [Warning] No further splits with positive gain, best gain: -inf\n",
            "[LightGBM] [Warning] No further splits with positive gain, best gain: -inf\n",
            "[LightGBM] [Warning] No further splits with positive gain, best gain: -inf\n",
            "[LightGBM] [Warning] No further splits with positive gain, best gain: -inf\n",
            "[LightGBM] [Warning] No further splits with positive gain, best gain: -inf\n",
            "[LightGBM] [Warning] No further splits with positive gain, best gain: -inf\n",
            "[LightGBM] [Warning] No further splits with positive gain, best gain: -inf\n",
            "[LightGBM] [Warning] No further splits with positive gain, best gain: -inf\n",
            "[LightGBM] [Warning] No further splits with positive gain, best gain: -inf\n",
            "[LightGBM] [Warning] No further splits with positive gain, best gain: -inf\n",
            "[LightGBM] [Warning] No further splits with positive gain, best gain: -inf\n",
            "[LightGBM] [Warning] No further splits with positive gain, best gain: -inf\n",
            "[LightGBM] [Warning] No further splits with positive gain, best gain: -inf\n",
            "[LightGBM] [Warning] No further splits with positive gain, best gain: -inf\n",
            "[LightGBM] [Warning] No further splits with positive gain, best gain: -inf\n",
            "[LightGBM] [Warning] No further splits with positive gain, best gain: -inf\n",
            "[LightGBM] [Warning] No further splits with positive gain, best gain: -inf\n",
            "[LightGBM] [Warning] No further splits with positive gain, best gain: -inf\n",
            "[LightGBM] [Warning] No further splits with positive gain, best gain: -inf\n",
            "[LightGBM] [Warning] No further splits with positive gain, best gain: -inf\n",
            "[LightGBM] [Warning] No further splits with positive gain, best gain: -inf\n",
            "[LightGBM] [Warning] No further splits with positive gain, best gain: -inf\n",
            "[LightGBM] [Warning] No further splits with positive gain, best gain: -inf\n",
            "[LightGBM] [Warning] No further splits with positive gain, best gain: -inf\n",
            "[LightGBM] [Warning] No further splits with positive gain, best gain: -inf\n",
            "[LightGBM] [Warning] No further splits with positive gain, best gain: -inf\n",
            "[LightGBM] [Warning] No further splits with positive gain, best gain: -inf\n",
            "[LightGBM] [Warning] No further splits with positive gain, best gain: -inf\n",
            "[LightGBM] [Warning] No further splits with positive gain, best gain: -inf\n",
            "[LightGBM] [Warning] No further splits with positive gain, best gain: -inf\n",
            "[LightGBM] [Warning] No further splits with positive gain, best gain: -inf\n",
            "[LightGBM] [Warning] No further splits with positive gain, best gain: -inf\n",
            "[LightGBM] [Warning] No further splits with positive gain, best gain: -inf\n",
            "[LightGBM] [Warning] No further splits with positive gain, best gain: -inf\n",
            "[LightGBM] [Warning] No further splits with positive gain, best gain: -inf\n",
            "[LightGBM] [Warning] No further splits with positive gain, best gain: -inf\n",
            "[LightGBM] [Warning] No further splits with positive gain, best gain: -inf\n",
            "[LightGBM] [Warning] No further splits with positive gain, best gain: -inf\n",
            "[LightGBM] [Warning] No further splits with positive gain, best gain: -inf\n",
            "[LightGBM] [Warning] No further splits with positive gain, best gain: -inf\n",
            "[LightGBM] [Warning] No further splits with positive gain, best gain: -inf\n",
            "[LightGBM] [Warning] No further splits with positive gain, best gain: -inf\n",
            "[LightGBM] [Warning] No further splits with positive gain, best gain: -inf\n",
            "[LightGBM] [Warning] No further splits with positive gain, best gain: -inf\n",
            "[LightGBM] [Warning] No further splits with positive gain, best gain: -inf\n",
            "[LightGBM] [Warning] No further splits with positive gain, best gain: -inf\n",
            "[LightGBM] [Warning] No further splits with positive gain, best gain: -inf\n",
            "[LightGBM] [Warning] No further splits with positive gain, best gain: -inf\n",
            "[LightGBM] [Warning] No further splits with positive gain, best gain: -inf\n",
            "[LightGBM] [Warning] No further splits with positive gain, best gain: -inf\n",
            "[LightGBM] [Warning] No further splits with positive gain, best gain: -inf\n",
            "[LightGBM] [Warning] No further splits with positive gain, best gain: -inf\n",
            "[LightGBM] [Warning] No further splits with positive gain, best gain: -inf\n",
            "[LightGBM] [Warning] No further splits with positive gain, best gain: -inf\n",
            "[LightGBM] [Warning] No further splits with positive gain, best gain: -inf\n",
            "[LightGBM] [Warning] No further splits with positive gain, best gain: -inf\n",
            "[LightGBM] [Warning] No further splits with positive gain, best gain: -inf\n",
            "[LightGBM] [Warning] No further splits with positive gain, best gain: -inf\n",
            "[LightGBM] [Warning] Accuracy may be bad since you didn't explicitly set num_leaves OR 2^max_depth > num_leaves. (num_leaves=31).\n",
            "[LightGBM] [Warning] Accuracy may be bad since you didn't explicitly set num_leaves OR 2^max_depth > num_leaves. (num_leaves=31).\n",
            "[LightGBM] [Warning] Accuracy may be bad since you didn't explicitly set num_leaves OR 2^max_depth > num_leaves. (num_leaves=31).\n",
            "[LightGBM] [Info] Number of positive: 933, number of negative: 1138\n",
            "[LightGBM] [Info] Auto-choosing row-wise multi-threading, the overhead of testing was 0.005849 seconds.\n",
            "You can set `force_row_wise=true` to remove the overhead.\n",
            "And if memory is not enough, you can set `force_col_wise=true`.\n",
            "[LightGBM] [Info] Total Bins 4239\n",
            "[LightGBM] [Info] Number of data points in the train set: 2071, number of used features: 360\n",
            "[LightGBM] [Info] [binary:BoostFromScore]: pavg=0.450507 -> initscore=-0.198622\n",
            "[LightGBM] [Info] Start training from score -0.198622\n",
            "[LightGBM] [Warning] No further splits with positive gain, best gain: -inf\n",
            "[LightGBM] [Warning] No further splits with positive gain, best gain: -inf\n",
            "[LightGBM] [Warning] No further splits with positive gain, best gain: -inf\n",
            "[LightGBM] [Warning] No further splits with positive gain, best gain: -inf\n",
            "[LightGBM] [Warning] No further splits with positive gain, best gain: -inf\n",
            "[LightGBM] [Warning] No further splits with positive gain, best gain: -inf\n",
            "[LightGBM] [Warning] No further splits with positive gain, best gain: -inf\n",
            "[LightGBM] [Warning] No further splits with positive gain, best gain: -inf\n",
            "[LightGBM] [Warning] No further splits with positive gain, best gain: -inf\n",
            "[LightGBM] [Warning] No further splits with positive gain, best gain: -inf\n",
            "[LightGBM] [Warning] No further splits with positive gain, best gain: -inf\n",
            "[LightGBM] [Warning] No further splits with positive gain, best gain: -inf\n",
            "[LightGBM] [Warning] No further splits with positive gain, best gain: -inf\n",
            "[LightGBM] [Warning] No further splits with positive gain, best gain: -inf\n",
            "[LightGBM] [Warning] No further splits with positive gain, best gain: -inf\n",
            "[LightGBM] [Warning] No further splits with positive gain, best gain: -inf\n",
            "[LightGBM] [Warning] No further splits with positive gain, best gain: -inf\n",
            "[LightGBM] [Warning] No further splits with positive gain, best gain: -inf\n",
            "[LightGBM] [Warning] No further splits with positive gain, best gain: -inf\n",
            "[LightGBM] [Warning] No further splits with positive gain, best gain: -inf\n",
            "[LightGBM] [Warning] No further splits with positive gain, best gain: -inf\n",
            "[LightGBM] [Warning] No further splits with positive gain, best gain: -inf\n",
            "[LightGBM] [Warning] No further splits with positive gain, best gain: -inf\n",
            "[LightGBM] [Warning] No further splits with positive gain, best gain: -inf\n",
            "[LightGBM] [Warning] No further splits with positive gain, best gain: -inf\n",
            "[LightGBM] [Warning] No further splits with positive gain, best gain: -inf\n",
            "[LightGBM] [Warning] No further splits with positive gain, best gain: -inf\n",
            "[LightGBM] [Warning] No further splits with positive gain, best gain: -inf\n",
            "[LightGBM] [Warning] No further splits with positive gain, best gain: -inf\n",
            "[LightGBM] [Warning] No further splits with positive gain, best gain: -inf\n",
            "[LightGBM] [Warning] No further splits with positive gain, best gain: -inf\n",
            "[LightGBM] [Warning] No further splits with positive gain, best gain: -inf\n",
            "[LightGBM] [Warning] No further splits with positive gain, best gain: -inf\n",
            "[LightGBM] [Warning] No further splits with positive gain, best gain: -inf\n",
            "[LightGBM] [Warning] No further splits with positive gain, best gain: -inf\n",
            "[LightGBM] [Warning] No further splits with positive gain, best gain: -inf\n",
            "[LightGBM] [Warning] No further splits with positive gain, best gain: -inf\n",
            "[LightGBM] [Warning] No further splits with positive gain, best gain: -inf\n",
            "[LightGBM] [Warning] No further splits with positive gain, best gain: -inf\n",
            "[LightGBM] [Warning] No further splits with positive gain, best gain: -inf\n",
            "[LightGBM] [Warning] No further splits with positive gain, best gain: -inf\n",
            "[LightGBM] [Warning] No further splits with positive gain, best gain: -inf\n",
            "[LightGBM] [Warning] No further splits with positive gain, best gain: -inf\n",
            "[LightGBM] [Warning] No further splits with positive gain, best gain: -inf\n",
            "[LightGBM] [Warning] No further splits with positive gain, best gain: -inf\n",
            "[LightGBM] [Warning] No further splits with positive gain, best gain: -inf\n",
            "[LightGBM] [Warning] No further splits with positive gain, best gain: -inf\n",
            "[LightGBM] [Warning] No further splits with positive gain, best gain: -inf\n",
            "[LightGBM] [Warning] No further splits with positive gain, best gain: -inf\n",
            "[LightGBM] [Warning] No further splits with positive gain, best gain: -inf\n",
            "[LightGBM] [Warning] No further splits with positive gain, best gain: -inf\n",
            "[LightGBM] [Warning] No further splits with positive gain, best gain: -inf\n",
            "[LightGBM] [Warning] No further splits with positive gain, best gain: -inf\n",
            "[LightGBM] [Warning] No further splits with positive gain, best gain: -inf\n",
            "[LightGBM] [Warning] No further splits with positive gain, best gain: -inf\n",
            "[LightGBM] [Warning] No further splits with positive gain, best gain: -inf\n",
            "[LightGBM] [Warning] No further splits with positive gain, best gain: -inf\n",
            "[LightGBM] [Warning] No further splits with positive gain, best gain: -inf\n",
            "[LightGBM] [Warning] No further splits with positive gain, best gain: -inf\n",
            "[LightGBM] [Warning] No further splits with positive gain, best gain: -inf\n",
            "[LightGBM] [Warning] No further splits with positive gain, best gain: -inf\n",
            "[LightGBM] [Warning] No further splits with positive gain, best gain: -inf\n",
            "[LightGBM] [Warning] No further splits with positive gain, best gain: -inf\n",
            "[LightGBM] [Warning] No further splits with positive gain, best gain: -inf\n",
            "[LightGBM] [Warning] No further splits with positive gain, best gain: -inf\n",
            "[LightGBM] [Warning] No further splits with positive gain, best gain: -inf\n",
            "[LightGBM] [Warning] No further splits with positive gain, best gain: -inf\n",
            "[LightGBM] [Warning] No further splits with positive gain, best gain: -inf\n",
            "[LightGBM] [Warning] No further splits with positive gain, best gain: -inf\n",
            "[LightGBM] [Warning] No further splits with positive gain, best gain: -inf\n",
            "[LightGBM] [Warning] No further splits with positive gain, best gain: -inf\n",
            "[LightGBM] [Warning] No further splits with positive gain, best gain: -inf\n",
            "[LightGBM] [Warning] No further splits with positive gain, best gain: -inf\n",
            "[LightGBM] [Warning] No further splits with positive gain, best gain: -inf\n",
            "[LightGBM] [Warning] No further splits with positive gain, best gain: -inf\n",
            "[LightGBM] [Warning] No further splits with positive gain, best gain: -inf\n",
            "[LightGBM] [Warning] No further splits with positive gain, best gain: -inf\n",
            "[LightGBM] [Warning] No further splits with positive gain, best gain: -inf\n",
            "[LightGBM] [Warning] No further splits with positive gain, best gain: -inf\n",
            "[LightGBM] [Warning] No further splits with positive gain, best gain: -inf\n",
            "[LightGBM] [Warning] No further splits with positive gain, best gain: -inf\n",
            "[LightGBM] [Warning] No further splits with positive gain, best gain: -inf\n",
            "[LightGBM] [Warning] No further splits with positive gain, best gain: -inf\n",
            "[LightGBM] [Warning] No further splits with positive gain, best gain: -inf\n",
            "[LightGBM] [Warning] No further splits with positive gain, best gain: -inf\n",
            "[LightGBM] [Warning] No further splits with positive gain, best gain: -inf\n",
            "[LightGBM] [Warning] No further splits with positive gain, best gain: -inf\n",
            "[LightGBM] [Warning] No further splits with positive gain, best gain: -inf\n",
            "[LightGBM] [Warning] No further splits with positive gain, best gain: -inf\n",
            "[LightGBM] [Warning] No further splits with positive gain, best gain: -inf\n",
            "[LightGBM] [Warning] No further splits with positive gain, best gain: -inf\n",
            "[LightGBM] [Warning] No further splits with positive gain, best gain: -inf\n",
            "[LightGBM] [Warning] No further splits with positive gain, best gain: -inf\n",
            "[LightGBM] [Warning] No further splits with positive gain, best gain: -inf\n",
            "[LightGBM] [Warning] No further splits with positive gain, best gain: -inf\n",
            "[LightGBM] [Warning] No further splits with positive gain, best gain: -inf\n",
            "[LightGBM] [Warning] No further splits with positive gain, best gain: -inf\n",
            "[LightGBM] [Warning] No further splits with positive gain, best gain: -inf\n",
            "[LightGBM] [Warning] No further splits with positive gain, best gain: -inf\n",
            "[LightGBM] [Warning] No further splits with positive gain, best gain: -inf\n",
            "[LightGBM] [Warning] Accuracy may be bad since you didn't explicitly set num_leaves OR 2^max_depth > num_leaves. (num_leaves=31).\n",
            "[LightGBM] [Warning] Accuracy may be bad since you didn't explicitly set num_leaves OR 2^max_depth > num_leaves. (num_leaves=31).\n",
            "[LightGBM] [Warning] Accuracy may be bad since you didn't explicitly set num_leaves OR 2^max_depth > num_leaves. (num_leaves=31).\n",
            "[LightGBM] [Info] Number of positive: 934, number of negative: 1137\n",
            "[LightGBM] [Info] Auto-choosing row-wise multi-threading, the overhead of testing was 0.010372 seconds.\n",
            "You can set `force_row_wise=true` to remove the overhead.\n",
            "And if memory is not enough, you can set `force_col_wise=true`.\n",
            "[LightGBM] [Info] Total Bins 4378\n",
            "[LightGBM] [Info] Number of data points in the train set: 2071, number of used features: 373\n",
            "[LightGBM] [Info] [binary:BoostFromScore]: pavg=0.450990 -> initscore=-0.196672\n",
            "[LightGBM] [Info] Start training from score -0.196672\n",
            "[LightGBM] [Warning] No further splits with positive gain, best gain: -inf\n",
            "[LightGBM] [Warning] No further splits with positive gain, best gain: -inf\n",
            "[LightGBM] [Warning] No further splits with positive gain, best gain: -inf\n",
            "[LightGBM] [Warning] No further splits with positive gain, best gain: -inf\n",
            "[LightGBM] [Warning] No further splits with positive gain, best gain: -inf\n",
            "[LightGBM] [Warning] No further splits with positive gain, best gain: -inf\n",
            "[LightGBM] [Warning] No further splits with positive gain, best gain: -inf\n",
            "[LightGBM] [Warning] No further splits with positive gain, best gain: -inf\n",
            "[LightGBM] [Warning] No further splits with positive gain, best gain: -inf\n",
            "[LightGBM] [Warning] No further splits with positive gain, best gain: -inf\n",
            "[LightGBM] [Warning] No further splits with positive gain, best gain: -inf\n",
            "[LightGBM] [Warning] No further splits with positive gain, best gain: -inf\n",
            "[LightGBM] [Warning] No further splits with positive gain, best gain: -inf\n",
            "[LightGBM] [Warning] No further splits with positive gain, best gain: -inf\n",
            "[LightGBM] [Warning] No further splits with positive gain, best gain: -inf\n",
            "[LightGBM] [Warning] No further splits with positive gain, best gain: -inf\n",
            "[LightGBM] [Warning] No further splits with positive gain, best gain: -inf\n",
            "[LightGBM] [Warning] No further splits with positive gain, best gain: -inf\n",
            "[LightGBM] [Warning] No further splits with positive gain, best gain: -inf\n",
            "[LightGBM] [Warning] No further splits with positive gain, best gain: -inf\n",
            "[LightGBM] [Warning] No further splits with positive gain, best gain: -inf\n",
            "[LightGBM] [Warning] No further splits with positive gain, best gain: -inf\n",
            "[LightGBM] [Warning] No further splits with positive gain, best gain: -inf\n",
            "[LightGBM] [Warning] No further splits with positive gain, best gain: -inf\n",
            "[LightGBM] [Warning] No further splits with positive gain, best gain: -inf\n",
            "[LightGBM] [Warning] No further splits with positive gain, best gain: -inf\n",
            "[LightGBM] [Warning] No further splits with positive gain, best gain: -inf\n",
            "[LightGBM] [Warning] No further splits with positive gain, best gain: -inf\n",
            "[LightGBM] [Warning] No further splits with positive gain, best gain: -inf\n",
            "[LightGBM] [Warning] No further splits with positive gain, best gain: -inf\n",
            "[LightGBM] [Warning] No further splits with positive gain, best gain: -inf\n",
            "[LightGBM] [Warning] No further splits with positive gain, best gain: -inf\n",
            "[LightGBM] [Warning] No further splits with positive gain, best gain: -inf\n",
            "[LightGBM] [Warning] No further splits with positive gain, best gain: -inf\n",
            "[LightGBM] [Warning] No further splits with positive gain, best gain: -inf\n",
            "[LightGBM] [Warning] No further splits with positive gain, best gain: -inf\n",
            "[LightGBM] [Warning] No further splits with positive gain, best gain: -inf\n",
            "[LightGBM] [Warning] No further splits with positive gain, best gain: -inf\n",
            "[LightGBM] [Warning] No further splits with positive gain, best gain: -inf\n",
            "[LightGBM] [Warning] No further splits with positive gain, best gain: -inf\n",
            "[LightGBM] [Warning] No further splits with positive gain, best gain: -inf\n",
            "[LightGBM] [Warning] No further splits with positive gain, best gain: -inf\n",
            "[LightGBM] [Warning] No further splits with positive gain, best gain: -inf\n",
            "[LightGBM] [Warning] No further splits with positive gain, best gain: -inf\n",
            "[LightGBM] [Warning] No further splits with positive gain, best gain: -inf\n",
            "[LightGBM] [Warning] No further splits with positive gain, best gain: -inf\n",
            "[LightGBM] [Warning] No further splits with positive gain, best gain: -inf\n",
            "[LightGBM] [Warning] No further splits with positive gain, best gain: -inf\n",
            "[LightGBM] [Warning] No further splits with positive gain, best gain: -inf\n",
            "[LightGBM] [Warning] No further splits with positive gain, best gain: -inf\n",
            "[LightGBM] [Warning] No further splits with positive gain, best gain: -inf\n",
            "[LightGBM] [Warning] No further splits with positive gain, best gain: -inf\n",
            "[LightGBM] [Warning] No further splits with positive gain, best gain: -inf\n",
            "[LightGBM] [Warning] No further splits with positive gain, best gain: -inf\n",
            "[LightGBM] [Warning] No further splits with positive gain, best gain: -inf\n",
            "[LightGBM] [Warning] No further splits with positive gain, best gain: -inf\n",
            "[LightGBM] [Warning] No further splits with positive gain, best gain: -inf\n",
            "[LightGBM] [Warning] No further splits with positive gain, best gain: -inf\n",
            "[LightGBM] [Warning] No further splits with positive gain, best gain: -inf\n",
            "[LightGBM] [Warning] No further splits with positive gain, best gain: -inf\n",
            "[LightGBM] [Warning] No further splits with positive gain, best gain: -inf\n",
            "[LightGBM] [Warning] No further splits with positive gain, best gain: -inf\n",
            "[LightGBM] [Warning] No further splits with positive gain, best gain: -inf\n",
            "[LightGBM] [Warning] No further splits with positive gain, best gain: -inf\n",
            "[LightGBM] [Warning] No further splits with positive gain, best gain: -inf\n",
            "[LightGBM] [Warning] No further splits with positive gain, best gain: -inf\n",
            "[LightGBM] [Warning] No further splits with positive gain, best gain: -inf\n",
            "[LightGBM] [Warning] No further splits with positive gain, best gain: -inf\n",
            "[LightGBM] [Warning] No further splits with positive gain, best gain: -inf\n",
            "[LightGBM] [Warning] No further splits with positive gain, best gain: -inf\n",
            "[LightGBM] [Warning] No further splits with positive gain, best gain: -inf\n",
            "[LightGBM] [Warning] No further splits with positive gain, best gain: -inf\n",
            "[LightGBM] [Warning] No further splits with positive gain, best gain: -inf\n",
            "[LightGBM] [Warning] No further splits with positive gain, best gain: -inf\n",
            "[LightGBM] [Warning] No further splits with positive gain, best gain: -inf\n",
            "[LightGBM] [Warning] No further splits with positive gain, best gain: -inf\n",
            "[LightGBM] [Warning] No further splits with positive gain, best gain: -inf\n",
            "[LightGBM] [Warning] No further splits with positive gain, best gain: -inf\n",
            "[LightGBM] [Warning] No further splits with positive gain, best gain: -inf\n",
            "[LightGBM] [Warning] No further splits with positive gain, best gain: -inf\n",
            "[LightGBM] [Warning] No further splits with positive gain, best gain: -inf\n",
            "[LightGBM] [Warning] No further splits with positive gain, best gain: -inf\n",
            "[LightGBM] [Warning] No further splits with positive gain, best gain: -inf\n",
            "[LightGBM] [Warning] No further splits with positive gain, best gain: -inf\n",
            "[LightGBM] [Warning] No further splits with positive gain, best gain: -inf\n",
            "[LightGBM] [Warning] No further splits with positive gain, best gain: -inf\n",
            "[LightGBM] [Warning] No further splits with positive gain, best gain: -inf\n",
            "[LightGBM] [Warning] No further splits with positive gain, best gain: -inf\n",
            "[LightGBM] [Warning] No further splits with positive gain, best gain: -inf\n",
            "[LightGBM] [Warning] No further splits with positive gain, best gain: -inf\n",
            "[LightGBM] [Warning] No further splits with positive gain, best gain: -inf\n",
            "[LightGBM] [Warning] No further splits with positive gain, best gain: -inf\n",
            "[LightGBM] [Warning] No further splits with positive gain, best gain: -inf\n",
            "[LightGBM] [Warning] No further splits with positive gain, best gain: -inf\n",
            "[LightGBM] [Warning] No further splits with positive gain, best gain: -inf\n",
            "[LightGBM] [Warning] No further splits with positive gain, best gain: -inf\n",
            "[LightGBM] [Warning] No further splits with positive gain, best gain: -inf\n",
            "[LightGBM] [Warning] No further splits with positive gain, best gain: -inf\n",
            "[LightGBM] [Warning] No further splits with positive gain, best gain: -inf\n",
            "[LightGBM] [Warning] No further splits with positive gain, best gain: -inf\n",
            "[LightGBM] [Warning] Accuracy may be bad since you didn't explicitly set num_leaves OR 2^max_depth > num_leaves. (num_leaves=31).\n",
            "[LightGBM] [Warning] Accuracy may be bad since you didn't explicitly set num_leaves OR 2^max_depth > num_leaves. (num_leaves=31).\n",
            "[LightGBM] [Warning] Accuracy may be bad since you didn't explicitly set num_leaves OR 2^max_depth > num_leaves. (num_leaves=31).\n",
            "[LightGBM] [Info] Number of positive: 934, number of negative: 1137\n",
            "[LightGBM] [Info] Auto-choosing row-wise multi-threading, the overhead of testing was 0.008598 seconds.\n",
            "You can set `force_row_wise=true` to remove the overhead.\n",
            "And if memory is not enough, you can set `force_col_wise=true`.\n",
            "[LightGBM] [Info] Total Bins 4244\n",
            "[LightGBM] [Info] Number of data points in the train set: 2071, number of used features: 362\n",
            "[LightGBM] [Info] [binary:BoostFromScore]: pavg=0.450990 -> initscore=-0.196672\n",
            "[LightGBM] [Info] Start training from score -0.196672\n",
            "[LightGBM] [Warning] No further splits with positive gain, best gain: -inf\n",
            "[LightGBM] [Warning] No further splits with positive gain, best gain: -inf\n",
            "[LightGBM] [Warning] No further splits with positive gain, best gain: -inf\n",
            "[LightGBM] [Warning] No further splits with positive gain, best gain: -inf\n",
            "[LightGBM] [Warning] No further splits with positive gain, best gain: -inf\n",
            "[LightGBM] [Warning] No further splits with positive gain, best gain: -inf\n",
            "[LightGBM] [Warning] No further splits with positive gain, best gain: -inf\n",
            "[LightGBM] [Warning] No further splits with positive gain, best gain: -inf\n",
            "[LightGBM] [Warning] No further splits with positive gain, best gain: -inf\n",
            "[LightGBM] [Warning] No further splits with positive gain, best gain: -inf\n",
            "[LightGBM] [Warning] No further splits with positive gain, best gain: -inf\n",
            "[LightGBM] [Warning] No further splits with positive gain, best gain: -inf\n",
            "[LightGBM] [Warning] No further splits with positive gain, best gain: -inf\n",
            "[LightGBM] [Warning] No further splits with positive gain, best gain: -inf\n",
            "[LightGBM] [Warning] No further splits with positive gain, best gain: -inf\n",
            "[LightGBM] [Warning] No further splits with positive gain, best gain: -inf\n",
            "[LightGBM] [Warning] No further splits with positive gain, best gain: -inf\n",
            "[LightGBM] [Warning] No further splits with positive gain, best gain: -inf\n",
            "[LightGBM] [Warning] No further splits with positive gain, best gain: -inf\n",
            "[LightGBM] [Warning] No further splits with positive gain, best gain: -inf\n",
            "[LightGBM] [Warning] No further splits with positive gain, best gain: -inf\n",
            "[LightGBM] [Warning] No further splits with positive gain, best gain: -inf\n",
            "[LightGBM] [Warning] No further splits with positive gain, best gain: -inf\n",
            "[LightGBM] [Warning] No further splits with positive gain, best gain: -inf\n",
            "[LightGBM] [Warning] No further splits with positive gain, best gain: -inf\n",
            "[LightGBM] [Warning] No further splits with positive gain, best gain: -inf\n",
            "[LightGBM] [Warning] No further splits with positive gain, best gain: -inf\n",
            "[LightGBM] [Warning] No further splits with positive gain, best gain: -inf\n",
            "[LightGBM] [Warning] No further splits with positive gain, best gain: -inf\n",
            "[LightGBM] [Warning] No further splits with positive gain, best gain: -inf\n",
            "[LightGBM] [Warning] No further splits with positive gain, best gain: -inf\n",
            "[LightGBM] [Warning] No further splits with positive gain, best gain: -inf\n",
            "[LightGBM] [Warning] No further splits with positive gain, best gain: -inf\n",
            "[LightGBM] [Warning] No further splits with positive gain, best gain: -inf\n",
            "[LightGBM] [Warning] No further splits with positive gain, best gain: -inf\n",
            "[LightGBM] [Warning] No further splits with positive gain, best gain: -inf\n",
            "[LightGBM] [Warning] No further splits with positive gain, best gain: -inf\n",
            "[LightGBM] [Warning] No further splits with positive gain, best gain: -inf\n",
            "[LightGBM] [Warning] No further splits with positive gain, best gain: -inf\n",
            "[LightGBM] [Warning] No further splits with positive gain, best gain: -inf\n",
            "[LightGBM] [Warning] No further splits with positive gain, best gain: -inf\n",
            "[LightGBM] [Warning] No further splits with positive gain, best gain: -inf\n",
            "[LightGBM] [Warning] No further splits with positive gain, best gain: -inf\n",
            "[LightGBM] [Warning] No further splits with positive gain, best gain: -inf\n",
            "[LightGBM] [Warning] No further splits with positive gain, best gain: -inf\n",
            "[LightGBM] [Warning] No further splits with positive gain, best gain: -inf\n",
            "[LightGBM] [Warning] No further splits with positive gain, best gain: -inf\n",
            "[LightGBM] [Warning] No further splits with positive gain, best gain: -inf\n",
            "[LightGBM] [Warning] No further splits with positive gain, best gain: -inf\n",
            "[LightGBM] [Warning] No further splits with positive gain, best gain: -inf\n",
            "[LightGBM] [Warning] No further splits with positive gain, best gain: -inf\n",
            "[LightGBM] [Warning] No further splits with positive gain, best gain: -inf\n",
            "[LightGBM] [Warning] No further splits with positive gain, best gain: -inf\n",
            "[LightGBM] [Warning] No further splits with positive gain, best gain: -inf\n",
            "[LightGBM] [Warning] No further splits with positive gain, best gain: -inf\n",
            "[LightGBM] [Warning] No further splits with positive gain, best gain: -inf\n",
            "[LightGBM] [Warning] No further splits with positive gain, best gain: -inf\n",
            "[LightGBM] [Warning] No further splits with positive gain, best gain: -inf\n",
            "[LightGBM] [Warning] No further splits with positive gain, best gain: -inf\n",
            "[LightGBM] [Warning] No further splits with positive gain, best gain: -inf\n",
            "[LightGBM] [Warning] No further splits with positive gain, best gain: -inf\n",
            "[LightGBM] [Warning] No further splits with positive gain, best gain: -inf\n",
            "[LightGBM] [Warning] No further splits with positive gain, best gain: -inf\n",
            "[LightGBM] [Warning] No further splits with positive gain, best gain: -inf\n",
            "[LightGBM] [Warning] No further splits with positive gain, best gain: -inf\n",
            "[LightGBM] [Warning] No further splits with positive gain, best gain: -inf\n",
            "[LightGBM] [Warning] No further splits with positive gain, best gain: -inf\n",
            "[LightGBM] [Warning] No further splits with positive gain, best gain: -inf\n",
            "[LightGBM] [Warning] No further splits with positive gain, best gain: -inf\n",
            "[LightGBM] [Warning] No further splits with positive gain, best gain: -inf\n",
            "[LightGBM] [Warning] No further splits with positive gain, best gain: -inf\n",
            "[LightGBM] [Warning] No further splits with positive gain, best gain: -inf\n",
            "[LightGBM] [Warning] No further splits with positive gain, best gain: -inf\n",
            "[LightGBM] [Warning] No further splits with positive gain, best gain: -inf\n",
            "[LightGBM] [Warning] No further splits with positive gain, best gain: -inf\n",
            "[LightGBM] [Warning] No further splits with positive gain, best gain: -inf\n",
            "[LightGBM] [Warning] No further splits with positive gain, best gain: -inf\n",
            "[LightGBM] [Warning] No further splits with positive gain, best gain: -inf\n",
            "[LightGBM] [Warning] No further splits with positive gain, best gain: -inf\n",
            "[LightGBM] [Warning] No further splits with positive gain, best gain: -inf\n",
            "[LightGBM] [Warning] No further splits with positive gain, best gain: -inf\n",
            "[LightGBM] [Warning] No further splits with positive gain, best gain: -inf\n",
            "[LightGBM] [Warning] No further splits with positive gain, best gain: -inf\n",
            "[LightGBM] [Warning] No further splits with positive gain, best gain: -inf\n",
            "[LightGBM] [Warning] No further splits with positive gain, best gain: -inf\n",
            "[LightGBM] [Warning] No further splits with positive gain, best gain: -inf\n",
            "[LightGBM] [Warning] No further splits with positive gain, best gain: -inf\n",
            "[LightGBM] [Warning] No further splits with positive gain, best gain: -inf\n",
            "[LightGBM] [Warning] No further splits with positive gain, best gain: -inf\n",
            "[LightGBM] [Warning] No further splits with positive gain, best gain: -inf\n",
            "[LightGBM] [Warning] No further splits with positive gain, best gain: -inf\n",
            "[LightGBM] [Warning] No further splits with positive gain, best gain: -inf\n",
            "[LightGBM] [Warning] No further splits with positive gain, best gain: -inf\n",
            "[LightGBM] [Warning] No further splits with positive gain, best gain: -inf\n",
            "[LightGBM] [Warning] No further splits with positive gain, best gain: -inf\n",
            "[LightGBM] [Warning] No further splits with positive gain, best gain: -inf\n",
            "[LightGBM] [Warning] No further splits with positive gain, best gain: -inf\n",
            "[LightGBM] [Warning] No further splits with positive gain, best gain: -inf\n",
            "[LightGBM] [Warning] No further splits with positive gain, best gain: -inf\n",
            "[LightGBM] [Warning] No further splits with positive gain, best gain: -inf\n",
            "[LightGBM] [Warning] Accuracy may be bad since you didn't explicitly set num_leaves OR 2^max_depth > num_leaves. (num_leaves=31).\n",
            "[LightGBM] [Warning] Accuracy may be bad since you didn't explicitly set num_leaves OR 2^max_depth > num_leaves. (num_leaves=31).\n",
            "[LightGBM] [Warning] Accuracy may be bad since you didn't explicitly set num_leaves OR 2^max_depth > num_leaves. (num_leaves=31).\n",
            "[LightGBM] [Info] Number of positive: 934, number of negative: 1138\n",
            "[LightGBM] [Info] Auto-choosing row-wise multi-threading, the overhead of testing was 0.006220 seconds.\n",
            "You can set `force_row_wise=true` to remove the overhead.\n",
            "And if memory is not enough, you can set `force_col_wise=true`.\n",
            "[LightGBM] [Info] Total Bins 3921\n",
            "[LightGBM] [Info] Number of data points in the train set: 2072, number of used features: 348\n",
            "[LightGBM] [Info] [binary:BoostFromScore]: pavg=0.450772 -> initscore=-0.197551\n",
            "[LightGBM] [Info] Start training from score -0.197551\n",
            "[LightGBM] [Warning] No further splits with positive gain, best gain: -inf\n",
            "[LightGBM] [Warning] No further splits with positive gain, best gain: -inf\n",
            "[LightGBM] [Warning] No further splits with positive gain, best gain: -inf\n",
            "[LightGBM] [Warning] No further splits with positive gain, best gain: -inf\n",
            "[LightGBM] [Warning] No further splits with positive gain, best gain: -inf\n",
            "[LightGBM] [Warning] No further splits with positive gain, best gain: -inf\n",
            "[LightGBM] [Warning] No further splits with positive gain, best gain: -inf\n",
            "[LightGBM] [Warning] No further splits with positive gain, best gain: -inf\n",
            "[LightGBM] [Warning] No further splits with positive gain, best gain: -inf\n",
            "[LightGBM] [Warning] No further splits with positive gain, best gain: -inf\n",
            "[LightGBM] [Warning] No further splits with positive gain, best gain: -inf\n",
            "[LightGBM] [Warning] No further splits with positive gain, best gain: -inf\n",
            "[LightGBM] [Warning] No further splits with positive gain, best gain: -inf\n",
            "[LightGBM] [Warning] No further splits with positive gain, best gain: -inf\n",
            "[LightGBM] [Warning] No further splits with positive gain, best gain: -inf\n",
            "[LightGBM] [Warning] No further splits with positive gain, best gain: -inf\n",
            "[LightGBM] [Warning] No further splits with positive gain, best gain: -inf\n",
            "[LightGBM] [Warning] No further splits with positive gain, best gain: -inf\n",
            "[LightGBM] [Warning] No further splits with positive gain, best gain: -inf\n",
            "[LightGBM] [Warning] No further splits with positive gain, best gain: -inf\n",
            "[LightGBM] [Warning] No further splits with positive gain, best gain: -inf\n",
            "[LightGBM] [Warning] No further splits with positive gain, best gain: -inf\n",
            "[LightGBM] [Warning] No further splits with positive gain, best gain: -inf\n",
            "[LightGBM] [Warning] No further splits with positive gain, best gain: -inf\n",
            "[LightGBM] [Warning] No further splits with positive gain, best gain: -inf\n",
            "[LightGBM] [Warning] No further splits with positive gain, best gain: -inf\n",
            "[LightGBM] [Warning] No further splits with positive gain, best gain: -inf\n",
            "[LightGBM] [Warning] No further splits with positive gain, best gain: -inf\n",
            "[LightGBM] [Warning] No further splits with positive gain, best gain: -inf\n",
            "[LightGBM] [Warning] No further splits with positive gain, best gain: -inf\n",
            "[LightGBM] [Warning] No further splits with positive gain, best gain: -inf\n",
            "[LightGBM] [Warning] No further splits with positive gain, best gain: -inf\n",
            "[LightGBM] [Warning] No further splits with positive gain, best gain: -inf\n",
            "[LightGBM] [Warning] No further splits with positive gain, best gain: -inf\n",
            "[LightGBM] [Warning] No further splits with positive gain, best gain: -inf\n",
            "[LightGBM] [Warning] No further splits with positive gain, best gain: -inf\n",
            "[LightGBM] [Warning] No further splits with positive gain, best gain: -inf\n",
            "[LightGBM] [Warning] No further splits with positive gain, best gain: -inf\n",
            "[LightGBM] [Warning] No further splits with positive gain, best gain: -inf\n",
            "[LightGBM] [Warning] No further splits with positive gain, best gain: -inf\n",
            "[LightGBM] [Warning] No further splits with positive gain, best gain: -inf\n",
            "[LightGBM] [Warning] No further splits with positive gain, best gain: -inf\n",
            "[LightGBM] [Warning] No further splits with positive gain, best gain: -inf\n",
            "[LightGBM] [Warning] No further splits with positive gain, best gain: -inf\n",
            "[LightGBM] [Warning] No further splits with positive gain, best gain: -inf\n",
            "[LightGBM] [Warning] No further splits with positive gain, best gain: -inf\n",
            "[LightGBM] [Warning] No further splits with positive gain, best gain: -inf\n",
            "[LightGBM] [Warning] No further splits with positive gain, best gain: -inf\n",
            "[LightGBM] [Warning] No further splits with positive gain, best gain: -inf\n",
            "[LightGBM] [Warning] No further splits with positive gain, best gain: -inf\n",
            "[LightGBM] [Warning] No further splits with positive gain, best gain: -inf\n",
            "[LightGBM] [Warning] No further splits with positive gain, best gain: -inf\n",
            "[LightGBM] [Warning] No further splits with positive gain, best gain: -inf\n",
            "[LightGBM] [Warning] No further splits with positive gain, best gain: -inf\n",
            "[LightGBM] [Warning] No further splits with positive gain, best gain: -inf\n",
            "[LightGBM] [Warning] No further splits with positive gain, best gain: -inf\n",
            "[LightGBM] [Warning] No further splits with positive gain, best gain: -inf\n",
            "[LightGBM] [Warning] No further splits with positive gain, best gain: -inf\n",
            "[LightGBM] [Warning] No further splits with positive gain, best gain: -inf\n",
            "[LightGBM] [Warning] No further splits with positive gain, best gain: -inf\n",
            "[LightGBM] [Warning] No further splits with positive gain, best gain: -inf\n",
            "[LightGBM] [Warning] No further splits with positive gain, best gain: -inf\n",
            "[LightGBM] [Warning] No further splits with positive gain, best gain: -inf\n",
            "[LightGBM] [Warning] No further splits with positive gain, best gain: -inf\n",
            "[LightGBM] [Warning] No further splits with positive gain, best gain: -inf\n",
            "[LightGBM] [Warning] No further splits with positive gain, best gain: -inf\n",
            "[LightGBM] [Warning] No further splits with positive gain, best gain: -inf\n",
            "[LightGBM] [Warning] No further splits with positive gain, best gain: -inf\n",
            "[LightGBM] [Warning] No further splits with positive gain, best gain: -inf\n",
            "[LightGBM] [Warning] No further splits with positive gain, best gain: -inf\n",
            "[LightGBM] [Warning] No further splits with positive gain, best gain: -inf\n",
            "[LightGBM] [Warning] No further splits with positive gain, best gain: -inf\n",
            "[LightGBM] [Warning] No further splits with positive gain, best gain: -inf\n",
            "[LightGBM] [Warning] No further splits with positive gain, best gain: -inf\n",
            "[LightGBM] [Warning] No further splits with positive gain, best gain: -inf\n",
            "[LightGBM] [Warning] No further splits with positive gain, best gain: -inf\n",
            "[LightGBM] [Warning] No further splits with positive gain, best gain: -inf\n",
            "[LightGBM] [Warning] No further splits with positive gain, best gain: -inf\n",
            "[LightGBM] [Warning] No further splits with positive gain, best gain: -inf\n",
            "[LightGBM] [Warning] No further splits with positive gain, best gain: -inf\n",
            "[LightGBM] [Warning] No further splits with positive gain, best gain: -inf\n",
            "[LightGBM] [Warning] No further splits with positive gain, best gain: -inf\n",
            "[LightGBM] [Warning] No further splits with positive gain, best gain: -inf\n",
            "[LightGBM] [Warning] No further splits with positive gain, best gain: -inf\n",
            "[LightGBM] [Warning] No further splits with positive gain, best gain: -inf\n",
            "[LightGBM] [Warning] No further splits with positive gain, best gain: -inf\n",
            "[LightGBM] [Warning] No further splits with positive gain, best gain: -inf\n",
            "[LightGBM] [Warning] No further splits with positive gain, best gain: -inf\n",
            "[LightGBM] [Warning] No further splits with positive gain, best gain: -inf\n",
            "[LightGBM] [Warning] No further splits with positive gain, best gain: -inf\n",
            "[LightGBM] [Warning] No further splits with positive gain, best gain: -inf\n",
            "[LightGBM] [Warning] No further splits with positive gain, best gain: -inf\n",
            "[LightGBM] [Warning] No further splits with positive gain, best gain: -inf\n",
            "[LightGBM] [Warning] No further splits with positive gain, best gain: -inf\n",
            "[LightGBM] [Warning] No further splits with positive gain, best gain: -inf\n",
            "[LightGBM] [Warning] No further splits with positive gain, best gain: -inf\n",
            "[LightGBM] [Warning] No further splits with positive gain, best gain: -inf\n",
            "[LightGBM] [Warning] No further splits with positive gain, best gain: -inf\n",
            "[LightGBM] [Warning] No further splits with positive gain, best gain: -inf\n",
            "[LightGBM] [Warning] No further splits with positive gain, best gain: -inf\n",
            "[LightGBM] [Warning] Accuracy may be bad since you didn't explicitly set num_leaves OR 2^max_depth > num_leaves. (num_leaves=31).\n",
            "0:\tlearn: 0.6537123\ttotal: 85.3ms\tremaining: 4.52s\n",
            "1:\tlearn: 0.6165552\ttotal: 167ms\tremaining: 4.34s\n",
            "2:\tlearn: 0.5983005\ttotal: 245ms\tremaining: 4.16s\n",
            "3:\tlearn: 0.5755995\ttotal: 328ms\tremaining: 4.1s\n",
            "4:\tlearn: 0.5543610\ttotal: 404ms\tremaining: 3.96s\n",
            "5:\tlearn: 0.5360343\ttotal: 495ms\tremaining: 3.96s\n",
            "6:\tlearn: 0.5196449\ttotal: 584ms\tremaining: 3.92s\n",
            "7:\tlearn: 0.5060614\ttotal: 664ms\tremaining: 3.82s\n",
            "8:\tlearn: 0.4922369\ttotal: 743ms\tremaining: 3.71s\n",
            "9:\tlearn: 0.4826213\ttotal: 837ms\tremaining: 3.68s\n",
            "10:\tlearn: 0.4719901\ttotal: 921ms\tremaining: 3.6s\n",
            "11:\tlearn: 0.4608529\ttotal: 998ms\tremaining: 3.49s\n",
            "12:\tlearn: 0.4526502\ttotal: 1.08s\tremaining: 3.41s\n",
            "13:\tlearn: 0.4436192\ttotal: 1.16s\tremaining: 3.33s\n",
            "14:\tlearn: 0.4369723\ttotal: 1.24s\tremaining: 3.23s\n",
            "15:\tlearn: 0.4297598\ttotal: 1.33s\tremaining: 3.15s\n",
            "16:\tlearn: 0.4208993\ttotal: 1.4s\tremaining: 3.06s\n",
            "17:\tlearn: 0.4156393\ttotal: 1.49s\tremaining: 2.99s\n",
            "18:\tlearn: 0.4084069\ttotal: 1.58s\tremaining: 2.92s\n",
            "19:\tlearn: 0.4002601\ttotal: 1.67s\tremaining: 2.83s\n",
            "20:\tlearn: 0.3937855\ttotal: 1.74s\tremaining: 2.74s\n",
            "21:\tlearn: 0.3851256\ttotal: 1.83s\tremaining: 2.66s\n",
            "22:\tlearn: 0.3762071\ttotal: 1.91s\tremaining: 2.58s\n",
            "23:\tlearn: 0.3712733\ttotal: 1.99s\tremaining: 2.49s\n",
            "24:\tlearn: 0.3661437\ttotal: 2.08s\tremaining: 2.41s\n",
            "25:\tlearn: 0.3587636\ttotal: 2.16s\tremaining: 2.33s\n",
            "26:\tlearn: 0.3527146\ttotal: 2.24s\tremaining: 2.24s\n",
            "27:\tlearn: 0.3464782\ttotal: 2.32s\tremaining: 2.16s\n",
            "28:\tlearn: 0.3414198\ttotal: 2.4s\tremaining: 2.07s\n",
            "29:\tlearn: 0.3370665\ttotal: 2.48s\tremaining: 1.99s\n",
            "30:\tlearn: 0.3318042\ttotal: 2.6s\tremaining: 1.93s\n",
            "31:\tlearn: 0.3272224\ttotal: 2.67s\tremaining: 1.84s\n",
            "32:\tlearn: 0.3227509\ttotal: 2.75s\tremaining: 1.75s\n",
            "33:\tlearn: 0.3178529\ttotal: 2.83s\tremaining: 1.67s\n",
            "34:\tlearn: 0.3147704\ttotal: 2.91s\tremaining: 1.58s\n",
            "35:\tlearn: 0.3103623\ttotal: 2.99s\tremaining: 1.5s\n",
            "36:\tlearn: 0.3057533\ttotal: 3.08s\tremaining: 1.41s\n",
            "37:\tlearn: 0.3000769\ttotal: 3.15s\tremaining: 1.33s\n",
            "38:\tlearn: 0.2952152\ttotal: 3.23s\tremaining: 1.24s\n",
            "39:\tlearn: 0.2901409\ttotal: 3.32s\tremaining: 1.16s\n",
            "40:\tlearn: 0.2864961\ttotal: 3.39s\tremaining: 1.07s\n",
            "41:\tlearn: 0.2813638\ttotal: 3.47s\tremaining: 992ms\n",
            "42:\tlearn: 0.2753745\ttotal: 3.57s\tremaining: 912ms\n",
            "43:\tlearn: 0.2699879\ttotal: 3.64s\tremaining: 828ms\n",
            "44:\tlearn: 0.2645757\ttotal: 3.73s\tremaining: 745ms\n",
            "45:\tlearn: 0.2594945\ttotal: 3.81s\tremaining: 663ms\n",
            "46:\tlearn: 0.2575502\ttotal: 3.89s\tremaining: 580ms\n",
            "47:\tlearn: 0.2509473\ttotal: 3.97s\tremaining: 496ms\n",
            "48:\tlearn: 0.2457682\ttotal: 4.05s\tremaining: 413ms\n",
            "49:\tlearn: 0.2395450\ttotal: 4.12s\tremaining: 330ms\n",
            "50:\tlearn: 0.2350625\ttotal: 4.2s\tremaining: 247ms\n",
            "51:\tlearn: 0.2327071\ttotal: 4.29s\tremaining: 165ms\n",
            "52:\tlearn: 0.2279120\ttotal: 4.38s\tremaining: 82.6ms\n",
            "53:\tlearn: 0.2250983\ttotal: 4.45s\tremaining: 0us\n",
            "0:\tlearn: 0.6534517\ttotal: 86.6ms\tremaining: 4.59s\n",
            "1:\tlearn: 0.6201031\ttotal: 169ms\tremaining: 4.41s\n",
            "2:\tlearn: 0.5972880\ttotal: 250ms\tremaining: 4.26s\n",
            "3:\tlearn: 0.5719082\ttotal: 344ms\tremaining: 4.3s\n",
            "4:\tlearn: 0.5502008\ttotal: 422ms\tremaining: 4.14s\n",
            "5:\tlearn: 0.5324680\ttotal: 522ms\tremaining: 4.18s\n",
            "6:\tlearn: 0.5204450\ttotal: 694ms\tremaining: 4.66s\n",
            "7:\tlearn: 0.5025420\ttotal: 848ms\tremaining: 4.87s\n",
            "8:\tlearn: 0.4908405\ttotal: 1.01s\tremaining: 5.04s\n",
            "9:\tlearn: 0.4759252\ttotal: 1.17s\tremaining: 5.16s\n",
            "10:\tlearn: 0.4652138\ttotal: 1.32s\tremaining: 5.17s\n",
            "11:\tlearn: 0.4521607\ttotal: 1.47s\tremaining: 5.16s\n",
            "12:\tlearn: 0.4427206\ttotal: 1.63s\tremaining: 5.15s\n",
            "13:\tlearn: 0.4354593\ttotal: 1.79s\tremaining: 5.11s\n",
            "14:\tlearn: 0.4264438\ttotal: 1.95s\tremaining: 5.06s\n",
            "15:\tlearn: 0.4198405\ttotal: 2.1s\tremaining: 5s\n",
            "16:\tlearn: 0.4137928\ttotal: 2.27s\tremaining: 4.95s\n",
            "17:\tlearn: 0.4049115\ttotal: 2.43s\tremaining: 4.87s\n",
            "18:\tlearn: 0.3999649\ttotal: 2.6s\tremaining: 4.79s\n",
            "19:\tlearn: 0.3931065\ttotal: 2.75s\tremaining: 4.68s\n",
            "20:\tlearn: 0.3881993\ttotal: 2.91s\tremaining: 4.58s\n",
            "21:\tlearn: 0.3819184\ttotal: 3.07s\tremaining: 4.47s\n",
            "22:\tlearn: 0.3751951\ttotal: 3.21s\tremaining: 4.33s\n",
            "23:\tlearn: 0.3695093\ttotal: 3.35s\tremaining: 4.19s\n",
            "24:\tlearn: 0.3650737\ttotal: 3.51s\tremaining: 4.07s\n",
            "25:\tlearn: 0.3596270\ttotal: 3.67s\tremaining: 3.95s\n",
            "26:\tlearn: 0.3542010\ttotal: 3.83s\tremaining: 3.83s\n",
            "27:\tlearn: 0.3489395\ttotal: 3.99s\tremaining: 3.7s\n",
            "28:\tlearn: 0.3434822\ttotal: 4.12s\tremaining: 3.55s\n",
            "29:\tlearn: 0.3377751\ttotal: 4.28s\tremaining: 3.42s\n",
            "30:\tlearn: 0.3329545\ttotal: 4.43s\tremaining: 3.29s\n",
            "31:\tlearn: 0.3299704\ttotal: 4.6s\tremaining: 3.16s\n",
            "32:\tlearn: 0.3264219\ttotal: 4.74s\tremaining: 3.02s\n",
            "33:\tlearn: 0.3219575\ttotal: 4.88s\tremaining: 2.87s\n",
            "34:\tlearn: 0.3155737\ttotal: 5.03s\tremaining: 2.73s\n",
            "35:\tlearn: 0.3102976\ttotal: 5.15s\tremaining: 2.58s\n",
            "36:\tlearn: 0.3059425\ttotal: 5.32s\tremaining: 2.44s\n",
            "37:\tlearn: 0.3011435\ttotal: 5.47s\tremaining: 2.3s\n",
            "38:\tlearn: 0.2960180\ttotal: 5.63s\tremaining: 2.17s\n",
            "39:\tlearn: 0.2903934\ttotal: 5.73s\tremaining: 2s\n",
            "40:\tlearn: 0.2847706\ttotal: 5.81s\tremaining: 1.84s\n",
            "41:\tlearn: 0.2773306\ttotal: 5.89s\tremaining: 1.68s\n",
            "42:\tlearn: 0.2709923\ttotal: 5.97s\tremaining: 1.53s\n",
            "43:\tlearn: 0.2670710\ttotal: 6.06s\tremaining: 1.38s\n",
            "44:\tlearn: 0.2613758\ttotal: 6.15s\tremaining: 1.23s\n",
            "45:\tlearn: 0.2563859\ttotal: 6.23s\tremaining: 1.08s\n",
            "46:\tlearn: 0.2509892\ttotal: 6.33s\tremaining: 942ms\n",
            "47:\tlearn: 0.2446309\ttotal: 6.41s\tremaining: 802ms\n",
            "48:\tlearn: 0.2420340\ttotal: 6.49s\tremaining: 663ms\n",
            "49:\tlearn: 0.2369939\ttotal: 6.57s\tremaining: 526ms\n",
            "50:\tlearn: 0.2327356\ttotal: 6.66s\tremaining: 391ms\n",
            "51:\tlearn: 0.2265132\ttotal: 6.74s\tremaining: 259ms\n",
            "52:\tlearn: 0.2206693\ttotal: 6.81s\tremaining: 129ms\n",
            "53:\tlearn: 0.2183056\ttotal: 6.91s\tremaining: 0us\n",
            "0:\tlearn: 0.6534087\ttotal: 74.1ms\tremaining: 3.93s\n",
            "1:\tlearn: 0.6215353\ttotal: 159ms\tremaining: 4.13s\n",
            "2:\tlearn: 0.5978191\ttotal: 238ms\tremaining: 4.04s\n",
            "3:\tlearn: 0.5797624\ttotal: 327ms\tremaining: 4.08s\n",
            "4:\tlearn: 0.5565648\ttotal: 405ms\tremaining: 3.97s\n",
            "5:\tlearn: 0.5376600\ttotal: 478ms\tremaining: 3.83s\n",
            "6:\tlearn: 0.5160327\ttotal: 553ms\tremaining: 3.71s\n",
            "7:\tlearn: 0.5007124\ttotal: 635ms\tremaining: 3.65s\n",
            "8:\tlearn: 0.4816652\ttotal: 713ms\tremaining: 3.56s\n",
            "9:\tlearn: 0.4690705\ttotal: 790ms\tremaining: 3.48s\n",
            "10:\tlearn: 0.4594233\ttotal: 872ms\tremaining: 3.41s\n",
            "11:\tlearn: 0.4488916\ttotal: 948ms\tremaining: 3.32s\n",
            "12:\tlearn: 0.4396806\ttotal: 1.02s\tremaining: 3.23s\n",
            "13:\tlearn: 0.4284563\ttotal: 1.11s\tremaining: 3.17s\n",
            "14:\tlearn: 0.4178015\ttotal: 1.19s\tremaining: 3.08s\n",
            "15:\tlearn: 0.4082522\ttotal: 1.26s\tremaining: 3s\n",
            "16:\tlearn: 0.4006538\ttotal: 1.36s\tremaining: 2.96s\n",
            "17:\tlearn: 0.3911484\ttotal: 1.43s\tremaining: 2.87s\n",
            "18:\tlearn: 0.3846369\ttotal: 1.51s\tremaining: 2.78s\n",
            "19:\tlearn: 0.3793418\ttotal: 1.59s\tremaining: 2.71s\n",
            "20:\tlearn: 0.3732037\ttotal: 1.67s\tremaining: 2.63s\n",
            "21:\tlearn: 0.3673728\ttotal: 1.75s\tremaining: 2.54s\n",
            "22:\tlearn: 0.3614788\ttotal: 1.82s\tremaining: 2.46s\n",
            "23:\tlearn: 0.3546941\ttotal: 1.9s\tremaining: 2.38s\n",
            "24:\tlearn: 0.3484593\ttotal: 1.98s\tremaining: 2.3s\n",
            "25:\tlearn: 0.3422467\ttotal: 2.07s\tremaining: 2.23s\n",
            "26:\tlearn: 0.3342589\ttotal: 2.14s\tremaining: 2.14s\n",
            "27:\tlearn: 0.3288075\ttotal: 2.22s\tremaining: 2.06s\n",
            "28:\tlearn: 0.3228434\ttotal: 2.3s\tremaining: 1.98s\n",
            "29:\tlearn: 0.3164699\ttotal: 2.39s\tremaining: 1.91s\n",
            "30:\tlearn: 0.3121720\ttotal: 2.47s\tremaining: 1.83s\n",
            "31:\tlearn: 0.3077670\ttotal: 2.55s\tremaining: 1.75s\n",
            "32:\tlearn: 0.2998844\ttotal: 2.62s\tremaining: 1.67s\n",
            "33:\tlearn: 0.2938272\ttotal: 2.7s\tremaining: 1.59s\n",
            "34:\tlearn: 0.2878906\ttotal: 2.77s\tremaining: 1.5s\n",
            "35:\tlearn: 0.2835805\ttotal: 2.86s\tremaining: 1.43s\n",
            "36:\tlearn: 0.2782156\ttotal: 2.94s\tremaining: 1.35s\n",
            "37:\tlearn: 0.2725165\ttotal: 3.02s\tremaining: 1.27s\n",
            "38:\tlearn: 0.2678892\ttotal: 3.1s\tremaining: 1.19s\n",
            "39:\tlearn: 0.2630761\ttotal: 3.17s\tremaining: 1.11s\n",
            "40:\tlearn: 0.2573863\ttotal: 3.25s\tremaining: 1.03s\n",
            "41:\tlearn: 0.2536125\ttotal: 3.33s\tremaining: 951ms\n",
            "42:\tlearn: 0.2486558\ttotal: 3.42s\tremaining: 874ms\n",
            "43:\tlearn: 0.2431961\ttotal: 3.5s\tremaining: 796ms\n",
            "44:\tlearn: 0.2407921\ttotal: 3.58s\tremaining: 715ms\n",
            "45:\tlearn: 0.2350341\ttotal: 3.66s\tremaining: 636ms\n",
            "46:\tlearn: 0.2288755\ttotal: 3.75s\tremaining: 558ms\n",
            "47:\tlearn: 0.2245940\ttotal: 3.82s\tremaining: 478ms\n",
            "48:\tlearn: 0.2210038\ttotal: 3.9s\tremaining: 398ms\n",
            "49:\tlearn: 0.2159952\ttotal: 3.98s\tremaining: 319ms\n",
            "50:\tlearn: 0.2122410\ttotal: 4.06s\tremaining: 239ms\n",
            "51:\tlearn: 0.2083892\ttotal: 4.13s\tremaining: 159ms\n",
            "52:\tlearn: 0.2038270\ttotal: 4.22s\tremaining: 79.6ms\n",
            "53:\tlearn: 0.1985433\ttotal: 4.3s\tremaining: 0us\n",
            "0:\tlearn: 0.6398423\ttotal: 84.9ms\tremaining: 4.5s\n",
            "1:\tlearn: 0.6035782\ttotal: 161ms\tremaining: 4.18s\n",
            "2:\tlearn: 0.5733249\ttotal: 236ms\tremaining: 4.01s\n",
            "3:\tlearn: 0.5486673\ttotal: 314ms\tremaining: 3.92s\n",
            "4:\tlearn: 0.5306218\ttotal: 392ms\tremaining: 3.84s\n",
            "5:\tlearn: 0.5094114\ttotal: 468ms\tremaining: 3.74s\n",
            "6:\tlearn: 0.4932600\ttotal: 548ms\tremaining: 3.68s\n",
            "7:\tlearn: 0.4780393\ttotal: 624ms\tremaining: 3.59s\n",
            "8:\tlearn: 0.4666478\ttotal: 700ms\tremaining: 3.5s\n",
            "9:\tlearn: 0.4517987\ttotal: 786ms\tremaining: 3.46s\n",
            "10:\tlearn: 0.4425909\ttotal: 868ms\tremaining: 3.39s\n",
            "11:\tlearn: 0.4335089\ttotal: 941ms\tremaining: 3.29s\n",
            "12:\tlearn: 0.4222055\ttotal: 1.02s\tremaining: 3.22s\n",
            "13:\tlearn: 0.4128446\ttotal: 1.11s\tremaining: 3.17s\n",
            "14:\tlearn: 0.4066905\ttotal: 1.19s\tremaining: 3.09s\n",
            "15:\tlearn: 0.3985684\ttotal: 1.27s\tremaining: 3.01s\n",
            "16:\tlearn: 0.3902102\ttotal: 1.35s\tremaining: 2.93s\n",
            "17:\tlearn: 0.3825291\ttotal: 1.42s\tremaining: 2.85s\n",
            "18:\tlearn: 0.3741793\ttotal: 1.51s\tremaining: 2.79s\n",
            "19:\tlearn: 0.3683112\ttotal: 1.59s\tremaining: 2.7s\n",
            "20:\tlearn: 0.3618782\ttotal: 1.66s\tremaining: 2.61s\n",
            "21:\tlearn: 0.3545183\ttotal: 1.74s\tremaining: 2.54s\n",
            "22:\tlearn: 0.3484408\ttotal: 1.82s\tremaining: 2.45s\n",
            "23:\tlearn: 0.3431677\ttotal: 1.89s\tremaining: 2.37s\n",
            "24:\tlearn: 0.3379539\ttotal: 1.97s\tremaining: 2.29s\n",
            "25:\tlearn: 0.3315927\ttotal: 2.04s\tremaining: 2.2s\n",
            "26:\tlearn: 0.3264146\ttotal: 2.13s\tremaining: 2.13s\n",
            "27:\tlearn: 0.3206740\ttotal: 2.21s\tremaining: 2.06s\n",
            "28:\tlearn: 0.3153055\ttotal: 2.29s\tremaining: 1.97s\n",
            "29:\tlearn: 0.3100259\ttotal: 2.36s\tremaining: 1.89s\n",
            "30:\tlearn: 0.3063085\ttotal: 2.44s\tremaining: 1.81s\n",
            "31:\tlearn: 0.3011398\ttotal: 2.51s\tremaining: 1.73s\n",
            "32:\tlearn: 0.2977627\ttotal: 2.58s\tremaining: 1.65s\n",
            "33:\tlearn: 0.2927316\ttotal: 2.66s\tremaining: 1.57s\n",
            "34:\tlearn: 0.2887544\ttotal: 2.74s\tremaining: 1.49s\n",
            "35:\tlearn: 0.2845174\ttotal: 2.82s\tremaining: 1.41s\n",
            "36:\tlearn: 0.2787309\ttotal: 2.9s\tremaining: 1.33s\n",
            "37:\tlearn: 0.2726975\ttotal: 2.97s\tremaining: 1.25s\n",
            "38:\tlearn: 0.2691299\ttotal: 3.05s\tremaining: 1.17s\n",
            "39:\tlearn: 0.2654656\ttotal: 3.14s\tremaining: 1.1s\n",
            "40:\tlearn: 0.2601503\ttotal: 3.23s\tremaining: 1.02s\n",
            "41:\tlearn: 0.2549220\ttotal: 3.3s\tremaining: 943ms\n",
            "42:\tlearn: 0.2499441\ttotal: 3.38s\tremaining: 866ms\n",
            "43:\tlearn: 0.2453479\ttotal: 3.46s\tremaining: 786ms\n",
            "44:\tlearn: 0.2399390\ttotal: 3.53s\tremaining: 707ms\n",
            "45:\tlearn: 0.2360960\ttotal: 3.62s\tremaining: 629ms\n",
            "46:\tlearn: 0.2311012\ttotal: 3.69s\tremaining: 550ms\n",
            "47:\tlearn: 0.2262211\ttotal: 3.77s\tremaining: 471ms\n",
            "48:\tlearn: 0.2204604\ttotal: 3.86s\tremaining: 394ms\n",
            "49:\tlearn: 0.2157869\ttotal: 3.94s\tremaining: 315ms\n",
            "50:\tlearn: 0.2104823\ttotal: 4.01s\tremaining: 236ms\n",
            "51:\tlearn: 0.2066346\ttotal: 4.09s\tremaining: 158ms\n",
            "52:\tlearn: 0.2024147\ttotal: 4.18s\tremaining: 79ms\n",
            "53:\tlearn: 0.2015907\ttotal: 4.34s\tremaining: 0us\n",
            "0:\tlearn: 0.6429190\ttotal: 153ms\tremaining: 8.13s\n",
            "1:\tlearn: 0.6086694\ttotal: 298ms\tremaining: 7.74s\n",
            "2:\tlearn: 0.5849694\ttotal: 433ms\tremaining: 7.36s\n",
            "3:\tlearn: 0.5676984\ttotal: 571ms\tremaining: 7.14s\n",
            "4:\tlearn: 0.5518480\ttotal: 726ms\tremaining: 7.12s\n",
            "5:\tlearn: 0.5315578\ttotal: 854ms\tremaining: 6.83s\n",
            "6:\tlearn: 0.5150442\ttotal: 994ms\tremaining: 6.68s\n",
            "7:\tlearn: 0.5027964\ttotal: 1.15s\tremaining: 6.6s\n",
            "8:\tlearn: 0.4876892\ttotal: 1.31s\tremaining: 6.55s\n",
            "9:\tlearn: 0.4761601\ttotal: 1.46s\tremaining: 6.43s\n",
            "10:\tlearn: 0.4664241\ttotal: 1.62s\tremaining: 6.32s\n",
            "11:\tlearn: 0.4583037\ttotal: 1.78s\tremaining: 6.22s\n",
            "12:\tlearn: 0.4502487\ttotal: 1.91s\tremaining: 6.02s\n",
            "13:\tlearn: 0.4434111\ttotal: 2.06s\tremaining: 5.88s\n",
            "14:\tlearn: 0.4364295\ttotal: 2.21s\tremaining: 5.76s\n",
            "15:\tlearn: 0.4299762\ttotal: 2.37s\tremaining: 5.62s\n",
            "16:\tlearn: 0.4234635\ttotal: 2.52s\tremaining: 5.49s\n",
            "17:\tlearn: 0.4167359\ttotal: 2.67s\tremaining: 5.35s\n",
            "18:\tlearn: 0.4108004\ttotal: 2.83s\tremaining: 5.21s\n",
            "19:\tlearn: 0.4027266\ttotal: 2.98s\tremaining: 5.07s\n",
            "20:\tlearn: 0.3973162\ttotal: 3.15s\tremaining: 4.94s\n",
            "21:\tlearn: 0.3925688\ttotal: 3.29s\tremaining: 4.79s\n",
            "22:\tlearn: 0.3866483\ttotal: 3.45s\tremaining: 4.65s\n",
            "23:\tlearn: 0.3807707\ttotal: 3.6s\tremaining: 4.5s\n",
            "24:\tlearn: 0.3760142\ttotal: 3.75s\tremaining: 4.35s\n",
            "25:\tlearn: 0.3675935\ttotal: 3.9s\tremaining: 4.19s\n",
            "26:\tlearn: 0.3625911\ttotal: 4.04s\tremaining: 4.04s\n",
            "27:\tlearn: 0.3570314\ttotal: 4.16s\tremaining: 3.86s\n",
            "28:\tlearn: 0.3519895\ttotal: 4.28s\tremaining: 3.69s\n",
            "29:\tlearn: 0.3479037\ttotal: 4.41s\tremaining: 3.53s\n",
            "30:\tlearn: 0.3432109\ttotal: 4.55s\tremaining: 3.38s\n",
            "31:\tlearn: 0.3402554\ttotal: 4.69s\tremaining: 3.22s\n",
            "32:\tlearn: 0.3353463\ttotal: 4.83s\tremaining: 3.07s\n",
            "33:\tlearn: 0.3301577\ttotal: 4.92s\tremaining: 2.89s\n",
            "34:\tlearn: 0.3253760\ttotal: 4.99s\tremaining: 2.71s\n",
            "35:\tlearn: 0.3189105\ttotal: 5.08s\tremaining: 2.54s\n",
            "36:\tlearn: 0.3149520\ttotal: 5.15s\tremaining: 2.37s\n",
            "37:\tlearn: 0.3092771\ttotal: 5.23s\tremaining: 2.2s\n",
            "38:\tlearn: 0.3050063\ttotal: 5.31s\tremaining: 2.04s\n",
            "39:\tlearn: 0.3008034\ttotal: 5.39s\tremaining: 1.89s\n",
            "40:\tlearn: 0.2962099\ttotal: 5.46s\tremaining: 1.73s\n",
            "41:\tlearn: 0.2913626\ttotal: 5.55s\tremaining: 1.58s\n",
            "42:\tlearn: 0.2859049\ttotal: 5.63s\tremaining: 1.44s\n",
            "43:\tlearn: 0.2812783\ttotal: 5.7s\tremaining: 1.3s\n",
            "44:\tlearn: 0.2749659\ttotal: 5.79s\tremaining: 1.16s\n",
            "45:\tlearn: 0.2713599\ttotal: 5.87s\tremaining: 1.02s\n",
            "46:\tlearn: 0.2652766\ttotal: 5.95s\tremaining: 887ms\n",
            "47:\tlearn: 0.2594843\ttotal: 6.04s\tremaining: 755ms\n",
            "48:\tlearn: 0.2543176\ttotal: 6.12s\tremaining: 624ms\n",
            "49:\tlearn: 0.2496620\ttotal: 6.19s\tremaining: 496ms\n",
            "50:\tlearn: 0.2433205\ttotal: 6.29s\tremaining: 370ms\n",
            "51:\tlearn: 0.2362301\ttotal: 6.37s\tremaining: 245ms\n",
            "52:\tlearn: 0.2334104\ttotal: 6.44s\tremaining: 121ms\n",
            "53:\tlearn: 0.2292118\ttotal: 6.51s\tremaining: 0us\n",
            "0:\tlearn: 0.5636877\ttotal: 14.2ms\tremaining: 753ms\n",
            "1:\tlearn: 0.4749301\ttotal: 29.6ms\tremaining: 769ms\n",
            "2:\tlearn: 0.4097685\ttotal: 44.9ms\tremaining: 763ms\n",
            "3:\tlearn: 0.3629803\ttotal: 57.9ms\tremaining: 723ms\n",
            "4:\tlearn: 0.3282592\ttotal: 70.6ms\tremaining: 691ms\n",
            "5:\tlearn: 0.3035876\ttotal: 86.4ms\tremaining: 691ms\n",
            "6:\tlearn: 0.2825468\ttotal: 110ms\tremaining: 736ms\n",
            "7:\tlearn: 0.2664173\ttotal: 123ms\tremaining: 708ms\n",
            "8:\tlearn: 0.2515321\ttotal: 136ms\tremaining: 681ms\n",
            "9:\tlearn: 0.2395298\ttotal: 150ms\tremaining: 659ms\n",
            "10:\tlearn: 0.2307369\ttotal: 165ms\tremaining: 647ms\n",
            "11:\tlearn: 0.2234400\ttotal: 178ms\tremaining: 623ms\n",
            "12:\tlearn: 0.2171864\ttotal: 190ms\tremaining: 600ms\n",
            "13:\tlearn: 0.2116480\ttotal: 204ms\tremaining: 582ms\n",
            "14:\tlearn: 0.2067414\ttotal: 222ms\tremaining: 576ms\n",
            "15:\tlearn: 0.2033566\ttotal: 235ms\tremaining: 558ms\n",
            "16:\tlearn: 0.1996625\ttotal: 248ms\tremaining: 539ms\n",
            "17:\tlearn: 0.1964314\ttotal: 261ms\tremaining: 521ms\n",
            "18:\tlearn: 0.1940873\ttotal: 274ms\tremaining: 504ms\n",
            "19:\tlearn: 0.1921079\ttotal: 287ms\tremaining: 488ms\n",
            "20:\tlearn: 0.1894182\ttotal: 300ms\tremaining: 471ms\n",
            "21:\tlearn: 0.1880604\ttotal: 313ms\tremaining: 455ms\n",
            "22:\tlearn: 0.1867770\ttotal: 326ms\tremaining: 439ms\n",
            "23:\tlearn: 0.1853356\ttotal: 338ms\tremaining: 423ms\n",
            "24:\tlearn: 0.1841224\ttotal: 352ms\tremaining: 408ms\n",
            "25:\tlearn: 0.1816957\ttotal: 365ms\tremaining: 393ms\n",
            "26:\tlearn: 0.1803220\ttotal: 381ms\tremaining: 381ms\n",
            "27:\tlearn: 0.1792326\ttotal: 393ms\tremaining: 365ms\n",
            "28:\tlearn: 0.1780096\ttotal: 410ms\tremaining: 353ms\n",
            "29:\tlearn: 0.1767172\ttotal: 431ms\tremaining: 345ms\n",
            "30:\tlearn: 0.1757475\ttotal: 445ms\tremaining: 330ms\n",
            "31:\tlearn: 0.1748622\ttotal: 458ms\tremaining: 315ms\n",
            "32:\tlearn: 0.1734927\ttotal: 471ms\tremaining: 299ms\n",
            "33:\tlearn: 0.1720311\ttotal: 484ms\tremaining: 284ms\n",
            "34:\tlearn: 0.1710799\ttotal: 497ms\tremaining: 270ms\n",
            "35:\tlearn: 0.1703161\ttotal: 510ms\tremaining: 255ms\n",
            "36:\tlearn: 0.1692906\ttotal: 523ms\tremaining: 240ms\n",
            "37:\tlearn: 0.1680801\ttotal: 536ms\tremaining: 226ms\n",
            "38:\tlearn: 0.1673377\ttotal: 554ms\tremaining: 213ms\n",
            "39:\tlearn: 0.1667427\ttotal: 566ms\tremaining: 198ms\n",
            "40:\tlearn: 0.1661123\ttotal: 579ms\tremaining: 183ms\n",
            "41:\tlearn: 0.1646570\ttotal: 591ms\tremaining: 169ms\n",
            "42:\tlearn: 0.1633481\ttotal: 603ms\tremaining: 154ms\n",
            "43:\tlearn: 0.1623468\ttotal: 618ms\tremaining: 140ms\n",
            "44:\tlearn: 0.1616212\ttotal: 636ms\tremaining: 127ms\n",
            "45:\tlearn: 0.1607243\ttotal: 649ms\tremaining: 113ms\n",
            "46:\tlearn: 0.1602217\ttotal: 662ms\tremaining: 98.7ms\n",
            "47:\tlearn: 0.1597277\ttotal: 676ms\tremaining: 84.5ms\n",
            "48:\tlearn: 0.1591562\ttotal: 689ms\tremaining: 70.3ms\n",
            "49:\tlearn: 0.1588007\ttotal: 702ms\tremaining: 56.2ms\n",
            "50:\tlearn: 0.1583396\ttotal: 715ms\tremaining: 42.1ms\n",
            "51:\tlearn: 0.1571923\ttotal: 728ms\tremaining: 28ms\n",
            "52:\tlearn: 0.1565074\ttotal: 741ms\tremaining: 14ms\n",
            "53:\tlearn: 0.1553926\ttotal: 754ms\tremaining: 0us\n"
          ]
        },
        {
          "output_type": "execute_result",
          "data": {
            "text/plain": [
              "StackingClassifier(estimators=[('RF',\n",
              "                                RandomForestClassifier(max_depth=10,\n",
              "                                                       n_estimators=400)),\n",
              "                               ('XGB',\n",
              "                                XGBClassifier(base_score=0.88, booster=None,\n",
              "                                              callbacks=None,\n",
              "                                              colsample_bylevel=None,\n",
              "                                              colsample_bynode=None,\n",
              "                                              colsample_bytree=None,\n",
              "                                              device=None,\n",
              "                                              early_stopping_rounds=None,\n",
              "                                              enable_categorical=False,\n",
              "                                              eval_metric=None,\n",
              "                                              feature_types=None, gamma=None,\n",
              "                                              grow_policy=Non...\n",
              "                                              min_child_weight=None,\n",
              "                                              missing=nan,\n",
              "                                              monotone_constraints=None,\n",
              "                                              multi_strategy=None,\n",
              "                                              n_estimators=500, n_jobs=None,\n",
              "                                              num_parallel_tree=None,\n",
              "                                              random_state=None, ...)),\n",
              "                               ('LGBM',\n",
              "                                LGBMClassifier(learning_rate=0.5, max_depth=7)),\n",
              "                               ('CAT',\n",
              "                                <catboost.core.CatBoostClassifier object at 0x7f0c97da6e00>)],\n",
              "                   final_estimator=<catboost.core.CatBoostClassifier object at 0x7f0c97da6aa0>)"
            ],
            "text/html": [
              "<style>#sk-container-id-4 {color: black;background-color: white;}#sk-container-id-4 pre{padding: 0;}#sk-container-id-4 div.sk-toggleable {background-color: white;}#sk-container-id-4 label.sk-toggleable__label {cursor: pointer;display: block;width: 100%;margin-bottom: 0;padding: 0.3em;box-sizing: border-box;text-align: center;}#sk-container-id-4 label.sk-toggleable__label-arrow:before {content: \"▸\";float: left;margin-right: 0.25em;color: #696969;}#sk-container-id-4 label.sk-toggleable__label-arrow:hover:before {color: black;}#sk-container-id-4 div.sk-estimator:hover label.sk-toggleable__label-arrow:before {color: black;}#sk-container-id-4 div.sk-toggleable__content {max-height: 0;max-width: 0;overflow: hidden;text-align: left;background-color: #f0f8ff;}#sk-container-id-4 div.sk-toggleable__content pre {margin: 0.2em;color: black;border-radius: 0.25em;background-color: #f0f8ff;}#sk-container-id-4 input.sk-toggleable__control:checked~div.sk-toggleable__content {max-height: 200px;max-width: 100%;overflow: auto;}#sk-container-id-4 input.sk-toggleable__control:checked~label.sk-toggleable__label-arrow:before {content: \"▾\";}#sk-container-id-4 div.sk-estimator input.sk-toggleable__control:checked~label.sk-toggleable__label {background-color: #d4ebff;}#sk-container-id-4 div.sk-label input.sk-toggleable__control:checked~label.sk-toggleable__label {background-color: #d4ebff;}#sk-container-id-4 input.sk-hidden--visually {border: 0;clip: rect(1px 1px 1px 1px);clip: rect(1px, 1px, 1px, 1px);height: 1px;margin: -1px;overflow: hidden;padding: 0;position: absolute;width: 1px;}#sk-container-id-4 div.sk-estimator {font-family: monospace;background-color: #f0f8ff;border: 1px dotted black;border-radius: 0.25em;box-sizing: border-box;margin-bottom: 0.5em;}#sk-container-id-4 div.sk-estimator:hover {background-color: #d4ebff;}#sk-container-id-4 div.sk-parallel-item::after {content: \"\";width: 100%;border-bottom: 1px solid gray;flex-grow: 1;}#sk-container-id-4 div.sk-label:hover label.sk-toggleable__label {background-color: #d4ebff;}#sk-container-id-4 div.sk-serial::before {content: \"\";position: absolute;border-left: 1px solid gray;box-sizing: border-box;top: 0;bottom: 0;left: 50%;z-index: 0;}#sk-container-id-4 div.sk-serial {display: flex;flex-direction: column;align-items: center;background-color: white;padding-right: 0.2em;padding-left: 0.2em;position: relative;}#sk-container-id-4 div.sk-item {position: relative;z-index: 1;}#sk-container-id-4 div.sk-parallel {display: flex;align-items: stretch;justify-content: center;background-color: white;position: relative;}#sk-container-id-4 div.sk-item::before, #sk-container-id-4 div.sk-parallel-item::before {content: \"\";position: absolute;border-left: 1px solid gray;box-sizing: border-box;top: 0;bottom: 0;left: 50%;z-index: -1;}#sk-container-id-4 div.sk-parallel-item {display: flex;flex-direction: column;z-index: 1;position: relative;background-color: white;}#sk-container-id-4 div.sk-parallel-item:first-child::after {align-self: flex-end;width: 50%;}#sk-container-id-4 div.sk-parallel-item:last-child::after {align-self: flex-start;width: 50%;}#sk-container-id-4 div.sk-parallel-item:only-child::after {width: 0;}#sk-container-id-4 div.sk-dashed-wrapped {border: 1px dashed gray;margin: 0 0.4em 0.5em 0.4em;box-sizing: border-box;padding-bottom: 0.4em;background-color: white;}#sk-container-id-4 div.sk-label label {font-family: monospace;font-weight: bold;display: inline-block;line-height: 1.2em;}#sk-container-id-4 div.sk-label-container {text-align: center;}#sk-container-id-4 div.sk-container {/* jupyter's `normalize.less` sets `[hidden] { display: none; }` but bootstrap.min.css set `[hidden] { display: none !important; }` so we also need the `!important` here to be able to override the default hidden behavior on the sphinx rendered scikit-learn.org. See: https://github.com/scikit-learn/scikit-learn/issues/21755 */display: inline-block !important;position: relative;}#sk-container-id-4 div.sk-text-repr-fallback {display: none;}</style><div id=\"sk-container-id-4\" class=\"sk-top-container\"><div class=\"sk-text-repr-fallback\"><pre>StackingClassifier(estimators=[(&#x27;RF&#x27;,\n",
              "                                RandomForestClassifier(max_depth=10,\n",
              "                                                       n_estimators=400)),\n",
              "                               (&#x27;XGB&#x27;,\n",
              "                                XGBClassifier(base_score=0.88, booster=None,\n",
              "                                              callbacks=None,\n",
              "                                              colsample_bylevel=None,\n",
              "                                              colsample_bynode=None,\n",
              "                                              colsample_bytree=None,\n",
              "                                              device=None,\n",
              "                                              early_stopping_rounds=None,\n",
              "                                              enable_categorical=False,\n",
              "                                              eval_metric=None,\n",
              "                                              feature_types=None, gamma=None,\n",
              "                                              grow_policy=Non...\n",
              "                                              min_child_weight=None,\n",
              "                                              missing=nan,\n",
              "                                              monotone_constraints=None,\n",
              "                                              multi_strategy=None,\n",
              "                                              n_estimators=500, n_jobs=None,\n",
              "                                              num_parallel_tree=None,\n",
              "                                              random_state=None, ...)),\n",
              "                               (&#x27;LGBM&#x27;,\n",
              "                                LGBMClassifier(learning_rate=0.5, max_depth=7)),\n",
              "                               (&#x27;CAT&#x27;,\n",
              "                                &lt;catboost.core.CatBoostClassifier object at 0x7f0c97da6e00&gt;)],\n",
              "                   final_estimator=&lt;catboost.core.CatBoostClassifier object at 0x7f0c97da6aa0&gt;)</pre><b>In a Jupyter environment, please rerun this cell to show the HTML representation or trust the notebook. <br />On GitHub, the HTML representation is unable to render, please try loading this page with nbviewer.org.</b></div><div class=\"sk-container\" hidden><div class=\"sk-item sk-dashed-wrapped\"><div class=\"sk-label-container\"><div class=\"sk-label sk-toggleable\"><input class=\"sk-toggleable__control sk-hidden--visually\" id=\"sk-estimator-id-4\" type=\"checkbox\" ><label for=\"sk-estimator-id-4\" class=\"sk-toggleable__label sk-toggleable__label-arrow\">StackingClassifier</label><div class=\"sk-toggleable__content\"><pre>StackingClassifier(estimators=[(&#x27;RF&#x27;,\n",
              "                                RandomForestClassifier(max_depth=10,\n",
              "                                                       n_estimators=400)),\n",
              "                               (&#x27;XGB&#x27;,\n",
              "                                XGBClassifier(base_score=0.88, booster=None,\n",
              "                                              callbacks=None,\n",
              "                                              colsample_bylevel=None,\n",
              "                                              colsample_bynode=None,\n",
              "                                              colsample_bytree=None,\n",
              "                                              device=None,\n",
              "                                              early_stopping_rounds=None,\n",
              "                                              enable_categorical=False,\n",
              "                                              eval_metric=None,\n",
              "                                              feature_types=None, gamma=None,\n",
              "                                              grow_policy=Non...\n",
              "                                              min_child_weight=None,\n",
              "                                              missing=nan,\n",
              "                                              monotone_constraints=None,\n",
              "                                              multi_strategy=None,\n",
              "                                              n_estimators=500, n_jobs=None,\n",
              "                                              num_parallel_tree=None,\n",
              "                                              random_state=None, ...)),\n",
              "                               (&#x27;LGBM&#x27;,\n",
              "                                LGBMClassifier(learning_rate=0.5, max_depth=7)),\n",
              "                               (&#x27;CAT&#x27;,\n",
              "                                &lt;catboost.core.CatBoostClassifier object at 0x7f0c97da6e00&gt;)],\n",
              "                   final_estimator=&lt;catboost.core.CatBoostClassifier object at 0x7f0c97da6aa0&gt;)</pre></div></div></div><div class=\"sk-serial\"><div class=\"sk-item\"><div class=\"sk-parallel\"><div class=\"sk-parallel-item\"><div class=\"sk-item\"><div class=\"sk-label-container\"><div class=\"sk-label sk-toggleable\"><label>RF</label></div></div><div class=\"sk-serial\"><div class=\"sk-item\"><div class=\"sk-estimator sk-toggleable\"><input class=\"sk-toggleable__control sk-hidden--visually\" id=\"sk-estimator-id-5\" type=\"checkbox\" ><label for=\"sk-estimator-id-5\" class=\"sk-toggleable__label sk-toggleable__label-arrow\">RandomForestClassifier</label><div class=\"sk-toggleable__content\"><pre>RandomForestClassifier(max_depth=10, n_estimators=400)</pre></div></div></div></div></div></div><div class=\"sk-parallel-item\"><div class=\"sk-item\"><div class=\"sk-label-container\"><div class=\"sk-label sk-toggleable\"><label>XGB</label></div></div><div class=\"sk-serial\"><div class=\"sk-item\"><div class=\"sk-estimator sk-toggleable\"><input class=\"sk-toggleable__control sk-hidden--visually\" id=\"sk-estimator-id-6\" type=\"checkbox\" ><label for=\"sk-estimator-id-6\" class=\"sk-toggleable__label sk-toggleable__label-arrow\">XGBClassifier</label><div class=\"sk-toggleable__content\"><pre>XGBClassifier(base_score=0.88, booster=None, callbacks=None,\n",
              "              colsample_bylevel=None, colsample_bynode=None,\n",
              "              colsample_bytree=None, device=None, early_stopping_rounds=None,\n",
              "              enable_categorical=False, eval_metric=None, feature_types=None,\n",
              "              gamma=None, grow_policy=None, importance_type=None,\n",
              "              interaction_constraints=None, learning_rate=0.2, max_bin=None,\n",
              "              max_cat_threshold=None, max_cat_to_onehot=None,\n",
              "              max_delta_step=None, max_depth=7, max_leaves=None,\n",
              "              min_child_weight=None, missing=nan, monotone_constraints=None,\n",
              "              multi_strategy=None, n_estimators=500, n_jobs=None,\n",
              "              num_parallel_tree=None, random_state=None, ...)</pre></div></div></div></div></div></div><div class=\"sk-parallel-item\"><div class=\"sk-item\"><div class=\"sk-label-container\"><div class=\"sk-label sk-toggleable\"><label>LGBM</label></div></div><div class=\"sk-serial\"><div class=\"sk-item\"><div class=\"sk-estimator sk-toggleable\"><input class=\"sk-toggleable__control sk-hidden--visually\" id=\"sk-estimator-id-7\" type=\"checkbox\" ><label for=\"sk-estimator-id-7\" class=\"sk-toggleable__label sk-toggleable__label-arrow\">LGBMClassifier</label><div class=\"sk-toggleable__content\"><pre>LGBMClassifier(learning_rate=0.5, max_depth=7)</pre></div></div></div></div></div></div><div class=\"sk-parallel-item\"><div class=\"sk-item\"><div class=\"sk-label-container\"><div class=\"sk-label sk-toggleable\"><label>CAT</label></div></div><div class=\"sk-serial\"><div class=\"sk-item\"><div class=\"sk-estimator sk-toggleable\"><input class=\"sk-toggleable__control sk-hidden--visually\" id=\"sk-estimator-id-8\" type=\"checkbox\" ><label for=\"sk-estimator-id-8\" class=\"sk-toggleable__label sk-toggleable__label-arrow\">CatBoostClassifier</label><div class=\"sk-toggleable__content\"><pre>&lt;catboost.core.CatBoostClassifier object at 0x7f0c97da6e00&gt;</pre></div></div></div></div></div></div></div></div><div class=\"sk-item\"><div class=\"sk-parallel\"><div class=\"sk-parallel-item\"><div class=\"sk-item\"><div class=\"sk-label-container\"><div class=\"sk-label sk-toggleable\"><label>final_estimator</label></div></div><div class=\"sk-serial\"><div class=\"sk-item\"><div class=\"sk-estimator sk-toggleable\"><input class=\"sk-toggleable__control sk-hidden--visually\" id=\"sk-estimator-id-9\" type=\"checkbox\" ><label for=\"sk-estimator-id-9\" class=\"sk-toggleable__label sk-toggleable__label-arrow\">CatBoostClassifier</label><div class=\"sk-toggleable__content\"><pre>&lt;catboost.core.CatBoostClassifier object at 0x7f0c97da6aa0&gt;</pre></div></div></div></div></div></div></div></div></div></div></div></div>"
            ]
          },
          "metadata": {},
          "execution_count": 47
        }
      ],
      "source": [
        "model.fit(xtrain, ytrain)"
      ]
    },
    {
      "cell_type": "code",
      "execution_count": null,
      "metadata": {
        "colab": {
          "base_uri": "https://localhost:8080/"
        },
        "id": "-VnRhjELqgEn",
        "outputId": "e5ba707f-e81f-482d-c12e-34bc77309612"
      },
      "outputs": [
        {
          "output_type": "stream",
          "name": "stdout",
          "text": [
            "[LightGBM] [Warning] Accuracy may be bad since you didn't explicitly set num_leaves OR 2^max_depth > num_leaves. (num_leaves=31).\n"
          ]
        }
      ],
      "source": [
        "pred = model.predict(xtest)"
      ]
    },
    {
      "cell_type": "code",
      "execution_count": null,
      "metadata": {
        "colab": {
          "background_save": true
        },
        "id": "1iyPoA5qqhCj",
        "outputId": "cb766f41-fb81-4a3b-9271-3c01216c0a06"
      },
      "outputs": [
        {
          "data": {
            "text/plain": [
              "(0.9653846153846154,\n",
              " 0.9689922480620154,\n",
              " 0.9615384615384616,\n",
              " 0.9652509652509652)"
            ]
          },
          "execution_count": 73,
          "metadata": {},
          "output_type": "execute_result"
        }
      ],
      "source": [
        "accuracy_score(ytest,pred), precision_score(ytest, pred), recall_score(ytest, pred), f1_score(ytest, pred)"
      ]
    },
    {
      "cell_type": "code",
      "source": [
        "mcc = matthews_corrcoef(ytest, pred)\n",
        "mcc"
      ],
      "metadata": {
        "colab": {
          "base_uri": "https://localhost:8080/"
        },
        "id": "U4Qs0RimYHm9",
        "outputId": "fc4badbd-3157-448b-9756-59777ff56966"
      },
      "execution_count": null,
      "outputs": [
        {
          "output_type": "execute_result",
          "data": {
            "text/plain": [
              "0.930796769542578"
            ]
          },
          "metadata": {},
          "execution_count": 49
        }
      ]
    },
    {
      "cell_type": "code",
      "execution_count": null,
      "metadata": {
        "colab": {
          "background_save": true
        },
        "id": "4NPx4J-Pqnm7"
      },
      "outputs": [],
      "source": [
        "cm = confusion_matrix(ytest,pred)"
      ]
    },
    {
      "cell_type": "code",
      "execution_count": null,
      "metadata": {
        "colab": {
          "background_save": true
        },
        "id": "A6yJZASOYVOo",
        "outputId": "078c921b-0b49-424d-f8d7-cb4276a85ef0"
      },
      "outputs": [
        {
          "data": {
            "text/plain": [
              "array([[126,   4],\n",
              "       [  5, 125]])"
            ]
          },
          "execution_count": 75,
          "metadata": {},
          "output_type": "execute_result"
        }
      ],
      "source": [
        "cm"
      ]
    },
    {
      "cell_type": "code",
      "execution_count": null,
      "metadata": {
        "colab": {
          "background_save": true
        },
        "id": "-KF1RHZCYV6F",
        "outputId": "bdb2d225-18b3-4ea4-be9e-512444075d82"
      },
      "outputs": [
        {
          "name": "stdout",
          "output_type": "stream",
          "text": [
            "Sensitivity: 0.9615384615384616\n",
            "Specificity: 0.9692307692307692\n"
          ]
        }
      ],
      "source": [
        "# True Positives (TP)\n",
        "tp = cm[1, 1]\n",
        "\n",
        "# True Negatives (TN)\n",
        "tn = cm[0, 0]\n",
        "\n",
        "# False Positives (FP)\n",
        "fp = cm[0, 1]\n",
        "\n",
        "# False Negatives (FN)\n",
        "fn = cm[1, 0]\n",
        "\n",
        "# Sensitivity (True Positive Rate or Recall)\n",
        "sensitivity = tp / (tp + fn)\n",
        "\n",
        "# Specificity (True Negative Rate)\n",
        "specificity = tn / (tn + fp)\n",
        "\n",
        "print(\"Sensitivity:\", sensitivity)\n",
        "print(\"Specificity:\", specificity)"
      ]
    },
    {
      "cell_type": "code",
      "execution_count": null,
      "metadata": {
        "colab": {
          "background_save": true
        },
        "id": "osxa0jkOYbzD",
        "outputId": "53eacba9-96b9-40b1-e05a-29b029ce2e73"
      },
      "outputs": [
        {
          "data": {
            "image/png": "[encoded data removed]",
            "text/plain": [
              "<Figure size 400x300 with 1 Axes>"
            ]
          },
          "metadata": {},
          "output_type": "display_data"
        }
      ],
      "source": [
        "plt.figure(figsize=(4, 3))\n",
        "sns.set(font_scale=1.2)\n",
        "sns.heatmap(cm, annot=True, fmt='d', cmap='Blues', annot_kws={\"size\": 16}, cbar=False)\n",
        "plt.xlabel('Predicted')\n",
        "plt.ylabel('True')\n",
        "plt.title('Confusion Matrix')\n",
        "plt.show()"
      ]
    }
  ],
  "metadata": {
    "colab": {
      "provenance": [],
      "authorship_tag": "ABX9TyMtBkt88KghPi7C13zKO9iI",
      "include_colab_link": true
    },
    "kernelspec": {
      "display_name": "Python 3",
      "name": "python3"
    },
    "language_info": {
      "name": "python"
    }
  },
  "nbformat": 4,
  "nbformat_minor": 0
}