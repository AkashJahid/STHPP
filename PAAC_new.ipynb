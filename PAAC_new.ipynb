{
  "cells": [
    {
      "cell_type": "markdown",
      "metadata": {
        "id": "view-in-github",
        "colab_type": "text"
      },
      "source": [
        "<a href=\"https://colab.research.google.com/github/AkashJahid/STHPP/blob/main/PAAC_new.ipynb\" target=\"_parent\"><img src=\"https://colab.research.google.com/assets/colab-badge.svg\" alt=\"Open In Colab\"/></a>"
      ]
    },
    {
      "cell_type": "code",
      "execution_count": null,
      "metadata": {
        "id": "UNwU9Hqo8BDB"
      },
      "outputs": [],
      "source": [
        "import pandas as pd\n",
        "import numpy as np\n",
        "import matplotlib.pyplot as plt\n",
        "import seaborn as sns"
      ]
    },
    {
      "cell_type": "markdown",
      "metadata": {
        "id": "Gpa5oy2imYTv"
      },
      "source": [
        "# New Section"
      ]
    },
    {
      "cell_type": "code",
      "execution_count": null,
      "metadata": {
        "colab": {
          "base_uri": "https://localhost:8080/"
        },
        "id": "4YZnVRVWog1w",
        "outputId": "8dbe62fa-ac00-41db-db82-2324f881f18d"
      },
      "outputs": [
        {
          "output_type": "stream",
          "name": "stdout",
          "text": [
            "Collecting catboost\n",
            "  Downloading catboost-1.2.2-cp310-cp310-manylinux2014_x86_64.whl (98.7 MB)\n",
            "\u001b[2K     \u001b[90m━━━━━━━━━━━━━━━━━━━━━━━━━━━━━━━━━━━━━━━━\u001b[0m \u001b[32m98.7/98.7 MB\u001b[0m \u001b[31m8.3 MB/s\u001b[0m eta \u001b[36m0:00:00\u001b[0m\n",
            "\u001b[?25hRequirement already satisfied: graphviz in /usr/local/lib/python3.10/dist-packages (from catboost) (0.20.1)\n",
            "Requirement already satisfied: matplotlib in /usr/local/lib/python3.10/dist-packages (from catboost) (3.7.1)\n",
            "Requirement already satisfied: numpy>=1.16.0 in /usr/local/lib/python3.10/dist-packages (from catboost) (1.23.5)\n",
            "Requirement already satisfied: pandas>=0.24 in /usr/local/lib/python3.10/dist-packages (from catboost) (1.5.3)\n",
            "Requirement already satisfied: scipy in /usr/local/lib/python3.10/dist-packages (from catboost) (1.11.4)\n",
            "Requirement already satisfied: plotly in /usr/local/lib/python3.10/dist-packages (from catboost) (5.15.0)\n",
            "Requirement already satisfied: six in /usr/local/lib/python3.10/dist-packages (from catboost) (1.16.0)\n",
            "Requirement already satisfied: python-dateutil>=2.8.1 in /usr/local/lib/python3.10/dist-packages (from pandas>=0.24->catboost) (2.8.2)\n",
            "Requirement already satisfied: pytz>=2020.1 in /usr/local/lib/python3.10/dist-packages (from pandas>=0.24->catboost) (2023.3.post1)\n",
            "Requirement already satisfied: contourpy>=1.0.1 in /usr/local/lib/python3.10/dist-packages (from matplotlib->catboost) (1.2.0)\n",
            "Requirement already satisfied: cycler>=0.10 in /usr/local/lib/python3.10/dist-packages (from matplotlib->catboost) (0.12.1)\n",
            "Requirement already satisfied: fonttools>=4.22.0 in /usr/local/lib/python3.10/dist-packages (from matplotlib->catboost) (4.46.0)\n",
            "Requirement already satisfied: kiwisolver>=1.0.1 in /usr/local/lib/python3.10/dist-packages (from matplotlib->catboost) (1.4.5)\n",
            "Requirement already satisfied: packaging>=20.0 in /usr/local/lib/python3.10/dist-packages (from matplotlib->catboost) (23.2)\n",
            "Requirement already satisfied: pillow>=6.2.0 in /usr/local/lib/python3.10/dist-packages (from matplotlib->catboost) (9.4.0)\n",
            "Requirement already satisfied: pyparsing>=2.3.1 in /usr/local/lib/python3.10/dist-packages (from matplotlib->catboost) (3.1.1)\n",
            "Requirement already satisfied: tenacity>=6.2.0 in /usr/local/lib/python3.10/dist-packages (from plotly->catboost) (8.2.3)\n",
            "Installing collected packages: catboost\n",
            "Successfully installed catboost-1.2.2\n"
          ]
        }
      ],
      "source": [
        "!pip install catboost"
      ]
    },
    {
      "cell_type": "code",
      "execution_count": null,
      "metadata": {
        "id": "GsTt3G3j8N3E"
      },
      "outputs": [],
      "source": [
        "from sklearn.ensemble import RandomForestClassifier\n",
        "from xgboost import XGBClassifier\n",
        "from lightgbm import LGBMClassifier\n",
        "from catboost import CatBoostClassifier\n",
        "from sklearn.ensemble import StackingClassifier\n",
        "from sklearn.model_selection import train_test_split\n",
        "from sklearn.metrics import accuracy_score, f1_score, precision_score, recall_score, confusion_matrix\n",
        "from sklearn.model_selection import KFold\n",
        "from sklearn.model_selection import cross_val_score, cross_val_predict\n",
        "from sklearn.metrics import matthews_corrcoef"
      ]
    },
    {
      "cell_type": "code",
      "execution_count": null,
      "metadata": {
        "id": "ZXwa4LHk8q-7"
      },
      "outputs": [],
      "source": [
        "df_tr = pd.read_csv('/content/PAAC Training.csv')\n",
        "df_ts = pd.read_csv('/content/PAAC testing.csv')"
      ]
    },
    {
      "cell_type": "code",
      "execution_count": null,
      "metadata": {
        "id": "wj2nndOt87wW"
      },
      "outputs": [],
      "source": [
        "columns = df_tr.columns.tolist()\n",
        "columns = [c for c in columns if c not in ['Target']]\n",
        "target = 'Target'\n",
        "xtrain = df_tr[columns]\n",
        "ytrain = df_tr[target]"
      ]
    },
    {
      "cell_type": "code",
      "execution_count": null,
      "metadata": {
        "id": "iNjNxTMe9EdD"
      },
      "outputs": [],
      "source": [
        "columns = df_ts.columns.tolist()\n",
        "columns = [c for c in columns if c not in ['Target']]\n",
        "target = 'Target'\n",
        "xtest = df_ts[columns]\n",
        "ytest = df_ts[target]"
      ]
    },
    {
      "cell_type": "markdown",
      "metadata": {
        "id": "UDK9QomH-EJc"
      },
      "source": [
        "**Cross Valadiation**"
      ]
    },
    {
      "cell_type": "code",
      "execution_count": null,
      "metadata": {
        "id": "QUU4L6P69OhB"
      },
      "outputs": [],
      "source": [
        "cv = KFold(n_splits=5, random_state=1, shuffle=True)"
      ]
    },
    {
      "cell_type": "markdown",
      "metadata": {
        "id": "J3x6b1r0Hjmg"
      },
      "source": [
        "algorithm define : **Random Forest**"
      ]
    },
    {
      "cell_type": "code",
      "execution_count": null,
      "metadata": {
        "id": "cXfxYhS59cRK"
      },
      "outputs": [],
      "source": [
        "model = RandomForestClassifier(n_estimators = 500, max_depth = 50)"
      ]
    },
    {
      "cell_type": "code",
      "execution_count": null,
      "metadata": {
        "id": "1kZyX4IK9lo_"
      },
      "outputs": [],
      "source": [
        "pred = cross_val_predict(model, xtrain, ytrain, cv=cv, n_jobs=-1)"
      ]
    },
    {
      "cell_type": "code",
      "execution_count": null,
      "metadata": {
        "colab": {
          "base_uri": "https://localhost:8080/"
        },
        "id": "e7JuJOpg91Iz",
        "outputId": "f26209ca-114d-4735-9364-81f089025426"
      },
      "outputs": [
        {
          "data": {
            "text/plain": [
              "(0.9297025878717652,\n",
              " 0.9087136929460581,\n",
              " 0.9383033419023136,\n",
              " 0.9232715008431703)"
            ]
          },
          "execution_count": 10,
          "metadata": {},
          "output_type": "execute_result"
        }
      ],
      "source": [
        "accuracy_score(ytrain,pred), precision_score(ytrain, pred), recall_score(ytrain, pred), f1_score(ytrain, pred)"
      ]
    },
    {
      "cell_type": "code",
      "source": [
        "mcc = matthews_corrcoef(ytrain, pred)\n",
        "mcc"
      ],
      "metadata": {
        "colab": {
          "base_uri": "https://localhost:8080/"
        },
        "id": "7NO5_yOoHGA7",
        "outputId": "606b59e8-fb61-42b4-e00d-19f0fe9024d7"
      },
      "execution_count": null,
      "outputs": [
        {
          "output_type": "execute_result",
          "data": {
            "text/plain": [
              "0.8620546103891159"
            ]
          },
          "metadata": {},
          "execution_count": 10
        }
      ]
    },
    {
      "cell_type": "code",
      "execution_count": null,
      "metadata": {
        "id": "Z-jieOmjB4xZ"
      },
      "outputs": [],
      "source": [
        "cm = confusion_matrix(ytrain,pred)"
      ]
    },
    {
      "cell_type": "code",
      "execution_count": null,
      "metadata": {
        "colab": {
          "base_uri": "https://localhost:8080/"
        },
        "id": "vIFdEoY8O3QW",
        "outputId": "c49066c8-a059-4969-bfb6-b1686389c03c"
      },
      "outputs": [
        {
          "data": {
            "text/plain": [
              "array([[1312,  110],\n",
              "       [  72, 1095]])"
            ]
          },
          "execution_count": 12,
          "metadata": {},
          "output_type": "execute_result"
        }
      ],
      "source": [
        "cm"
      ]
    },
    {
      "cell_type": "code",
      "execution_count": null,
      "metadata": {
        "colab": {
          "base_uri": "https://localhost:8080/"
        },
        "id": "PpADF6t2OoIq",
        "outputId": "367b839c-c671-4529-f38f-91c816a98dba"
      },
      "outputs": [
        {
          "name": "stdout",
          "output_type": "stream",
          "text": [
            "Sensitivity: 0.9383033419023136\n",
            "Specificity: 0.9226441631504922\n"
          ]
        }
      ],
      "source": [
        "# True Positives (TP)\n",
        "tp = cm[1, 1]\n",
        "\n",
        "# True Negatives (TN)\n",
        "tn = cm[0, 0]\n",
        "\n",
        "# False Positives (FP)\n",
        "fp = cm[0, 1]\n",
        "\n",
        "# False Negatives (FN)\n",
        "fn = cm[1, 0]\n",
        "\n",
        "# Sensitivity (True Positive Rate or Recall)\n",
        "sensitivity = tp / (tp + fn)\n",
        "\n",
        "# Specificity (True Negative Rate)\n",
        "specificity = tn / (tn + fp)\n",
        "\n",
        "print(\"Sensitivity:\", sensitivity)\n",
        "print(\"Specificity:\", specificity)"
      ]
    },
    {
      "cell_type": "code",
      "execution_count": null,
      "metadata": {
        "colab": {
          "base_uri": "https://localhost:8080/",
          "height": 347
        },
        "id": "_UeBb_t3Qpvr",
        "outputId": "56a64274-d472-4184-d18c-d6d9fefce363"
      },
      "outputs": [
        {
          "data": {
            "image/png": "[encoded data removed]",
            "text/plain": [
              "<Figure size 400x300 with 1 Axes>"
            ]
          },
          "metadata": {},
          "output_type": "display_data"
        }
      ],
      "source": [
        "plt.figure(figsize=(4, 3))\n",
        "sns.set(font_scale=1.2)\n",
        "sns.heatmap(cm, annot=True, fmt='d', cmap='Blues', annot_kws={\"size\": 16}, cbar=False)\n",
        "plt.xlabel('Predicted')\n",
        "plt.ylabel('True')\n",
        "plt.title('Confusion Matrix')\n",
        "plt.show()"
      ]
    },
    {
      "cell_type": "markdown",
      "metadata": {
        "id": "482WRLy2-JFm"
      },
      "source": [
        "**Independent Test**"
      ]
    },
    {
      "cell_type": "code",
      "execution_count": null,
      "metadata": {
        "colab": {
          "base_uri": "https://localhost:8080/",
          "height": 75
        },
        "id": "o9lh2TH5-NUW",
        "outputId": "9b2ca9ad-3966-4c8d-9b3f-2e6f7121c1ed"
      },
      "outputs": [
        {
          "output_type": "execute_result",
          "data": {
            "text/plain": [
              "RandomForestClassifier(max_depth=50, n_estimators=500)"
            ],
            "text/html": [
              "<style>#sk-container-id-1 {color: black;background-color: white;}#sk-container-id-1 pre{padding: 0;}#sk-container-id-1 div.sk-toggleable {background-color: white;}#sk-container-id-1 label.sk-toggleable__label {cursor: pointer;display: block;width: 100%;margin-bottom: 0;padding: 0.3em;box-sizing: border-box;text-align: center;}#sk-container-id-1 label.sk-toggleable__label-arrow:before {content: \"▸\";float: left;margin-right: 0.25em;color: #696969;}#sk-container-id-1 label.sk-toggleable__label-arrow:hover:before {color: black;}#sk-container-id-1 div.sk-estimator:hover label.sk-toggleable__label-arrow:before {color: black;}#sk-container-id-1 div.sk-toggleable__content {max-height: 0;max-width: 0;overflow: hidden;text-align: left;background-color: #f0f8ff;}#sk-container-id-1 div.sk-toggleable__content pre {margin: 0.2em;color: black;border-radius: 0.25em;background-color: #f0f8ff;}#sk-container-id-1 input.sk-toggleable__control:checked~div.sk-toggleable__content {max-height: 200px;max-width: 100%;overflow: auto;}#sk-container-id-1 input.sk-toggleable__control:checked~label.sk-toggleable__label-arrow:before {content: \"▾\";}#sk-container-id-1 div.sk-estimator input.sk-toggleable__control:checked~label.sk-toggleable__label {background-color: #d4ebff;}#sk-container-id-1 div.sk-label input.sk-toggleable__control:checked~label.sk-toggleable__label {background-color: #d4ebff;}#sk-container-id-1 input.sk-hidden--visually {border: 0;clip: rect(1px 1px 1px 1px);clip: rect(1px, 1px, 1px, 1px);height: 1px;margin: -1px;overflow: hidden;padding: 0;position: absolute;width: 1px;}#sk-container-id-1 div.sk-estimator {font-family: monospace;background-color: #f0f8ff;border: 1px dotted black;border-radius: 0.25em;box-sizing: border-box;margin-bottom: 0.5em;}#sk-container-id-1 div.sk-estimator:hover {background-color: #d4ebff;}#sk-container-id-1 div.sk-parallel-item::after {content: \"\";width: 100%;border-bottom: 1px solid gray;flex-grow: 1;}#sk-container-id-1 div.sk-label:hover label.sk-toggleable__label {background-color: #d4ebff;}#sk-container-id-1 div.sk-serial::before {content: \"\";position: absolute;border-left: 1px solid gray;box-sizing: border-box;top: 0;bottom: 0;left: 50%;z-index: 0;}#sk-container-id-1 div.sk-serial {display: flex;flex-direction: column;align-items: center;background-color: white;padding-right: 0.2em;padding-left: 0.2em;position: relative;}#sk-container-id-1 div.sk-item {position: relative;z-index: 1;}#sk-container-id-1 div.sk-parallel {display: flex;align-items: stretch;justify-content: center;background-color: white;position: relative;}#sk-container-id-1 div.sk-item::before, #sk-container-id-1 div.sk-parallel-item::before {content: \"\";position: absolute;border-left: 1px solid gray;box-sizing: border-box;top: 0;bottom: 0;left: 50%;z-index: -1;}#sk-container-id-1 div.sk-parallel-item {display: flex;flex-direction: column;z-index: 1;position: relative;background-color: white;}#sk-container-id-1 div.sk-parallel-item:first-child::after {align-self: flex-end;width: 50%;}#sk-container-id-1 div.sk-parallel-item:last-child::after {align-self: flex-start;width: 50%;}#sk-container-id-1 div.sk-parallel-item:only-child::after {width: 0;}#sk-container-id-1 div.sk-dashed-wrapped {border: 1px dashed gray;margin: 0 0.4em 0.5em 0.4em;box-sizing: border-box;padding-bottom: 0.4em;background-color: white;}#sk-container-id-1 div.sk-label label {font-family: monospace;font-weight: bold;display: inline-block;line-height: 1.2em;}#sk-container-id-1 div.sk-label-container {text-align: center;}#sk-container-id-1 div.sk-container {/* jupyter's `normalize.less` sets `[hidden] { display: none; }` but bootstrap.min.css set `[hidden] { display: none !important; }` so we also need the `!important` here to be able to override the default hidden behavior on the sphinx rendered scikit-learn.org. See: https://github.com/scikit-learn/scikit-learn/issues/21755 */display: inline-block !important;position: relative;}#sk-container-id-1 div.sk-text-repr-fallback {display: none;}</style><div id=\"sk-container-id-1\" class=\"sk-top-container\"><div class=\"sk-text-repr-fallback\"><pre>RandomForestClassifier(max_depth=50, n_estimators=500)</pre><b>In a Jupyter environment, please rerun this cell to show the HTML representation or trust the notebook. <br />On GitHub, the HTML representation is unable to render, please try loading this page with nbviewer.org.</b></div><div class=\"sk-container\" hidden><div class=\"sk-item\"><div class=\"sk-estimator sk-toggleable\"><input class=\"sk-toggleable__control sk-hidden--visually\" id=\"sk-estimator-id-1\" type=\"checkbox\" checked><label for=\"sk-estimator-id-1\" class=\"sk-toggleable__label sk-toggleable__label-arrow\">RandomForestClassifier</label><div class=\"sk-toggleable__content\"><pre>RandomForestClassifier(max_depth=50, n_estimators=500)</pre></div></div></div></div></div>"
            ]
          },
          "metadata": {},
          "execution_count": 11
        }
      ],
      "source": [
        "model.fit(xtrain, ytrain)"
      ]
    },
    {
      "cell_type": "code",
      "execution_count": null,
      "metadata": {
        "id": "Fxz2HxrK-UmI"
      },
      "outputs": [],
      "source": [
        "pred = model.predict(xtest)"
      ]
    },
    {
      "cell_type": "code",
      "execution_count": null,
      "metadata": {
        "colab": {
          "base_uri": "https://localhost:8080/"
        },
        "id": "VbO4vfmz-aCQ",
        "outputId": "0098b393-2e54-4abb-faa9-5246433f8d77"
      },
      "outputs": [
        {
          "data": {
            "text/plain": [
              "(0.9769230769230769, 0.9558823529411765, 1.0, 0.9774436090225563)"
            ]
          },
          "execution_count": 17,
          "metadata": {},
          "output_type": "execute_result"
        }
      ],
      "source": [
        "accuracy_score(ytest,pred), precision_score(ytest, pred), recall_score(ytest, pred), f1_score(ytest, pred)"
      ]
    },
    {
      "cell_type": "code",
      "source": [
        "mcc = matthews_corrcoef(ytest, pred)\n",
        "mcc"
      ],
      "metadata": {
        "colab": {
          "base_uri": "https://localhost:8080/"
        },
        "outputId": "66d3e069-501f-47d9-eb86-5dc8b962f078",
        "id": "DjobUwZvf4l0"
      },
      "execution_count": null,
      "outputs": [
        {
          "output_type": "execute_result",
          "data": {
            "text/plain": [
              "0.947528479243818"
            ]
          },
          "metadata": {},
          "execution_count": 13
        }
      ]
    },
    {
      "cell_type": "code",
      "execution_count": null,
      "metadata": {
        "id": "NhyWAysPCLhd"
      },
      "outputs": [],
      "source": [
        "cm=confusion_matrix(ytest,pred)"
      ]
    },
    {
      "cell_type": "code",
      "execution_count": null,
      "metadata": {
        "colab": {
          "base_uri": "https://localhost:8080/"
        },
        "id": "WI3lOl95R2pT",
        "outputId": "b3b06ed1-eaf0-4caa-f443-ab5a41bfd534"
      },
      "outputs": [
        {
          "data": {
            "text/plain": [
              "array([[124,   6],\n",
              "       [  0, 130]])"
            ]
          },
          "execution_count": 19,
          "metadata": {},
          "output_type": "execute_result"
        }
      ],
      "source": [
        "cm"
      ]
    },
    {
      "cell_type": "code",
      "execution_count": null,
      "metadata": {
        "colab": {
          "base_uri": "https://localhost:8080/"
        },
        "id": "JCdmO2fIRbAa",
        "outputId": "18e48c16-3b33-4e96-ab85-b4eedfcfb016"
      },
      "outputs": [
        {
          "name": "stdout",
          "output_type": "stream",
          "text": [
            "Sensitivity: 1.0\n",
            "Specificity: 0.9538461538461539\n"
          ]
        }
      ],
      "source": [
        "# True Positives (TP)\n",
        "tp = cm[1, 1]\n",
        "\n",
        "# True Negatives (TN)\n",
        "tn = cm[0, 0]\n",
        "\n",
        "# False Positives (FP)\n",
        "fp = cm[0, 1]\n",
        "\n",
        "# False Negatives (FN)\n",
        "fn = cm[1, 0]\n",
        "\n",
        "# Sensitivity (True Positive Rate or Recall)\n",
        "sensitivity = tp / (tp + fn)\n",
        "\n",
        "# Specificity (True Negative Rate)\n",
        "specificity = tn / (tn + fp)\n",
        "\n",
        "print(\"Sensitivity:\", sensitivity)\n",
        "print(\"Specificity:\", specificity)"
      ]
    },
    {
      "cell_type": "code",
      "execution_count": null,
      "metadata": {
        "colab": {
          "base_uri": "https://localhost:8080/",
          "height": 347
        },
        "id": "DIY_Gmv5SAHX",
        "outputId": "8a5b3d10-7c98-4826-876f-aec78e898b4e"
      },
      "outputs": [
        {
          "data": {
            "image/png": "[encoded data removed]",
            "text/plain": [
              "<Figure size 400x300 with 1 Axes>"
            ]
          },
          "metadata": {},
          "output_type": "display_data"
        }
      ],
      "source": [
        "plt.figure(figsize=(4, 3))\n",
        "sns.set(font_scale=1.2)\n",
        "sns.heatmap(cm, annot=True, fmt='d', cmap='Blues', annot_kws={\"size\": 16}, cbar=False)\n",
        "plt.xlabel('Predicted')\n",
        "plt.ylabel('True')\n",
        "plt.title('Confusion Matrix')\n",
        "plt.show()"
      ]
    },
    {
      "cell_type": "markdown",
      "metadata": {
        "id": "FzcgpfXueoCF"
      },
      "source": [
        "xb booster"
      ]
    },
    {
      "cell_type": "code",
      "execution_count": null,
      "metadata": {
        "id": "0qvw83Ocer5M"
      },
      "outputs": [],
      "source": [
        "model = XGBClassifier(n_estimators = 500,max_depth = 7, base_score = 0.88, learning_rate = 0.2)\n"
      ]
    },
    {
      "cell_type": "code",
      "execution_count": null,
      "metadata": {
        "id": "tp8Q-UP_fCq8"
      },
      "outputs": [],
      "source": [
        "pred = cross_val_predict(model, xtrain, ytrain, cv=cv, n_jobs=-1)"
      ]
    },
    {
      "cell_type": "markdown",
      "metadata": {
        "id": "trc_2wW-gir7"
      },
      "source": [
        "Cross Valadiation"
      ]
    },
    {
      "cell_type": "code",
      "execution_count": null,
      "metadata": {
        "colab": {
          "base_uri": "https://localhost:8080/"
        },
        "id": "_EDAEH8XfJOn",
        "outputId": "d58686bf-952c-4d1b-ea59-9eee341e4887"
      },
      "outputs": [
        {
          "data": {
            "text/plain": [
              "(0.9185013518733102, 0.887987012987013, 0.9374464438731791, 0.9120466861192162)"
            ]
          },
          "execution_count": 24,
          "metadata": {},
          "output_type": "execute_result"
        }
      ],
      "source": [
        "accuracy_score(ytrain,pred), precision_score(ytrain, pred), recall_score(ytrain, pred), f1_score(ytrain, pred)"
      ]
    },
    {
      "cell_type": "code",
      "source": [
        "mcc = matthews_corrcoef(ytrain, pred)\n",
        "mcc"
      ],
      "metadata": {
        "colab": {
          "base_uri": "https://localhost:8080/"
        },
        "outputId": "f7c3dd5c-910d-4e9d-88e3-417539c480c5",
        "id": "HWLPa19Uf9Xv"
      },
      "execution_count": null,
      "outputs": [
        {
          "output_type": "execute_result",
          "data": {
            "text/plain": [
              "0.8371436772437207"
            ]
          },
          "metadata": {},
          "execution_count": 16
        }
      ]
    },
    {
      "cell_type": "code",
      "execution_count": null,
      "metadata": {
        "id": "60ANTFaNiQSB"
      },
      "outputs": [],
      "source": [
        "cm = confusion_matrix(ytrain,pred)"
      ]
    },
    {
      "cell_type": "code",
      "execution_count": null,
      "metadata": {
        "colab": {
          "base_uri": "https://localhost:8080/"
        },
        "id": "IBHD-59bSgsB",
        "outputId": "2127c916-d6d6-4743-f065-bd4ee6c7af8b"
      },
      "outputs": [
        {
          "data": {
            "text/plain": [
              "array([[1284,  138],\n",
              "       [  73, 1094]])"
            ]
          },
          "execution_count": 26,
          "metadata": {},
          "output_type": "execute_result"
        }
      ],
      "source": [
        "cm"
      ]
    },
    {
      "cell_type": "code",
      "execution_count": null,
      "metadata": {
        "colab": {
          "base_uri": "https://localhost:8080/"
        },
        "id": "1JZDqCuoSivt",
        "outputId": "5a8db9fa-12da-4d42-d899-f288c8620d37"
      },
      "outputs": [
        {
          "name": "stdout",
          "output_type": "stream",
          "text": [
            "Sensitivity: 0.9374464438731791\n",
            "Specificity: 0.9029535864978903\n"
          ]
        }
      ],
      "source": [
        "# True Positives (TP)\n",
        "tp = cm[1, 1]\n",
        "\n",
        "# True Negatives (TN)\n",
        "tn = cm[0, 0]\n",
        "\n",
        "# False Positives (FP)\n",
        "fp = cm[0, 1]\n",
        "\n",
        "# False Negatives (FN)\n",
        "fn = cm[1, 0]\n",
        "\n",
        "# Sensitivity (True Positive Rate or Recall)\n",
        "sensitivity = tp / (tp + fn)\n",
        "\n",
        "# Specificity (True Negative Rate)\n",
        "specificity = tn / (tn + fp)\n",
        "\n",
        "print(\"Sensitivity:\", sensitivity)\n",
        "print(\"Specificity:\", specificity)"
      ]
    },
    {
      "cell_type": "code",
      "execution_count": null,
      "metadata": {
        "colab": {
          "base_uri": "https://localhost:8080/",
          "height": 347
        },
        "id": "I-O25x72Sn41",
        "outputId": "74e04466-5029-4b8a-c2e9-e9928d1bd95a"
      },
      "outputs": [
        {
          "data": {
            "image/png": "[encoded data removed]",
            "text/plain": [
              "<Figure size 400x300 with 1 Axes>"
            ]
          },
          "metadata": {},
          "output_type": "display_data"
        }
      ],
      "source": [
        "plt.figure(figsize=(4, 3))\n",
        "sns.set(font_scale=1.2)\n",
        "sns.heatmap(cm, annot=True, fmt='d', cmap='Blues', annot_kws={\"size\": 16}, cbar=False)\n",
        "plt.xlabel('Predicted')\n",
        "plt.ylabel('True')\n",
        "plt.title('Confusion Matrix')\n",
        "plt.show()"
      ]
    },
    {
      "cell_type": "markdown",
      "metadata": {
        "id": "hvLiCdEQgfx3"
      },
      "source": [
        "indipendent test"
      ]
    },
    {
      "cell_type": "code",
      "execution_count": null,
      "metadata": {
        "colab": {
          "base_uri": "https://localhost:8080/",
          "height": 248
        },
        "id": "VNZez6znfLYM",
        "outputId": "05f461ce-df5e-4009-f60c-55c3a8ca299a"
      },
      "outputs": [
        {
          "output_type": "execute_result",
          "data": {
            "text/plain": [
              "XGBClassifier(base_score=0.88, booster=None, callbacks=None,\n",
              "              colsample_bylevel=None, colsample_bynode=None,\n",
              "              colsample_bytree=None, device=None, early_stopping_rounds=None,\n",
              "              enable_categorical=False, eval_metric=None, feature_types=None,\n",
              "              gamma=None, grow_policy=None, importance_type=None,\n",
              "              interaction_constraints=None, learning_rate=0.2, max_bin=None,\n",
              "              max_cat_threshold=None, max_cat_to_onehot=None,\n",
              "              max_delta_step=None, max_depth=7, max_leaves=None,\n",
              "              min_child_weight=None, missing=nan, monotone_constraints=None,\n",
              "              multi_strategy=None, n_estimators=500, n_jobs=None,\n",
              "              num_parallel_tree=None, random_state=None, ...)"
            ],
            "text/html": [
              "<style>#sk-container-id-2 {color: black;background-color: white;}#sk-container-id-2 pre{padding: 0;}#sk-container-id-2 div.sk-toggleable {background-color: white;}#sk-container-id-2 label.sk-toggleable__label {cursor: pointer;display: block;width: 100%;margin-bottom: 0;padding: 0.3em;box-sizing: border-box;text-align: center;}#sk-container-id-2 label.sk-toggleable__label-arrow:before {content: \"▸\";float: left;margin-right: 0.25em;color: #696969;}#sk-container-id-2 label.sk-toggleable__label-arrow:hover:before {color: black;}#sk-container-id-2 div.sk-estimator:hover label.sk-toggleable__label-arrow:before {color: black;}#sk-container-id-2 div.sk-toggleable__content {max-height: 0;max-width: 0;overflow: hidden;text-align: left;background-color: #f0f8ff;}#sk-container-id-2 div.sk-toggleable__content pre {margin: 0.2em;color: black;border-radius: 0.25em;background-color: #f0f8ff;}#sk-container-id-2 input.sk-toggleable__control:checked~div.sk-toggleable__content {max-height: 200px;max-width: 100%;overflow: auto;}#sk-container-id-2 input.sk-toggleable__control:checked~label.sk-toggleable__label-arrow:before {content: \"▾\";}#sk-container-id-2 div.sk-estimator input.sk-toggleable__control:checked~label.sk-toggleable__label {background-color: #d4ebff;}#sk-container-id-2 div.sk-label input.sk-toggleable__control:checked~label.sk-toggleable__label {background-color: #d4ebff;}#sk-container-id-2 input.sk-hidden--visually {border: 0;clip: rect(1px 1px 1px 1px);clip: rect(1px, 1px, 1px, 1px);height: 1px;margin: -1px;overflow: hidden;padding: 0;position: absolute;width: 1px;}#sk-container-id-2 div.sk-estimator {font-family: monospace;background-color: #f0f8ff;border: 1px dotted black;border-radius: 0.25em;box-sizing: border-box;margin-bottom: 0.5em;}#sk-container-id-2 div.sk-estimator:hover {background-color: #d4ebff;}#sk-container-id-2 div.sk-parallel-item::after {content: \"\";width: 100%;border-bottom: 1px solid gray;flex-grow: 1;}#sk-container-id-2 div.sk-label:hover label.sk-toggleable__label {background-color: #d4ebff;}#sk-container-id-2 div.sk-serial::before {content: \"\";position: absolute;border-left: 1px solid gray;box-sizing: border-box;top: 0;bottom: 0;left: 50%;z-index: 0;}#sk-container-id-2 div.sk-serial {display: flex;flex-direction: column;align-items: center;background-color: white;padding-right: 0.2em;padding-left: 0.2em;position: relative;}#sk-container-id-2 div.sk-item {position: relative;z-index: 1;}#sk-container-id-2 div.sk-parallel {display: flex;align-items: stretch;justify-content: center;background-color: white;position: relative;}#sk-container-id-2 div.sk-item::before, #sk-container-id-2 div.sk-parallel-item::before {content: \"\";position: absolute;border-left: 1px solid gray;box-sizing: border-box;top: 0;bottom: 0;left: 50%;z-index: -1;}#sk-container-id-2 div.sk-parallel-item {display: flex;flex-direction: column;z-index: 1;position: relative;background-color: white;}#sk-container-id-2 div.sk-parallel-item:first-child::after {align-self: flex-end;width: 50%;}#sk-container-id-2 div.sk-parallel-item:last-child::after {align-self: flex-start;width: 50%;}#sk-container-id-2 div.sk-parallel-item:only-child::after {width: 0;}#sk-container-id-2 div.sk-dashed-wrapped {border: 1px dashed gray;margin: 0 0.4em 0.5em 0.4em;box-sizing: border-box;padding-bottom: 0.4em;background-color: white;}#sk-container-id-2 div.sk-label label {font-family: monospace;font-weight: bold;display: inline-block;line-height: 1.2em;}#sk-container-id-2 div.sk-label-container {text-align: center;}#sk-container-id-2 div.sk-container {/* jupyter's `normalize.less` sets `[hidden] { display: none; }` but bootstrap.min.css set `[hidden] { display: none !important; }` so we also need the `!important` here to be able to override the default hidden behavior on the sphinx rendered scikit-learn.org. See: https://github.com/scikit-learn/scikit-learn/issues/21755 */display: inline-block !important;position: relative;}#sk-container-id-2 div.sk-text-repr-fallback {display: none;}</style><div id=\"sk-container-id-2\" class=\"sk-top-container\"><div class=\"sk-text-repr-fallback\"><pre>XGBClassifier(base_score=0.88, booster=None, callbacks=None,\n",
              "              colsample_bylevel=None, colsample_bynode=None,\n",
              "              colsample_bytree=None, device=None, early_stopping_rounds=None,\n",
              "              enable_categorical=False, eval_metric=None, feature_types=None,\n",
              "              gamma=None, grow_policy=None, importance_type=None,\n",
              "              interaction_constraints=None, learning_rate=0.2, max_bin=None,\n",
              "              max_cat_threshold=None, max_cat_to_onehot=None,\n",
              "              max_delta_step=None, max_depth=7, max_leaves=None,\n",
              "              min_child_weight=None, missing=nan, monotone_constraints=None,\n",
              "              multi_strategy=None, n_estimators=500, n_jobs=None,\n",
              "              num_parallel_tree=None, random_state=None, ...)</pre><b>In a Jupyter environment, please rerun this cell to show the HTML representation or trust the notebook. <br />On GitHub, the HTML representation is unable to render, please try loading this page with nbviewer.org.</b></div><div class=\"sk-container\" hidden><div class=\"sk-item\"><div class=\"sk-estimator sk-toggleable\"><input class=\"sk-toggleable__control sk-hidden--visually\" id=\"sk-estimator-id-2\" type=\"checkbox\" checked><label for=\"sk-estimator-id-2\" class=\"sk-toggleable__label sk-toggleable__label-arrow\">XGBClassifier</label><div class=\"sk-toggleable__content\"><pre>XGBClassifier(base_score=0.88, booster=None, callbacks=None,\n",
              "              colsample_bylevel=None, colsample_bynode=None,\n",
              "              colsample_bytree=None, device=None, early_stopping_rounds=None,\n",
              "              enable_categorical=False, eval_metric=None, feature_types=None,\n",
              "              gamma=None, grow_policy=None, importance_type=None,\n",
              "              interaction_constraints=None, learning_rate=0.2, max_bin=None,\n",
              "              max_cat_threshold=None, max_cat_to_onehot=None,\n",
              "              max_delta_step=None, max_depth=7, max_leaves=None,\n",
              "              min_child_weight=None, missing=nan, monotone_constraints=None,\n",
              "              multi_strategy=None, n_estimators=500, n_jobs=None,\n",
              "              num_parallel_tree=None, random_state=None, ...)</pre></div></div></div></div></div>"
            ]
          },
          "metadata": {},
          "execution_count": 17
        }
      ],
      "source": [
        "model.fit(xtrain, ytrain)"
      ]
    },
    {
      "cell_type": "code",
      "execution_count": null,
      "metadata": {
        "id": "ME5IKMTyhSBH"
      },
      "outputs": [],
      "source": [
        "pred = model.predict(xtest)"
      ]
    },
    {
      "cell_type": "code",
      "execution_count": null,
      "metadata": {
        "colab": {
          "base_uri": "https://localhost:8080/"
        },
        "id": "vqn8dIedhYzv",
        "outputId": "b5e7f3ed-94cd-4b2d-e49d-584cb6f16a52"
      },
      "outputs": [
        {
          "data": {
            "text/plain": [
              "(0.9730769230769231, 0.948905109489051, 1.0, 0.9737827715355805)"
            ]
          },
          "execution_count": 31,
          "metadata": {},
          "output_type": "execute_result"
        }
      ],
      "source": [
        "accuracy_score(ytest,pred), precision_score(ytest, pred), recall_score(ytest, pred), f1_score(ytest, pred)"
      ]
    },
    {
      "cell_type": "code",
      "source": [
        "mcc = matthews_corrcoef(ytest, pred)\n",
        "mcc"
      ],
      "metadata": {
        "colab": {
          "base_uri": "https://localhost:8080/"
        },
        "outputId": "2cb12dc0-d3ad-4c0d-f18e-89220832906a",
        "id": "DzrVvl5KgBLx"
      },
      "execution_count": null,
      "outputs": [
        {
          "output_type": "execute_result",
          "data": {
            "text/plain": [
              "0.954863710632231"
            ]
          },
          "metadata": {},
          "execution_count": 19
        }
      ]
    },
    {
      "cell_type": "code",
      "execution_count": null,
      "metadata": {
        "id": "RoAn0eixhfSR"
      },
      "outputs": [],
      "source": [
        "cm = confusion_matrix(ytest,pred)"
      ]
    },
    {
      "cell_type": "code",
      "execution_count": null,
      "metadata": {
        "colab": {
          "base_uri": "https://localhost:8080/"
        },
        "id": "tzeh2qzaSKyy",
        "outputId": "355c5ef4-7e3a-4262-e93c-fee40c18f648"
      },
      "outputs": [
        {
          "data": {
            "text/plain": [
              "array([[123,   7],\n",
              "       [  0, 130]])"
            ]
          },
          "execution_count": 33,
          "metadata": {},
          "output_type": "execute_result"
        }
      ],
      "source": [
        "cm"
      ]
    },
    {
      "cell_type": "code",
      "execution_count": null,
      "metadata": {
        "colab": {
          "base_uri": "https://localhost:8080/"
        },
        "id": "0DgHq-ylSYUv",
        "outputId": "f58cbba6-9c57-49d8-df1d-938b82058736"
      },
      "outputs": [
        {
          "name": "stdout",
          "output_type": "stream",
          "text": [
            "Sensitivity: 1.0\n",
            "Specificity: 0.9461538461538461\n"
          ]
        }
      ],
      "source": [
        "# True Positives (TP)\n",
        "tp = cm[1, 1]\n",
        "\n",
        "# True Negatives (TN)\n",
        "tn = cm[0, 0]\n",
        "\n",
        "# False Positives (FP)\n",
        "fp = cm[0, 1]\n",
        "\n",
        "# False Negatives (FN)\n",
        "fn = cm[1, 0]\n",
        "\n",
        "# Sensitivity (True Positive Rate or Recall)\n",
        "sensitivity = tp / (tp + fn)\n",
        "\n",
        "# Specificity (True Negative Rate)\n",
        "specificity = tn / (tn + fp)\n",
        "\n",
        "print(\"Sensitivity:\", sensitivity)\n",
        "print(\"Specificity:\", specificity)"
      ]
    },
    {
      "cell_type": "code",
      "execution_count": null,
      "metadata": {
        "colab": {
          "base_uri": "https://localhost:8080/",
          "height": 347
        },
        "id": "DcQKaDLcSLjX",
        "outputId": "1d3589cd-4f03-46df-ae2b-4619461284d1"
      },
      "outputs": [
        {
          "data": {
            "image/png": "[encoded data removed]",
            "text/plain": [
              "<Figure size 400x300 with 1 Axes>"
            ]
          },
          "metadata": {},
          "output_type": "display_data"
        }
      ],
      "source": [
        "plt.figure(figsize=(4, 3))\n",
        "sns.set(font_scale=1.2)\n",
        "sns.heatmap(cm, annot=True, fmt='d', cmap='Blues', annot_kws={\"size\": 16}, cbar=False)\n",
        "plt.xlabel('Predicted')\n",
        "plt.ylabel('True')\n",
        "plt.title('Confusion Matrix')\n",
        "plt.show()"
      ]
    },
    {
      "cell_type": "markdown",
      "metadata": {
        "id": "nCdbfPGnitN-"
      },
      "source": [
        "**LGBM**"
      ]
    },
    {
      "cell_type": "code",
      "execution_count": null,
      "metadata": {
        "id": "WUYaa0Qci9PD"
      },
      "outputs": [],
      "source": [
        "model = LGBMClassifier(max_depth=7, learning_rate=0.5)"
      ]
    },
    {
      "cell_type": "code",
      "execution_count": null,
      "metadata": {
        "id": "Okv-MIVxjMd3"
      },
      "outputs": [],
      "source": [
        "pred = cross_val_predict(model, xtrain, ytrain, cv=cv, n_jobs=-1)"
      ]
    },
    {
      "cell_type": "code",
      "execution_count": null,
      "metadata": {
        "colab": {
          "base_uri": "https://localhost:8080/"
        },
        "id": "eZAdyYHIjP6w",
        "outputId": "bb5a8dda-0145-4ba7-d95b-c0f2b0e799bd"
      },
      "outputs": [
        {
          "data": {
            "text/plain": [
              "(0.9177288528389339,\n",
              " 0.8834405144694534,\n",
              " 0.9417309340188518,\n",
              " 0.9116549149730402)"
            ]
          },
          "execution_count": 38,
          "metadata": {},
          "output_type": "execute_result"
        }
      ],
      "source": [
        "accuracy_score(ytrain,pred), precision_score(ytrain, pred), recall_score(ytrain, pred), f1_score(ytrain, pred)"
      ]
    },
    {
      "cell_type": "code",
      "source": [
        "mcc = matthews_corrcoef(ytrain, pred)\n",
        "mcc"
      ],
      "metadata": {
        "colab": {
          "base_uri": "https://localhost:8080/"
        },
        "outputId": "e95322cc-ea50-492e-884f-cf614c8c08d3",
        "id": "Lwfiy_1JgFnZ"
      },
      "execution_count": null,
      "outputs": [
        {
          "output_type": "execute_result",
          "data": {
            "text/plain": [
              "0.8363153122810107"
            ]
          },
          "metadata": {},
          "execution_count": 22
        }
      ]
    },
    {
      "cell_type": "code",
      "execution_count": null,
      "metadata": {
        "id": "Y0qnDujljUYf"
      },
      "outputs": [],
      "source": [
        "cm = confusion_matrix(ytrain,pred)"
      ]
    },
    {
      "cell_type": "code",
      "execution_count": null,
      "metadata": {
        "colab": {
          "base_uri": "https://localhost:8080/"
        },
        "id": "ZEiVAVqbSvNh",
        "outputId": "8bda819c-c520-4417-ba43-44896e21ad57"
      },
      "outputs": [
        {
          "data": {
            "text/plain": [
              "array([[1277,  145],\n",
              "       [  68, 1099]])"
            ]
          },
          "execution_count": 40,
          "metadata": {},
          "output_type": "execute_result"
        }
      ],
      "source": [
        "cm"
      ]
    },
    {
      "cell_type": "code",
      "execution_count": null,
      "metadata": {
        "colab": {
          "base_uri": "https://localhost:8080/"
        },
        "id": "mmcOXh8hSwg5",
        "outputId": "22dcf6d5-ebd4-4c23-f887-f2ed628d0960"
      },
      "outputs": [
        {
          "name": "stdout",
          "output_type": "stream",
          "text": [
            "Sensitivity: 0.9417309340188518\n",
            "Specificity: 0.8980309423347398\n"
          ]
        }
      ],
      "source": [
        "# True Positives (TP)\n",
        "tp = cm[1, 1]\n",
        "\n",
        "# True Negatives (TN)\n",
        "tn = cm[0, 0]\n",
        "\n",
        "# False Positives (FP)\n",
        "fp = cm[0, 1]\n",
        "\n",
        "# False Negatives (FN)\n",
        "fn = cm[1, 0]\n",
        "\n",
        "# Sensitivity (True Positive Rate or Recall)\n",
        "sensitivity = tp / (tp + fn)\n",
        "\n",
        "# Specificity (True Negative Rate)\n",
        "specificity = tn / (tn + fp)\n",
        "\n",
        "print(\"Sensitivity:\", sensitivity)\n",
        "print(\"Specificity:\", specificity)"
      ]
    },
    {
      "cell_type": "code",
      "execution_count": null,
      "metadata": {
        "colab": {
          "base_uri": "https://localhost:8080/",
          "height": 347
        },
        "id": "vDdwySJ3S3jD",
        "outputId": "73ec5288-1607-4f17-9f27-049b220d3960"
      },
      "outputs": [
        {
          "data": {
            "image/png": "[encoded data removed]",
            "text/plain": [
              "<Figure size 400x300 with 1 Axes>"
            ]
          },
          "metadata": {},
          "output_type": "display_data"
        }
      ],
      "source": [
        "plt.figure(figsize=(4, 3))\n",
        "sns.set(font_scale=1.2)\n",
        "sns.heatmap(cm, annot=True, fmt='d', cmap='Blues', annot_kws={\"size\": 16}, cbar=False)\n",
        "plt.xlabel('Predicted')\n",
        "plt.ylabel('True')\n",
        "plt.title('Confusion Matrix')\n",
        "plt.show()"
      ]
    },
    {
      "cell_type": "code",
      "execution_count": null,
      "metadata": {
        "colab": {
          "base_uri": "https://localhost:8080/",
          "height": 908
        },
        "id": "L1qASeFnjY_K",
        "outputId": "7df6bb65-ba51-46db-d9e6-ec87eeee6b8c"
      },
      "outputs": [
        {
          "output_type": "stream",
          "name": "stdout",
          "text": [
            "[LightGBM] [Warning] Accuracy may be bad since you didn't explicitly set num_leaves OR 2^max_depth > num_leaves. (num_leaves=31).\n",
            "[LightGBM] [Warning] Accuracy may be bad since you didn't explicitly set num_leaves OR 2^max_depth > num_leaves. (num_leaves=31).\n",
            "[LightGBM] [Info] Number of positive: 1167, number of negative: 1422\n",
            "[LightGBM] [Info] Auto-choosing row-wise multi-threading, the overhead of testing was 0.000706 seconds.\n",
            "You can set `force_row_wise=true` to remove the overhead.\n",
            "And if memory is not enough, you can set `force_col_wise=true`.\n",
            "[LightGBM] [Info] Total Bins 5349\n",
            "[LightGBM] [Info] Number of data points in the train set: 2589, number of used features: 22\n",
            "[LightGBM] [Info] [binary:BoostFromScore]: pavg=0.450753 -> initscore=-0.197628\n",
            "[LightGBM] [Info] Start training from score -0.197628\n",
            "[LightGBM] [Warning] No further splits with positive gain, best gain: -inf\n",
            "[LightGBM] [Warning] No further splits with positive gain, best gain: -inf\n",
            "[LightGBM] [Warning] No further splits with positive gain, best gain: -inf\n",
            "[LightGBM] [Warning] No further splits with positive gain, best gain: -inf\n",
            "[LightGBM] [Warning] No further splits with positive gain, best gain: -inf\n",
            "[LightGBM] [Warning] No further splits with positive gain, best gain: -inf\n",
            "[LightGBM] [Warning] No further splits with positive gain, best gain: -inf\n",
            "[LightGBM] [Warning] No further splits with positive gain, best gain: -inf\n",
            "[LightGBM] [Warning] No further splits with positive gain, best gain: -inf\n",
            "[LightGBM] [Warning] No further splits with positive gain, best gain: -inf\n",
            "[LightGBM] [Warning] No further splits with positive gain, best gain: -inf\n",
            "[LightGBM] [Warning] No further splits with positive gain, best gain: -inf\n",
            "[LightGBM] [Warning] No further splits with positive gain, best gain: -inf\n",
            "[LightGBM] [Warning] No further splits with positive gain, best gain: -inf\n",
            "[LightGBM] [Warning] No further splits with positive gain, best gain: -inf\n",
            "[LightGBM] [Warning] No further splits with positive gain, best gain: -inf\n",
            "[LightGBM] [Warning] No further splits with positive gain, best gain: -inf\n",
            "[LightGBM] [Warning] No further splits with positive gain, best gain: -inf\n",
            "[LightGBM] [Warning] No further splits with positive gain, best gain: -inf\n",
            "[LightGBM] [Warning] No further splits with positive gain, best gain: -inf\n",
            "[LightGBM] [Warning] No further splits with positive gain, best gain: -inf\n",
            "[LightGBM] [Warning] No further splits with positive gain, best gain: -inf\n",
            "[LightGBM] [Warning] No further splits with positive gain, best gain: -inf\n",
            "[LightGBM] [Warning] No further splits with positive gain, best gain: -inf\n",
            "[LightGBM] [Warning] No further splits with positive gain, best gain: -inf\n",
            "[LightGBM] [Warning] No further splits with positive gain, best gain: -inf\n",
            "[LightGBM] [Warning] No further splits with positive gain, best gain: -inf\n",
            "[LightGBM] [Warning] No further splits with positive gain, best gain: -inf\n",
            "[LightGBM] [Warning] No further splits with positive gain, best gain: -inf\n",
            "[LightGBM] [Warning] No further splits with positive gain, best gain: -inf\n",
            "[LightGBM] [Warning] No further splits with positive gain, best gain: -inf\n",
            "[LightGBM] [Warning] No further splits with positive gain, best gain: -inf\n",
            "[LightGBM] [Warning] No further splits with positive gain, best gain: -inf\n",
            "[LightGBM] [Warning] No further splits with positive gain, best gain: -inf\n",
            "[LightGBM] [Warning] No further splits with positive gain, best gain: -inf\n",
            "[LightGBM] [Warning] No further splits with positive gain, best gain: -inf\n",
            "[LightGBM] [Warning] No further splits with positive gain, best gain: -inf\n",
            "[LightGBM] [Warning] No further splits with positive gain, best gain: -inf\n"
          ]
        },
        {
          "output_type": "execute_result",
          "data": {
            "text/plain": [
              "LGBMClassifier(learning_rate=0.5, max_depth=7)"
            ],
            "text/html": [
              "<style>#sk-container-id-3 {color: black;background-color: white;}#sk-container-id-3 pre{padding: 0;}#sk-container-id-3 div.sk-toggleable {background-color: white;}#sk-container-id-3 label.sk-toggleable__label {cursor: pointer;display: block;width: 100%;margin-bottom: 0;padding: 0.3em;box-sizing: border-box;text-align: center;}#sk-container-id-3 label.sk-toggleable__label-arrow:before {content: \"▸\";float: left;margin-right: 0.25em;color: #696969;}#sk-container-id-3 label.sk-toggleable__label-arrow:hover:before {color: black;}#sk-container-id-3 div.sk-estimator:hover label.sk-toggleable__label-arrow:before {color: black;}#sk-container-id-3 div.sk-toggleable__content {max-height: 0;max-width: 0;overflow: hidden;text-align: left;background-color: #f0f8ff;}#sk-container-id-3 div.sk-toggleable__content pre {margin: 0.2em;color: black;border-radius: 0.25em;background-color: #f0f8ff;}#sk-container-id-3 input.sk-toggleable__control:checked~div.sk-toggleable__content {max-height: 200px;max-width: 100%;overflow: auto;}#sk-container-id-3 input.sk-toggleable__control:checked~label.sk-toggleable__label-arrow:before {content: \"▾\";}#sk-container-id-3 div.sk-estimator input.sk-toggleable__control:checked~label.sk-toggleable__label {background-color: #d4ebff;}#sk-container-id-3 div.sk-label input.sk-toggleable__control:checked~label.sk-toggleable__label {background-color: #d4ebff;}#sk-container-id-3 input.sk-hidden--visually {border: 0;clip: rect(1px 1px 1px 1px);clip: rect(1px, 1px, 1px, 1px);height: 1px;margin: -1px;overflow: hidden;padding: 0;position: absolute;width: 1px;}#sk-container-id-3 div.sk-estimator {font-family: monospace;background-color: #f0f8ff;border: 1px dotted black;border-radius: 0.25em;box-sizing: border-box;margin-bottom: 0.5em;}#sk-container-id-3 div.sk-estimator:hover {background-color: #d4ebff;}#sk-container-id-3 div.sk-parallel-item::after {content: \"\";width: 100%;border-bottom: 1px solid gray;flex-grow: 1;}#sk-container-id-3 div.sk-label:hover label.sk-toggleable__label {background-color: #d4ebff;}#sk-container-id-3 div.sk-serial::before {content: \"\";position: absolute;border-left: 1px solid gray;box-sizing: border-box;top: 0;bottom: 0;left: 50%;z-index: 0;}#sk-container-id-3 div.sk-serial {display: flex;flex-direction: column;align-items: center;background-color: white;padding-right: 0.2em;padding-left: 0.2em;position: relative;}#sk-container-id-3 div.sk-item {position: relative;z-index: 1;}#sk-container-id-3 div.sk-parallel {display: flex;align-items: stretch;justify-content: center;background-color: white;position: relative;}#sk-container-id-3 div.sk-item::before, #sk-container-id-3 div.sk-parallel-item::before {content: \"\";position: absolute;border-left: 1px solid gray;box-sizing: border-box;top: 0;bottom: 0;left: 50%;z-index: -1;}#sk-container-id-3 div.sk-parallel-item {display: flex;flex-direction: column;z-index: 1;position: relative;background-color: white;}#sk-container-id-3 div.sk-parallel-item:first-child::after {align-self: flex-end;width: 50%;}#sk-container-id-3 div.sk-parallel-item:last-child::after {align-self: flex-start;width: 50%;}#sk-container-id-3 div.sk-parallel-item:only-child::after {width: 0;}#sk-container-id-3 div.sk-dashed-wrapped {border: 1px dashed gray;margin: 0 0.4em 0.5em 0.4em;box-sizing: border-box;padding-bottom: 0.4em;background-color: white;}#sk-container-id-3 div.sk-label label {font-family: monospace;font-weight: bold;display: inline-block;line-height: 1.2em;}#sk-container-id-3 div.sk-label-container {text-align: center;}#sk-container-id-3 div.sk-container {/* jupyter's `normalize.less` sets `[hidden] { display: none; }` but bootstrap.min.css set `[hidden] { display: none !important; }` so we also need the `!important` here to be able to override the default hidden behavior on the sphinx rendered scikit-learn.org. See: https://github.com/scikit-learn/scikit-learn/issues/21755 */display: inline-block !important;position: relative;}#sk-container-id-3 div.sk-text-repr-fallback {display: none;}</style><div id=\"sk-container-id-3\" class=\"sk-top-container\"><div class=\"sk-text-repr-fallback\"><pre>LGBMClassifier(learning_rate=0.5, max_depth=7)</pre><b>In a Jupyter environment, please rerun this cell to show the HTML representation or trust the notebook. <br />On GitHub, the HTML representation is unable to render, please try loading this page with nbviewer.org.</b></div><div class=\"sk-container\" hidden><div class=\"sk-item\"><div class=\"sk-estimator sk-toggleable\"><input class=\"sk-toggleable__control sk-hidden--visually\" id=\"sk-estimator-id-3\" type=\"checkbox\" checked><label for=\"sk-estimator-id-3\" class=\"sk-toggleable__label sk-toggleable__label-arrow\">LGBMClassifier</label><div class=\"sk-toggleable__content\"><pre>LGBMClassifier(learning_rate=0.5, max_depth=7)</pre></div></div></div></div></div>"
            ]
          },
          "metadata": {},
          "execution_count": 23
        }
      ],
      "source": [
        "model.fit(xtrain, ytrain)"
      ]
    },
    {
      "cell_type": "code",
      "execution_count": null,
      "metadata": {
        "colab": {
          "base_uri": "https://localhost:8080/"
        },
        "id": "w2WGgWuhjhEa",
        "outputId": "dd4497e6-e9cc-4ed9-f3f3-9e5c3cd0d39a"
      },
      "outputs": [
        {
          "output_type": "stream",
          "name": "stdout",
          "text": [
            "[LightGBM] [Warning] Accuracy may be bad since you didn't explicitly set num_leaves OR 2^max_depth > num_leaves. (num_leaves=31).\n"
          ]
        }
      ],
      "source": [
        "pred = model.predict(xtest)"
      ]
    },
    {
      "cell_type": "code",
      "execution_count": null,
      "metadata": {
        "colab": {
          "base_uri": "https://localhost:8080/"
        },
        "id": "7rPzOvOBjlNB",
        "outputId": "eefb2a0d-9dd9-4b6a-938d-10e5512d448d"
      },
      "outputs": [
        {
          "data": {
            "text/plain": [
              "(0.9769230769230769, 0.9558823529411765, 1.0, 0.9774436090225563)"
            ]
          },
          "execution_count": 45,
          "metadata": {},
          "output_type": "execute_result"
        }
      ],
      "source": [
        "accuracy_score(ytest,pred), precision_score(ytest, pred), recall_score(ytest, pred), f1_score(ytest, pred)"
      ]
    },
    {
      "cell_type": "code",
      "source": [
        "mcc = matthews_corrcoef(ytest, pred)\n",
        "mcc"
      ],
      "metadata": {
        "colab": {
          "base_uri": "https://localhost:8080/"
        },
        "outputId": "1a9f86e8-2f49-4f12-dbd1-9e071fb9a48d",
        "id": "uKuNGTpbgIcR"
      },
      "execution_count": null,
      "outputs": [
        {
          "output_type": "execute_result",
          "data": {
            "text/plain": [
              "0.954863710632231"
            ]
          },
          "metadata": {},
          "execution_count": 25
        }
      ]
    },
    {
      "cell_type": "code",
      "execution_count": null,
      "metadata": {
        "id": "TahVG5eejmIE"
      },
      "outputs": [],
      "source": [
        "cm = confusion_matrix(ytest,pred)"
      ]
    },
    {
      "cell_type": "code",
      "execution_count": null,
      "metadata": {
        "colab": {
          "base_uri": "https://localhost:8080/"
        },
        "id": "r6D4zJ5RS9jW",
        "outputId": "4405180d-7670-4f00-d364-bf2bad94ea4e"
      },
      "outputs": [
        {
          "data": {
            "text/plain": [
              "array([[124,   6],\n",
              "       [  0, 130]])"
            ]
          },
          "execution_count": 47,
          "metadata": {},
          "output_type": "execute_result"
        }
      ],
      "source": [
        "cm"
      ]
    },
    {
      "cell_type": "code",
      "execution_count": null,
      "metadata": {
        "colab": {
          "base_uri": "https://localhost:8080/"
        },
        "id": "JlI4NjlyTLSs",
        "outputId": "e1f7c341-3dcd-4d62-8418-97ccb4521297"
      },
      "outputs": [
        {
          "name": "stdout",
          "output_type": "stream",
          "text": [
            "Sensitivity: 1.0\n",
            "Specificity: 0.9538461538461539\n"
          ]
        }
      ],
      "source": [
        "# True Positives (TP)\n",
        "tp = cm[1, 1]\n",
        "\n",
        "# True Negatives (TN)\n",
        "tn = cm[0, 0]\n",
        "\n",
        "# False Positives (FP)\n",
        "fp = cm[0, 1]\n",
        "\n",
        "# False Negatives (FN)\n",
        "fn = cm[1, 0]\n",
        "\n",
        "# Sensitivity (True Positive Rate or Recall)\n",
        "sensitivity = tp / (tp + fn)\n",
        "\n",
        "# Specificity (True Negative Rate)\n",
        "specificity = tn / (tn + fp)\n",
        "\n",
        "print(\"Sensitivity:\", sensitivity)\n",
        "print(\"Specificity:\", specificity)"
      ]
    },
    {
      "cell_type": "code",
      "execution_count": null,
      "metadata": {
        "colab": {
          "base_uri": "https://localhost:8080/",
          "height": 347
        },
        "id": "mc-aTlD8TBwg",
        "outputId": "869b719f-fb9b-4185-a836-b6bd35608633"
      },
      "outputs": [
        {
          "data": {
            "image/png": "[encoded data removed]",
            "text/plain": [
              "<Figure size 400x300 with 1 Axes>"
            ]
          },
          "metadata": {},
          "output_type": "display_data"
        }
      ],
      "source": [
        "plt.figure(figsize=(4, 3))\n",
        "sns.set(font_scale=1.2)\n",
        "sns.heatmap(cm, annot=True, fmt='d', cmap='Blues', annot_kws={\"size\": 16}, cbar=False)\n",
        "plt.xlabel('Predicted')\n",
        "plt.ylabel('True')\n",
        "plt.title('Confusion Matrix')\n",
        "plt.show()"
      ]
    },
    {
      "cell_type": "markdown",
      "metadata": {
        "id": "l30YRUwukyjM"
      },
      "source": [
        "**CAT** **BOOSTER**"
      ]
    },
    {
      "cell_type": "code",
      "execution_count": null,
      "metadata": {
        "id": "EbEhz-vgj_3Z"
      },
      "outputs": [],
      "source": [
        "model = CatBoostClassifier(depth= 10, iterations = 54, learning_rate = 0.2079912391974028)\n"
      ]
    },
    {
      "cell_type": "code",
      "execution_count": null,
      "metadata": {
        "id": "stR7w_DUlNMx"
      },
      "outputs": [],
      "source": [
        "pred = cross_val_predict(model, xtrain, ytrain, cv=cv, n_jobs=-1)"
      ]
    },
    {
      "cell_type": "code",
      "execution_count": null,
      "metadata": {
        "colab": {
          "base_uri": "https://localhost:8080/"
        },
        "id": "fnzaPGoXlTdp",
        "outputId": "16eed59d-ca43-4b27-9ba9-74d164c6e38f"
      },
      "outputs": [
        {
          "data": {
            "text/plain": [
              "(0.9161838547701815,\n",
              " 0.8793929712460063,\n",
              " 0.9434447300771208,\n",
              " 0.9102935097147581)"
            ]
          },
          "execution_count": 52,
          "metadata": {},
          "output_type": "execute_result"
        }
      ],
      "source": [
        "accuracy_score(ytrain,pred), precision_score(ytrain, pred), recall_score(ytrain, pred), f1_score(ytrain, pred)"
      ]
    },
    {
      "cell_type": "code",
      "source": [
        "mcc = matthews_corrcoef(ytrain, pred)\n",
        "mcc"
      ],
      "metadata": {
        "colab": {
          "base_uri": "https://localhost:8080/"
        },
        "outputId": "93c2942d-38c2-4da0-f6b9-a22d1d756c9b",
        "id": "LoQ1gIN3gMIV"
      },
      "execution_count": null,
      "outputs": [
        {
          "output_type": "execute_result",
          "data": {
            "text/plain": [
              "0.8336346602974842"
            ]
          },
          "metadata": {},
          "execution_count": 28
        }
      ]
    },
    {
      "cell_type": "code",
      "execution_count": null,
      "metadata": {
        "id": "zEWYsIn-lYus"
      },
      "outputs": [],
      "source": [
        "cm = confusion_matrix(ytrain,pred)"
      ]
    },
    {
      "cell_type": "code",
      "execution_count": null,
      "metadata": {
        "colab": {
          "base_uri": "https://localhost:8080/"
        },
        "id": "orzjEfleVRlb",
        "outputId": "6af42b09-f7ec-4302-ad2f-bc782e51f0c6"
      },
      "outputs": [
        {
          "data": {
            "text/plain": [
              "array([[1271,  151],\n",
              "       [  66, 1101]])"
            ]
          },
          "execution_count": 54,
          "metadata": {},
          "output_type": "execute_result"
        }
      ],
      "source": [
        "cm"
      ]
    },
    {
      "cell_type": "code",
      "execution_count": null,
      "metadata": {
        "colab": {
          "base_uri": "https://localhost:8080/"
        },
        "id": "cZeuHNFrVUl8",
        "outputId": "a2a74fe1-a303-4c18-e1d4-09206c2c8861"
      },
      "outputs": [
        {
          "name": "stdout",
          "output_type": "stream",
          "text": [
            "Sensitivity: 0.9434447300771208\n",
            "Specificity: 0.8938115330520394\n"
          ]
        }
      ],
      "source": [
        "# True Positives (TP)\n",
        "tp = cm[1, 1]\n",
        "\n",
        "# True Negatives (TN)\n",
        "tn = cm[0, 0]\n",
        "\n",
        "# False Positives (FP)\n",
        "fp = cm[0, 1]\n",
        "\n",
        "# False Negatives (FN)\n",
        "fn = cm[1, 0]\n",
        "\n",
        "# Sensitivity (True Positive Rate or Recall)\n",
        "sensitivity = tp / (tp + fn)\n",
        "\n",
        "# Specificity (True Negative Rate)\n",
        "specificity = tn / (tn + fp)\n",
        "\n",
        "print(\"Sensitivity:\", sensitivity)\n",
        "print(\"Specificity:\", specificity)"
      ]
    },
    {
      "cell_type": "code",
      "execution_count": null,
      "metadata": {
        "colab": {
          "base_uri": "https://localhost:8080/",
          "height": 347
        },
        "id": "D_ukE9CLVaD8",
        "outputId": "fc292f55-1003-447b-910d-0ce814af3903"
      },
      "outputs": [
        {
          "data": {
            "image/png": "[encoded data removed]",
            "text/plain": [
              "<Figure size 400x300 with 1 Axes>"
            ]
          },
          "metadata": {},
          "output_type": "display_data"
        }
      ],
      "source": [
        "plt.figure(figsize=(4, 3))\n",
        "sns.set(font_scale=1.2)\n",
        "sns.heatmap(cm, annot=True, fmt='d', cmap='Blues', annot_kws={\"size\": 16}, cbar=False)\n",
        "plt.xlabel('Predicted')\n",
        "plt.ylabel('True')\n",
        "plt.title('Confusion Matrix')\n",
        "plt.show()"
      ]
    },
    {
      "cell_type": "code",
      "execution_count": null,
      "metadata": {
        "colab": {
          "base_uri": "https://localhost:8080/"
        },
        "id": "ZMlGYOynldnD",
        "outputId": "62cacbe4-3937-49a8-97f6-d5298a199a13"
      },
      "outputs": [
        {
          "output_type": "stream",
          "name": "stdout",
          "text": [
            "0:\tlearn: 0.5646790\ttotal: 153ms\tremaining: 8.11s\n",
            "1:\tlearn: 0.4787145\ttotal: 261ms\tremaining: 6.78s\n",
            "2:\tlearn: 0.4137382\ttotal: 378ms\tremaining: 6.42s\n",
            "3:\tlearn: 0.3687657\ttotal: 483ms\tremaining: 6.04s\n",
            "4:\tlearn: 0.3368358\ttotal: 559ms\tremaining: 5.47s\n",
            "5:\tlearn: 0.3110064\ttotal: 619ms\tremaining: 4.95s\n",
            "6:\tlearn: 0.2841914\ttotal: 673ms\tremaining: 4.52s\n",
            "7:\tlearn: 0.2687029\ttotal: 732ms\tremaining: 4.21s\n",
            "8:\tlearn: 0.2541157\ttotal: 818ms\tremaining: 4.09s\n",
            "9:\tlearn: 0.2381265\ttotal: 948ms\tremaining: 4.17s\n",
            "10:\tlearn: 0.2259745\ttotal: 1.06s\tremaining: 4.16s\n",
            "11:\tlearn: 0.2098718\ttotal: 1.19s\tremaining: 4.16s\n",
            "12:\tlearn: 0.1990625\ttotal: 1.31s\tremaining: 4.12s\n",
            "13:\tlearn: 0.1912814\ttotal: 1.43s\tremaining: 4.08s\n",
            "14:\tlearn: 0.1857581\ttotal: 1.54s\tremaining: 4.01s\n",
            "15:\tlearn: 0.1805336\ttotal: 1.66s\tremaining: 3.94s\n",
            "16:\tlearn: 0.1742314\ttotal: 1.76s\tremaining: 3.83s\n",
            "17:\tlearn: 0.1668966\ttotal: 1.87s\tremaining: 3.75s\n",
            "18:\tlearn: 0.1582080\ttotal: 2s\tremaining: 3.69s\n",
            "19:\tlearn: 0.1525557\ttotal: 2.14s\tremaining: 3.63s\n",
            "20:\tlearn: 0.1465922\ttotal: 2.31s\tremaining: 3.63s\n",
            "21:\tlearn: 0.1409226\ttotal: 2.48s\tremaining: 3.6s\n",
            "22:\tlearn: 0.1372242\ttotal: 2.65s\tremaining: 3.57s\n",
            "23:\tlearn: 0.1301422\ttotal: 2.83s\tremaining: 3.54s\n",
            "24:\tlearn: 0.1244302\ttotal: 2.99s\tremaining: 3.47s\n",
            "25:\tlearn: 0.1199160\ttotal: 3.12s\tremaining: 3.36s\n",
            "26:\tlearn: 0.1173440\ttotal: 3.24s\tremaining: 3.24s\n",
            "27:\tlearn: 0.1145741\ttotal: 3.42s\tremaining: 3.18s\n",
            "28:\tlearn: 0.1116106\ttotal: 3.58s\tremaining: 3.08s\n",
            "29:\tlearn: 0.1076925\ttotal: 3.77s\tremaining: 3.02s\n",
            "30:\tlearn: 0.1041779\ttotal: 3.93s\tremaining: 2.92s\n",
            "31:\tlearn: 0.0979427\ttotal: 4.13s\tremaining: 2.84s\n",
            "32:\tlearn: 0.0949815\ttotal: 4.31s\tremaining: 2.75s\n",
            "33:\tlearn: 0.0925297\ttotal: 4.77s\tremaining: 2.81s\n",
            "34:\tlearn: 0.0903526\ttotal: 5.21s\tremaining: 2.83s\n",
            "35:\tlearn: 0.0864636\ttotal: 5.66s\tremaining: 2.83s\n",
            "36:\tlearn: 0.0844003\ttotal: 6.03s\tremaining: 2.77s\n",
            "37:\tlearn: 0.0826362\ttotal: 6.22s\tremaining: 2.62s\n",
            "38:\tlearn: 0.0802886\ttotal: 6.42s\tremaining: 2.47s\n",
            "39:\tlearn: 0.0787679\ttotal: 6.59s\tremaining: 2.31s\n",
            "40:\tlearn: 0.0740297\ttotal: 6.75s\tremaining: 2.14s\n",
            "41:\tlearn: 0.0709401\ttotal: 6.93s\tremaining: 1.98s\n",
            "42:\tlearn: 0.0676301\ttotal: 7.09s\tremaining: 1.81s\n",
            "43:\tlearn: 0.0660145\ttotal: 7.23s\tremaining: 1.64s\n",
            "44:\tlearn: 0.0636468\ttotal: 7.36s\tremaining: 1.47s\n",
            "45:\tlearn: 0.0612236\ttotal: 7.49s\tremaining: 1.3s\n",
            "46:\tlearn: 0.0594992\ttotal: 7.64s\tremaining: 1.14s\n",
            "47:\tlearn: 0.0587168\ttotal: 7.79s\tremaining: 974ms\n",
            "48:\tlearn: 0.0574211\ttotal: 7.87s\tremaining: 803ms\n",
            "49:\tlearn: 0.0558083\ttotal: 7.94s\tremaining: 635ms\n",
            "50:\tlearn: 0.0533989\ttotal: 8.05s\tremaining: 474ms\n",
            "51:\tlearn: 0.0520876\ttotal: 8.15s\tremaining: 314ms\n",
            "52:\tlearn: 0.0508503\ttotal: 8.25s\tremaining: 156ms\n",
            "53:\tlearn: 0.0486211\ttotal: 8.35s\tremaining: 0us\n"
          ]
        },
        {
          "output_type": "execute_result",
          "data": {
            "text/plain": [
              "<catboost.core.CatBoostClassifier at 0x7e67306ed690>"
            ]
          },
          "metadata": {},
          "execution_count": 29
        }
      ],
      "source": [
        "model.fit(xtrain, ytrain)"
      ]
    },
    {
      "cell_type": "code",
      "execution_count": null,
      "metadata": {
        "id": "y-2A-NqIli02"
      },
      "outputs": [],
      "source": [
        "pred = model.predict(xtest)"
      ]
    },
    {
      "cell_type": "code",
      "execution_count": null,
      "metadata": {
        "colab": {
          "base_uri": "https://localhost:8080/"
        },
        "id": "7fmU0SK5lmft",
        "outputId": "8e492a8d-0e0e-443f-c740-d22e0f96c8e3"
      },
      "outputs": [
        {
          "data": {
            "text/plain": [
              "(0.9769230769230769, 0.9558823529411765, 1.0, 0.9774436090225563)"
            ]
          },
          "execution_count": 59,
          "metadata": {},
          "output_type": "execute_result"
        }
      ],
      "source": [
        "accuracy_score(ytest,pred), precision_score(ytest, pred), recall_score(ytest, pred), f1_score(ytest, pred)"
      ]
    },
    {
      "cell_type": "code",
      "source": [
        "mcc = matthews_corrcoef(ytest, pred)\n",
        "mcc"
      ],
      "metadata": {
        "colab": {
          "base_uri": "https://localhost:8080/"
        },
        "outputId": "235d251f-26f0-45ae-e58d-e2cb76fb0c88",
        "id": "sS2Bst8MgPvF"
      },
      "execution_count": null,
      "outputs": [
        {
          "output_type": "execute_result",
          "data": {
            "text/plain": [
              "0.954863710632231"
            ]
          },
          "metadata": {},
          "execution_count": 31
        }
      ]
    },
    {
      "cell_type": "code",
      "execution_count": null,
      "metadata": {
        "id": "KRU5nDAJlo7l"
      },
      "outputs": [],
      "source": [
        "cm = confusion_matrix(ytest,pred)"
      ]
    },
    {
      "cell_type": "code",
      "execution_count": null,
      "metadata": {
        "colab": {
          "base_uri": "https://localhost:8080/"
        },
        "id": "NrzFBNMpXmCh",
        "outputId": "13bf847e-969b-4e99-8b17-9545ea301df6"
      },
      "outputs": [
        {
          "data": {
            "text/plain": [
              "array([[124,   6],\n",
              "       [  0, 130]])"
            ]
          },
          "execution_count": 61,
          "metadata": {},
          "output_type": "execute_result"
        }
      ],
      "source": [
        "cm"
      ]
    },
    {
      "cell_type": "code",
      "execution_count": null,
      "metadata": {
        "colab": {
          "base_uri": "https://localhost:8080/"
        },
        "id": "P-80W42aXm8a",
        "outputId": "13365b3d-5c26-4dc0-ca14-9a2e06fad82e"
      },
      "outputs": [
        {
          "name": "stdout",
          "output_type": "stream",
          "text": [
            "Sensitivity: 1.0\n",
            "Specificity: 0.9538461538461539\n"
          ]
        }
      ],
      "source": [
        "# True Positives (TP)\n",
        "tp = cm[1, 1]\n",
        "\n",
        "# True Negatives (TN)\n",
        "tn = cm[0, 0]\n",
        "\n",
        "# False Positives (FP)\n",
        "fp = cm[0, 1]\n",
        "\n",
        "# False Negatives (FN)\n",
        "fn = cm[1, 0]\n",
        "\n",
        "# Sensitivity (True Positive Rate or Recall)\n",
        "sensitivity = tp / (tp + fn)\n",
        "\n",
        "# Specificity (True Negative Rate)\n",
        "specificity = tn / (tn + fp)\n",
        "\n",
        "print(\"Sensitivity:\", sensitivity)\n",
        "print(\"Specificity:\", specificity)\n"
      ]
    },
    {
      "cell_type": "code",
      "execution_count": null,
      "metadata": {
        "colab": {
          "base_uri": "https://localhost:8080/",
          "height": 347
        },
        "id": "yag_ibFPX3x8",
        "outputId": "6cd0cc6e-f7b1-4114-aa1b-323cde789e4c"
      },
      "outputs": [
        {
          "data": {
            "image/png": "[encoded data removed]",
            "text/plain": [
              "<Figure size 400x300 with 1 Axes>"
            ]
          },
          "metadata": {},
          "output_type": "display_data"
        }
      ],
      "source": [
        "plt.figure(figsize=(4, 3))\n",
        "sns.set(font_scale=1.2)\n",
        "sns.heatmap(cm, annot=True, fmt='d', cmap='Blues', annot_kws={\"size\": 16}, cbar=False)\n",
        "plt.xlabel('Predicted')\n",
        "plt.ylabel('True')\n",
        "plt.title('Confusion Matrix')\n",
        "plt.show()"
      ]
    },
    {
      "cell_type": "markdown",
      "metadata": {
        "id": "89UMFxfIphkx"
      },
      "source": [
        "**Stacking**"
      ]
    },
    {
      "cell_type": "code",
      "execution_count": null,
      "metadata": {
        "id": "Jsqn9Z2_pf91"
      },
      "outputs": [],
      "source": [
        "estimator = [('RF',RandomForestClassifier(n_estimators = 400, max_depth = 10)),\n",
        "             ('XGB',XGBClassifier(n_estimators = 500,max_depth = 7, base_score = 0.88, learning_rate = 0.2)),\n",
        "             ('LGBM',LGBMClassifier(max_depth=7, learning_rate=0.5)),\n",
        "             ('CAT',CatBoostClassifier(depth= 10, iterations = 54, learning_rate = 0.2079912391974028))]\n",
        "model = StackingClassifier(estimators=estimator, final_estimator=CatBoostClassifier(depth= 10, iterations = 54, learning_rate = 0.2079912391974028))"
      ]
    },
    {
      "cell_type": "code",
      "execution_count": null,
      "metadata": {
        "id": "wewk7anaqD_2"
      },
      "outputs": [],
      "source": [
        "pred = cross_val_predict(model, xtrain, ytrain, cv=cv, n_jobs=-1)"
      ]
    },
    {
      "cell_type": "code",
      "execution_count": null,
      "metadata": {
        "colab": {
          "background_save": true
        },
        "id": "DNRoXY5_qJf6",
        "outputId": "a78193f3-6b90-4aa3-8e57-488399309dbf"
      },
      "outputs": [
        {
          "data": {
            "text/plain": [
              "(0.9354963306295867,\n",
              " 0.9578754578754579,\n",
              " 0.8963153384747216,\n",
              " 0.9260734838424082)"
            ]
          },
          "execution_count": 66,
          "metadata": {},
          "output_type": "execute_result"
        }
      ],
      "source": [
        "accuracy_score(ytrain,pred), precision_score(ytrain, pred), recall_score(ytrain, pred), f1_score(ytrain, pred)"
      ]
    },
    {
      "cell_type": "code",
      "source": [
        "mcc = matthews_corrcoef(ytrain, pred)\n",
        "mcc"
      ],
      "metadata": {
        "colab": {
          "base_uri": "https://localhost:8080/"
        },
        "outputId": "5aecd184-1e68-472c-ff03-468402a7debe",
        "id": "rZilRYywgVzW"
      },
      "execution_count": null,
      "outputs": [
        {
          "output_type": "execute_result",
          "data": {
            "text/plain": [
              "0.8663564590192189"
            ]
          },
          "metadata": {},
          "execution_count": 34
        }
      ]
    },
    {
      "cell_type": "code",
      "execution_count": null,
      "metadata": {
        "colab": {
          "background_save": true
        },
        "id": "1PV8vrJ5qOzE"
      },
      "outputs": [],
      "source": [
        "cm = confusion_matrix(ytrain,pred)"
      ]
    },
    {
      "cell_type": "code",
      "execution_count": null,
      "metadata": {
        "colab": {
          "background_save": true
        },
        "id": "uxSYr627YH6P",
        "outputId": "d35a2e64-fe02-4c48-e850-a8e2173452e5"
      },
      "outputs": [
        {
          "data": {
            "text/plain": [
              "array([[1376,   46],\n",
              "       [ 121, 1046]])"
            ]
          },
          "execution_count": 68,
          "metadata": {},
          "output_type": "execute_result"
        }
      ],
      "source": [
        "cm"
      ]
    },
    {
      "cell_type": "code",
      "execution_count": null,
      "metadata": {
        "colab": {
          "background_save": true
        },
        "id": "LI7awbZxYQJf",
        "outputId": "82819a6b-bc0f-4cd6-8315-d8ea18b1ff34"
      },
      "outputs": [
        {
          "name": "stdout",
          "output_type": "stream",
          "text": [
            "Sensitivity: 0.8963153384747216\n",
            "Specificity: 0.9676511954992968\n"
          ]
        }
      ],
      "source": [
        "# True Positives (TP)\n",
        "tp = cm[1, 1]\n",
        "\n",
        "# True Negatives (TN)\n",
        "tn = cm[0, 0]\n",
        "\n",
        "# False Positives (FP)\n",
        "fp = cm[0, 1]\n",
        "\n",
        "# False Negatives (FN)\n",
        "fn = cm[1, 0]\n",
        "\n",
        "# Sensitivity (True Positive Rate or Recall)\n",
        "sensitivity = tp / (tp + fn)\n",
        "\n",
        "# Specificity (True Negative Rate)\n",
        "specificity = tn / (tn + fp)\n",
        "\n",
        "print(\"Sensitivity:\", sensitivity)\n",
        "print(\"Specificity:\", specificity)"
      ]
    },
    {
      "cell_type": "code",
      "execution_count": null,
      "metadata": {
        "colab": {
          "background_save": true
        },
        "id": "9BhEXlMQYL92",
        "outputId": "69056ee3-85f8-445a-e326-04920ce64763"
      },
      "outputs": [
        {
          "data": {
            "image/png": "[encoded data removed]",
            "text/plain": [
              "<Figure size 400x300 with 1 Axes>"
            ]
          },
          "metadata": {},
          "output_type": "display_data"
        }
      ],
      "source": [
        "plt.figure(figsize=(4, 3))\n",
        "sns.set(font_scale=1.2)\n",
        "sns.heatmap(cm, annot=True, fmt='d', cmap='Blues', annot_kws={\"size\": 16}, cbar=False)\n",
        "plt.xlabel('Predicted')\n",
        "plt.ylabel('True')\n",
        "plt.title('Confusion Matrix')\n",
        "plt.show()"
      ]
    },
    {
      "cell_type": "code",
      "execution_count": null,
      "metadata": {
        "colab": {
          "base_uri": "https://localhost:8080/",
          "height": 1000
        },
        "id": "zGPIngb8qb3z",
        "outputId": "72cfc162-c0c3-43bc-de1a-c13361b508f5"
      },
      "outputs": [
        {
          "output_type": "stream",
          "name": "stdout",
          "text": [
            "[LightGBM] [Warning] Accuracy may be bad since you didn't explicitly set num_leaves OR 2^max_depth > num_leaves. (num_leaves=31).\n",
            "[LightGBM] [Warning] Accuracy may be bad since you didn't explicitly set num_leaves OR 2^max_depth > num_leaves. (num_leaves=31).\n",
            "[LightGBM] [Info] Number of positive: 1167, number of negative: 1422\n",
            "[LightGBM] [Info] Auto-choosing row-wise multi-threading, the overhead of testing was 0.000760 seconds.\n",
            "You can set `force_row_wise=true` to remove the overhead.\n",
            "And if memory is not enough, you can set `force_col_wise=true`.\n",
            "[LightGBM] [Info] Total Bins 5349\n",
            "[LightGBM] [Info] Number of data points in the train set: 2589, number of used features: 22\n",
            "[LightGBM] [Info] [binary:BoostFromScore]: pavg=0.450753 -> initscore=-0.197628\n",
            "[LightGBM] [Info] Start training from score -0.197628\n",
            "[LightGBM] [Warning] No further splits with positive gain, best gain: -inf\n",
            "[LightGBM] [Warning] No further splits with positive gain, best gain: -inf\n",
            "[LightGBM] [Warning] No further splits with positive gain, best gain: -inf\n",
            "[LightGBM] [Warning] No further splits with positive gain, best gain: -inf\n",
            "[LightGBM] [Warning] No further splits with positive gain, best gain: -inf\n",
            "[LightGBM] [Warning] No further splits with positive gain, best gain: -inf\n",
            "[LightGBM] [Warning] No further splits with positive gain, best gain: -inf\n",
            "[LightGBM] [Warning] No further splits with positive gain, best gain: -inf\n",
            "[LightGBM] [Warning] No further splits with positive gain, best gain: -inf\n",
            "[LightGBM] [Warning] No further splits with positive gain, best gain: -inf\n",
            "[LightGBM] [Warning] No further splits with positive gain, best gain: -inf\n",
            "[LightGBM] [Warning] No further splits with positive gain, best gain: -inf\n",
            "[LightGBM] [Warning] No further splits with positive gain, best gain: -inf\n",
            "[LightGBM] [Warning] No further splits with positive gain, best gain: -inf\n",
            "[LightGBM] [Warning] No further splits with positive gain, best gain: -inf\n",
            "[LightGBM] [Warning] No further splits with positive gain, best gain: -inf\n",
            "[LightGBM] [Warning] No further splits with positive gain, best gain: -inf\n",
            "[LightGBM] [Warning] No further splits with positive gain, best gain: -inf\n",
            "[LightGBM] [Warning] No further splits with positive gain, best gain: -inf\n",
            "[LightGBM] [Warning] No further splits with positive gain, best gain: -inf\n",
            "[LightGBM] [Warning] No further splits with positive gain, best gain: -inf\n",
            "[LightGBM] [Warning] No further splits with positive gain, best gain: -inf\n",
            "[LightGBM] [Warning] No further splits with positive gain, best gain: -inf\n",
            "[LightGBM] [Warning] No further splits with positive gain, best gain: -inf\n",
            "[LightGBM] [Warning] No further splits with positive gain, best gain: -inf\n",
            "[LightGBM] [Warning] No further splits with positive gain, best gain: -inf\n",
            "[LightGBM] [Warning] No further splits with positive gain, best gain: -inf\n",
            "[LightGBM] [Warning] No further splits with positive gain, best gain: -inf\n",
            "[LightGBM] [Warning] No further splits with positive gain, best gain: -inf\n",
            "[LightGBM] [Warning] No further splits with positive gain, best gain: -inf\n",
            "[LightGBM] [Warning] No further splits with positive gain, best gain: -inf\n",
            "[LightGBM] [Warning] No further splits with positive gain, best gain: -inf\n",
            "[LightGBM] [Warning] No further splits with positive gain, best gain: -inf\n",
            "[LightGBM] [Warning] No further splits with positive gain, best gain: -inf\n",
            "[LightGBM] [Warning] No further splits with positive gain, best gain: -inf\n",
            "[LightGBM] [Warning] No further splits with positive gain, best gain: -inf\n",
            "[LightGBM] [Warning] No further splits with positive gain, best gain: -inf\n",
            "[LightGBM] [Warning] No further splits with positive gain, best gain: -inf\n",
            "0:\tlearn: 0.5646790\ttotal: 63.1ms\tremaining: 3.35s\n",
            "1:\tlearn: 0.4787145\ttotal: 119ms\tremaining: 3.08s\n",
            "2:\tlearn: 0.4137382\ttotal: 173ms\tremaining: 2.95s\n",
            "3:\tlearn: 0.3687657\ttotal: 230ms\tremaining: 2.87s\n",
            "4:\tlearn: 0.3368358\ttotal: 289ms\tremaining: 2.83s\n",
            "5:\tlearn: 0.3110064\ttotal: 346ms\tremaining: 2.77s\n",
            "6:\tlearn: 0.2841914\ttotal: 414ms\tremaining: 2.78s\n",
            "7:\tlearn: 0.2687029\ttotal: 473ms\tremaining: 2.72s\n",
            "8:\tlearn: 0.2541157\ttotal: 538ms\tremaining: 2.69s\n",
            "9:\tlearn: 0.2381265\ttotal: 599ms\tremaining: 2.63s\n",
            "10:\tlearn: 0.2259745\ttotal: 660ms\tremaining: 2.58s\n",
            "11:\tlearn: 0.2098718\ttotal: 717ms\tremaining: 2.51s\n",
            "12:\tlearn: 0.1990625\ttotal: 781ms\tremaining: 2.46s\n",
            "13:\tlearn: 0.1912814\ttotal: 840ms\tremaining: 2.4s\n",
            "14:\tlearn: 0.1857581\ttotal: 898ms\tremaining: 2.33s\n",
            "15:\tlearn: 0.1805336\ttotal: 956ms\tremaining: 2.27s\n",
            "16:\tlearn: 0.1742314\ttotal: 1.02s\tremaining: 2.21s\n",
            "17:\tlearn: 0.1668966\ttotal: 1.07s\tremaining: 2.15s\n",
            "18:\tlearn: 0.1582080\ttotal: 1.13s\tremaining: 2.08s\n",
            "19:\tlearn: 0.1525557\ttotal: 1.19s\tremaining: 2.02s\n",
            "20:\tlearn: 0.1465922\ttotal: 1.25s\tremaining: 1.97s\n",
            "21:\tlearn: 0.1409226\ttotal: 1.31s\tremaining: 1.91s\n",
            "22:\tlearn: 0.1372242\ttotal: 1.37s\tremaining: 1.85s\n",
            "23:\tlearn: 0.1301422\ttotal: 1.43s\tremaining: 1.79s\n",
            "24:\tlearn: 0.1244302\ttotal: 1.49s\tremaining: 1.73s\n",
            "25:\tlearn: 0.1199160\ttotal: 1.55s\tremaining: 1.67s\n",
            "26:\tlearn: 0.1173440\ttotal: 1.6s\tremaining: 1.6s\n",
            "27:\tlearn: 0.1145741\ttotal: 1.66s\tremaining: 1.54s\n",
            "28:\tlearn: 0.1116106\ttotal: 1.72s\tremaining: 1.48s\n",
            "29:\tlearn: 0.1076925\ttotal: 1.78s\tremaining: 1.42s\n",
            "30:\tlearn: 0.1041779\ttotal: 1.84s\tremaining: 1.37s\n",
            "31:\tlearn: 0.0979427\ttotal: 1.9s\tremaining: 1.31s\n",
            "32:\tlearn: 0.0949815\ttotal: 1.97s\tremaining: 1.25s\n",
            "33:\tlearn: 0.0925297\ttotal: 2.02s\tremaining: 1.19s\n",
            "34:\tlearn: 0.0903526\ttotal: 2.08s\tremaining: 1.13s\n",
            "35:\tlearn: 0.0864636\ttotal: 2.13s\tremaining: 1.07s\n",
            "36:\tlearn: 0.0844003\ttotal: 2.19s\tremaining: 1.01s\n",
            "37:\tlearn: 0.0826362\ttotal: 2.25s\tremaining: 946ms\n",
            "38:\tlearn: 0.0802886\ttotal: 2.3s\tremaining: 886ms\n",
            "39:\tlearn: 0.0787679\ttotal: 2.36s\tremaining: 825ms\n",
            "40:\tlearn: 0.0740297\ttotal: 2.43s\tremaining: 772ms\n",
            "41:\tlearn: 0.0709401\ttotal: 2.49s\tremaining: 712ms\n",
            "42:\tlearn: 0.0676301\ttotal: 2.55s\tremaining: 651ms\n",
            "43:\tlearn: 0.0660145\ttotal: 2.6s\tremaining: 592ms\n",
            "44:\tlearn: 0.0636468\ttotal: 2.66s\tremaining: 533ms\n",
            "45:\tlearn: 0.0612236\ttotal: 2.72s\tremaining: 473ms\n",
            "46:\tlearn: 0.0594992\ttotal: 2.78s\tremaining: 414ms\n",
            "47:\tlearn: 0.0587168\ttotal: 2.84s\tremaining: 355ms\n",
            "48:\tlearn: 0.0574211\ttotal: 2.9s\tremaining: 296ms\n",
            "49:\tlearn: 0.0558083\ttotal: 2.95s\tremaining: 236ms\n",
            "50:\tlearn: 0.0533989\ttotal: 3.01s\tremaining: 177ms\n",
            "51:\tlearn: 0.0520876\ttotal: 3.06s\tremaining: 118ms\n",
            "52:\tlearn: 0.0508503\ttotal: 3.12s\tremaining: 58.9ms\n",
            "53:\tlearn: 0.0486211\ttotal: 3.18s\tremaining: 0us\n",
            "[LightGBM] [Warning] Accuracy may be bad since you didn't explicitly set num_leaves OR 2^max_depth > num_leaves. (num_leaves=31).\n",
            "[LightGBM] [Warning] Accuracy may be bad since you didn't explicitly set num_leaves OR 2^max_depth > num_leaves. (num_leaves=31).\n",
            "[LightGBM] [Info] Number of positive: 933, number of negative: 1138\n",
            "[LightGBM] [Info] Auto-choosing row-wise multi-threading, the overhead of testing was 0.000726 seconds.\n",
            "You can set `force_row_wise=true` to remove the overhead.\n",
            "And if memory is not enough, you can set `force_col_wise=true`.\n",
            "[LightGBM] [Info] Total Bins 5085\n",
            "[LightGBM] [Info] Number of data points in the train set: 2071, number of used features: 22\n",
            "[LightGBM] [Info] [binary:BoostFromScore]: pavg=0.450507 -> initscore=-0.198622\n",
            "[LightGBM] [Info] Start training from score -0.198622\n",
            "[LightGBM] [Warning] No further splits with positive gain, best gain: -inf\n",
            "[LightGBM] [Warning] No further splits with positive gain, best gain: -inf\n",
            "[LightGBM] [Warning] No further splits with positive gain, best gain: -inf\n",
            "[LightGBM] [Warning] No further splits with positive gain, best gain: -inf\n",
            "[LightGBM] [Warning] No further splits with positive gain, best gain: -inf\n",
            "[LightGBM] [Warning] No further splits with positive gain, best gain: -inf\n",
            "[LightGBM] [Warning] No further splits with positive gain, best gain: -inf\n",
            "[LightGBM] [Warning] No further splits with positive gain, best gain: -inf\n",
            "[LightGBM] [Warning] No further splits with positive gain, best gain: -inf\n",
            "[LightGBM] [Warning] No further splits with positive gain, best gain: -inf\n",
            "[LightGBM] [Warning] No further splits with positive gain, best gain: -inf\n",
            "[LightGBM] [Warning] No further splits with positive gain, best gain: -inf\n",
            "[LightGBM] [Warning] No further splits with positive gain, best gain: -inf\n",
            "[LightGBM] [Warning] No further splits with positive gain, best gain: -inf\n",
            "[LightGBM] [Warning] No further splits with positive gain, best gain: -inf\n",
            "[LightGBM] [Warning] No further splits with positive gain, best gain: -inf\n",
            "[LightGBM] [Warning] No further splits with positive gain, best gain: -inf\n",
            "[LightGBM] [Warning] No further splits with positive gain, best gain: -inf\n",
            "[LightGBM] [Warning] No further splits with positive gain, best gain: -inf\n",
            "[LightGBM] [Warning] No further splits with positive gain, best gain: -inf\n",
            "[LightGBM] [Warning] No further splits with positive gain, best gain: -inf\n",
            "[LightGBM] [Warning] No further splits with positive gain, best gain: -inf\n",
            "[LightGBM] [Warning] No further splits with positive gain, best gain: -inf\n",
            "[LightGBM] [Warning] No further splits with positive gain, best gain: -inf\n",
            "[LightGBM] [Warning] No further splits with positive gain, best gain: -inf\n",
            "[LightGBM] [Warning] No further splits with positive gain, best gain: -inf\n",
            "[LightGBM] [Warning] No further splits with positive gain, best gain: -inf\n",
            "[LightGBM] [Warning] No further splits with positive gain, best gain: -inf\n",
            "[LightGBM] [Warning] No further splits with positive gain, best gain: -inf\n",
            "[LightGBM] [Warning] No further splits with positive gain, best gain: -inf\n",
            "[LightGBM] [Warning] No further splits with positive gain, best gain: -inf\n",
            "[LightGBM] [Warning] No further splits with positive gain, best gain: -inf\n",
            "[LightGBM] [Warning] No further splits with positive gain, best gain: -inf\n",
            "[LightGBM] [Warning] No further splits with positive gain, best gain: -inf\n",
            "[LightGBM] [Warning] No further splits with positive gain, best gain: -inf\n",
            "[LightGBM] [Warning] No further splits with positive gain, best gain: -inf\n",
            "[LightGBM] [Warning] No further splits with positive gain, best gain: -inf\n",
            "[LightGBM] [Warning] No further splits with positive gain, best gain: -inf\n",
            "[LightGBM] [Warning] No further splits with positive gain, best gain: -inf\n",
            "[LightGBM] [Warning] No further splits with positive gain, best gain: -inf\n",
            "[LightGBM] [Warning] No further splits with positive gain, best gain: -inf\n",
            "[LightGBM] [Warning] No further splits with positive gain, best gain: -inf\n",
            "[LightGBM] [Warning] Accuracy may be bad since you didn't explicitly set num_leaves OR 2^max_depth > num_leaves. (num_leaves=31).\n",
            "[LightGBM] [Warning] Accuracy may be bad since you didn't explicitly set num_leaves OR 2^max_depth > num_leaves. (num_leaves=31).\n",
            "[LightGBM] [Warning] Accuracy may be bad since you didn't explicitly set num_leaves OR 2^max_depth > num_leaves. (num_leaves=31).\n",
            "[LightGBM] [Info] Number of positive: 933, number of negative: 1138\n",
            "[LightGBM] [Info] Auto-choosing row-wise multi-threading, the overhead of testing was 0.000686 seconds.\n",
            "You can set `force_row_wise=true` to remove the overhead.\n",
            "And if memory is not enough, you can set `force_col_wise=true`.\n",
            "[LightGBM] [Info] Total Bins 5092\n",
            "[LightGBM] [Info] Number of data points in the train set: 2071, number of used features: 22\n",
            "[LightGBM] [Info] [binary:BoostFromScore]: pavg=0.450507 -> initscore=-0.198622\n",
            "[LightGBM] [Info] Start training from score -0.198622\n",
            "[LightGBM] [Warning] No further splits with positive gain, best gain: -inf\n",
            "[LightGBM] [Warning] No further splits with positive gain, best gain: -inf\n",
            "[LightGBM] [Warning] No further splits with positive gain, best gain: -inf\n",
            "[LightGBM] [Warning] No further splits with positive gain, best gain: -inf\n",
            "[LightGBM] [Warning] No further splits with positive gain, best gain: -inf\n",
            "[LightGBM] [Warning] No further splits with positive gain, best gain: -inf\n",
            "[LightGBM] [Warning] No further splits with positive gain, best gain: -inf\n",
            "[LightGBM] [Warning] No further splits with positive gain, best gain: -inf\n",
            "[LightGBM] [Warning] No further splits with positive gain, best gain: -inf\n",
            "[LightGBM] [Warning] No further splits with positive gain, best gain: -inf\n",
            "[LightGBM] [Warning] No further splits with positive gain, best gain: -inf\n",
            "[LightGBM] [Warning] No further splits with positive gain, best gain: -inf\n",
            "[LightGBM] [Warning] No further splits with positive gain, best gain: -inf\n",
            "[LightGBM] [Warning] No further splits with positive gain, best gain: -inf\n",
            "[LightGBM] [Warning] No further splits with positive gain, best gain: -inf\n",
            "[LightGBM] [Warning] No further splits with positive gain, best gain: -inf\n",
            "[LightGBM] [Warning] No further splits with positive gain, best gain: -inf\n",
            "[LightGBM] [Warning] No further splits with positive gain, best gain: -inf\n",
            "[LightGBM] [Warning] No further splits with positive gain, best gain: -inf\n",
            "[LightGBM] [Warning] No further splits with positive gain, best gain: -inf\n",
            "[LightGBM] [Warning] No further splits with positive gain, best gain: -inf\n",
            "[LightGBM] [Warning] No further splits with positive gain, best gain: -inf\n",
            "[LightGBM] [Warning] No further splits with positive gain, best gain: -inf\n",
            "[LightGBM] [Warning] No further splits with positive gain, best gain: -inf\n",
            "[LightGBM] [Warning] No further splits with positive gain, best gain: -inf\n",
            "[LightGBM] [Warning] No further splits with positive gain, best gain: -inf\n",
            "[LightGBM] [Warning] No further splits with positive gain, best gain: -inf\n",
            "[LightGBM] [Warning] No further splits with positive gain, best gain: -inf\n",
            "[LightGBM] [Warning] No further splits with positive gain, best gain: -inf\n",
            "[LightGBM] [Warning] No further splits with positive gain, best gain: -inf\n",
            "[LightGBM] [Warning] No further splits with positive gain, best gain: -inf\n",
            "[LightGBM] [Warning] No further splits with positive gain, best gain: -inf\n",
            "[LightGBM] [Warning] No further splits with positive gain, best gain: -inf\n",
            "[LightGBM] [Warning] No further splits with positive gain, best gain: -inf\n",
            "[LightGBM] [Warning] No further splits with positive gain, best gain: -inf\n",
            "[LightGBM] [Warning] No further splits with positive gain, best gain: -inf\n",
            "[LightGBM] [Warning] No further splits with positive gain, best gain: -inf\n",
            "[LightGBM] [Warning] No further splits with positive gain, best gain: -inf\n",
            "[LightGBM] [Warning] No further splits with positive gain, best gain: -inf\n",
            "[LightGBM] [Warning] Accuracy may be bad since you didn't explicitly set num_leaves OR 2^max_depth > num_leaves. (num_leaves=31).\n",
            "[LightGBM] [Warning] Accuracy may be bad since you didn't explicitly set num_leaves OR 2^max_depth > num_leaves. (num_leaves=31).\n",
            "[LightGBM] [Warning] Accuracy may be bad since you didn't explicitly set num_leaves OR 2^max_depth > num_leaves. (num_leaves=31).\n",
            "[LightGBM] [Info] Number of positive: 934, number of negative: 1137\n",
            "[LightGBM] [Info] Auto-choosing row-wise multi-threading, the overhead of testing was 0.000649 seconds.\n",
            "You can set `force_row_wise=true` to remove the overhead.\n",
            "And if memory is not enough, you can set `force_col_wise=true`.\n",
            "[LightGBM] [Info] Total Bins 5158\n",
            "[LightGBM] [Info] Number of data points in the train set: 2071, number of used features: 22\n",
            "[LightGBM] [Info] [binary:BoostFromScore]: pavg=0.450990 -> initscore=-0.196672\n",
            "[LightGBM] [Info] Start training from score -0.196672\n",
            "[LightGBM] [Warning] No further splits with positive gain, best gain: -inf\n",
            "[LightGBM] [Warning] No further splits with positive gain, best gain: -inf\n",
            "[LightGBM] [Warning] No further splits with positive gain, best gain: -inf\n",
            "[LightGBM] [Warning] No further splits with positive gain, best gain: -inf\n",
            "[LightGBM] [Warning] No further splits with positive gain, best gain: -inf\n",
            "[LightGBM] [Warning] No further splits with positive gain, best gain: -inf\n",
            "[LightGBM] [Warning] No further splits with positive gain, best gain: -inf\n",
            "[LightGBM] [Warning] No further splits with positive gain, best gain: -inf\n",
            "[LightGBM] [Warning] No further splits with positive gain, best gain: -inf\n",
            "[LightGBM] [Warning] No further splits with positive gain, best gain: -inf\n",
            "[LightGBM] [Warning] No further splits with positive gain, best gain: -inf\n",
            "[LightGBM] [Warning] No further splits with positive gain, best gain: -inf\n",
            "[LightGBM] [Warning] No further splits with positive gain, best gain: -inf\n",
            "[LightGBM] [Warning] No further splits with positive gain, best gain: -inf\n",
            "[LightGBM] [Warning] No further splits with positive gain, best gain: -inf\n",
            "[LightGBM] [Warning] No further splits with positive gain, best gain: -inf\n",
            "[LightGBM] [Warning] No further splits with positive gain, best gain: -inf\n",
            "[LightGBM] [Warning] No further splits with positive gain, best gain: -inf\n",
            "[LightGBM] [Warning] No further splits with positive gain, best gain: -inf\n",
            "[LightGBM] [Warning] No further splits with positive gain, best gain: -inf\n",
            "[LightGBM] [Warning] No further splits with positive gain, best gain: -inf\n",
            "[LightGBM] [Warning] No further splits with positive gain, best gain: -inf\n",
            "[LightGBM] [Warning] No further splits with positive gain, best gain: -inf\n",
            "[LightGBM] [Warning] No further splits with positive gain, best gain: -inf\n",
            "[LightGBM] [Warning] No further splits with positive gain, best gain: -inf\n",
            "[LightGBM] [Warning] No further splits with positive gain, best gain: -inf\n",
            "[LightGBM] [Warning] No further splits with positive gain, best gain: -inf\n",
            "[LightGBM] [Warning] No further splits with positive gain, best gain: -inf\n",
            "[LightGBM] [Warning] No further splits with positive gain, best gain: -inf\n",
            "[LightGBM] [Warning] No further splits with positive gain, best gain: -inf\n",
            "[LightGBM] [Warning] No further splits with positive gain, best gain: -inf\n",
            "[LightGBM] [Warning] No further splits with positive gain, best gain: -inf\n",
            "[LightGBM] [Warning] No further splits with positive gain, best gain: -inf\n",
            "[LightGBM] [Warning] No further splits with positive gain, best gain: -inf\n",
            "[LightGBM] [Warning] No further splits with positive gain, best gain: -inf\n",
            "[LightGBM] [Warning] No further splits with positive gain, best gain: -inf\n",
            "[LightGBM] [Warning] Accuracy may be bad since you didn't explicitly set num_leaves OR 2^max_depth > num_leaves. (num_leaves=31).\n",
            "[LightGBM] [Warning] Accuracy may be bad since you didn't explicitly set num_leaves OR 2^max_depth > num_leaves. (num_leaves=31).\n",
            "[LightGBM] [Warning] Accuracy may be bad since you didn't explicitly set num_leaves OR 2^max_depth > num_leaves. (num_leaves=31).\n",
            "[LightGBM] [Info] Number of positive: 934, number of negative: 1137\n",
            "[LightGBM] [Info] Auto-choosing row-wise multi-threading, the overhead of testing was 0.000572 seconds.\n",
            "You can set `force_row_wise=true` to remove the overhead.\n",
            "And if memory is not enough, you can set `force_col_wise=true`.\n",
            "[LightGBM] [Info] Total Bins 5097\n",
            "[LightGBM] [Info] Number of data points in the train set: 2071, number of used features: 22\n",
            "[LightGBM] [Info] [binary:BoostFromScore]: pavg=0.450990 -> initscore=-0.196672\n",
            "[LightGBM] [Info] Start training from score -0.196672\n",
            "[LightGBM] [Warning] No further splits with positive gain, best gain: -inf\n",
            "[LightGBM] [Warning] No further splits with positive gain, best gain: -inf\n",
            "[LightGBM] [Warning] No further splits with positive gain, best gain: -inf\n",
            "[LightGBM] [Warning] No further splits with positive gain, best gain: -inf\n",
            "[LightGBM] [Warning] No further splits with positive gain, best gain: -inf\n",
            "[LightGBM] [Warning] No further splits with positive gain, best gain: -inf\n",
            "[LightGBM] [Warning] No further splits with positive gain, best gain: -inf\n",
            "[LightGBM] [Warning] No further splits with positive gain, best gain: -inf\n",
            "[LightGBM] [Warning] No further splits with positive gain, best gain: -inf\n",
            "[LightGBM] [Warning] No further splits with positive gain, best gain: -inf\n",
            "[LightGBM] [Warning] No further splits with positive gain, best gain: -inf\n",
            "[LightGBM] [Warning] No further splits with positive gain, best gain: -inf\n",
            "[LightGBM] [Warning] No further splits with positive gain, best gain: -inf\n",
            "[LightGBM] [Warning] No further splits with positive gain, best gain: -inf\n",
            "[LightGBM] [Warning] No further splits with positive gain, best gain: -inf\n",
            "[LightGBM] [Warning] No further splits with positive gain, best gain: -inf\n",
            "[LightGBM] [Warning] No further splits with positive gain, best gain: -inf\n",
            "[LightGBM] [Warning] No further splits with positive gain, best gain: -inf\n",
            "[LightGBM] [Warning] No further splits with positive gain, best gain: -inf\n",
            "[LightGBM] [Warning] No further splits with positive gain, best gain: -inf\n",
            "[LightGBM] [Warning] No further splits with positive gain, best gain: -inf\n",
            "[LightGBM] [Warning] No further splits with positive gain, best gain: -inf\n",
            "[LightGBM] [Warning] No further splits with positive gain, best gain: -inf\n",
            "[LightGBM] [Warning] No further splits with positive gain, best gain: -inf\n",
            "[LightGBM] [Warning] No further splits with positive gain, best gain: -inf\n",
            "[LightGBM] [Warning] No further splits with positive gain, best gain: -inf\n",
            "[LightGBM] [Warning] No further splits with positive gain, best gain: -inf\n",
            "[LightGBM] [Warning] No further splits with positive gain, best gain: -inf\n",
            "[LightGBM] [Warning] No further splits with positive gain, best gain: -inf\n",
            "[LightGBM] [Warning] No further splits with positive gain, best gain: -inf\n",
            "[LightGBM] [Warning] No further splits with positive gain, best gain: -inf\n",
            "[LightGBM] [Warning] No further splits with positive gain, best gain: -inf\n",
            "[LightGBM] [Warning] No further splits with positive gain, best gain: -inf\n",
            "[LightGBM] [Warning] No further splits with positive gain, best gain: -inf\n",
            "[LightGBM] [Warning] No further splits with positive gain, best gain: -inf\n",
            "[LightGBM] [Warning] No further splits with positive gain, best gain: -inf\n",
            "[LightGBM] [Warning] No further splits with positive gain, best gain: -inf\n",
            "[LightGBM] [Warning] No further splits with positive gain, best gain: -inf\n",
            "[LightGBM] [Warning] No further splits with positive gain, best gain: -inf\n",
            "[LightGBM] [Warning] No further splits with positive gain, best gain: -inf\n",
            "[LightGBM] [Warning] No further splits with positive gain, best gain: -inf\n",
            "[LightGBM] [Warning] No further splits with positive gain, best gain: -inf\n",
            "[LightGBM] [Warning] No further splits with positive gain, best gain: -inf\n",
            "[LightGBM] [Warning] No further splits with positive gain, best gain: -inf\n",
            "[LightGBM] [Warning] No further splits with positive gain, best gain: -inf\n",
            "[LightGBM] [Warning] Accuracy may be bad since you didn't explicitly set num_leaves OR 2^max_depth > num_leaves. (num_leaves=31).\n",
            "[LightGBM] [Warning] Accuracy may be bad since you didn't explicitly set num_leaves OR 2^max_depth > num_leaves. (num_leaves=31).\n",
            "[LightGBM] [Warning] Accuracy may be bad since you didn't explicitly set num_leaves OR 2^max_depth > num_leaves. (num_leaves=31).\n",
            "[LightGBM] [Info] Number of positive: 934, number of negative: 1138\n",
            "[LightGBM] [Info] Auto-choosing row-wise multi-threading, the overhead of testing was 0.000855 seconds.\n",
            "You can set `force_row_wise=true` to remove the overhead.\n",
            "And if memory is not enough, you can set `force_col_wise=true`.\n",
            "[LightGBM] [Info] Total Bins 4990\n",
            "[LightGBM] [Info] Number of data points in the train set: 2072, number of used features: 22\n",
            "[LightGBM] [Info] [binary:BoostFromScore]: pavg=0.450772 -> initscore=-0.197551\n",
            "[LightGBM] [Info] Start training from score -0.197551\n",
            "[LightGBM] [Warning] No further splits with positive gain, best gain: -inf\n",
            "[LightGBM] [Warning] No further splits with positive gain, best gain: -inf\n",
            "[LightGBM] [Warning] No further splits with positive gain, best gain: -inf\n",
            "[LightGBM] [Warning] No further splits with positive gain, best gain: -inf\n",
            "[LightGBM] [Warning] No further splits with positive gain, best gain: -inf\n",
            "[LightGBM] [Warning] No further splits with positive gain, best gain: -inf\n",
            "[LightGBM] [Warning] No further splits with positive gain, best gain: -inf\n",
            "[LightGBM] [Warning] No further splits with positive gain, best gain: -inf\n",
            "[LightGBM] [Warning] No further splits with positive gain, best gain: -inf\n",
            "[LightGBM] [Warning] No further splits with positive gain, best gain: -inf\n",
            "[LightGBM] [Warning] No further splits with positive gain, best gain: -inf\n",
            "[LightGBM] [Warning] No further splits with positive gain, best gain: -inf\n",
            "[LightGBM] [Warning] No further splits with positive gain, best gain: -inf\n",
            "[LightGBM] [Warning] No further splits with positive gain, best gain: -inf\n",
            "[LightGBM] [Warning] No further splits with positive gain, best gain: -inf\n",
            "[LightGBM] [Warning] No further splits with positive gain, best gain: -inf\n",
            "[LightGBM] [Warning] No further splits with positive gain, best gain: -inf\n",
            "[LightGBM] [Warning] No further splits with positive gain, best gain: -inf\n",
            "[LightGBM] [Warning] No further splits with positive gain, best gain: -inf\n",
            "[LightGBM] [Warning] No further splits with positive gain, best gain: -inf\n",
            "[LightGBM] [Warning] No further splits with positive gain, best gain: -inf\n",
            "[LightGBM] [Warning] No further splits with positive gain, best gain: -inf\n",
            "[LightGBM] [Warning] No further splits with positive gain, best gain: -inf\n",
            "[LightGBM] [Warning] No further splits with positive gain, best gain: -inf\n",
            "[LightGBM] [Warning] No further splits with positive gain, best gain: -inf\n",
            "[LightGBM] [Warning] No further splits with positive gain, best gain: -inf\n",
            "[LightGBM] [Warning] No further splits with positive gain, best gain: -inf\n",
            "[LightGBM] [Warning] No further splits with positive gain, best gain: -inf\n",
            "[LightGBM] [Warning] No further splits with positive gain, best gain: -inf\n",
            "[LightGBM] [Warning] No further splits with positive gain, best gain: -inf\n",
            "[LightGBM] [Warning] No further splits with positive gain, best gain: -inf\n",
            "[LightGBM] [Warning] No further splits with positive gain, best gain: -inf\n",
            "[LightGBM] [Warning] No further splits with positive gain, best gain: -inf\n",
            "[LightGBM] [Warning] No further splits with positive gain, best gain: -inf\n",
            "[LightGBM] [Warning] No further splits with positive gain, best gain: -inf\n",
            "[LightGBM] [Warning] No further splits with positive gain, best gain: -inf\n",
            "[LightGBM] [Warning] No further splits with positive gain, best gain: -inf\n",
            "[LightGBM] [Warning] No further splits with positive gain, best gain: -inf\n",
            "[LightGBM] [Warning] No further splits with positive gain, best gain: -inf\n",
            "[LightGBM] [Warning] No further splits with positive gain, best gain: -inf\n",
            "[LightGBM] [Warning] No further splits with positive gain, best gain: -inf\n",
            "[LightGBM] [Warning] No further splits with positive gain, best gain: -inf\n",
            "[LightGBM] [Warning] No further splits with positive gain, best gain: -inf\n",
            "[LightGBM] [Warning] No further splits with positive gain, best gain: -inf\n",
            "[LightGBM] [Warning] Accuracy may be bad since you didn't explicitly set num_leaves OR 2^max_depth > num_leaves. (num_leaves=31).\n",
            "0:\tlearn: 0.5683521\ttotal: 93.3ms\tremaining: 4.94s\n",
            "1:\tlearn: 0.4859868\ttotal: 208ms\tremaining: 5.4s\n",
            "2:\tlearn: 0.4256568\ttotal: 310ms\tremaining: 5.26s\n",
            "3:\tlearn: 0.3782652\ttotal: 422ms\tremaining: 5.28s\n",
            "4:\tlearn: 0.3385881\ttotal: 525ms\tremaining: 5.15s\n",
            "5:\tlearn: 0.3091862\ttotal: 636ms\tremaining: 5.09s\n",
            "6:\tlearn: 0.2835281\ttotal: 741ms\tremaining: 4.98s\n",
            "7:\tlearn: 0.2700635\ttotal: 852ms\tremaining: 4.9s\n",
            "8:\tlearn: 0.2565028\ttotal: 951ms\tremaining: 4.75s\n",
            "9:\tlearn: 0.2405809\ttotal: 1.04s\tremaining: 4.6s\n",
            "10:\tlearn: 0.2313630\ttotal: 1.16s\tremaining: 4.54s\n",
            "11:\tlearn: 0.2143839\ttotal: 1.26s\tremaining: 4.42s\n",
            "12:\tlearn: 0.2005166\ttotal: 1.35s\tremaining: 4.25s\n",
            "13:\tlearn: 0.1899898\ttotal: 1.46s\tremaining: 4.16s\n",
            "14:\tlearn: 0.1853182\ttotal: 1.57s\tremaining: 4.08s\n",
            "15:\tlearn: 0.1801087\ttotal: 1.68s\tremaining: 4s\n",
            "16:\tlearn: 0.1745860\ttotal: 1.79s\tremaining: 3.9s\n",
            "17:\tlearn: 0.1688807\ttotal: 1.91s\tremaining: 3.82s\n",
            "18:\tlearn: 0.1608298\ttotal: 2.03s\tremaining: 3.73s\n",
            "19:\tlearn: 0.1524893\ttotal: 2.17s\tremaining: 3.69s\n",
            "20:\tlearn: 0.1468469\ttotal: 2.28s\tremaining: 3.58s\n",
            "21:\tlearn: 0.1417015\ttotal: 2.4s\tremaining: 3.49s\n",
            "22:\tlearn: 0.1355414\ttotal: 2.52s\tremaining: 3.39s\n",
            "23:\tlearn: 0.1271251\ttotal: 2.65s\tremaining: 3.31s\n",
            "24:\tlearn: 0.1214386\ttotal: 2.77s\tremaining: 3.21s\n",
            "25:\tlearn: 0.1180764\ttotal: 2.89s\tremaining: 3.11s\n",
            "26:\tlearn: 0.1151251\ttotal: 3.01s\tremaining: 3.01s\n",
            "27:\tlearn: 0.1139729\ttotal: 3.14s\tremaining: 2.91s\n",
            "28:\tlearn: 0.1109683\ttotal: 3.27s\tremaining: 2.82s\n",
            "29:\tlearn: 0.1072113\ttotal: 3.36s\tremaining: 2.69s\n",
            "30:\tlearn: 0.1026144\ttotal: 3.48s\tremaining: 2.58s\n",
            "31:\tlearn: 0.0989174\ttotal: 3.6s\tremaining: 2.48s\n",
            "32:\tlearn: 0.0942242\ttotal: 3.71s\tremaining: 2.36s\n",
            "33:\tlearn: 0.0922296\ttotal: 3.79s\tremaining: 2.23s\n",
            "34:\tlearn: 0.0905615\ttotal: 3.86s\tremaining: 2.1s\n",
            "35:\tlearn: 0.0886701\ttotal: 3.93s\tremaining: 1.97s\n",
            "36:\tlearn: 0.0867491\ttotal: 4s\tremaining: 1.84s\n",
            "37:\tlearn: 0.0846935\ttotal: 4.06s\tremaining: 1.71s\n",
            "38:\tlearn: 0.0822722\ttotal: 4.13s\tremaining: 1.59s\n",
            "39:\tlearn: 0.0784723\ttotal: 4.2s\tremaining: 1.47s\n",
            "40:\tlearn: 0.0772551\ttotal: 4.28s\tremaining: 1.36s\n",
            "41:\tlearn: 0.0754340\ttotal: 4.35s\tremaining: 1.24s\n",
            "42:\tlearn: 0.0730086\ttotal: 4.42s\tremaining: 1.13s\n",
            "43:\tlearn: 0.0709723\ttotal: 4.5s\tremaining: 1.02s\n",
            "44:\tlearn: 0.0689200\ttotal: 4.57s\tremaining: 914ms\n",
            "45:\tlearn: 0.0671840\ttotal: 4.64s\tremaining: 808ms\n",
            "46:\tlearn: 0.0651362\ttotal: 4.73s\tremaining: 704ms\n",
            "47:\tlearn: 0.0628169\ttotal: 4.79s\tremaining: 599ms\n",
            "48:\tlearn: 0.0619300\ttotal: 4.86s\tremaining: 496ms\n",
            "49:\tlearn: 0.0608450\ttotal: 4.94s\tremaining: 395ms\n",
            "50:\tlearn: 0.0578476\ttotal: 5s\tremaining: 294ms\n",
            "51:\tlearn: 0.0558435\ttotal: 5.07s\tremaining: 195ms\n",
            "52:\tlearn: 0.0543769\ttotal: 5.13s\tremaining: 96.8ms\n",
            "53:\tlearn: 0.0526195\ttotal: 5.21s\tremaining: 0us\n",
            "0:\tlearn: 0.5683916\ttotal: 64.7ms\tremaining: 3.43s\n",
            "1:\tlearn: 0.4870032\ttotal: 135ms\tremaining: 3.51s\n",
            "2:\tlearn: 0.4240871\ttotal: 220ms\tremaining: 3.73s\n",
            "3:\tlearn: 0.3750032\ttotal: 281ms\tremaining: 3.51s\n",
            "4:\tlearn: 0.3455467\ttotal: 342ms\tremaining: 3.35s\n",
            "5:\tlearn: 0.3179335\ttotal: 406ms\tremaining: 3.25s\n",
            "6:\tlearn: 0.2948826\ttotal: 474ms\tremaining: 3.18s\n",
            "7:\tlearn: 0.2734860\ttotal: 535ms\tremaining: 3.08s\n",
            "8:\tlearn: 0.2572332\ttotal: 600ms\tremaining: 3s\n",
            "9:\tlearn: 0.2428346\ttotal: 667ms\tremaining: 2.94s\n",
            "10:\tlearn: 0.2307944\ttotal: 739ms\tremaining: 2.89s\n",
            "11:\tlearn: 0.2157558\ttotal: 798ms\tremaining: 2.79s\n",
            "12:\tlearn: 0.2056688\ttotal: 856ms\tremaining: 2.7s\n",
            "13:\tlearn: 0.1944734\ttotal: 909ms\tremaining: 2.6s\n",
            "14:\tlearn: 0.1878846\ttotal: 973ms\tremaining: 2.53s\n",
            "15:\tlearn: 0.1832470\ttotal: 1.04s\tremaining: 2.47s\n",
            "16:\tlearn: 0.1753232\ttotal: 1.09s\tremaining: 2.38s\n",
            "17:\tlearn: 0.1690163\ttotal: 1.15s\tremaining: 2.3s\n",
            "18:\tlearn: 0.1624875\ttotal: 1.21s\tremaining: 2.22s\n",
            "19:\tlearn: 0.1571552\ttotal: 1.26s\tremaining: 2.14s\n",
            "20:\tlearn: 0.1502318\ttotal: 1.31s\tremaining: 2.06s\n",
            "21:\tlearn: 0.1448076\ttotal: 1.37s\tremaining: 1.99s\n",
            "22:\tlearn: 0.1400268\ttotal: 1.43s\tremaining: 1.92s\n",
            "23:\tlearn: 0.1358383\ttotal: 1.48s\tremaining: 1.85s\n",
            "24:\tlearn: 0.1287552\ttotal: 1.54s\tremaining: 1.78s\n",
            "25:\tlearn: 0.1248765\ttotal: 1.59s\tremaining: 1.71s\n",
            "26:\tlearn: 0.1219883\ttotal: 1.65s\tremaining: 1.65s\n",
            "27:\tlearn: 0.1185936\ttotal: 1.7s\tremaining: 1.58s\n",
            "28:\tlearn: 0.1154155\ttotal: 1.76s\tremaining: 1.52s\n",
            "29:\tlearn: 0.1111893\ttotal: 1.81s\tremaining: 1.45s\n",
            "30:\tlearn: 0.1085587\ttotal: 1.87s\tremaining: 1.39s\n",
            "31:\tlearn: 0.1050221\ttotal: 1.92s\tremaining: 1.32s\n",
            "32:\tlearn: 0.1014491\ttotal: 1.98s\tremaining: 1.26s\n",
            "33:\tlearn: 0.0963742\ttotal: 2.04s\tremaining: 1.2s\n",
            "34:\tlearn: 0.0945179\ttotal: 2.1s\tremaining: 1.14s\n",
            "35:\tlearn: 0.0909844\ttotal: 2.15s\tremaining: 1.08s\n",
            "36:\tlearn: 0.0887576\ttotal: 2.21s\tremaining: 1.02s\n",
            "37:\tlearn: 0.0860644\ttotal: 2.27s\tremaining: 954ms\n",
            "38:\tlearn: 0.0836405\ttotal: 2.32s\tremaining: 894ms\n",
            "39:\tlearn: 0.0817011\ttotal: 2.38s\tremaining: 833ms\n",
            "40:\tlearn: 0.0801793\ttotal: 2.43s\tremaining: 771ms\n",
            "41:\tlearn: 0.0764626\ttotal: 2.48s\tremaining: 710ms\n",
            "42:\tlearn: 0.0733589\ttotal: 2.54s\tremaining: 650ms\n",
            "43:\tlearn: 0.0709250\ttotal: 2.6s\tremaining: 591ms\n",
            "44:\tlearn: 0.0681974\ttotal: 2.67s\tremaining: 534ms\n",
            "45:\tlearn: 0.0649862\ttotal: 2.73s\tremaining: 475ms\n",
            "46:\tlearn: 0.0633695\ttotal: 2.79s\tremaining: 416ms\n",
            "47:\tlearn: 0.0604317\ttotal: 2.86s\tremaining: 357ms\n",
            "48:\tlearn: 0.0583849\ttotal: 2.92s\tremaining: 298ms\n",
            "49:\tlearn: 0.0572482\ttotal: 2.98s\tremaining: 238ms\n",
            "50:\tlearn: 0.0561837\ttotal: 3.05s\tremaining: 179ms\n",
            "51:\tlearn: 0.0541059\ttotal: 3.12s\tremaining: 120ms\n",
            "52:\tlearn: 0.0515776\ttotal: 3.18s\tremaining: 60ms\n",
            "53:\tlearn: 0.0502846\ttotal: 3.24s\tremaining: 0us\n",
            "0:\tlearn: 0.5687830\ttotal: 61.1ms\tremaining: 3.24s\n",
            "1:\tlearn: 0.4715925\ttotal: 125ms\tremaining: 3.24s\n",
            "2:\tlearn: 0.4109604\ttotal: 188ms\tremaining: 3.19s\n",
            "3:\tlearn: 0.3584263\ttotal: 249ms\tremaining: 3.12s\n",
            "4:\tlearn: 0.3174889\ttotal: 322ms\tremaining: 3.15s\n",
            "5:\tlearn: 0.2874873\ttotal: 384ms\tremaining: 3.07s\n",
            "6:\tlearn: 0.2661209\ttotal: 445ms\tremaining: 2.99s\n",
            "7:\tlearn: 0.2436460\ttotal: 508ms\tremaining: 2.92s\n",
            "8:\tlearn: 0.2291486\ttotal: 577ms\tremaining: 2.88s\n",
            "9:\tlearn: 0.2137241\ttotal: 639ms\tremaining: 2.81s\n",
            "10:\tlearn: 0.2032437\ttotal: 697ms\tremaining: 2.72s\n",
            "11:\tlearn: 0.1926980\ttotal: 762ms\tremaining: 2.67s\n",
            "12:\tlearn: 0.1840631\ttotal: 843ms\tremaining: 2.66s\n",
            "13:\tlearn: 0.1723895\ttotal: 906ms\tremaining: 2.59s\n",
            "14:\tlearn: 0.1663377\ttotal: 967ms\tremaining: 2.51s\n",
            "15:\tlearn: 0.1620207\ttotal: 1.03s\tremaining: 2.45s\n",
            "16:\tlearn: 0.1560182\ttotal: 1.1s\tremaining: 2.4s\n",
            "17:\tlearn: 0.1470618\ttotal: 1.17s\tremaining: 2.33s\n",
            "18:\tlearn: 0.1422240\ttotal: 1.23s\tremaining: 2.26s\n",
            "19:\tlearn: 0.1370589\ttotal: 1.29s\tremaining: 2.19s\n",
            "20:\tlearn: 0.1313389\ttotal: 1.36s\tremaining: 2.13s\n",
            "21:\tlearn: 0.1273175\ttotal: 1.42s\tremaining: 2.07s\n",
            "22:\tlearn: 0.1173299\ttotal: 1.48s\tremaining: 2s\n",
            "23:\tlearn: 0.1088369\ttotal: 1.54s\tremaining: 1.93s\n",
            "24:\tlearn: 0.1060419\ttotal: 1.6s\tremaining: 1.86s\n",
            "25:\tlearn: 0.1026789\ttotal: 1.66s\tremaining: 1.78s\n",
            "26:\tlearn: 0.0996342\ttotal: 1.71s\tremaining: 1.71s\n",
            "27:\tlearn: 0.0962006\ttotal: 1.77s\tremaining: 1.64s\n",
            "28:\tlearn: 0.0943042\ttotal: 1.84s\tremaining: 1.58s\n",
            "29:\tlearn: 0.0917441\ttotal: 1.9s\tremaining: 1.52s\n",
            "30:\tlearn: 0.0886628\ttotal: 1.95s\tremaining: 1.45s\n",
            "31:\tlearn: 0.0849506\ttotal: 2s\tremaining: 1.38s\n",
            "32:\tlearn: 0.0817031\ttotal: 2.06s\tremaining: 1.31s\n",
            "33:\tlearn: 0.0786752\ttotal: 2.12s\tremaining: 1.25s\n",
            "34:\tlearn: 0.0764245\ttotal: 2.17s\tremaining: 1.18s\n",
            "35:\tlearn: 0.0749787\ttotal: 2.23s\tremaining: 1.12s\n",
            "36:\tlearn: 0.0725009\ttotal: 2.3s\tremaining: 1.06s\n",
            "37:\tlearn: 0.0694576\ttotal: 2.36s\tremaining: 996ms\n",
            "38:\tlearn: 0.0678579\ttotal: 2.42s\tremaining: 931ms\n",
            "39:\tlearn: 0.0653841\ttotal: 2.47s\tremaining: 866ms\n",
            "40:\tlearn: 0.0638619\ttotal: 2.53s\tremaining: 803ms\n",
            "41:\tlearn: 0.0611995\ttotal: 2.59s\tremaining: 741ms\n",
            "42:\tlearn: 0.0599619\ttotal: 2.65s\tremaining: 679ms\n",
            "43:\tlearn: 0.0575349\ttotal: 2.72s\tremaining: 617ms\n",
            "44:\tlearn: 0.0554009\ttotal: 2.79s\tremaining: 559ms\n",
            "45:\tlearn: 0.0527604\ttotal: 2.87s\tremaining: 499ms\n",
            "46:\tlearn: 0.0508313\ttotal: 2.93s\tremaining: 437ms\n",
            "47:\tlearn: 0.0501124\ttotal: 3s\tremaining: 375ms\n",
            "48:\tlearn: 0.0477924\ttotal: 3.06s\tremaining: 313ms\n",
            "49:\tlearn: 0.0462616\ttotal: 3.13s\tremaining: 250ms\n",
            "50:\tlearn: 0.0451960\ttotal: 3.19s\tremaining: 188ms\n",
            "51:\tlearn: 0.0440655\ttotal: 3.26s\tremaining: 125ms\n",
            "52:\tlearn: 0.0427377\ttotal: 3.32s\tremaining: 62.6ms\n",
            "53:\tlearn: 0.0406348\ttotal: 3.38s\tremaining: 0us\n",
            "0:\tlearn: 0.5608489\ttotal: 65.1ms\tremaining: 3.45s\n",
            "1:\tlearn: 0.4702199\ttotal: 127ms\tremaining: 3.31s\n",
            "2:\tlearn: 0.4038864\ttotal: 191ms\tremaining: 3.25s\n",
            "3:\tlearn: 0.3571053\ttotal: 244ms\tremaining: 3.05s\n",
            "4:\tlearn: 0.3239622\ttotal: 301ms\tremaining: 2.95s\n",
            "5:\tlearn: 0.2980855\ttotal: 365ms\tremaining: 2.92s\n",
            "6:\tlearn: 0.2752433\ttotal: 419ms\tremaining: 2.82s\n",
            "7:\tlearn: 0.2567647\ttotal: 485ms\tremaining: 2.79s\n",
            "8:\tlearn: 0.2405500\ttotal: 543ms\tremaining: 2.72s\n",
            "9:\tlearn: 0.2269006\ttotal: 598ms\tremaining: 2.63s\n",
            "10:\tlearn: 0.2140826\ttotal: 652ms\tremaining: 2.55s\n",
            "11:\tlearn: 0.1961365\ttotal: 707ms\tremaining: 2.48s\n",
            "12:\tlearn: 0.1843481\ttotal: 768ms\tremaining: 2.42s\n",
            "13:\tlearn: 0.1753236\ttotal: 822ms\tremaining: 2.35s\n",
            "14:\tlearn: 0.1691818\ttotal: 881ms\tremaining: 2.29s\n",
            "15:\tlearn: 0.1593660\ttotal: 938ms\tremaining: 2.23s\n",
            "16:\tlearn: 0.1533078\ttotal: 1.01s\tremaining: 2.19s\n",
            "17:\tlearn: 0.1471215\ttotal: 1.07s\tremaining: 2.13s\n",
            "18:\tlearn: 0.1426975\ttotal: 1.12s\tremaining: 2.07s\n",
            "19:\tlearn: 0.1360353\ttotal: 1.18s\tremaining: 2s\n",
            "20:\tlearn: 0.1311304\ttotal: 1.24s\tremaining: 1.94s\n",
            "21:\tlearn: 0.1268725\ttotal: 1.3s\tremaining: 1.89s\n",
            "22:\tlearn: 0.1222555\ttotal: 1.36s\tremaining: 1.84s\n",
            "23:\tlearn: 0.1174904\ttotal: 1.42s\tremaining: 1.77s\n",
            "24:\tlearn: 0.1115187\ttotal: 1.48s\tremaining: 1.72s\n",
            "25:\tlearn: 0.1076165\ttotal: 1.54s\tremaining: 1.66s\n",
            "26:\tlearn: 0.1047230\ttotal: 1.61s\tremaining: 1.61s\n",
            "27:\tlearn: 0.1019817\ttotal: 1.67s\tremaining: 1.55s\n",
            "28:\tlearn: 0.0996294\ttotal: 1.74s\tremaining: 1.5s\n",
            "29:\tlearn: 0.0967274\ttotal: 1.83s\tremaining: 1.47s\n",
            "30:\tlearn: 0.0922592\ttotal: 1.94s\tremaining: 1.44s\n",
            "31:\tlearn: 0.0892303\ttotal: 2.04s\tremaining: 1.4s\n",
            "32:\tlearn: 0.0837566\ttotal: 2.13s\tremaining: 1.35s\n",
            "33:\tlearn: 0.0811358\ttotal: 2.23s\tremaining: 1.31s\n",
            "34:\tlearn: 0.0791262\ttotal: 2.33s\tremaining: 1.26s\n",
            "35:\tlearn: 0.0757272\ttotal: 2.44s\tremaining: 1.22s\n",
            "36:\tlearn: 0.0723038\ttotal: 2.56s\tremaining: 1.17s\n",
            "37:\tlearn: 0.0693898\ttotal: 2.67s\tremaining: 1.12s\n",
            "38:\tlearn: 0.0677084\ttotal: 2.78s\tremaining: 1.07s\n",
            "39:\tlearn: 0.0655285\ttotal: 2.89s\tremaining: 1.01s\n",
            "40:\tlearn: 0.0642788\ttotal: 3.01s\tremaining: 955ms\n",
            "41:\tlearn: 0.0621475\ttotal: 3.13s\tremaining: 893ms\n",
            "42:\tlearn: 0.0598163\ttotal: 3.22s\tremaining: 825ms\n",
            "43:\tlearn: 0.0582503\ttotal: 3.34s\tremaining: 758ms\n",
            "44:\tlearn: 0.0555549\ttotal: 3.43s\tremaining: 687ms\n",
            "45:\tlearn: 0.0528485\ttotal: 3.55s\tremaining: 617ms\n",
            "46:\tlearn: 0.0502113\ttotal: 3.65s\tremaining: 544ms\n",
            "47:\tlearn: 0.0490707\ttotal: 3.77s\tremaining: 471ms\n",
            "48:\tlearn: 0.0481163\ttotal: 3.87s\tremaining: 395ms\n",
            "49:\tlearn: 0.0465386\ttotal: 3.97s\tremaining: 317ms\n",
            "50:\tlearn: 0.0456592\ttotal: 4.08s\tremaining: 240ms\n",
            "51:\tlearn: 0.0441275\ttotal: 4.18s\tremaining: 161ms\n",
            "52:\tlearn: 0.0418084\ttotal: 4.29s\tremaining: 81ms\n",
            "53:\tlearn: 0.0404107\ttotal: 4.38s\tremaining: 0us\n",
            "0:\tlearn: 0.5714515\ttotal: 109ms\tremaining: 5.77s\n",
            "1:\tlearn: 0.4936847\ttotal: 226ms\tremaining: 5.88s\n",
            "2:\tlearn: 0.4310477\ttotal: 336ms\tremaining: 5.71s\n",
            "3:\tlearn: 0.3910327\ttotal: 450ms\tremaining: 5.63s\n",
            "4:\tlearn: 0.3566347\ttotal: 565ms\tremaining: 5.54s\n",
            "5:\tlearn: 0.3298587\ttotal: 676ms\tremaining: 5.41s\n",
            "6:\tlearn: 0.3062715\ttotal: 770ms\tremaining: 5.17s\n",
            "7:\tlearn: 0.2926471\ttotal: 865ms\tremaining: 4.97s\n",
            "8:\tlearn: 0.2747932\ttotal: 980ms\tremaining: 4.9s\n",
            "9:\tlearn: 0.2581775\ttotal: 1.09s\tremaining: 4.82s\n",
            "10:\tlearn: 0.2481023\ttotal: 1.21s\tremaining: 4.73s\n",
            "11:\tlearn: 0.2350128\ttotal: 1.32s\tremaining: 4.61s\n",
            "12:\tlearn: 0.2275121\ttotal: 1.42s\tremaining: 4.47s\n",
            "13:\tlearn: 0.2119831\ttotal: 1.53s\tremaining: 4.36s\n",
            "14:\tlearn: 0.2061081\ttotal: 1.63s\tremaining: 4.25s\n",
            "15:\tlearn: 0.1960128\ttotal: 1.74s\tremaining: 4.13s\n",
            "16:\tlearn: 0.1893251\ttotal: 1.85s\tremaining: 4.03s\n",
            "17:\tlearn: 0.1820101\ttotal: 1.95s\tremaining: 3.91s\n",
            "18:\tlearn: 0.1720541\ttotal: 2.04s\tremaining: 3.76s\n",
            "19:\tlearn: 0.1629183\ttotal: 2.15s\tremaining: 3.65s\n",
            "20:\tlearn: 0.1553810\ttotal: 2.2s\tremaining: 3.46s\n",
            "21:\tlearn: 0.1507042\ttotal: 2.26s\tremaining: 3.29s\n",
            "22:\tlearn: 0.1424924\ttotal: 2.32s\tremaining: 3.13s\n",
            "23:\tlearn: 0.1370691\ttotal: 2.38s\tremaining: 2.97s\n",
            "24:\tlearn: 0.1320879\ttotal: 2.43s\tremaining: 2.82s\n",
            "25:\tlearn: 0.1278536\ttotal: 2.49s\tremaining: 2.68s\n",
            "26:\tlearn: 0.1241803\ttotal: 2.54s\tremaining: 2.54s\n",
            "27:\tlearn: 0.1202164\ttotal: 2.6s\tremaining: 2.42s\n",
            "28:\tlearn: 0.1168249\ttotal: 2.66s\tremaining: 2.29s\n",
            "29:\tlearn: 0.1135506\ttotal: 2.71s\tremaining: 2.17s\n",
            "30:\tlearn: 0.1090606\ttotal: 2.77s\tremaining: 2.06s\n",
            "31:\tlearn: 0.1026597\ttotal: 2.83s\tremaining: 1.95s\n",
            "32:\tlearn: 0.0991701\ttotal: 2.89s\tremaining: 1.84s\n",
            "33:\tlearn: 0.0951548\ttotal: 2.95s\tremaining: 1.74s\n",
            "34:\tlearn: 0.0930900\ttotal: 3.02s\tremaining: 1.64s\n",
            "35:\tlearn: 0.0876124\ttotal: 3.08s\tremaining: 1.54s\n",
            "36:\tlearn: 0.0823399\ttotal: 3.15s\tremaining: 1.45s\n",
            "37:\tlearn: 0.0802232\ttotal: 3.21s\tremaining: 1.35s\n",
            "38:\tlearn: 0.0766633\ttotal: 3.28s\tremaining: 1.26s\n",
            "39:\tlearn: 0.0738198\ttotal: 3.35s\tremaining: 1.17s\n",
            "40:\tlearn: 0.0717387\ttotal: 3.41s\tremaining: 1.08s\n",
            "41:\tlearn: 0.0695804\ttotal: 3.48s\tremaining: 995ms\n",
            "42:\tlearn: 0.0669388\ttotal: 3.54s\tremaining: 907ms\n",
            "43:\tlearn: 0.0654485\ttotal: 3.61s\tremaining: 821ms\n",
            "44:\tlearn: 0.0629325\ttotal: 3.67s\tremaining: 735ms\n",
            "45:\tlearn: 0.0600271\ttotal: 3.73s\tremaining: 649ms\n",
            "46:\tlearn: 0.0582991\ttotal: 3.8s\tremaining: 566ms\n",
            "47:\tlearn: 0.0568513\ttotal: 3.87s\tremaining: 484ms\n",
            "48:\tlearn: 0.0545137\ttotal: 3.93s\tremaining: 401ms\n",
            "49:\tlearn: 0.0534074\ttotal: 3.99s\tremaining: 319ms\n",
            "50:\tlearn: 0.0519926\ttotal: 4.05s\tremaining: 238ms\n",
            "51:\tlearn: 0.0505049\ttotal: 4.12s\tremaining: 158ms\n",
            "52:\tlearn: 0.0485121\ttotal: 4.18s\tremaining: 79ms\n",
            "53:\tlearn: 0.0463477\ttotal: 4.25s\tremaining: 0us\n",
            "0:\tlearn: 0.5399878\ttotal: 13.6ms\tremaining: 720ms\n",
            "1:\tlearn: 0.4380868\ttotal: 33.5ms\tremaining: 872ms\n",
            "2:\tlearn: 0.3628321\ttotal: 47.2ms\tremaining: 802ms\n",
            "3:\tlearn: 0.3091955\ttotal: 66.7ms\tremaining: 834ms\n",
            "4:\tlearn: 0.2668085\ttotal: 83.1ms\tremaining: 814ms\n",
            "5:\tlearn: 0.2373306\ttotal: 96.5ms\tremaining: 772ms\n",
            "6:\tlearn: 0.2129079\ttotal: 110ms\tremaining: 741ms\n",
            "7:\tlearn: 0.1934452\ttotal: 124ms\tremaining: 711ms\n",
            "8:\tlearn: 0.1784415\ttotal: 134ms\tremaining: 668ms\n",
            "9:\tlearn: 0.1650478\ttotal: 146ms\tremaining: 644ms\n",
            "10:\tlearn: 0.1543157\ttotal: 161ms\tremaining: 629ms\n",
            "11:\tlearn: 0.1460542\ttotal: 175ms\tremaining: 611ms\n",
            "12:\tlearn: 0.1385008\ttotal: 187ms\tremaining: 591ms\n",
            "13:\tlearn: 0.1334129\ttotal: 200ms\tremaining: 573ms\n",
            "14:\tlearn: 0.1287011\ttotal: 214ms\tremaining: 555ms\n",
            "15:\tlearn: 0.1251545\ttotal: 226ms\tremaining: 538ms\n",
            "16:\tlearn: 0.1224540\ttotal: 246ms\tremaining: 535ms\n",
            "17:\tlearn: 0.1197704\ttotal: 258ms\tremaining: 517ms\n",
            "18:\tlearn: 0.1178575\ttotal: 271ms\tremaining: 500ms\n",
            "19:\tlearn: 0.1163419\ttotal: 285ms\tremaining: 484ms\n",
            "20:\tlearn: 0.1149048\ttotal: 298ms\tremaining: 468ms\n",
            "21:\tlearn: 0.1139071\ttotal: 312ms\tremaining: 453ms\n",
            "22:\tlearn: 0.1131276\ttotal: 324ms\tremaining: 437ms\n",
            "23:\tlearn: 0.1118423\ttotal: 339ms\tremaining: 424ms\n",
            "24:\tlearn: 0.1109450\ttotal: 352ms\tremaining: 408ms\n",
            "25:\tlearn: 0.1097132\ttotal: 365ms\tremaining: 393ms\n",
            "26:\tlearn: 0.1088560\ttotal: 380ms\tremaining: 380ms\n",
            "27:\tlearn: 0.1076430\ttotal: 393ms\tremaining: 365ms\n",
            "28:\tlearn: 0.1069514\ttotal: 407ms\tremaining: 351ms\n",
            "29:\tlearn: 0.1059944\ttotal: 421ms\tremaining: 337ms\n",
            "30:\tlearn: 0.1052698\ttotal: 434ms\tremaining: 322ms\n",
            "31:\tlearn: 0.1043951\ttotal: 453ms\tremaining: 311ms\n",
            "32:\tlearn: 0.1038955\ttotal: 466ms\tremaining: 297ms\n",
            "33:\tlearn: 0.1034253\ttotal: 479ms\tremaining: 282ms\n",
            "34:\tlearn: 0.1031771\ttotal: 493ms\tremaining: 267ms\n",
            "35:\tlearn: 0.1025377\ttotal: 506ms\tremaining: 253ms\n",
            "36:\tlearn: 0.1019465\ttotal: 519ms\tremaining: 238ms\n",
            "37:\tlearn: 0.1015430\ttotal: 534ms\tremaining: 225ms\n",
            "38:\tlearn: 0.1011782\ttotal: 548ms\tremaining: 211ms\n",
            "39:\tlearn: 0.1006953\ttotal: 562ms\tremaining: 197ms\n",
            "40:\tlearn: 0.1001915\ttotal: 581ms\tremaining: 184ms\n",
            "41:\tlearn: 0.0998056\ttotal: 594ms\tremaining: 170ms\n",
            "42:\tlearn: 0.0994567\ttotal: 606ms\tremaining: 155ms\n",
            "43:\tlearn: 0.0991160\ttotal: 617ms\tremaining: 140ms\n",
            "44:\tlearn: 0.0987020\ttotal: 629ms\tremaining: 126ms\n",
            "45:\tlearn: 0.0981947\ttotal: 641ms\tremaining: 111ms\n",
            "46:\tlearn: 0.0976139\ttotal: 657ms\tremaining: 97.8ms\n",
            "47:\tlearn: 0.0969630\ttotal: 669ms\tremaining: 83.6ms\n",
            "48:\tlearn: 0.0965219\ttotal: 680ms\tremaining: 69.4ms\n",
            "49:\tlearn: 0.0960958\ttotal: 692ms\tremaining: 55.4ms\n",
            "50:\tlearn: 0.0956630\ttotal: 704ms\tremaining: 41.4ms\n",
            "51:\tlearn: 0.0951435\ttotal: 715ms\tremaining: 27.5ms\n",
            "52:\tlearn: 0.0948258\ttotal: 727ms\tremaining: 13.7ms\n",
            "53:\tlearn: 0.0945245\ttotal: 738ms\tremaining: 0us\n"
          ]
        },
        {
          "output_type": "execute_result",
          "data": {
            "text/plain": [
              "StackingClassifier(estimators=[('RF',\n",
              "                                RandomForestClassifier(max_depth=10,\n",
              "                                                       n_estimators=400)),\n",
              "                               ('XGB',\n",
              "                                XGBClassifier(base_score=0.88, booster=None,\n",
              "                                              callbacks=None,\n",
              "                                              colsample_bylevel=None,\n",
              "                                              colsample_bynode=None,\n",
              "                                              colsample_bytree=None,\n",
              "                                              device=None,\n",
              "                                              early_stopping_rounds=None,\n",
              "                                              enable_categorical=False,\n",
              "                                              eval_metric=None,\n",
              "                                              feature_types=None, gamma=None,\n",
              "                                              grow_policy=Non...\n",
              "                                              min_child_weight=None,\n",
              "                                              missing=nan,\n",
              "                                              monotone_constraints=None,\n",
              "                                              multi_strategy=None,\n",
              "                                              n_estimators=500, n_jobs=None,\n",
              "                                              num_parallel_tree=None,\n",
              "                                              random_state=None, ...)),\n",
              "                               ('LGBM',\n",
              "                                LGBMClassifier(learning_rate=0.5, max_depth=7)),\n",
              "                               ('CAT',\n",
              "                                <catboost.core.CatBoostClassifier object at 0x7e67306db6a0>)],\n",
              "                   final_estimator=<catboost.core.CatBoostClassifier object at 0x7e67306d8040>)"
            ],
            "text/html": [
              "<style>#sk-container-id-4 {color: black;background-color: white;}#sk-container-id-4 pre{padding: 0;}#sk-container-id-4 div.sk-toggleable {background-color: white;}#sk-container-id-4 label.sk-toggleable__label {cursor: pointer;display: block;width: 100%;margin-bottom: 0;padding: 0.3em;box-sizing: border-box;text-align: center;}#sk-container-id-4 label.sk-toggleable__label-arrow:before {content: \"▸\";float: left;margin-right: 0.25em;color: #696969;}#sk-container-id-4 label.sk-toggleable__label-arrow:hover:before {color: black;}#sk-container-id-4 div.sk-estimator:hover label.sk-toggleable__label-arrow:before {color: black;}#sk-container-id-4 div.sk-toggleable__content {max-height: 0;max-width: 0;overflow: hidden;text-align: left;background-color: #f0f8ff;}#sk-container-id-4 div.sk-toggleable__content pre {margin: 0.2em;color: black;border-radius: 0.25em;background-color: #f0f8ff;}#sk-container-id-4 input.sk-toggleable__control:checked~div.sk-toggleable__content {max-height: 200px;max-width: 100%;overflow: auto;}#sk-container-id-4 input.sk-toggleable__control:checked~label.sk-toggleable__label-arrow:before {content: \"▾\";}#sk-container-id-4 div.sk-estimator input.sk-toggleable__control:checked~label.sk-toggleable__label {background-color: #d4ebff;}#sk-container-id-4 div.sk-label input.sk-toggleable__control:checked~label.sk-toggleable__label {background-color: #d4ebff;}#sk-container-id-4 input.sk-hidden--visually {border: 0;clip: rect(1px 1px 1px 1px);clip: rect(1px, 1px, 1px, 1px);height: 1px;margin: -1px;overflow: hidden;padding: 0;position: absolute;width: 1px;}#sk-container-id-4 div.sk-estimator {font-family: monospace;background-color: #f0f8ff;border: 1px dotted black;border-radius: 0.25em;box-sizing: border-box;margin-bottom: 0.5em;}#sk-container-id-4 div.sk-estimator:hover {background-color: #d4ebff;}#sk-container-id-4 div.sk-parallel-item::after {content: \"\";width: 100%;border-bottom: 1px solid gray;flex-grow: 1;}#sk-container-id-4 div.sk-label:hover label.sk-toggleable__label {background-color: #d4ebff;}#sk-container-id-4 div.sk-serial::before {content: \"\";position: absolute;border-left: 1px solid gray;box-sizing: border-box;top: 0;bottom: 0;left: 50%;z-index: 0;}#sk-container-id-4 div.sk-serial {display: flex;flex-direction: column;align-items: center;background-color: white;padding-right: 0.2em;padding-left: 0.2em;position: relative;}#sk-container-id-4 div.sk-item {position: relative;z-index: 1;}#sk-container-id-4 div.sk-parallel {display: flex;align-items: stretch;justify-content: center;background-color: white;position: relative;}#sk-container-id-4 div.sk-item::before, #sk-container-id-4 div.sk-parallel-item::before {content: \"\";position: absolute;border-left: 1px solid gray;box-sizing: border-box;top: 0;bottom: 0;left: 50%;z-index: -1;}#sk-container-id-4 div.sk-parallel-item {display: flex;flex-direction: column;z-index: 1;position: relative;background-color: white;}#sk-container-id-4 div.sk-parallel-item:first-child::after {align-self: flex-end;width: 50%;}#sk-container-id-4 div.sk-parallel-item:last-child::after {align-self: flex-start;width: 50%;}#sk-container-id-4 div.sk-parallel-item:only-child::after {width: 0;}#sk-container-id-4 div.sk-dashed-wrapped {border: 1px dashed gray;margin: 0 0.4em 0.5em 0.4em;box-sizing: border-box;padding-bottom: 0.4em;background-color: white;}#sk-container-id-4 div.sk-label label {font-family: monospace;font-weight: bold;display: inline-block;line-height: 1.2em;}#sk-container-id-4 div.sk-label-container {text-align: center;}#sk-container-id-4 div.sk-container {/* jupyter's `normalize.less` sets `[hidden] { display: none; }` but bootstrap.min.css set `[hidden] { display: none !important; }` so we also need the `!important` here to be able to override the default hidden behavior on the sphinx rendered scikit-learn.org. See: https://github.com/scikit-learn/scikit-learn/issues/21755 */display: inline-block !important;position: relative;}#sk-container-id-4 div.sk-text-repr-fallback {display: none;}</style><div id=\"sk-container-id-4\" class=\"sk-top-container\"><div class=\"sk-text-repr-fallback\"><pre>StackingClassifier(estimators=[(&#x27;RF&#x27;,\n",
              "                                RandomForestClassifier(max_depth=10,\n",
              "                                                       n_estimators=400)),\n",
              "                               (&#x27;XGB&#x27;,\n",
              "                                XGBClassifier(base_score=0.88, booster=None,\n",
              "                                              callbacks=None,\n",
              "                                              colsample_bylevel=None,\n",
              "                                              colsample_bynode=None,\n",
              "                                              colsample_bytree=None,\n",
              "                                              device=None,\n",
              "                                              early_stopping_rounds=None,\n",
              "                                              enable_categorical=False,\n",
              "                                              eval_metric=None,\n",
              "                                              feature_types=None, gamma=None,\n",
              "                                              grow_policy=Non...\n",
              "                                              min_child_weight=None,\n",
              "                                              missing=nan,\n",
              "                                              monotone_constraints=None,\n",
              "                                              multi_strategy=None,\n",
              "                                              n_estimators=500, n_jobs=None,\n",
              "                                              num_parallel_tree=None,\n",
              "                                              random_state=None, ...)),\n",
              "                               (&#x27;LGBM&#x27;,\n",
              "                                LGBMClassifier(learning_rate=0.5, max_depth=7)),\n",
              "                               (&#x27;CAT&#x27;,\n",
              "                                &lt;catboost.core.CatBoostClassifier object at 0x7e67306db6a0&gt;)],\n",
              "                   final_estimator=&lt;catboost.core.CatBoostClassifier object at 0x7e67306d8040&gt;)</pre><b>In a Jupyter environment, please rerun this cell to show the HTML representation or trust the notebook. <br />On GitHub, the HTML representation is unable to render, please try loading this page with nbviewer.org.</b></div><div class=\"sk-container\" hidden><div class=\"sk-item sk-dashed-wrapped\"><div class=\"sk-label-container\"><div class=\"sk-label sk-toggleable\"><input class=\"sk-toggleable__control sk-hidden--visually\" id=\"sk-estimator-id-4\" type=\"checkbox\" ><label for=\"sk-estimator-id-4\" class=\"sk-toggleable__label sk-toggleable__label-arrow\">StackingClassifier</label><div class=\"sk-toggleable__content\"><pre>StackingClassifier(estimators=[(&#x27;RF&#x27;,\n",
              "                                RandomForestClassifier(max_depth=10,\n",
              "                                                       n_estimators=400)),\n",
              "                               (&#x27;XGB&#x27;,\n",
              "                                XGBClassifier(base_score=0.88, booster=None,\n",
              "                                              callbacks=None,\n",
              "                                              colsample_bylevel=None,\n",
              "                                              colsample_bynode=None,\n",
              "                                              colsample_bytree=None,\n",
              "                                              device=None,\n",
              "                                              early_stopping_rounds=None,\n",
              "                                              enable_categorical=False,\n",
              "                                              eval_metric=None,\n",
              "                                              feature_types=None, gamma=None,\n",
              "                                              grow_policy=Non...\n",
              "                                              min_child_weight=None,\n",
              "                                              missing=nan,\n",
              "                                              monotone_constraints=None,\n",
              "                                              multi_strategy=None,\n",
              "                                              n_estimators=500, n_jobs=None,\n",
              "                                              num_parallel_tree=None,\n",
              "                                              random_state=None, ...)),\n",
              "                               (&#x27;LGBM&#x27;,\n",
              "                                LGBMClassifier(learning_rate=0.5, max_depth=7)),\n",
              "                               (&#x27;CAT&#x27;,\n",
              "                                &lt;catboost.core.CatBoostClassifier object at 0x7e67306db6a0&gt;)],\n",
              "                   final_estimator=&lt;catboost.core.CatBoostClassifier object at 0x7e67306d8040&gt;)</pre></div></div></div><div class=\"sk-serial\"><div class=\"sk-item\"><div class=\"sk-parallel\"><div class=\"sk-parallel-item\"><div class=\"sk-item\"><div class=\"sk-label-container\"><div class=\"sk-label sk-toggleable\"><label>RF</label></div></div><div class=\"sk-serial\"><div class=\"sk-item\"><div class=\"sk-estimator sk-toggleable\"><input class=\"sk-toggleable__control sk-hidden--visually\" id=\"sk-estimator-id-5\" type=\"checkbox\" ><label for=\"sk-estimator-id-5\" class=\"sk-toggleable__label sk-toggleable__label-arrow\">RandomForestClassifier</label><div class=\"sk-toggleable__content\"><pre>RandomForestClassifier(max_depth=10, n_estimators=400)</pre></div></div></div></div></div></div><div class=\"sk-parallel-item\"><div class=\"sk-item\"><div class=\"sk-label-container\"><div class=\"sk-label sk-toggleable\"><label>XGB</label></div></div><div class=\"sk-serial\"><div class=\"sk-item\"><div class=\"sk-estimator sk-toggleable\"><input class=\"sk-toggleable__control sk-hidden--visually\" id=\"sk-estimator-id-6\" type=\"checkbox\" ><label for=\"sk-estimator-id-6\" class=\"sk-toggleable__label sk-toggleable__label-arrow\">XGBClassifier</label><div class=\"sk-toggleable__content\"><pre>XGBClassifier(base_score=0.88, booster=None, callbacks=None,\n",
              "              colsample_bylevel=None, colsample_bynode=None,\n",
              "              colsample_bytree=None, device=None, early_stopping_rounds=None,\n",
              "              enable_categorical=False, eval_metric=None, feature_types=None,\n",
              "              gamma=None, grow_policy=None, importance_type=None,\n",
              "              interaction_constraints=None, learning_rate=0.2, max_bin=None,\n",
              "              max_cat_threshold=None, max_cat_to_onehot=None,\n",
              "              max_delta_step=None, max_depth=7, max_leaves=None,\n",
              "              min_child_weight=None, missing=nan, monotone_constraints=None,\n",
              "              multi_strategy=None, n_estimators=500, n_jobs=None,\n",
              "              num_parallel_tree=None, random_state=None, ...)</pre></div></div></div></div></div></div><div class=\"sk-parallel-item\"><div class=\"sk-item\"><div class=\"sk-label-container\"><div class=\"sk-label sk-toggleable\"><label>LGBM</label></div></div><div class=\"sk-serial\"><div class=\"sk-item\"><div class=\"sk-estimator sk-toggleable\"><input class=\"sk-toggleable__control sk-hidden--visually\" id=\"sk-estimator-id-7\" type=\"checkbox\" ><label for=\"sk-estimator-id-7\" class=\"sk-toggleable__label sk-toggleable__label-arrow\">LGBMClassifier</label><div class=\"sk-toggleable__content\"><pre>LGBMClassifier(learning_rate=0.5, max_depth=7)</pre></div></div></div></div></div></div><div class=\"sk-parallel-item\"><div class=\"sk-item\"><div class=\"sk-label-container\"><div class=\"sk-label sk-toggleable\"><label>CAT</label></div></div><div class=\"sk-serial\"><div class=\"sk-item\"><div class=\"sk-estimator sk-toggleable\"><input class=\"sk-toggleable__control sk-hidden--visually\" id=\"sk-estimator-id-8\" type=\"checkbox\" ><label for=\"sk-estimator-id-8\" class=\"sk-toggleable__label sk-toggleable__label-arrow\">CatBoostClassifier</label><div class=\"sk-toggleable__content\"><pre>&lt;catboost.core.CatBoostClassifier object at 0x7e67306db6a0&gt;</pre></div></div></div></div></div></div></div></div><div class=\"sk-item\"><div class=\"sk-parallel\"><div class=\"sk-parallel-item\"><div class=\"sk-item\"><div class=\"sk-label-container\"><div class=\"sk-label sk-toggleable\"><label>final_estimator</label></div></div><div class=\"sk-serial\"><div class=\"sk-item\"><div class=\"sk-estimator sk-toggleable\"><input class=\"sk-toggleable__control sk-hidden--visually\" id=\"sk-estimator-id-9\" type=\"checkbox\" ><label for=\"sk-estimator-id-9\" class=\"sk-toggleable__label sk-toggleable__label-arrow\">CatBoostClassifier</label><div class=\"sk-toggleable__content\"><pre>&lt;catboost.core.CatBoostClassifier object at 0x7e67306d8040&gt;</pre></div></div></div></div></div></div></div></div></div></div></div></div>"
            ]
          },
          "metadata": {},
          "execution_count": 35
        }
      ],
      "source": [
        "model.fit(xtrain, ytrain)"
      ]
    },
    {
      "cell_type": "code",
      "execution_count": null,
      "metadata": {
        "colab": {
          "base_uri": "https://localhost:8080/"
        },
        "id": "-VnRhjELqgEn",
        "outputId": "2204235d-b62d-4945-fbc1-a815caf64898"
      },
      "outputs": [
        {
          "output_type": "stream",
          "name": "stdout",
          "text": [
            "[LightGBM] [Warning] Accuracy may be bad since you didn't explicitly set num_leaves OR 2^max_depth > num_leaves. (num_leaves=31).\n"
          ]
        }
      ],
      "source": [
        "pred = model.predict(xtest)"
      ]
    },
    {
      "cell_type": "code",
      "execution_count": null,
      "metadata": {
        "colab": {
          "background_save": true
        },
        "id": "1iyPoA5qqhCj",
        "outputId": "359b1d98-6540-4bc2-999f-8e497fa6a856"
      },
      "outputs": [
        {
          "data": {
            "text/plain": [
              "(0.9884615384615385,\n",
              " 0.9847328244274809,\n",
              " 0.9923076923076923,\n",
              " 0.9885057471264368)"
            ]
          },
          "execution_count": 73,
          "metadata": {},
          "output_type": "execute_result"
        }
      ],
      "source": [
        "accuracy_score(ytest,pred), precision_score(ytest, pred), recall_score(ytest, pred), f1_score(ytest, pred)"
      ]
    },
    {
      "cell_type": "code",
      "source": [
        "mcc = matthews_corrcoef(ytest, pred)\n",
        "mcc"
      ],
      "metadata": {
        "colab": {
          "base_uri": "https://localhost:8080/"
        },
        "outputId": "3bc2d0e3-0d21-49e9-85f5-a0fab946e2cc",
        "id": "biGRaPD9gaJN"
      },
      "execution_count": null,
      "outputs": [
        {
          "output_type": "execute_result",
          "data": {
            "text/plain": [
              "0.976951981255433"
            ]
          },
          "metadata": {},
          "execution_count": 37
        }
      ]
    },
    {
      "cell_type": "code",
      "execution_count": null,
      "metadata": {
        "colab": {
          "background_save": true
        },
        "id": "4NPx4J-Pqnm7"
      },
      "outputs": [],
      "source": [
        "cm = confusion_matrix(ytest,pred)"
      ]
    },
    {
      "cell_type": "code",
      "execution_count": null,
      "metadata": {
        "colab": {
          "background_save": true
        },
        "id": "A6yJZASOYVOo",
        "outputId": "d23c3ddc-e975-496b-92b0-f247c7cf65fe"
      },
      "outputs": [
        {
          "data": {
            "text/plain": [
              "array([[128,   2],\n",
              "       [  1, 129]])"
            ]
          },
          "execution_count": 75,
          "metadata": {},
          "output_type": "execute_result"
        }
      ],
      "source": [
        "cm"
      ]
    },
    {
      "cell_type": "code",
      "execution_count": null,
      "metadata": {
        "colab": {
          "background_save": true
        },
        "id": "-KF1RHZCYV6F",
        "outputId": "ab9780f0-ff4e-44eb-94a9-b5e4acc743ef"
      },
      "outputs": [
        {
          "name": "stdout",
          "output_type": "stream",
          "text": [
            "Sensitivity: 0.9923076923076923\n",
            "Specificity: 0.9846153846153847\n"
          ]
        }
      ],
      "source": [
        "# True Positives (TP)\n",
        "tp = cm[1, 1]\n",
        "\n",
        "# True Negatives (TN)\n",
        "tn = cm[0, 0]\n",
        "\n",
        "# False Positives (FP)\n",
        "fp = cm[0, 1]\n",
        "\n",
        "# False Negatives (FN)\n",
        "fn = cm[1, 0]\n",
        "\n",
        "# Sensitivity (True Positive Rate or Recall)\n",
        "sensitivity = tp / (tp + fn)\n",
        "\n",
        "# Specificity (True Negative Rate)\n",
        "specificity = tn / (tn + fp)\n",
        "\n",
        "print(\"Sensitivity:\", sensitivity)\n",
        "print(\"Specificity:\", specificity)"
      ]
    },
    {
      "cell_type": "code",
      "execution_count": null,
      "metadata": {
        "colab": {
          "background_save": true
        },
        "id": "osxa0jkOYbzD",
        "outputId": "411b01bd-8a1d-4b64-ee1e-249cbed7fdcc"
      },
      "outputs": [
        {
          "data": {
            "image/png": "[encoded data removed]",
            "text/plain": [
              "<Figure size 400x300 with 1 Axes>"
            ]
          },
          "metadata": {},
          "output_type": "display_data"
        }
      ],
      "source": [
        "plt.figure(figsize=(4, 3))\n",
        "sns.set(font_scale=1.2)\n",
        "sns.heatmap(cm, annot=True, fmt='d', cmap='Blues', annot_kws={\"size\": 16}, cbar=False)\n",
        "plt.xlabel('Predicted')\n",
        "plt.ylabel('True')\n",
        "plt.title('Confusion Matrix')\n",
        "plt.show()"
      ]
    }
  ],
  "metadata": {
    "colab": {
      "provenance": [],
      "authorship_tag": "ABX9TyNOMetIj1r/xhQgDZhVD/BI",
      "include_colab_link": true
    },
    "kernelspec": {
      "display_name": "Python 3",
      "name": "python3"
    },
    "language_info": {
      "name": "python"
    }
  },
  "nbformat": 4,
  "nbformat_minor": 0
}