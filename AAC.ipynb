{
  "nbformat": 4,
  "nbformat_minor": 0,
  "metadata": {
    "colab": {
      "provenance": [],
      "authorship_tag": "ABX9TyN9uB9A5Kl9BtPU1w2+FQEq",
      "include_colab_link": true
    },
    "kernelspec": {
      "name": "python3",
      "display_name": "Python 3"
    },
    "language_info": {
      "name": "python"
    }
  },
  "cells": [
    {
      "cell_type": "markdown",
      "metadata": {
        "id": "view-in-github",
        "colab_type": "text"
      },
      "source": [
        "<a href=\"https://colab.research.google.com/github/AkashJahid/STHPP/blob/main/AAC.ipynb\" target=\"_parent\"><img src=\"https://colab.research.google.com/assets/colab-badge.svg\" alt=\"Open In Colab\"/></a>"
      ]
    },
    {
      "cell_type": "code",
      "execution_count": null,
      "metadata": {
        "id": "UNwU9Hqo8BDB"
      },
      "outputs": [],
      "source": [
        "import pandas as pd\n",
        "import numpy as np\n",
        "import matplotlib.pyplot as plt\n",
        "import seaborn as sns"
      ]
    },
    {
      "cell_type": "markdown",
      "source": [
        "# New Section"
      ],
      "metadata": {
        "id": "Gpa5oy2imYTv"
      }
    },
    {
      "cell_type": "code",
      "source": [
        "!pip install catboost"
      ],
      "metadata": {
        "id": "4YZnVRVWog1w",
        "colab": {
          "base_uri": "https://localhost:8080/"
        },
        "outputId": "e38e7e68-db0a-4bac-abb2-a06e11ef0d6b"
      },
      "execution_count": null,
      "outputs": [
        {
          "output_type": "stream",
          "name": "stdout",
          "text": [
            "Collecting catboost\n",
            "  Downloading catboost-1.2.2-cp310-cp310-manylinux2014_x86_64.whl (98.7 MB)\n",
            "\u001b[2K     \u001b[90m━━━━━━━━━━━━━━━━━━━━━━━━━━━━━━━━━━━━━━━━\u001b[0m \u001b[32m98.7/98.7 MB\u001b[0m \u001b[31m8.2 MB/s\u001b[0m eta \u001b[36m0:00:00\u001b[0m\n",
            "\u001b[?25hRequirement already satisfied: graphviz in /usr/local/lib/python3.10/dist-packages (from catboost) (0.20.1)\n",
            "Requirement already satisfied: matplotlib in /usr/local/lib/python3.10/dist-packages (from catboost) (3.7.1)\n",
            "Requirement already satisfied: numpy>=1.16.0 in /usr/local/lib/python3.10/dist-packages (from catboost) (1.23.5)\n",
            "Requirement already satisfied: pandas>=0.24 in /usr/local/lib/python3.10/dist-packages (from catboost) (1.5.3)\n",
            "Requirement already satisfied: scipy in /usr/local/lib/python3.10/dist-packages (from catboost) (1.11.4)\n",
            "Requirement already satisfied: plotly in /usr/local/lib/python3.10/dist-packages (from catboost) (5.15.0)\n",
            "Requirement already satisfied: six in /usr/local/lib/python3.10/dist-packages (from catboost) (1.16.0)\n",
            "Requirement already satisfied: python-dateutil>=2.8.1 in /usr/local/lib/python3.10/dist-packages (from pandas>=0.24->catboost) (2.8.2)\n",
            "Requirement already satisfied: pytz>=2020.1 in /usr/local/lib/python3.10/dist-packages (from pandas>=0.24->catboost) (2023.3.post1)\n",
            "Requirement already satisfied: contourpy>=1.0.1 in /usr/local/lib/python3.10/dist-packages (from matplotlib->catboost) (1.2.0)\n",
            "Requirement already satisfied: cycler>=0.10 in /usr/local/lib/python3.10/dist-packages (from matplotlib->catboost) (0.12.1)\n",
            "Requirement already satisfied: fonttools>=4.22.0 in /usr/local/lib/python3.10/dist-packages (from matplotlib->catboost) (4.46.0)\n",
            "Requirement already satisfied: kiwisolver>=1.0.1 in /usr/local/lib/python3.10/dist-packages (from matplotlib->catboost) (1.4.5)\n",
            "Requirement already satisfied: packaging>=20.0 in /usr/local/lib/python3.10/dist-packages (from matplotlib->catboost) (23.2)\n",
            "Requirement already satisfied: pillow>=6.2.0 in /usr/local/lib/python3.10/dist-packages (from matplotlib->catboost) (9.4.0)\n",
            "Requirement already satisfied: pyparsing>=2.3.1 in /usr/local/lib/python3.10/dist-packages (from matplotlib->catboost) (3.1.1)\n",
            "Requirement already satisfied: tenacity>=6.2.0 in /usr/local/lib/python3.10/dist-packages (from plotly->catboost) (8.2.3)\n",
            "Installing collected packages: catboost\n",
            "Successfully installed catboost-1.2.2\n"
          ]
        }
      ]
    },
    {
      "cell_type": "code",
      "source": [
        "from sklearn.ensemble import RandomForestClassifier\n",
        "from xgboost import XGBClassifier\n",
        "from lightgbm import LGBMClassifier\n",
        "from catboost import CatBoostClassifier\n",
        "from sklearn.ensemble import StackingClassifier\n",
        "from sklearn.model_selection import train_test_split\n",
        "from sklearn.metrics import accuracy_score, f1_score, precision_score, recall_score, confusion_matrix\n",
        "from sklearn.model_selection import KFold\n",
        "from sklearn.model_selection import cross_val_score, cross_val_predict\n",
        "from sklearn.metrics import matthews_corrcoef"
      ],
      "metadata": {
        "id": "GsTt3G3j8N3E"
      },
      "execution_count": null,
      "outputs": []
    },
    {
      "cell_type": "code",
      "source": [
        "df_tr = pd.read_csv('/content/AAC Training.csv')\n",
        "df_ts = pd.read_csv('/content/AAC testing.csv')"
      ],
      "metadata": {
        "id": "ZXwa4LHk8q-7"
      },
      "execution_count": null,
      "outputs": []
    },
    {
      "cell_type": "code",
      "source": [
        "columns = df_tr.columns.tolist()\n",
        "columns = [c for c in columns if c not in ['Target']]\n",
        "target = 'Target'\n",
        "xtrain = df_tr[columns]\n",
        "ytrain = df_tr[target]"
      ],
      "metadata": {
        "id": "wj2nndOt87wW"
      },
      "execution_count": null,
      "outputs": []
    },
    {
      "cell_type": "code",
      "source": [
        "columns = df_ts.columns.tolist()\n",
        "columns = [c for c in columns if c not in ['Target']]\n",
        "target = 'Target'\n",
        "xtest = df_ts[columns]\n",
        "ytest = df_ts[target]"
      ],
      "metadata": {
        "id": "iNjNxTMe9EdD"
      },
      "execution_count": null,
      "outputs": []
    },
    {
      "cell_type": "markdown",
      "source": [
        "**Cross Valadiation**"
      ],
      "metadata": {
        "id": "UDK9QomH-EJc"
      }
    },
    {
      "cell_type": "code",
      "source": [
        "cv = KFold(n_splits=5, random_state=1, shuffle=True)"
      ],
      "metadata": {
        "id": "QUU4L6P69OhB"
      },
      "execution_count": null,
      "outputs": []
    },
    {
      "cell_type": "markdown",
      "source": [
        "algorithm define : **Random Forest**"
      ],
      "metadata": {
        "id": "J3x6b1r0Hjmg"
      }
    },
    {
      "cell_type": "code",
      "source": [
        "model = RandomForestClassifier(n_estimators = 500, max_depth = 50)"
      ],
      "metadata": {
        "id": "cXfxYhS59cRK"
      },
      "execution_count": null,
      "outputs": []
    },
    {
      "cell_type": "code",
      "source": [
        "pred = cross_val_predict(model, xtrain, ytrain, cv=cv, n_jobs=-1)"
      ],
      "metadata": {
        "id": "1kZyX4IK9lo_"
      },
      "execution_count": null,
      "outputs": []
    },
    {
      "cell_type": "code",
      "source": [
        "# accuracy_score(ytrain,pred), precision_score(ytrain, pred), recall_score(ytrain, pred), f1_score(ytrain, pred)"
      ],
      "metadata": {
        "colab": {
          "base_uri": "https://localhost:8080/"
        },
        "id": "e7JuJOpg91Iz",
        "outputId": "a85c5c40-99d8-4b9a-d710-17d9df66b8ea"
      },
      "execution_count": null,
      "outputs": [
        {
          "output_type": "execute_result",
          "data": {
            "text/plain": [
              "(0.9304750869061413,\n",
              " 0.9041769041769042,\n",
              " 0.9460154241645244,\n",
              " 0.9246231155778896)"
            ]
          },
          "metadata": {},
          "execution_count": 10
        }
      ]
    },
    {
      "cell_type": "code",
      "source": [
        "mcc = matthews_corrcoef(ytrain, pred)\n",
        "mcc"
      ],
      "metadata": {
        "colab": {
          "base_uri": "https://localhost:8080/"
        },
        "id": "7NO5_yOoHGA7",
        "outputId": "7106d826-e5e3-47ea-f687-5c56b373e288"
      },
      "execution_count": null,
      "outputs": [
        {
          "output_type": "execute_result",
          "data": {
            "text/plain": [
              "0.8660902840599802"
            ]
          },
          "metadata": {},
          "execution_count": 10
        }
      ]
    },
    {
      "cell_type": "code",
      "source": [
        "cm = confusion_matrix(ytrain,pred)"
      ],
      "metadata": {
        "id": "Z-jieOmjB4xZ"
      },
      "execution_count": null,
      "outputs": []
    },
    {
      "cell_type": "code",
      "source": [
        "cm"
      ],
      "metadata": {
        "colab": {
          "base_uri": "https://localhost:8080/"
        },
        "id": "vIFdEoY8O3QW",
        "outputId": "7e696b08-9c05-4afe-c146-cfbdcfab80d5"
      },
      "execution_count": null,
      "outputs": [
        {
          "output_type": "execute_result",
          "data": {
            "text/plain": [
              "array([[1305,  117],\n",
              "       [  63, 1104]])"
            ]
          },
          "metadata": {},
          "execution_count": 12
        }
      ]
    },
    {
      "cell_type": "code",
      "source": [
        "# True Positives (TP)\n",
        "tp = cm[1, 1]\n",
        "\n",
        "# True Negatives (TN)\n",
        "tn = cm[0, 0]\n",
        "\n",
        "# False Positives (FP)\n",
        "fp = cm[0, 1]\n",
        "\n",
        "# False Negatives (FN)\n",
        "fn = cm[1, 0]\n",
        "\n",
        "# Sensitivity (True Positive Rate or Recall)\n",
        "sensitivity = tp / (tp + fn)\n",
        "\n",
        "# Specificity (True Negative Rate)\n",
        "specificity = tn / (tn + fp)\n",
        "\n",
        "print(\"Sensitivity:\", sensitivity)\n",
        "print(\"Specificity:\", specificity)"
      ],
      "metadata": {
        "colab": {
          "base_uri": "https://localhost:8080/"
        },
        "id": "PpADF6t2OoIq",
        "outputId": "9687bbd4-9b73-489b-fa99-cd534ac5fef7"
      },
      "execution_count": null,
      "outputs": [
        {
          "output_type": "stream",
          "name": "stdout",
          "text": [
            "Sensitivity: 0.9460154241645244\n",
            "Specificity: 0.9177215189873418\n"
          ]
        }
      ]
    },
    {
      "cell_type": "code",
      "source": [
        "plt.figure(figsize=(4, 3))\n",
        "sns.set(font_scale=1.2)\n",
        "sns.heatmap(cm, annot=True, fmt='d', cmap='Blues', annot_kws={\"size\": 16}, cbar=False)\n",
        "plt.xlabel('Predicted')\n",
        "plt.ylabel('True')\n",
        "plt.title('Confusion Matrix')\n",
        "plt.show()"
      ],
      "metadata": {
        "colab": {
          "base_uri": "https://localhost:8080/",
          "height": 347
        },
        "id": "_UeBb_t3Qpvr",
        "outputId": "d33a3649-8870-4114-b8c3-3bc3944c7d16"
      },
      "execution_count": null,
      "outputs": [
        {
          "output_type": "display_data",
          "data": {
            "text/plain": [
              "<Figure size 400x300 with 1 Axes>"
            ],
            "image/png": "[encoded data removed]"
          },
          "metadata": {}
        }
      ]
    },
    {
      "cell_type": "markdown",
      "source": [
        "**Independent Test**"
      ],
      "metadata": {
        "id": "482WRLy2-JFm"
      }
    },
    {
      "cell_type": "code",
      "source": [
        "model.fit(xtrain, ytrain)"
      ],
      "metadata": {
        "colab": {
          "base_uri": "https://localhost:8080/",
          "height": 75
        },
        "id": "o9lh2TH5-NUW",
        "outputId": "9c7a8cfa-03dd-46be-a5fa-c2c695845e5d"
      },
      "execution_count": null,
      "outputs": [
        {
          "output_type": "execute_result",
          "data": {
            "text/plain": [
              "RandomForestClassifier(max_depth=50, n_estimators=500)"
            ],
            "text/html": [
              "<style>#sk-container-id-1 {color: black;background-color: white;}#sk-container-id-1 pre{padding: 0;}#sk-container-id-1 div.sk-toggleable {background-color: white;}#sk-container-id-1 label.sk-toggleable__label {cursor: pointer;display: block;width: 100%;margin-bottom: 0;padding: 0.3em;box-sizing: border-box;text-align: center;}#sk-container-id-1 label.sk-toggleable__label-arrow:before {content: \"▸\";float: left;margin-right: 0.25em;color: #696969;}#sk-container-id-1 label.sk-toggleable__label-arrow:hover:before {color: black;}#sk-container-id-1 div.sk-estimator:hover label.sk-toggleable__label-arrow:before {color: black;}#sk-container-id-1 div.sk-toggleable__content {max-height: 0;max-width: 0;overflow: hidden;text-align: left;background-color: #f0f8ff;}#sk-container-id-1 div.sk-toggleable__content pre {margin: 0.2em;color: black;border-radius: 0.25em;background-color: #f0f8ff;}#sk-container-id-1 input.sk-toggleable__control:checked~div.sk-toggleable__content {max-height: 200px;max-width: 100%;overflow: auto;}#sk-container-id-1 input.sk-toggleable__control:checked~label.sk-toggleable__label-arrow:before {content: \"▾\";}#sk-container-id-1 div.sk-estimator input.sk-toggleable__control:checked~label.sk-toggleable__label {background-color: #d4ebff;}#sk-container-id-1 div.sk-label input.sk-toggleable__control:checked~label.sk-toggleable__label {background-color: #d4ebff;}#sk-container-id-1 input.sk-hidden--visually {border: 0;clip: rect(1px 1px 1px 1px);clip: rect(1px, 1px, 1px, 1px);height: 1px;margin: -1px;overflow: hidden;padding: 0;position: absolute;width: 1px;}#sk-container-id-1 div.sk-estimator {font-family: monospace;background-color: #f0f8ff;border: 1px dotted black;border-radius: 0.25em;box-sizing: border-box;margin-bottom: 0.5em;}#sk-container-id-1 div.sk-estimator:hover {background-color: #d4ebff;}#sk-container-id-1 div.sk-parallel-item::after {content: \"\";width: 100%;border-bottom: 1px solid gray;flex-grow: 1;}#sk-container-id-1 div.sk-label:hover label.sk-toggleable__label {background-color: #d4ebff;}#sk-container-id-1 div.sk-serial::before {content: \"\";position: absolute;border-left: 1px solid gray;box-sizing: border-box;top: 0;bottom: 0;left: 50%;z-index: 0;}#sk-container-id-1 div.sk-serial {display: flex;flex-direction: column;align-items: center;background-color: white;padding-right: 0.2em;padding-left: 0.2em;position: relative;}#sk-container-id-1 div.sk-item {position: relative;z-index: 1;}#sk-container-id-1 div.sk-parallel {display: flex;align-items: stretch;justify-content: center;background-color: white;position: relative;}#sk-container-id-1 div.sk-item::before, #sk-container-id-1 div.sk-parallel-item::before {content: \"\";position: absolute;border-left: 1px solid gray;box-sizing: border-box;top: 0;bottom: 0;left: 50%;z-index: -1;}#sk-container-id-1 div.sk-parallel-item {display: flex;flex-direction: column;z-index: 1;position: relative;background-color: white;}#sk-container-id-1 div.sk-parallel-item:first-child::after {align-self: flex-end;width: 50%;}#sk-container-id-1 div.sk-parallel-item:last-child::after {align-self: flex-start;width: 50%;}#sk-container-id-1 div.sk-parallel-item:only-child::after {width: 0;}#sk-container-id-1 div.sk-dashed-wrapped {border: 1px dashed gray;margin: 0 0.4em 0.5em 0.4em;box-sizing: border-box;padding-bottom: 0.4em;background-color: white;}#sk-container-id-1 div.sk-label label {font-family: monospace;font-weight: bold;display: inline-block;line-height: 1.2em;}#sk-container-id-1 div.sk-label-container {text-align: center;}#sk-container-id-1 div.sk-container {/* jupyter's `normalize.less` sets `[hidden] { display: none; }` but bootstrap.min.css set `[hidden] { display: none !important; }` so we also need the `!important` here to be able to override the default hidden behavior on the sphinx rendered scikit-learn.org. See: https://github.com/scikit-learn/scikit-learn/issues/21755 */display: inline-block !important;position: relative;}#sk-container-id-1 div.sk-text-repr-fallback {display: none;}</style><div id=\"sk-container-id-1\" class=\"sk-top-container\"><div class=\"sk-text-repr-fallback\"><pre>RandomForestClassifier(max_depth=50, n_estimators=500)</pre><b>In a Jupyter environment, please rerun this cell to show the HTML representation or trust the notebook. <br />On GitHub, the HTML representation is unable to render, please try loading this page with nbviewer.org.</b></div><div class=\"sk-container\" hidden><div class=\"sk-item\"><div class=\"sk-estimator sk-toggleable\"><input class=\"sk-toggleable__control sk-hidden--visually\" id=\"sk-estimator-id-1\" type=\"checkbox\" checked><label for=\"sk-estimator-id-1\" class=\"sk-toggleable__label sk-toggleable__label-arrow\">RandomForestClassifier</label><div class=\"sk-toggleable__content\"><pre>RandomForestClassifier(max_depth=50, n_estimators=500)</pre></div></div></div></div></div>"
            ]
          },
          "metadata": {},
          "execution_count": 11
        }
      ]
    },
    {
      "cell_type": "code",
      "source": [
        "pred = model.predict(xtest)"
      ],
      "metadata": {
        "id": "Fxz2HxrK-UmI"
      },
      "execution_count": null,
      "outputs": []
    },
    {
      "cell_type": "code",
      "source": [
        "accuracy_score(ytest,pred), precision_score(ytest, pred), recall_score(ytest, pred), f1_score(ytest, pred)"
      ],
      "metadata": {
        "colab": {
          "base_uri": "https://localhost:8080/"
        },
        "id": "VbO4vfmz-aCQ",
        "outputId": "30806b06-a14e-4aeb-8d9a-19a38517c757"
      },
      "execution_count": null,
      "outputs": [
        {
          "output_type": "execute_result",
          "data": {
            "text/plain": [
              "(0.9730769230769231, 0.948905109489051, 1.0, 0.9737827715355805)"
            ]
          },
          "metadata": {},
          "execution_count": 17
        }
      ]
    },
    {
      "cell_type": "code",
      "source": [
        "mcc = matthews_corrcoef(ytest, pred)\n",
        "mcc"
      ],
      "metadata": {
        "colab": {
          "base_uri": "https://localhost:8080/"
        },
        "id": "h-9iUffjISHh",
        "outputId": "4f473116-4c1c-498f-eff0-d3ab4479ed1a"
      },
      "execution_count": null,
      "outputs": [
        {
          "output_type": "execute_result",
          "data": {
            "text/plain": [
              "0.9330078226479681"
            ]
          },
          "metadata": {},
          "execution_count": 15
        }
      ]
    },
    {
      "cell_type": "code",
      "source": [
        "cm=confusion_matrix(ytest,pred)"
      ],
      "metadata": {
        "id": "NhyWAysPCLhd"
      },
      "execution_count": null,
      "outputs": []
    },
    {
      "cell_type": "code",
      "source": [
        "cm"
      ],
      "metadata": {
        "colab": {
          "base_uri": "https://localhost:8080/"
        },
        "id": "WI3lOl95R2pT",
        "outputId": "18e5eb11-64c0-4536-ea96-01b73d8b5ab0"
      },
      "execution_count": null,
      "outputs": [
        {
          "output_type": "execute_result",
          "data": {
            "text/plain": [
              "array([[123,   7],\n",
              "       [  0, 130]])"
            ]
          },
          "metadata": {},
          "execution_count": 19
        }
      ]
    },
    {
      "cell_type": "code",
      "source": [
        "# True Positives (TP)\n",
        "tp = cm[1, 1]\n",
        "\n",
        "# True Negatives (TN)\n",
        "tn = cm[0, 0]\n",
        "\n",
        "# False Positives (FP)\n",
        "fp = cm[0, 1]\n",
        "\n",
        "# False Negatives (FN)\n",
        "fn = cm[1, 0]\n",
        "\n",
        "# Sensitivity (True Positive Rate or Recall)\n",
        "sensitivity = tp / (tp + fn)\n",
        "\n",
        "# Specificity (True Negative Rate)\n",
        "specificity = tn / (tn + fp)\n",
        "\n",
        "print(\"Sensitivity:\", sensitivity)\n",
        "print(\"Specificity:\", specificity)"
      ],
      "metadata": {
        "colab": {
          "base_uri": "https://localhost:8080/"
        },
        "outputId": "0bb5aa8f-df12-48b5-cf01-1c51f5377245",
        "id": "JCdmO2fIRbAa"
      },
      "execution_count": null,
      "outputs": [
        {
          "output_type": "stream",
          "name": "stdout",
          "text": [
            "Sensitivity: 1.0\n",
            "Specificity: 0.9461538461538461\n"
          ]
        }
      ]
    },
    {
      "cell_type": "code",
      "source": [
        "plt.figure(figsize=(4, 3))\n",
        "sns.set(font_scale=1.2)\n",
        "sns.heatmap(cm, annot=True, fmt='d', cmap='Blues', annot_kws={\"size\": 16}, cbar=False)\n",
        "plt.xlabel('Predicted')\n",
        "plt.ylabel('True')\n",
        "plt.title('Confusion Matrix')\n",
        "plt.show()"
      ],
      "metadata": {
        "colab": {
          "base_uri": "https://localhost:8080/",
          "height": 347
        },
        "outputId": "66a89fce-dfb9-4ed5-c582-14a6fba98e95",
        "id": "DIY_Gmv5SAHX"
      },
      "execution_count": null,
      "outputs": [
        {
          "output_type": "display_data",
          "data": {
            "text/plain": [
              "<Figure size 400x300 with 1 Axes>"
            ],
            "image/png": "[encoded data removed]"
          },
          "metadata": {}
        }
      ]
    },
    {
      "cell_type": "markdown",
      "source": [
        "xb booster"
      ],
      "metadata": {
        "id": "FzcgpfXueoCF"
      }
    },
    {
      "cell_type": "code",
      "source": [
        "model = XGBClassifier(n_estimators = 500,max_depth = 7, base_score = 0.88, learning_rate = 0.2)\n"
      ],
      "metadata": {
        "id": "0qvw83Ocer5M"
      },
      "execution_count": null,
      "outputs": []
    },
    {
      "cell_type": "code",
      "source": [
        "pred = cross_val_predict(model, xtrain, ytrain, cv=cv, n_jobs=-1)"
      ],
      "metadata": {
        "id": "tp8Q-UP_fCq8"
      },
      "execution_count": null,
      "outputs": []
    },
    {
      "cell_type": "markdown",
      "source": [
        "Cross Valadiation"
      ],
      "metadata": {
        "id": "trc_2wW-gir7"
      }
    },
    {
      "cell_type": "code",
      "source": [
        "accuracy_score(ytrain,pred), precision_score(ytrain, pred), recall_score(ytrain, pred), f1_score(ytrain, pred)"
      ],
      "metadata": {
        "colab": {
          "base_uri": "https://localhost:8080/"
        },
        "id": "_EDAEH8XfJOn",
        "outputId": "7dfabdec-faea-4d58-ab17-e2ae91ceba77"
      },
      "execution_count": null,
      "outputs": [
        {
          "output_type": "execute_result",
          "data": {
            "text/plain": [
              "(0.9304750869061413, 0.8976631748589847, 0.9545844044558698, 0.925249169435216)"
            ]
          },
          "metadata": {},
          "execution_count": 24
        }
      ]
    },
    {
      "cell_type": "code",
      "source": [
        "mcc = matthews_corrcoef(ytrain, pred)\n",
        "mcc"
      ],
      "metadata": {
        "colab": {
          "base_uri": "https://localhost:8080/"
        },
        "id": "DMyZdy3OIg75",
        "outputId": "5fa10ea1-342f-4648-b711-ede14350508c"
      },
      "execution_count": null,
      "outputs": [
        {
          "output_type": "execute_result",
          "data": {
            "text/plain": [
              "0.8610749653069627"
            ]
          },
          "metadata": {},
          "execution_count": 18
        }
      ]
    },
    {
      "cell_type": "code",
      "source": [
        "cm = confusion_matrix(ytrain,pred)"
      ],
      "metadata": {
        "id": "60ANTFaNiQSB"
      },
      "execution_count": null,
      "outputs": []
    },
    {
      "cell_type": "code",
      "source": [
        "cm"
      ],
      "metadata": {
        "colab": {
          "base_uri": "https://localhost:8080/"
        },
        "id": "IBHD-59bSgsB",
        "outputId": "1f90fb85-3d7d-484b-ff30-53a6ba359009"
      },
      "execution_count": null,
      "outputs": [
        {
          "output_type": "execute_result",
          "data": {
            "text/plain": [
              "array([[1295,  127],\n",
              "       [  53, 1114]])"
            ]
          },
          "metadata": {},
          "execution_count": 26
        }
      ]
    },
    {
      "cell_type": "code",
      "source": [
        "# True Positives (TP)\n",
        "tp = cm[1, 1]\n",
        "\n",
        "# True Negatives (TN)\n",
        "tn = cm[0, 0]\n",
        "\n",
        "# False Positives (FP)\n",
        "fp = cm[0, 1]\n",
        "\n",
        "# False Negatives (FN)\n",
        "fn = cm[1, 0]\n",
        "\n",
        "# Sensitivity (True Positive Rate or Recall)\n",
        "sensitivity = tp / (tp + fn)\n",
        "\n",
        "# Specificity (True Negative Rate)\n",
        "specificity = tn / (tn + fp)\n",
        "\n",
        "print(\"Sensitivity:\", sensitivity)\n",
        "print(\"Specificity:\", specificity)"
      ],
      "metadata": {
        "colab": {
          "base_uri": "https://localhost:8080/"
        },
        "id": "1JZDqCuoSivt",
        "outputId": "dca78684-ecf7-43c9-a9fa-1bcfa5ed67e5"
      },
      "execution_count": null,
      "outputs": [
        {
          "output_type": "stream",
          "name": "stdout",
          "text": [
            "Sensitivity: 0.9545844044558698\n",
            "Specificity: 0.9106891701828411\n"
          ]
        }
      ]
    },
    {
      "cell_type": "code",
      "source": [
        "plt.figure(figsize=(4, 3))\n",
        "sns.set(font_scale=1.2)\n",
        "sns.heatmap(cm, annot=True, fmt='d', cmap='Blues', annot_kws={\"size\": 16}, cbar=False)\n",
        "plt.xlabel('Predicted')\n",
        "plt.ylabel('True')\n",
        "plt.title('Confusion Matrix')\n",
        "plt.show()"
      ],
      "metadata": {
        "colab": {
          "base_uri": "https://localhost:8080/",
          "height": 347
        },
        "id": "I-O25x72Sn41",
        "outputId": "f1e9f988-c526-4f2b-c8ee-d4f77b6f1d2d"
      },
      "execution_count": null,
      "outputs": [
        {
          "output_type": "display_data",
          "data": {
            "text/plain": [
              "<Figure size 400x300 with 1 Axes>"
            ],
            "image/png": "[encoded data removed]"
          },
          "metadata": {}
        }
      ]
    },
    {
      "cell_type": "markdown",
      "source": [
        "indipendent test"
      ],
      "metadata": {
        "id": "hvLiCdEQgfx3"
      }
    },
    {
      "cell_type": "code",
      "source": [
        "model.fit(xtrain, ytrain)"
      ],
      "metadata": {
        "colab": {
          "base_uri": "https://localhost:8080/",
          "height": 248
        },
        "id": "VNZez6znfLYM",
        "outputId": "786c0a9a-f203-49e3-b333-7c5b3742b483"
      },
      "execution_count": null,
      "outputs": [
        {
          "output_type": "execute_result",
          "data": {
            "text/plain": [
              "XGBClassifier(base_score=0.88, booster=None, callbacks=None,\n",
              "              colsample_bylevel=None, colsample_bynode=None,\n",
              "              colsample_bytree=None, device=None, early_stopping_rounds=None,\n",
              "              enable_categorical=False, eval_metric=None, feature_types=None,\n",
              "              gamma=None, grow_policy=None, importance_type=None,\n",
              "              interaction_constraints=None, learning_rate=0.2, max_bin=None,\n",
              "              max_cat_threshold=None, max_cat_to_onehot=None,\n",
              "              max_delta_step=None, max_depth=7, max_leaves=None,\n",
              "              min_child_weight=None, missing=nan, monotone_constraints=None,\n",
              "              multi_strategy=None, n_estimators=500, n_jobs=None,\n",
              "              num_parallel_tree=None, random_state=None, ...)"
            ],
            "text/html": [
              "<style>#sk-container-id-2 {color: black;background-color: white;}#sk-container-id-2 pre{padding: 0;}#sk-container-id-2 div.sk-toggleable {background-color: white;}#sk-container-id-2 label.sk-toggleable__label {cursor: pointer;display: block;width: 100%;margin-bottom: 0;padding: 0.3em;box-sizing: border-box;text-align: center;}#sk-container-id-2 label.sk-toggleable__label-arrow:before {content: \"▸\";float: left;margin-right: 0.25em;color: #696969;}#sk-container-id-2 label.sk-toggleable__label-arrow:hover:before {color: black;}#sk-container-id-2 div.sk-estimator:hover label.sk-toggleable__label-arrow:before {color: black;}#sk-container-id-2 div.sk-toggleable__content {max-height: 0;max-width: 0;overflow: hidden;text-align: left;background-color: #f0f8ff;}#sk-container-id-2 div.sk-toggleable__content pre {margin: 0.2em;color: black;border-radius: 0.25em;background-color: #f0f8ff;}#sk-container-id-2 input.sk-toggleable__control:checked~div.sk-toggleable__content {max-height: 200px;max-width: 100%;overflow: auto;}#sk-container-id-2 input.sk-toggleable__control:checked~label.sk-toggleable__label-arrow:before {content: \"▾\";}#sk-container-id-2 div.sk-estimator input.sk-toggleable__control:checked~label.sk-toggleable__label {background-color: #d4ebff;}#sk-container-id-2 div.sk-label input.sk-toggleable__control:checked~label.sk-toggleable__label {background-color: #d4ebff;}#sk-container-id-2 input.sk-hidden--visually {border: 0;clip: rect(1px 1px 1px 1px);clip: rect(1px, 1px, 1px, 1px);height: 1px;margin: -1px;overflow: hidden;padding: 0;position: absolute;width: 1px;}#sk-container-id-2 div.sk-estimator {font-family: monospace;background-color: #f0f8ff;border: 1px dotted black;border-radius: 0.25em;box-sizing: border-box;margin-bottom: 0.5em;}#sk-container-id-2 div.sk-estimator:hover {background-color: #d4ebff;}#sk-container-id-2 div.sk-parallel-item::after {content: \"\";width: 100%;border-bottom: 1px solid gray;flex-grow: 1;}#sk-container-id-2 div.sk-label:hover label.sk-toggleable__label {background-color: #d4ebff;}#sk-container-id-2 div.sk-serial::before {content: \"\";position: absolute;border-left: 1px solid gray;box-sizing: border-box;top: 0;bottom: 0;left: 50%;z-index: 0;}#sk-container-id-2 div.sk-serial {display: flex;flex-direction: column;align-items: center;background-color: white;padding-right: 0.2em;padding-left: 0.2em;position: relative;}#sk-container-id-2 div.sk-item {position: relative;z-index: 1;}#sk-container-id-2 div.sk-parallel {display: flex;align-items: stretch;justify-content: center;background-color: white;position: relative;}#sk-container-id-2 div.sk-item::before, #sk-container-id-2 div.sk-parallel-item::before {content: \"\";position: absolute;border-left: 1px solid gray;box-sizing: border-box;top: 0;bottom: 0;left: 50%;z-index: -1;}#sk-container-id-2 div.sk-parallel-item {display: flex;flex-direction: column;z-index: 1;position: relative;background-color: white;}#sk-container-id-2 div.sk-parallel-item:first-child::after {align-self: flex-end;width: 50%;}#sk-container-id-2 div.sk-parallel-item:last-child::after {align-self: flex-start;width: 50%;}#sk-container-id-2 div.sk-parallel-item:only-child::after {width: 0;}#sk-container-id-2 div.sk-dashed-wrapped {border: 1px dashed gray;margin: 0 0.4em 0.5em 0.4em;box-sizing: border-box;padding-bottom: 0.4em;background-color: white;}#sk-container-id-2 div.sk-label label {font-family: monospace;font-weight: bold;display: inline-block;line-height: 1.2em;}#sk-container-id-2 div.sk-label-container {text-align: center;}#sk-container-id-2 div.sk-container {/* jupyter's `normalize.less` sets `[hidden] { display: none; }` but bootstrap.min.css set `[hidden] { display: none !important; }` so we also need the `!important` here to be able to override the default hidden behavior on the sphinx rendered scikit-learn.org. See: https://github.com/scikit-learn/scikit-learn/issues/21755 */display: inline-block !important;position: relative;}#sk-container-id-2 div.sk-text-repr-fallback {display: none;}</style><div id=\"sk-container-id-2\" class=\"sk-top-container\"><div class=\"sk-text-repr-fallback\"><pre>XGBClassifier(base_score=0.88, booster=None, callbacks=None,\n",
              "              colsample_bylevel=None, colsample_bynode=None,\n",
              "              colsample_bytree=None, device=None, early_stopping_rounds=None,\n",
              "              enable_categorical=False, eval_metric=None, feature_types=None,\n",
              "              gamma=None, grow_policy=None, importance_type=None,\n",
              "              interaction_constraints=None, learning_rate=0.2, max_bin=None,\n",
              "              max_cat_threshold=None, max_cat_to_onehot=None,\n",
              "              max_delta_step=None, max_depth=7, max_leaves=None,\n",
              "              min_child_weight=None, missing=nan, monotone_constraints=None,\n",
              "              multi_strategy=None, n_estimators=500, n_jobs=None,\n",
              "              num_parallel_tree=None, random_state=None, ...)</pre><b>In a Jupyter environment, please rerun this cell to show the HTML representation or trust the notebook. <br />On GitHub, the HTML representation is unable to render, please try loading this page with nbviewer.org.</b></div><div class=\"sk-container\" hidden><div class=\"sk-item\"><div class=\"sk-estimator sk-toggleable\"><input class=\"sk-toggleable__control sk-hidden--visually\" id=\"sk-estimator-id-2\" type=\"checkbox\" checked><label for=\"sk-estimator-id-2\" class=\"sk-toggleable__label sk-toggleable__label-arrow\">XGBClassifier</label><div class=\"sk-toggleable__content\"><pre>XGBClassifier(base_score=0.88, booster=None, callbacks=None,\n",
              "              colsample_bylevel=None, colsample_bynode=None,\n",
              "              colsample_bytree=None, device=None, early_stopping_rounds=None,\n",
              "              enable_categorical=False, eval_metric=None, feature_types=None,\n",
              "              gamma=None, grow_policy=None, importance_type=None,\n",
              "              interaction_constraints=None, learning_rate=0.2, max_bin=None,\n",
              "              max_cat_threshold=None, max_cat_to_onehot=None,\n",
              "              max_delta_step=None, max_depth=7, max_leaves=None,\n",
              "              min_child_weight=None, missing=nan, monotone_constraints=None,\n",
              "              multi_strategy=None, n_estimators=500, n_jobs=None,\n",
              "              num_parallel_tree=None, random_state=None, ...)</pre></div></div></div></div></div>"
            ]
          },
          "metadata": {},
          "execution_count": 24
        }
      ]
    },
    {
      "cell_type": "code",
      "source": [
        "pred = model.predict(xtest)"
      ],
      "metadata": {
        "id": "ME5IKMTyhSBH"
      },
      "execution_count": null,
      "outputs": []
    },
    {
      "cell_type": "code",
      "source": [
        "accuracy_score(ytest,pred), precision_score(ytest, pred), recall_score(ytest, pred), f1_score(ytest, pred)"
      ],
      "metadata": {
        "colab": {
          "base_uri": "https://localhost:8080/"
        },
        "id": "vqn8dIedhYzv",
        "outputId": "aeb5c04d-b072-4504-ea38-e7d26d0eb528"
      },
      "execution_count": null,
      "outputs": [
        {
          "output_type": "execute_result",
          "data": {
            "text/plain": [
              "(0.9692307692307692, 0.9420289855072463, 1.0, 0.9701492537313433)"
            ]
          },
          "metadata": {},
          "execution_count": 26
        }
      ]
    },
    {
      "cell_type": "code",
      "source": [
        "mcc = matthews_corrcoef( ytest, pred)\n",
        "mcc"
      ],
      "metadata": {
        "colab": {
          "base_uri": "https://localhost:8080/"
        },
        "id": "9n9p2KRYImCn",
        "outputId": "e97475f9-e256-4012-ebde-6ca3c4986cbd"
      },
      "execution_count": null,
      "outputs": [
        {
          "output_type": "execute_result",
          "data": {
            "text/plain": [
              "0.9402435700468751"
            ]
          },
          "metadata": {},
          "execution_count": 27
        }
      ]
    },
    {
      "cell_type": "code",
      "source": [
        "cm = confusion_matrix(ytest,pred)"
      ],
      "metadata": {
        "id": "RoAn0eixhfSR"
      },
      "execution_count": null,
      "outputs": []
    },
    {
      "cell_type": "code",
      "source": [
        "cm"
      ],
      "metadata": {
        "colab": {
          "base_uri": "https://localhost:8080/"
        },
        "id": "tzeh2qzaSKyy",
        "outputId": "a56dddb2-dff3-4214-b273-8cf442052a39"
      },
      "execution_count": null,
      "outputs": [
        {
          "output_type": "execute_result",
          "data": {
            "text/plain": [
              "array([[122,   8],\n",
              "       [  0, 130]])"
            ]
          },
          "metadata": {},
          "execution_count": 33
        }
      ]
    },
    {
      "cell_type": "code",
      "source": [
        "# True Positives (TP)\n",
        "tp = cm[1, 1]\n",
        "\n",
        "# True Negatives (TN)\n",
        "tn = cm[0, 0]\n",
        "\n",
        "# False Positives (FP)\n",
        "fp = cm[0, 1]\n",
        "\n",
        "# False Negatives (FN)\n",
        "fn = cm[1, 0]\n",
        "\n",
        "# Sensitivity (True Positive Rate or Recall)\n",
        "sensitivity = tp / (tp + fn)\n",
        "\n",
        "# Specificity (True Negative Rate)\n",
        "specificity = tn / (tn + fp)\n",
        "\n",
        "print(\"Sensitivity:\", sensitivity)\n",
        "print(\"Specificity:\", specificity)"
      ],
      "metadata": {
        "colab": {
          "base_uri": "https://localhost:8080/"
        },
        "id": "0DgHq-ylSYUv",
        "outputId": "f91443b8-e27c-4876-8bf1-d7a35a5a82cd"
      },
      "execution_count": null,
      "outputs": [
        {
          "output_type": "stream",
          "name": "stdout",
          "text": [
            "Sensitivity: 1.0\n",
            "Specificity: 0.9384615384615385\n"
          ]
        }
      ]
    },
    {
      "cell_type": "code",
      "source": [
        "plt.figure(figsize=(4, 3))\n",
        "sns.set(font_scale=1.2)\n",
        "sns.heatmap(cm, annot=True, fmt='d', cmap='Blues', annot_kws={\"size\": 16}, cbar=False)\n",
        "plt.xlabel('Predicted')\n",
        "plt.ylabel('True')\n",
        "plt.title('Confusion Matrix')\n",
        "plt.show()"
      ],
      "metadata": {
        "colab": {
          "base_uri": "https://localhost:8080/",
          "height": 347
        },
        "outputId": "01af9051-ff10-4eb5-c911-1080ce83744e",
        "id": "DcQKaDLcSLjX"
      },
      "execution_count": null,
      "outputs": [
        {
          "output_type": "display_data",
          "data": {
            "text/plain": [
              "<Figure size 400x300 with 1 Axes>"
            ],
            "image/png": "[encoded data removed]"
          },
          "metadata": {}
        }
      ]
    },
    {
      "cell_type": "markdown",
      "source": [
        "**LGBM**"
      ],
      "metadata": {
        "id": "nCdbfPGnitN-"
      }
    },
    {
      "cell_type": "code",
      "source": [
        "model = LGBMClassifier(max_depth=7, learning_rate=0.5)"
      ],
      "metadata": {
        "id": "WUYaa0Qci9PD"
      },
      "execution_count": null,
      "outputs": []
    },
    {
      "cell_type": "code",
      "source": [
        "pred = cross_val_predict(model, xtrain, ytrain, cv=cv, n_jobs=-1)"
      ],
      "metadata": {
        "id": "Okv-MIVxjMd3"
      },
      "execution_count": null,
      "outputs": []
    },
    {
      "cell_type": "code",
      "source": [
        "accuracy_score(ytrain,pred), precision_score(ytrain, pred), recall_score(ytrain, pred), f1_score(ytrain, pred)"
      ],
      "metadata": {
        "colab": {
          "base_uri": "https://localhost:8080/"
        },
        "id": "eZAdyYHIjP6w",
        "outputId": "8dee7aab-1d27-4fe4-88de-2fc76893cddf"
      },
      "execution_count": null,
      "outputs": [
        {
          "output_type": "execute_result",
          "data": {
            "text/plain": [
              "(0.9308613364233295,\n",
              " 0.8977455716586151,\n",
              " 0.9554413024850043,\n",
              " 0.9256953092569531)"
            ]
          },
          "metadata": {},
          "execution_count": 38
        }
      ]
    },
    {
      "cell_type": "code",
      "source": [
        "mcc = matthews_corrcoef(ytrain, pred)\n",
        "mcc"
      ],
      "metadata": {
        "colab": {
          "base_uri": "https://localhost:8080/"
        },
        "id": "6iG0cN-NJAKm",
        "outputId": "d5764b84-4e5e-4be9-bb02-28687887e8cf"
      },
      "execution_count": null,
      "outputs": [
        {
          "output_type": "execute_result",
          "data": {
            "text/plain": [
              "0.8626287907497491"
            ]
          },
          "metadata": {},
          "execution_count": 30
        }
      ]
    },
    {
      "cell_type": "code",
      "source": [
        "cm = confusion_matrix(ytrain,pred)"
      ],
      "metadata": {
        "id": "Y0qnDujljUYf"
      },
      "execution_count": null,
      "outputs": []
    },
    {
      "cell_type": "code",
      "source": [
        "cm"
      ],
      "metadata": {
        "colab": {
          "base_uri": "https://localhost:8080/"
        },
        "id": "ZEiVAVqbSvNh",
        "outputId": "b88c2a69-ffed-4ae7-d1e3-0dc759937225"
      },
      "execution_count": null,
      "outputs": [
        {
          "output_type": "execute_result",
          "data": {
            "text/plain": [
              "array([[1295,  127],\n",
              "       [  52, 1115]])"
            ]
          },
          "metadata": {},
          "execution_count": 40
        }
      ]
    },
    {
      "cell_type": "code",
      "source": [
        "# True Positives (TP)\n",
        "tp = cm[1, 1]\n",
        "\n",
        "# True Negatives (TN)\n",
        "tn = cm[0, 0]\n",
        "\n",
        "# False Positives (FP)\n",
        "fp = cm[0, 1]\n",
        "\n",
        "# False Negatives (FN)\n",
        "fn = cm[1, 0]\n",
        "\n",
        "# Sensitivity (True Positive Rate or Recall)\n",
        "sensitivity = tp / (tp + fn)\n",
        "\n",
        "# Specificity (True Negative Rate)\n",
        "specificity = tn / (tn + fp)\n",
        "\n",
        "print(\"Sensitivity:\", sensitivity)\n",
        "print(\"Specificity:\", specificity)"
      ],
      "metadata": {
        "colab": {
          "base_uri": "https://localhost:8080/"
        },
        "id": "mmcOXh8hSwg5",
        "outputId": "ed8a46ac-ee4f-476f-a301-ee39316b2512"
      },
      "execution_count": null,
      "outputs": [
        {
          "output_type": "stream",
          "name": "stdout",
          "text": [
            "Sensitivity: 0.9554413024850043\n",
            "Specificity: 0.9106891701828411\n"
          ]
        }
      ]
    },
    {
      "cell_type": "code",
      "source": [
        "plt.figure(figsize=(4, 3))\n",
        "sns.set(font_scale=1.2)\n",
        "sns.heatmap(cm, annot=True, fmt='d', cmap='Blues', annot_kws={\"size\": 16}, cbar=False)\n",
        "plt.xlabel('Predicted')\n",
        "plt.ylabel('True')\n",
        "plt.title('Confusion Matrix')\n",
        "plt.show()"
      ],
      "metadata": {
        "colab": {
          "base_uri": "https://localhost:8080/",
          "height": 347
        },
        "id": "vDdwySJ3S3jD",
        "outputId": "7c290c70-f4ab-401e-c072-0e47a603d590"
      },
      "execution_count": null,
      "outputs": [
        {
          "output_type": "display_data",
          "data": {
            "text/plain": [
              "<Figure size 400x300 with 1 Axes>"
            ],
            "image/png": "[encoded data removed]"
          },
          "metadata": {}
        }
      ]
    },
    {
      "cell_type": "code",
      "source": [
        "model.fit(xtrain, ytrain)"
      ],
      "metadata": {
        "colab": {
          "base_uri": "https://localhost:8080/",
          "height": 1000
        },
        "id": "L1qASeFnjY_K",
        "outputId": "d0f1576b-758e-445f-f530-67b5f8e588f0"
      },
      "execution_count": null,
      "outputs": [
        {
          "output_type": "stream",
          "name": "stdout",
          "text": [
            "[LightGBM] [Warning] Accuracy may be bad since you didn't explicitly set num_leaves OR 2^max_depth > num_leaves. (num_leaves=31).\n",
            "[LightGBM] [Warning] Accuracy may be bad since you didn't explicitly set num_leaves OR 2^max_depth > num_leaves. (num_leaves=31).\n",
            "[LightGBM] [Info] Number of positive: 1167, number of negative: 1422\n",
            "[LightGBM] [Info] Auto-choosing row-wise multi-threading, the overhead of testing was 0.000777 seconds.\n",
            "You can set `force_row_wise=true` to remove the overhead.\n",
            "And if memory is not enough, you can set `force_col_wise=true`.\n",
            "[LightGBM] [Info] Total Bins 821\n",
            "[LightGBM] [Info] Number of data points in the train set: 2589, number of used features: 20\n",
            "[LightGBM] [Info] [binary:BoostFromScore]: pavg=0.450753 -> initscore=-0.197628\n",
            "[LightGBM] [Info] Start training from score -0.197628\n",
            "[LightGBM] [Warning] No further splits with positive gain, best gain: -inf\n",
            "[LightGBM] [Warning] No further splits with positive gain, best gain: -inf\n",
            "[LightGBM] [Warning] No further splits with positive gain, best gain: -inf\n",
            "[LightGBM] [Warning] No further splits with positive gain, best gain: -inf\n",
            "[LightGBM] [Warning] No further splits with positive gain, best gain: -inf\n",
            "[LightGBM] [Warning] No further splits with positive gain, best gain: -inf\n",
            "[LightGBM] [Warning] No further splits with positive gain, best gain: -inf\n",
            "[LightGBM] [Warning] No further splits with positive gain, best gain: -inf\n",
            "[LightGBM] [Warning] No further splits with positive gain, best gain: -inf\n",
            "[LightGBM] [Warning] No further splits with positive gain, best gain: -inf\n",
            "[LightGBM] [Warning] No further splits with positive gain, best gain: -inf\n",
            "[LightGBM] [Warning] No further splits with positive gain, best gain: -inf\n",
            "[LightGBM] [Warning] No further splits with positive gain, best gain: -inf\n",
            "[LightGBM] [Warning] No further splits with positive gain, best gain: -inf\n",
            "[LightGBM] [Warning] No further splits with positive gain, best gain: -inf\n",
            "[LightGBM] [Warning] No further splits with positive gain, best gain: -inf\n",
            "[LightGBM] [Warning] No further splits with positive gain, best gain: -inf\n",
            "[LightGBM] [Warning] No further splits with positive gain, best gain: -inf\n",
            "[LightGBM] [Warning] No further splits with positive gain, best gain: -inf\n",
            "[LightGBM] [Warning] No further splits with positive gain, best gain: -inf\n",
            "[LightGBM] [Warning] No further splits with positive gain, best gain: -inf\n",
            "[LightGBM] [Warning] No further splits with positive gain, best gain: -inf\n",
            "[LightGBM] [Warning] No further splits with positive gain, best gain: -inf\n",
            "[LightGBM] [Warning] No further splits with positive gain, best gain: -inf\n",
            "[LightGBM] [Warning] No further splits with positive gain, best gain: -inf\n",
            "[LightGBM] [Warning] No further splits with positive gain, best gain: -inf\n",
            "[LightGBM] [Warning] No further splits with positive gain, best gain: -inf\n",
            "[LightGBM] [Warning] No further splits with positive gain, best gain: -inf\n",
            "[LightGBM] [Warning] No further splits with positive gain, best gain: -inf\n",
            "[LightGBM] [Warning] No further splits with positive gain, best gain: -inf\n",
            "[LightGBM] [Warning] No further splits with positive gain, best gain: -inf\n",
            "[LightGBM] [Warning] No further splits with positive gain, best gain: -inf\n",
            "[LightGBM] [Warning] No further splits with positive gain, best gain: -inf\n",
            "[LightGBM] [Warning] No further splits with positive gain, best gain: -inf\n",
            "[LightGBM] [Warning] No further splits with positive gain, best gain: -inf\n",
            "[LightGBM] [Warning] No further splits with positive gain, best gain: -inf\n",
            "[LightGBM] [Warning] No further splits with positive gain, best gain: -inf\n",
            "[LightGBM] [Warning] No further splits with positive gain, best gain: -inf\n",
            "[LightGBM] [Warning] No further splits with positive gain, best gain: -inf\n",
            "[LightGBM] [Warning] No further splits with positive gain, best gain: -inf\n",
            "[LightGBM] [Warning] No further splits with positive gain, best gain: -inf\n",
            "[LightGBM] [Warning] No further splits with positive gain, best gain: -inf\n",
            "[LightGBM] [Warning] No further splits with positive gain, best gain: -inf\n",
            "[LightGBM] [Warning] No further splits with positive gain, best gain: -inf\n",
            "[LightGBM] [Warning] No further splits with positive gain, best gain: -inf\n",
            "[LightGBM] [Warning] No further splits with positive gain, best gain: -inf\n",
            "[LightGBM] [Warning] No further splits with positive gain, best gain: -inf\n",
            "[LightGBM] [Warning] No further splits with positive gain, best gain: -inf\n",
            "[LightGBM] [Warning] No further splits with positive gain, best gain: -inf\n",
            "[LightGBM] [Warning] No further splits with positive gain, best gain: -inf\n",
            "[LightGBM] [Warning] No further splits with positive gain, best gain: -inf\n",
            "[LightGBM] [Warning] No further splits with positive gain, best gain: -inf\n",
            "[LightGBM] [Warning] No further splits with positive gain, best gain: -inf\n",
            "[LightGBM] [Warning] No further splits with positive gain, best gain: -inf\n",
            "[LightGBM] [Warning] No further splits with positive gain, best gain: -inf\n"
          ]
        },
        {
          "output_type": "execute_result",
          "data": {
            "text/plain": [
              "LGBMClassifier(learning_rate=0.5, max_depth=7)"
            ],
            "text/html": [
              "<style>#sk-container-id-3 {color: black;background-color: white;}#sk-container-id-3 pre{padding: 0;}#sk-container-id-3 div.sk-toggleable {background-color: white;}#sk-container-id-3 label.sk-toggleable__label {cursor: pointer;display: block;width: 100%;margin-bottom: 0;padding: 0.3em;box-sizing: border-box;text-align: center;}#sk-container-id-3 label.sk-toggleable__label-arrow:before {content: \"▸\";float: left;margin-right: 0.25em;color: #696969;}#sk-container-id-3 label.sk-toggleable__label-arrow:hover:before {color: black;}#sk-container-id-3 div.sk-estimator:hover label.sk-toggleable__label-arrow:before {color: black;}#sk-container-id-3 div.sk-toggleable__content {max-height: 0;max-width: 0;overflow: hidden;text-align: left;background-color: #f0f8ff;}#sk-container-id-3 div.sk-toggleable__content pre {margin: 0.2em;color: black;border-radius: 0.25em;background-color: #f0f8ff;}#sk-container-id-3 input.sk-toggleable__control:checked~div.sk-toggleable__content {max-height: 200px;max-width: 100%;overflow: auto;}#sk-container-id-3 input.sk-toggleable__control:checked~label.sk-toggleable__label-arrow:before {content: \"▾\";}#sk-container-id-3 div.sk-estimator input.sk-toggleable__control:checked~label.sk-toggleable__label {background-color: #d4ebff;}#sk-container-id-3 div.sk-label input.sk-toggleable__control:checked~label.sk-toggleable__label {background-color: #d4ebff;}#sk-container-id-3 input.sk-hidden--visually {border: 0;clip: rect(1px 1px 1px 1px);clip: rect(1px, 1px, 1px, 1px);height: 1px;margin: -1px;overflow: hidden;padding: 0;position: absolute;width: 1px;}#sk-container-id-3 div.sk-estimator {font-family: monospace;background-color: #f0f8ff;border: 1px dotted black;border-radius: 0.25em;box-sizing: border-box;margin-bottom: 0.5em;}#sk-container-id-3 div.sk-estimator:hover {background-color: #d4ebff;}#sk-container-id-3 div.sk-parallel-item::after {content: \"\";width: 100%;border-bottom: 1px solid gray;flex-grow: 1;}#sk-container-id-3 div.sk-label:hover label.sk-toggleable__label {background-color: #d4ebff;}#sk-container-id-3 div.sk-serial::before {content: \"\";position: absolute;border-left: 1px solid gray;box-sizing: border-box;top: 0;bottom: 0;left: 50%;z-index: 0;}#sk-container-id-3 div.sk-serial {display: flex;flex-direction: column;align-items: center;background-color: white;padding-right: 0.2em;padding-left: 0.2em;position: relative;}#sk-container-id-3 div.sk-item {position: relative;z-index: 1;}#sk-container-id-3 div.sk-parallel {display: flex;align-items: stretch;justify-content: center;background-color: white;position: relative;}#sk-container-id-3 div.sk-item::before, #sk-container-id-3 div.sk-parallel-item::before {content: \"\";position: absolute;border-left: 1px solid gray;box-sizing: border-box;top: 0;bottom: 0;left: 50%;z-index: -1;}#sk-container-id-3 div.sk-parallel-item {display: flex;flex-direction: column;z-index: 1;position: relative;background-color: white;}#sk-container-id-3 div.sk-parallel-item:first-child::after {align-self: flex-end;width: 50%;}#sk-container-id-3 div.sk-parallel-item:last-child::after {align-self: flex-start;width: 50%;}#sk-container-id-3 div.sk-parallel-item:only-child::after {width: 0;}#sk-container-id-3 div.sk-dashed-wrapped {border: 1px dashed gray;margin: 0 0.4em 0.5em 0.4em;box-sizing: border-box;padding-bottom: 0.4em;background-color: white;}#sk-container-id-3 div.sk-label label {font-family: monospace;font-weight: bold;display: inline-block;line-height: 1.2em;}#sk-container-id-3 div.sk-label-container {text-align: center;}#sk-container-id-3 div.sk-container {/* jupyter's `normalize.less` sets `[hidden] { display: none; }` but bootstrap.min.css set `[hidden] { display: none !important; }` so we also need the `!important` here to be able to override the default hidden behavior on the sphinx rendered scikit-learn.org. See: https://github.com/scikit-learn/scikit-learn/issues/21755 */display: inline-block !important;position: relative;}#sk-container-id-3 div.sk-text-repr-fallback {display: none;}</style><div id=\"sk-container-id-3\" class=\"sk-top-container\"><div class=\"sk-text-repr-fallback\"><pre>LGBMClassifier(learning_rate=0.5, max_depth=7)</pre><b>In a Jupyter environment, please rerun this cell to show the HTML representation or trust the notebook. <br />On GitHub, the HTML representation is unable to render, please try loading this page with nbviewer.org.</b></div><div class=\"sk-container\" hidden><div class=\"sk-item\"><div class=\"sk-estimator sk-toggleable\"><input class=\"sk-toggleable__control sk-hidden--visually\" id=\"sk-estimator-id-3\" type=\"checkbox\" checked><label for=\"sk-estimator-id-3\" class=\"sk-toggleable__label sk-toggleable__label-arrow\">LGBMClassifier</label><div class=\"sk-toggleable__content\"><pre>LGBMClassifier(learning_rate=0.5, max_depth=7)</pre></div></div></div></div></div>"
            ]
          },
          "metadata": {},
          "execution_count": 32
        }
      ]
    },
    {
      "cell_type": "code",
      "source": [
        "pred = model.predict(xtest)"
      ],
      "metadata": {
        "colab": {
          "base_uri": "https://localhost:8080/"
        },
        "id": "w2WGgWuhjhEa",
        "outputId": "4303ad73-495e-4a59-e920-f420346ca79e"
      },
      "execution_count": null,
      "outputs": [
        {
          "output_type": "stream",
          "name": "stdout",
          "text": [
            "[LightGBM] [Warning] Accuracy may be bad since you didn't explicitly set num_leaves OR 2^max_depth > num_leaves. (num_leaves=31).\n"
          ]
        }
      ]
    },
    {
      "cell_type": "code",
      "source": [
        "accuracy_score(ytest,pred), precision_score(ytest, pred), recall_score(ytest, pred), f1_score(ytest, pred)"
      ],
      "metadata": {
        "colab": {
          "base_uri": "https://localhost:8080/"
        },
        "id": "7rPzOvOBjlNB",
        "outputId": "26aae272-68e4-4e23-b696-c616338e0d1a"
      },
      "execution_count": null,
      "outputs": [
        {
          "output_type": "execute_result",
          "data": {
            "text/plain": [
              "(0.9769230769230769, 0.9558823529411765, 1.0, 0.9774436090225563)"
            ]
          },
          "metadata": {},
          "execution_count": 45
        }
      ]
    },
    {
      "cell_type": "code",
      "source": [
        "mcc = matthews_corrcoef(ytest, pred)\n",
        "mcc"
      ],
      "metadata": {
        "colab": {
          "base_uri": "https://localhost:8080/"
        },
        "id": "YMz-U7jMJEN-",
        "outputId": "2b4f7fbc-6bf0-4c26-bfc0-0d9fff02cb10"
      },
      "execution_count": null,
      "outputs": [
        {
          "output_type": "execute_result",
          "data": {
            "text/plain": [
              "0.954863710632231"
            ]
          },
          "metadata": {},
          "execution_count": 34
        }
      ]
    },
    {
      "cell_type": "code",
      "source": [
        "cm = confusion_matrix(ytest,pred)"
      ],
      "metadata": {
        "id": "TahVG5eejmIE"
      },
      "execution_count": null,
      "outputs": []
    },
    {
      "cell_type": "code",
      "source": [
        "cm"
      ],
      "metadata": {
        "colab": {
          "base_uri": "https://localhost:8080/"
        },
        "id": "r6D4zJ5RS9jW",
        "outputId": "08c7537b-401a-46e8-9b0c-ed3b1c77103f"
      },
      "execution_count": null,
      "outputs": [
        {
          "output_type": "execute_result",
          "data": {
            "text/plain": [
              "array([[124,   6],\n",
              "       [  0, 130]])"
            ]
          },
          "metadata": {},
          "execution_count": 47
        }
      ]
    },
    {
      "cell_type": "code",
      "source": [
        "# True Positives (TP)\n",
        "tp = cm[1, 1]\n",
        "\n",
        "# True Negatives (TN)\n",
        "tn = cm[0, 0]\n",
        "\n",
        "# False Positives (FP)\n",
        "fp = cm[0, 1]\n",
        "\n",
        "# False Negatives (FN)\n",
        "fn = cm[1, 0]\n",
        "\n",
        "# Sensitivity (True Positive Rate or Recall)\n",
        "sensitivity = tp / (tp + fn)\n",
        "\n",
        "# Specificity (True Negative Rate)\n",
        "specificity = tn / (tn + fp)\n",
        "\n",
        "print(\"Sensitivity:\", sensitivity)\n",
        "print(\"Specificity:\", specificity)"
      ],
      "metadata": {
        "colab": {
          "base_uri": "https://localhost:8080/"
        },
        "id": "JlI4NjlyTLSs",
        "outputId": "5ea4b4ca-2607-4754-9f46-c7a9bec69169"
      },
      "execution_count": null,
      "outputs": [
        {
          "output_type": "stream",
          "name": "stdout",
          "text": [
            "Sensitivity: 1.0\n",
            "Specificity: 0.9538461538461539\n"
          ]
        }
      ]
    },
    {
      "cell_type": "code",
      "source": [
        "plt.figure(figsize=(4, 3))\n",
        "sns.set(font_scale=1.2)\n",
        "sns.heatmap(cm, annot=True, fmt='d', cmap='Blues', annot_kws={\"size\": 16}, cbar=False)\n",
        "plt.xlabel('Predicted')\n",
        "plt.ylabel('True')\n",
        "plt.title('Confusion Matrix')\n",
        "plt.show()"
      ],
      "metadata": {
        "colab": {
          "base_uri": "https://localhost:8080/",
          "height": 347
        },
        "id": "mc-aTlD8TBwg",
        "outputId": "43255143-4b10-4e2a-8dff-98051fdcfd08"
      },
      "execution_count": null,
      "outputs": [
        {
          "output_type": "display_data",
          "data": {
            "text/plain": [
              "<Figure size 400x300 with 1 Axes>"
            ],
            "image/png": "[encoded data removed]"
          },
          "metadata": {}
        }
      ]
    },
    {
      "cell_type": "markdown",
      "source": [
        "**CAT** **BOOSTER**"
      ],
      "metadata": {
        "id": "l30YRUwukyjM"
      }
    },
    {
      "cell_type": "code",
      "source": [
        "model = CatBoostClassifier(depth= 10, iterations = 54, learning_rate = 0.2079912391974028)\n"
      ],
      "metadata": {
        "id": "EbEhz-vgj_3Z"
      },
      "execution_count": null,
      "outputs": []
    },
    {
      "cell_type": "code",
      "source": [
        "pred = cross_val_predict(model, xtrain, ytrain, cv=cv, n_jobs=-1)"
      ],
      "metadata": {
        "id": "stR7w_DUlNMx"
      },
      "execution_count": null,
      "outputs": []
    },
    {
      "cell_type": "code",
      "source": [
        "accuracy_score(ytrain,pred), precision_score(ytrain, pred), recall_score(ytrain, pred), f1_score(ytrain, pred)"
      ],
      "metadata": {
        "colab": {
          "base_uri": "https://localhost:8080/"
        },
        "id": "fnzaPGoXlTdp",
        "outputId": "a0ce8b49-725e-45a8-838e-2b0fa6187c25"
      },
      "execution_count": null,
      "outputs": [
        {
          "output_type": "execute_result",
          "data": {
            "text/plain": [
              "(0.925067593665508, 0.894566098945661, 0.9451585261353899, 0.9191666666666667)"
            ]
          },
          "metadata": {},
          "execution_count": 52
        }
      ]
    },
    {
      "cell_type": "code",
      "source": [
        "mcc = matthews_corrcoef(ytrain, pred)\n",
        "mcc"
      ],
      "metadata": {
        "colab": {
          "base_uri": "https://localhost:8080/"
        },
        "id": "7FGc0ac_JGsj",
        "outputId": "11f4272c-f76d-46aa-cdb6-d4160d183513"
      },
      "execution_count": null,
      "outputs": [
        {
          "output_type": "execute_result",
          "data": {
            "text/plain": [
              "0.8505472627960576"
            ]
          },
          "metadata": {},
          "execution_count": 37
        }
      ]
    },
    {
      "cell_type": "code",
      "source": [
        "cm = confusion_matrix(ytrain,pred)"
      ],
      "metadata": {
        "id": "zEWYsIn-lYus"
      },
      "execution_count": null,
      "outputs": []
    },
    {
      "cell_type": "code",
      "source": [
        "cm"
      ],
      "metadata": {
        "colab": {
          "base_uri": "https://localhost:8080/"
        },
        "id": "orzjEfleVRlb",
        "outputId": "6a3e26ea-d712-4c8f-edff-e429cd7a6c33"
      },
      "execution_count": null,
      "outputs": [
        {
          "output_type": "execute_result",
          "data": {
            "text/plain": [
              "array([[1292,  130],\n",
              "       [  64, 1103]])"
            ]
          },
          "metadata": {},
          "execution_count": 54
        }
      ]
    },
    {
      "cell_type": "code",
      "source": [
        "# True Positives (TP)\n",
        "tp = cm[1, 1]\n",
        "\n",
        "# True Negatives (TN)\n",
        "tn = cm[0, 0]\n",
        "\n",
        "# False Positives (FP)\n",
        "fp = cm[0, 1]\n",
        "\n",
        "# False Negatives (FN)\n",
        "fn = cm[1, 0]\n",
        "\n",
        "# Sensitivity (True Positive Rate or Recall)\n",
        "sensitivity = tp / (tp + fn)\n",
        "\n",
        "# Specificity (True Negative Rate)\n",
        "specificity = tn / (tn + fp)\n",
        "\n",
        "print(\"Sensitivity:\", sensitivity)\n",
        "print(\"Specificity:\", specificity)"
      ],
      "metadata": {
        "colab": {
          "base_uri": "https://localhost:8080/"
        },
        "id": "cZeuHNFrVUl8",
        "outputId": "b7136b95-a659-4ab1-d66e-bece00a8c562"
      },
      "execution_count": null,
      "outputs": [
        {
          "output_type": "stream",
          "name": "stdout",
          "text": [
            "Sensitivity: 0.9451585261353899\n",
            "Specificity: 0.9085794655414908\n"
          ]
        }
      ]
    },
    {
      "cell_type": "code",
      "source": [
        "plt.figure(figsize=(4, 3))\n",
        "sns.set(font_scale=1.2)\n",
        "sns.heatmap(cm, annot=True, fmt='d', cmap='Blues', annot_kws={\"size\": 16}, cbar=False)\n",
        "plt.xlabel('Predicted')\n",
        "plt.ylabel('True')\n",
        "plt.title('Confusion Matrix')\n",
        "plt.show()"
      ],
      "metadata": {
        "colab": {
          "base_uri": "https://localhost:8080/",
          "height": 347
        },
        "id": "D_ukE9CLVaD8",
        "outputId": "36c6b57c-86f2-4f47-d545-ca5705ef8f8c"
      },
      "execution_count": null,
      "outputs": [
        {
          "output_type": "display_data",
          "data": {
            "text/plain": [
              "<Figure size 400x300 with 1 Axes>"
            ],
            "image/png": "[encoded data removed]"
          },
          "metadata": {}
        }
      ]
    },
    {
      "cell_type": "code",
      "source": [
        "model.fit(xtrain, ytrain)"
      ],
      "metadata": {
        "colab": {
          "base_uri": "https://localhost:8080/"
        },
        "id": "ZMlGYOynldnD",
        "outputId": "354c10d0-4482-4c53-8f01-7d9cb3f30c93"
      },
      "execution_count": null,
      "outputs": [
        {
          "output_type": "stream",
          "name": "stdout",
          "text": [
            "0:\tlearn: 0.5662096\ttotal: 60.9ms\tremaining: 3.23s\n",
            "1:\tlearn: 0.4699212\ttotal: 72.3ms\tremaining: 1.88s\n",
            "2:\tlearn: 0.3993522\ttotal: 83.5ms\tremaining: 1.42s\n",
            "3:\tlearn: 0.3555413\ttotal: 96.2ms\tremaining: 1.2s\n",
            "4:\tlearn: 0.3228807\ttotal: 110ms\tremaining: 1.07s\n",
            "5:\tlearn: 0.3005085\ttotal: 121ms\tremaining: 970ms\n",
            "6:\tlearn: 0.2619523\ttotal: 133ms\tremaining: 890ms\n",
            "7:\tlearn: 0.2461547\ttotal: 144ms\tremaining: 828ms\n",
            "8:\tlearn: 0.2302948\ttotal: 155ms\tremaining: 777ms\n",
            "9:\tlearn: 0.2189085\ttotal: 167ms\tremaining: 737ms\n",
            "10:\tlearn: 0.2096706\ttotal: 179ms\tremaining: 699ms\n",
            "11:\tlearn: 0.2011306\ttotal: 190ms\tremaining: 666ms\n",
            "12:\tlearn: 0.1922187\ttotal: 202ms\tremaining: 636ms\n",
            "13:\tlearn: 0.1820118\ttotal: 213ms\tremaining: 608ms\n",
            "14:\tlearn: 0.1741716\ttotal: 224ms\tremaining: 583ms\n",
            "15:\tlearn: 0.1654105\ttotal: 235ms\tremaining: 558ms\n",
            "16:\tlearn: 0.1591471\ttotal: 247ms\tremaining: 537ms\n",
            "17:\tlearn: 0.1566055\ttotal: 258ms\tremaining: 516ms\n",
            "18:\tlearn: 0.1511508\ttotal: 270ms\tremaining: 497ms\n",
            "19:\tlearn: 0.1428236\ttotal: 282ms\tremaining: 479ms\n",
            "20:\tlearn: 0.1358235\ttotal: 293ms\tremaining: 461ms\n",
            "21:\tlearn: 0.1290532\ttotal: 307ms\tremaining: 447ms\n",
            "22:\tlearn: 0.1233119\ttotal: 318ms\tremaining: 429ms\n",
            "23:\tlearn: 0.1196345\ttotal: 330ms\tremaining: 412ms\n",
            "24:\tlearn: 0.1163319\ttotal: 341ms\tremaining: 395ms\n",
            "25:\tlearn: 0.1136661\ttotal: 352ms\tremaining: 379ms\n",
            "26:\tlearn: 0.1083514\ttotal: 363ms\tremaining: 363ms\n",
            "27:\tlearn: 0.1030399\ttotal: 375ms\tremaining: 348ms\n",
            "28:\tlearn: 0.1009301\ttotal: 386ms\tremaining: 333ms\n",
            "29:\tlearn: 0.0980289\ttotal: 400ms\tremaining: 320ms\n",
            "30:\tlearn: 0.0943699\ttotal: 410ms\tremaining: 304ms\n",
            "31:\tlearn: 0.0911860\ttotal: 421ms\tremaining: 289ms\n",
            "32:\tlearn: 0.0869083\ttotal: 433ms\tremaining: 275ms\n",
            "33:\tlearn: 0.0852062\ttotal: 447ms\tremaining: 263ms\n",
            "34:\tlearn: 0.0834824\ttotal: 464ms\tremaining: 252ms\n",
            "35:\tlearn: 0.0812073\ttotal: 476ms\tremaining: 238ms\n",
            "36:\tlearn: 0.0777524\ttotal: 487ms\tremaining: 224ms\n",
            "37:\tlearn: 0.0757534\ttotal: 499ms\tremaining: 210ms\n",
            "38:\tlearn: 0.0739847\ttotal: 510ms\tremaining: 196ms\n",
            "39:\tlearn: 0.0724593\ttotal: 521ms\tremaining: 182ms\n",
            "40:\tlearn: 0.0708994\ttotal: 532ms\tremaining: 169ms\n",
            "41:\tlearn: 0.0692464\ttotal: 544ms\tremaining: 155ms\n",
            "42:\tlearn: 0.0683729\ttotal: 555ms\tremaining: 142ms\n",
            "43:\tlearn: 0.0669370\ttotal: 566ms\tremaining: 129ms\n",
            "44:\tlearn: 0.0658527\ttotal: 577ms\tremaining: 115ms\n",
            "45:\tlearn: 0.0642720\ttotal: 588ms\tremaining: 102ms\n",
            "46:\tlearn: 0.0631067\ttotal: 600ms\tremaining: 89.3ms\n",
            "47:\tlearn: 0.0608061\ttotal: 611ms\tremaining: 76.3ms\n",
            "48:\tlearn: 0.0601552\ttotal: 622ms\tremaining: 63.5ms\n",
            "49:\tlearn: 0.0591640\ttotal: 633ms\tremaining: 50.6ms\n",
            "50:\tlearn: 0.0579018\ttotal: 644ms\tremaining: 37.9ms\n",
            "51:\tlearn: 0.0552395\ttotal: 656ms\tremaining: 25.2ms\n",
            "52:\tlearn: 0.0536047\ttotal: 671ms\tremaining: 12.7ms\n",
            "53:\tlearn: 0.0534528\ttotal: 675ms\tremaining: 0us\n"
          ]
        },
        {
          "output_type": "execute_result",
          "data": {
            "text/plain": [
              "<catboost.core.CatBoostClassifier at 0x780655f22080>"
            ]
          },
          "metadata": {},
          "execution_count": 38
        }
      ]
    },
    {
      "cell_type": "code",
      "source": [
        "pred = model.predict(xtest)"
      ],
      "metadata": {
        "id": "y-2A-NqIli02"
      },
      "execution_count": null,
      "outputs": []
    },
    {
      "cell_type": "code",
      "source": [
        "accuracy_score(ytest,pred), precision_score(ytest, pred), recall_score(ytest, pred), f1_score(ytest, pred)"
      ],
      "metadata": {
        "colab": {
          "base_uri": "https://localhost:8080/"
        },
        "id": "7fmU0SK5lmft",
        "outputId": "e085e4b8-6833-4432-a47d-c76db27ee6c1"
      },
      "execution_count": null,
      "outputs": [
        {
          "output_type": "execute_result",
          "data": {
            "text/plain": [
              "(0.9692307692307692, 0.9420289855072463, 1.0, 0.9701492537313433)"
            ]
          },
          "metadata": {},
          "execution_count": 59
        }
      ]
    },
    {
      "cell_type": "code",
      "source": [
        "mcc = matthews_corrcoef(ytest, pred)\n",
        "mcc"
      ],
      "metadata": {
        "colab": {
          "base_uri": "https://localhost:8080/"
        },
        "id": "JJhQZAbUJJmn",
        "outputId": "4d4c7ec6-960c-47e6-e3a5-03062ab26bbc"
      },
      "execution_count": null,
      "outputs": [
        {
          "output_type": "execute_result",
          "data": {
            "text/plain": [
              "0.9402435700468751"
            ]
          },
          "metadata": {},
          "execution_count": 41
        }
      ]
    },
    {
      "cell_type": "code",
      "source": [
        "cm = confusion_matrix(ytest,pred)"
      ],
      "metadata": {
        "id": "KRU5nDAJlo7l"
      },
      "execution_count": null,
      "outputs": []
    },
    {
      "cell_type": "code",
      "source": [
        "cm"
      ],
      "metadata": {
        "colab": {
          "base_uri": "https://localhost:8080/"
        },
        "id": "NrzFBNMpXmCh",
        "outputId": "a48c8bd1-1ce7-4bbd-fb28-59e0d847a1c7"
      },
      "execution_count": null,
      "outputs": [
        {
          "output_type": "execute_result",
          "data": {
            "text/plain": [
              "array([[122,   8],\n",
              "       [  0, 130]])"
            ]
          },
          "metadata": {},
          "execution_count": 61
        }
      ]
    },
    {
      "cell_type": "code",
      "source": [
        "# True Positives (TP)\n",
        "tp = cm[1, 1]\n",
        "\n",
        "# True Negatives (TN)\n",
        "tn = cm[0, 0]\n",
        "\n",
        "# False Positives (FP)\n",
        "fp = cm[0, 1]\n",
        "\n",
        "# False Negatives (FN)\n",
        "fn = cm[1, 0]\n",
        "\n",
        "# Sensitivity (True Positive Rate or Recall)\n",
        "sensitivity = tp / (tp + fn)\n",
        "\n",
        "# Specificity (True Negative Rate)\n",
        "specificity = tn / (tn + fp)\n",
        "\n",
        "print(\"Sensitivity:\", sensitivity)\n",
        "print(\"Specificity:\", specificity)\n"
      ],
      "metadata": {
        "colab": {
          "base_uri": "https://localhost:8080/"
        },
        "id": "P-80W42aXm8a",
        "outputId": "5882e065-6c47-41d5-8a48-9093577f6837"
      },
      "execution_count": null,
      "outputs": [
        {
          "output_type": "stream",
          "name": "stdout",
          "text": [
            "Sensitivity: 1.0\n",
            "Specificity: 0.9384615384615385\n"
          ]
        }
      ]
    },
    {
      "cell_type": "code",
      "source": [
        "plt.figure(figsize=(4, 3))\n",
        "sns.set(font_scale=1.2)\n",
        "sns.heatmap(cm, annot=True, fmt='d', cmap='Blues', annot_kws={\"size\": 16}, cbar=False)\n",
        "plt.xlabel('Predicted')\n",
        "plt.ylabel('True')\n",
        "plt.title('Confusion Matrix')\n",
        "plt.show()"
      ],
      "metadata": {
        "colab": {
          "base_uri": "https://localhost:8080/",
          "height": 347
        },
        "id": "yag_ibFPX3x8",
        "outputId": "4c4a2959-eeba-497a-a79e-00f2da5d8c5c"
      },
      "execution_count": null,
      "outputs": [
        {
          "output_type": "display_data",
          "data": {
            "text/plain": [
              "<Figure size 400x300 with 1 Axes>"
            ],
            "image/png": "[encoded data removed]"
          },
          "metadata": {}
        }
      ]
    },
    {
      "cell_type": "markdown",
      "source": [
        "**Stacking**"
      ],
      "metadata": {
        "id": "89UMFxfIphkx"
      }
    },
    {
      "cell_type": "code",
      "source": [
        "estimator = [('RF',RandomForestClassifier(n_estimators = 400, max_depth = 10)),\n",
        "             ('XGB',XGBClassifier(n_estimators = 500,max_depth = 7, base_score = 0.88, learning_rate = 0.2)),\n",
        "             ('LGBM',LGBMClassifier(max_depth=7, learning_rate=0.5)),\n",
        "             ('CAT',CatBoostClassifier(depth= 10, iterations = 54, learning_rate = 0.2079912391974028))]\n",
        "model = StackingClassifier(estimators=estimator, final_estimator=CatBoostClassifier(depth= 10, iterations = 54, learning_rate = 0.2079912391974028))"
      ],
      "metadata": {
        "id": "Jsqn9Z2_pf91"
      },
      "execution_count": null,
      "outputs": []
    },
    {
      "cell_type": "code",
      "source": [
        "pred = cross_val_predict(model, xtrain, ytrain, cv=cv, n_jobs=-1)"
      ],
      "metadata": {
        "id": "wewk7anaqD_2"
      },
      "execution_count": null,
      "outputs": []
    },
    {
      "cell_type": "code",
      "source": [
        "accuracy_score(ytrain,pred), precision_score(ytrain, pred), recall_score(ytrain, pred), f1_score(ytrain, pred)"
      ],
      "metadata": {
        "colab": {
          "base_uri": "https://localhost:8080/"
        },
        "id": "DNRoXY5_qJf6",
        "outputId": "0cd0dd30-c26a-4b98-83d8-53a66d2de6c6"
      },
      "execution_count": null,
      "outputs": [
        {
          "output_type": "execute_result",
          "data": {
            "text/plain": [
              "(0.9451525685592893,\n",
              " 0.9460400348128808,\n",
              " 0.9314481576692374,\n",
              " 0.9386873920552676)"
            ]
          },
          "metadata": {},
          "execution_count": 66
        }
      ]
    },
    {
      "cell_type": "code",
      "source": [
        "mcc = matthews_corrcoef(ytrain, pred)\n",
        "mcc"
      ],
      "metadata": {
        "colab": {
          "base_uri": "https://localhost:8080/"
        },
        "id": "nH5qX6VxJLdP",
        "outputId": "ade03290-909b-499a-c740-460d648ab3b6"
      },
      "execution_count": null,
      "outputs": [
        {
          "output_type": "execute_result",
          "data": {
            "text/plain": [
              "0.8899465140002979"
            ]
          },
          "metadata": {},
          "execution_count": 45
        }
      ]
    },
    {
      "cell_type": "code",
      "source": [
        "cm = confusion_matrix(ytrain,pred)"
      ],
      "metadata": {
        "id": "1PV8vrJ5qOzE"
      },
      "execution_count": null,
      "outputs": []
    },
    {
      "cell_type": "code",
      "source": [
        "cm"
      ],
      "metadata": {
        "colab": {
          "base_uri": "https://localhost:8080/"
        },
        "id": "uxSYr627YH6P",
        "outputId": "66ec34d2-a0c5-4560-f81f-9dba1534830d"
      },
      "execution_count": null,
      "outputs": [
        {
          "output_type": "execute_result",
          "data": {
            "text/plain": [
              "array([[1360,   62],\n",
              "       [  80, 1087]])"
            ]
          },
          "metadata": {},
          "execution_count": 68
        }
      ]
    },
    {
      "cell_type": "code",
      "source": [
        "# True Positives (TP)\n",
        "tp = cm[1, 1]\n",
        "\n",
        "# True Negatives (TN)\n",
        "tn = cm[0, 0]\n",
        "\n",
        "# False Positives (FP)\n",
        "fp = cm[0, 1]\n",
        "\n",
        "# False Negatives (FN)\n",
        "fn = cm[1, 0]\n",
        "\n",
        "# Sensitivity (True Positive Rate or Recall)\n",
        "sensitivity = tp / (tp + fn)\n",
        "\n",
        "# Specificity (True Negative Rate)\n",
        "specificity = tn / (tn + fp)\n",
        "\n",
        "print(\"Sensitivity:\", sensitivity)\n",
        "print(\"Specificity:\", specificity)"
      ],
      "metadata": {
        "colab": {
          "base_uri": "https://localhost:8080/"
        },
        "id": "LI7awbZxYQJf",
        "outputId": "f15f0574-969d-46ec-a2cb-4d9e2f79f5a4"
      },
      "execution_count": null,
      "outputs": [
        {
          "output_type": "stream",
          "name": "stdout",
          "text": [
            "Sensitivity: 0.9314481576692374\n",
            "Specificity: 0.9563994374120957\n"
          ]
        }
      ]
    },
    {
      "cell_type": "code",
      "source": [
        "plt.figure(figsize=(4, 3))\n",
        "sns.set(font_scale=1.2)\n",
        "sns.heatmap(cm, annot=True, fmt='d', cmap='Blues', annot_kws={\"size\": 16}, cbar=False)\n",
        "plt.xlabel('Predicted')\n",
        "plt.ylabel('True')\n",
        "plt.title('Confusion Matrix')\n",
        "plt.show()"
      ],
      "metadata": {
        "colab": {
          "base_uri": "https://localhost:8080/",
          "height": 347
        },
        "id": "9BhEXlMQYL92",
        "outputId": "8bbf8a17-2f19-40f6-d11a-5626e2d859fc"
      },
      "execution_count": null,
      "outputs": [
        {
          "output_type": "display_data",
          "data": {
            "text/plain": [
              "<Figure size 400x300 with 1 Axes>"
            ],
            "image/png": "[encoded data removed]"
          },
          "metadata": {}
        }
      ]
    },
    {
      "cell_type": "code",
      "source": [
        "model.fit(xtrain, ytrain)"
      ],
      "metadata": {
        "colab": {
          "base_uri": "https://localhost:8080/",
          "height": 1000
        },
        "id": "zGPIngb8qb3z",
        "outputId": "8e767871-e3a8-42e4-8c96-9c31011112bf"
      },
      "execution_count": null,
      "outputs": [
        {
          "output_type": "stream",
          "name": "stdout",
          "text": [
            "[LightGBM] [Warning] Accuracy may be bad since you didn't explicitly set num_leaves OR 2^max_depth > num_leaves. (num_leaves=31).\n",
            "[LightGBM] [Warning] Accuracy may be bad since you didn't explicitly set num_leaves OR 2^max_depth > num_leaves. (num_leaves=31).\n",
            "[LightGBM] [Info] Number of positive: 1167, number of negative: 1422\n",
            "[LightGBM] [Info] Auto-choosing row-wise multi-threading, the overhead of testing was 0.000880 seconds.\n",
            "You can set `force_row_wise=true` to remove the overhead.\n",
            "And if memory is not enough, you can set `force_col_wise=true`.\n",
            "[LightGBM] [Info] Total Bins 821\n",
            "[LightGBM] [Info] Number of data points in the train set: 2589, number of used features: 20\n",
            "[LightGBM] [Info] [binary:BoostFromScore]: pavg=0.450753 -> initscore=-0.197628\n",
            "[LightGBM] [Info] Start training from score -0.197628\n",
            "[LightGBM] [Warning] No further splits with positive gain, best gain: -inf\n",
            "[LightGBM] [Warning] No further splits with positive gain, best gain: -inf\n",
            "[LightGBM] [Warning] No further splits with positive gain, best gain: -inf\n",
            "[LightGBM] [Warning] No further splits with positive gain, best gain: -inf\n",
            "[LightGBM] [Warning] No further splits with positive gain, best gain: -inf\n",
            "[LightGBM] [Warning] No further splits with positive gain, best gain: -inf\n",
            "[LightGBM] [Warning] No further splits with positive gain, best gain: -inf\n",
            "[LightGBM] [Warning] No further splits with positive gain, best gain: -inf\n",
            "[LightGBM] [Warning] No further splits with positive gain, best gain: -inf\n",
            "[LightGBM] [Warning] No further splits with positive gain, best gain: -inf\n",
            "[LightGBM] [Warning] No further splits with positive gain, best gain: -inf\n",
            "[LightGBM] [Warning] No further splits with positive gain, best gain: -inf\n",
            "[LightGBM] [Warning] No further splits with positive gain, best gain: -inf\n",
            "[LightGBM] [Warning] No further splits with positive gain, best gain: -inf\n",
            "[LightGBM] [Warning] No further splits with positive gain, best gain: -inf\n",
            "[LightGBM] [Warning] No further splits with positive gain, best gain: -inf\n",
            "[LightGBM] [Warning] No further splits with positive gain, best gain: -inf\n",
            "[LightGBM] [Warning] No further splits with positive gain, best gain: -inf\n",
            "[LightGBM] [Warning] No further splits with positive gain, best gain: -inf\n",
            "[LightGBM] [Warning] No further splits with positive gain, best gain: -inf\n",
            "[LightGBM] [Warning] No further splits with positive gain, best gain: -inf\n",
            "[LightGBM] [Warning] No further splits with positive gain, best gain: -inf\n",
            "[LightGBM] [Warning] No further splits with positive gain, best gain: -inf\n",
            "[LightGBM] [Warning] No further splits with positive gain, best gain: -inf\n",
            "[LightGBM] [Warning] No further splits with positive gain, best gain: -inf\n",
            "[LightGBM] [Warning] No further splits with positive gain, best gain: -inf\n",
            "[LightGBM] [Warning] No further splits with positive gain, best gain: -inf\n",
            "[LightGBM] [Warning] No further splits with positive gain, best gain: -inf\n",
            "[LightGBM] [Warning] No further splits with positive gain, best gain: -inf\n",
            "[LightGBM] [Warning] No further splits with positive gain, best gain: -inf\n",
            "[LightGBM] [Warning] No further splits with positive gain, best gain: -inf\n",
            "[LightGBM] [Warning] No further splits with positive gain, best gain: -inf\n",
            "[LightGBM] [Warning] No further splits with positive gain, best gain: -inf\n",
            "[LightGBM] [Warning] No further splits with positive gain, best gain: -inf\n",
            "[LightGBM] [Warning] No further splits with positive gain, best gain: -inf\n",
            "[LightGBM] [Warning] No further splits with positive gain, best gain: -inf\n",
            "[LightGBM] [Warning] No further splits with positive gain, best gain: -inf\n",
            "[LightGBM] [Warning] No further splits with positive gain, best gain: -inf\n",
            "[LightGBM] [Warning] No further splits with positive gain, best gain: -inf\n",
            "[LightGBM] [Warning] No further splits with positive gain, best gain: -inf\n",
            "[LightGBM] [Warning] No further splits with positive gain, best gain: -inf\n",
            "[LightGBM] [Warning] No further splits with positive gain, best gain: -inf\n",
            "[LightGBM] [Warning] No further splits with positive gain, best gain: -inf\n",
            "[LightGBM] [Warning] No further splits with positive gain, best gain: -inf\n",
            "[LightGBM] [Warning] No further splits with positive gain, best gain: -inf\n",
            "[LightGBM] [Warning] No further splits with positive gain, best gain: -inf\n",
            "[LightGBM] [Warning] No further splits with positive gain, best gain: -inf\n",
            "[LightGBM] [Warning] No further splits with positive gain, best gain: -inf\n",
            "[LightGBM] [Warning] No further splits with positive gain, best gain: -inf\n",
            "[LightGBM] [Warning] No further splits with positive gain, best gain: -inf\n",
            "[LightGBM] [Warning] No further splits with positive gain, best gain: -inf\n",
            "[LightGBM] [Warning] No further splits with positive gain, best gain: -inf\n",
            "[LightGBM] [Warning] No further splits with positive gain, best gain: -inf\n",
            "[LightGBM] [Warning] No further splits with positive gain, best gain: -inf\n",
            "[LightGBM] [Warning] No further splits with positive gain, best gain: -inf\n",
            "0:\tlearn: 0.5662096\ttotal: 16.7ms\tremaining: 885ms\n",
            "1:\tlearn: 0.4699212\ttotal: 37.6ms\tremaining: 979ms\n",
            "2:\tlearn: 0.3993522\ttotal: 52.7ms\tremaining: 897ms\n",
            "3:\tlearn: 0.3555413\ttotal: 67.5ms\tremaining: 843ms\n",
            "4:\tlearn: 0.3228807\ttotal: 81.4ms\tremaining: 797ms\n",
            "5:\tlearn: 0.3005085\ttotal: 97.1ms\tremaining: 777ms\n",
            "6:\tlearn: 0.2619523\ttotal: 115ms\tremaining: 775ms\n",
            "7:\tlearn: 0.2461547\ttotal: 137ms\tremaining: 790ms\n",
            "8:\tlearn: 0.2302948\ttotal: 163ms\tremaining: 817ms\n",
            "9:\tlearn: 0.2189085\ttotal: 186ms\tremaining: 818ms\n",
            "10:\tlearn: 0.2096706\ttotal: 209ms\tremaining: 816ms\n",
            "11:\tlearn: 0.2011306\ttotal: 235ms\tremaining: 821ms\n",
            "12:\tlearn: 0.1922187\ttotal: 255ms\tremaining: 805ms\n",
            "13:\tlearn: 0.1820118\ttotal: 278ms\tremaining: 796ms\n",
            "14:\tlearn: 0.1741716\ttotal: 301ms\tremaining: 783ms\n",
            "15:\tlearn: 0.1654105\ttotal: 326ms\tremaining: 775ms\n",
            "16:\tlearn: 0.1591471\ttotal: 348ms\tremaining: 757ms\n",
            "17:\tlearn: 0.1566055\ttotal: 370ms\tremaining: 740ms\n",
            "18:\tlearn: 0.1511508\ttotal: 395ms\tremaining: 728ms\n",
            "19:\tlearn: 0.1428236\ttotal: 419ms\tremaining: 712ms\n",
            "20:\tlearn: 0.1358235\ttotal: 444ms\tremaining: 697ms\n",
            "21:\tlearn: 0.1290532\ttotal: 471ms\tremaining: 685ms\n",
            "22:\tlearn: 0.1233119\ttotal: 493ms\tremaining: 664ms\n",
            "23:\tlearn: 0.1196345\ttotal: 515ms\tremaining: 644ms\n",
            "24:\tlearn: 0.1163319\ttotal: 539ms\tremaining: 625ms\n",
            "25:\tlearn: 0.1136661\ttotal: 562ms\tremaining: 605ms\n",
            "26:\tlearn: 0.1083514\ttotal: 579ms\tremaining: 579ms\n",
            "27:\tlearn: 0.1030399\ttotal: 602ms\tremaining: 559ms\n",
            "28:\tlearn: 0.1009301\ttotal: 624ms\tremaining: 538ms\n",
            "29:\tlearn: 0.0980289\ttotal: 652ms\tremaining: 521ms\n",
            "30:\tlearn: 0.0943699\ttotal: 675ms\tremaining: 500ms\n",
            "31:\tlearn: 0.0911860\ttotal: 689ms\tremaining: 474ms\n",
            "32:\tlearn: 0.0869083\ttotal: 706ms\tremaining: 449ms\n",
            "33:\tlearn: 0.0852062\ttotal: 724ms\tremaining: 426ms\n",
            "34:\tlearn: 0.0834824\ttotal: 741ms\tremaining: 402ms\n",
            "35:\tlearn: 0.0812073\ttotal: 766ms\tremaining: 383ms\n",
            "36:\tlearn: 0.0777524\ttotal: 789ms\tremaining: 362ms\n",
            "37:\tlearn: 0.0757534\ttotal: 812ms\tremaining: 342ms\n",
            "38:\tlearn: 0.0739847\ttotal: 834ms\tremaining: 321ms\n",
            "39:\tlearn: 0.0724593\ttotal: 854ms\tremaining: 299ms\n",
            "40:\tlearn: 0.0708994\ttotal: 876ms\tremaining: 278ms\n",
            "41:\tlearn: 0.0692464\ttotal: 900ms\tremaining: 257ms\n",
            "42:\tlearn: 0.0683729\ttotal: 923ms\tremaining: 236ms\n",
            "43:\tlearn: 0.0669370\ttotal: 952ms\tremaining: 216ms\n",
            "44:\tlearn: 0.0658527\ttotal: 979ms\tremaining: 196ms\n",
            "45:\tlearn: 0.0642720\ttotal: 1.01s\tremaining: 175ms\n",
            "46:\tlearn: 0.0631067\ttotal: 1.03s\tremaining: 153ms\n",
            "47:\tlearn: 0.0608061\ttotal: 1.05s\tremaining: 132ms\n",
            "48:\tlearn: 0.0601552\ttotal: 1.08s\tremaining: 110ms\n",
            "49:\tlearn: 0.0591640\ttotal: 1.1s\tremaining: 88.3ms\n",
            "50:\tlearn: 0.0579018\ttotal: 1.12s\tremaining: 65.9ms\n",
            "51:\tlearn: 0.0552395\ttotal: 1.13s\tremaining: 43.5ms\n",
            "52:\tlearn: 0.0536047\ttotal: 1.15s\tremaining: 21.6ms\n",
            "53:\tlearn: 0.0534528\ttotal: 1.15s\tremaining: 0us\n",
            "[LightGBM] [Warning] Accuracy may be bad since you didn't explicitly set num_leaves OR 2^max_depth > num_leaves. (num_leaves=31).\n",
            "[LightGBM] [Warning] Accuracy may be bad since you didn't explicitly set num_leaves OR 2^max_depth > num_leaves. (num_leaves=31).\n",
            "[LightGBM] [Info] Number of positive: 933, number of negative: 1138\n",
            "[LightGBM] [Info] Auto-choosing row-wise multi-threading, the overhead of testing was 0.000584 seconds.\n",
            "You can set `force_row_wise=true` to remove the overhead.\n",
            "And if memory is not enough, you can set `force_col_wise=true`.\n",
            "[LightGBM] [Info] Total Bins 800\n",
            "[LightGBM] [Info] Number of data points in the train set: 2071, number of used features: 20\n",
            "[LightGBM] [Info] [binary:BoostFromScore]: pavg=0.450507 -> initscore=-0.198622\n",
            "[LightGBM] [Info] Start training from score -0.198622\n",
            "[LightGBM] [Warning] No further splits with positive gain, best gain: -inf\n",
            "[LightGBM] [Warning] No further splits with positive gain, best gain: -inf\n",
            "[LightGBM] [Warning] No further splits with positive gain, best gain: -inf\n",
            "[LightGBM] [Warning] No further splits with positive gain, best gain: -inf\n",
            "[LightGBM] [Warning] No further splits with positive gain, best gain: -inf\n",
            "[LightGBM] [Warning] No further splits with positive gain, best gain: -inf\n",
            "[LightGBM] [Warning] No further splits with positive gain, best gain: -inf\n",
            "[LightGBM] [Warning] No further splits with positive gain, best gain: -inf\n",
            "[LightGBM] [Warning] No further splits with positive gain, best gain: -inf\n",
            "[LightGBM] [Warning] No further splits with positive gain, best gain: -inf\n",
            "[LightGBM] [Warning] No further splits with positive gain, best gain: -inf\n",
            "[LightGBM] [Warning] No further splits with positive gain, best gain: -inf\n",
            "[LightGBM] [Warning] No further splits with positive gain, best gain: -inf\n",
            "[LightGBM] [Warning] No further splits with positive gain, best gain: -inf\n",
            "[LightGBM] [Warning] No further splits with positive gain, best gain: -inf\n",
            "[LightGBM] [Warning] No further splits with positive gain, best gain: -inf\n",
            "[LightGBM] [Warning] No further splits with positive gain, best gain: -inf\n",
            "[LightGBM] [Warning] No further splits with positive gain, best gain: -inf\n",
            "[LightGBM] [Warning] No further splits with positive gain, best gain: -inf\n",
            "[LightGBM] [Warning] No further splits with positive gain, best gain: -inf\n",
            "[LightGBM] [Warning] No further splits with positive gain, best gain: -inf\n",
            "[LightGBM] [Warning] No further splits with positive gain, best gain: -inf\n",
            "[LightGBM] [Warning] No further splits with positive gain, best gain: -inf\n",
            "[LightGBM] [Warning] No further splits with positive gain, best gain: -inf\n",
            "[LightGBM] [Warning] No further splits with positive gain, best gain: -inf\n",
            "[LightGBM] [Warning] No further splits with positive gain, best gain: -inf\n",
            "[LightGBM] [Warning] No further splits with positive gain, best gain: -inf\n",
            "[LightGBM] [Warning] No further splits with positive gain, best gain: -inf\n",
            "[LightGBM] [Warning] No further splits with positive gain, best gain: -inf\n",
            "[LightGBM] [Warning] No further splits with positive gain, best gain: -inf\n",
            "[LightGBM] [Warning] No further splits with positive gain, best gain: -inf\n",
            "[LightGBM] [Warning] No further splits with positive gain, best gain: -inf\n",
            "[LightGBM] [Warning] No further splits with positive gain, best gain: -inf\n",
            "[LightGBM] [Warning] No further splits with positive gain, best gain: -inf\n",
            "[LightGBM] [Warning] No further splits with positive gain, best gain: -inf\n",
            "[LightGBM] [Warning] No further splits with positive gain, best gain: -inf\n",
            "[LightGBM] [Warning] No further splits with positive gain, best gain: -inf\n",
            "[LightGBM] [Warning] No further splits with positive gain, best gain: -inf\n",
            "[LightGBM] [Warning] No further splits with positive gain, best gain: -inf\n",
            "[LightGBM] [Warning] No further splits with positive gain, best gain: -inf\n",
            "[LightGBM] [Warning] No further splits with positive gain, best gain: -inf\n",
            "[LightGBM] [Warning] No further splits with positive gain, best gain: -inf\n",
            "[LightGBM] [Warning] No further splits with positive gain, best gain: -inf\n",
            "[LightGBM] [Warning] No further splits with positive gain, best gain: -inf\n",
            "[LightGBM] [Warning] No further splits with positive gain, best gain: -inf\n",
            "[LightGBM] [Warning] No further splits with positive gain, best gain: -inf\n",
            "[LightGBM] [Warning] No further splits with positive gain, best gain: -inf\n",
            "[LightGBM] [Warning] No further splits with positive gain, best gain: -inf\n",
            "[LightGBM] [Warning] No further splits with positive gain, best gain: -inf\n",
            "[LightGBM] [Warning] No further splits with positive gain, best gain: -inf\n",
            "[LightGBM] [Warning] No further splits with positive gain, best gain: -inf\n",
            "[LightGBM] [Warning] No further splits with positive gain, best gain: -inf\n",
            "[LightGBM] [Warning] No further splits with positive gain, best gain: -inf\n",
            "[LightGBM] [Warning] No further splits with positive gain, best gain: -inf\n",
            "[LightGBM] [Warning] No further splits with positive gain, best gain: -inf\n",
            "[LightGBM] [Warning] No further splits with positive gain, best gain: -inf\n",
            "[LightGBM] [Warning] No further splits with positive gain, best gain: -inf\n",
            "[LightGBM] [Warning] No further splits with positive gain, best gain: -inf\n",
            "[LightGBM] [Warning] No further splits with positive gain, best gain: -inf\n",
            "[LightGBM] [Warning] No further splits with positive gain, best gain: -inf\n",
            "[LightGBM] [Warning] No further splits with positive gain, best gain: -inf\n",
            "[LightGBM] [Warning] No further splits with positive gain, best gain: -inf\n",
            "[LightGBM] [Warning] No further splits with positive gain, best gain: -inf\n",
            "[LightGBM] [Warning] No further splits with positive gain, best gain: -inf\n",
            "[LightGBM] [Warning] No further splits with positive gain, best gain: -inf\n",
            "[LightGBM] [Warning] No further splits with positive gain, best gain: -inf\n",
            "[LightGBM] [Warning] No further splits with positive gain, best gain: -inf\n",
            "[LightGBM] [Warning] No further splits with positive gain, best gain: -inf\n",
            "[LightGBM] [Warning] No further splits with positive gain, best gain: -inf\n",
            "[LightGBM] [Warning] No further splits with positive gain, best gain: -inf\n",
            "[LightGBM] [Warning] No further splits with positive gain, best gain: -inf\n",
            "[LightGBM] [Warning] No further splits with positive gain, best gain: -inf\n",
            "[LightGBM] [Warning] No further splits with positive gain, best gain: -inf\n",
            "[LightGBM] [Warning] Accuracy may be bad since you didn't explicitly set num_leaves OR 2^max_depth > num_leaves. (num_leaves=31).\n",
            "[LightGBM] [Warning] Accuracy may be bad since you didn't explicitly set num_leaves OR 2^max_depth > num_leaves. (num_leaves=31).\n",
            "[LightGBM] [Warning] Accuracy may be bad since you didn't explicitly set num_leaves OR 2^max_depth > num_leaves. (num_leaves=31).\n",
            "[LightGBM] [Info] Number of positive: 933, number of negative: 1138\n",
            "[LightGBM] [Info] Auto-choosing row-wise multi-threading, the overhead of testing was 0.000666 seconds.\n",
            "You can set `force_row_wise=true` to remove the overhead.\n",
            "And if memory is not enough, you can set `force_col_wise=true`.\n",
            "[LightGBM] [Info] Total Bins 784\n",
            "[LightGBM] [Info] Number of data points in the train set: 2071, number of used features: 20\n",
            "[LightGBM] [Info] [binary:BoostFromScore]: pavg=0.450507 -> initscore=-0.198622\n",
            "[LightGBM] [Info] Start training from score -0.198622\n",
            "[LightGBM] [Warning] No further splits with positive gain, best gain: -inf\n",
            "[LightGBM] [Warning] No further splits with positive gain, best gain: -inf\n",
            "[LightGBM] [Warning] No further splits with positive gain, best gain: -inf\n",
            "[LightGBM] [Warning] No further splits with positive gain, best gain: -inf\n",
            "[LightGBM] [Warning] No further splits with positive gain, best gain: -inf\n",
            "[LightGBM] [Warning] No further splits with positive gain, best gain: -inf\n",
            "[LightGBM] [Warning] No further splits with positive gain, best gain: -inf\n",
            "[LightGBM] [Warning] No further splits with positive gain, best gain: -inf\n",
            "[LightGBM] [Warning] No further splits with positive gain, best gain: -inf\n",
            "[LightGBM] [Warning] No further splits with positive gain, best gain: -inf\n",
            "[LightGBM] [Warning] No further splits with positive gain, best gain: -inf\n",
            "[LightGBM] [Warning] No further splits with positive gain, best gain: -inf\n",
            "[LightGBM] [Warning] No further splits with positive gain, best gain: -inf\n",
            "[LightGBM] [Warning] No further splits with positive gain, best gain: -inf\n",
            "[LightGBM] [Warning] No further splits with positive gain, best gain: -inf\n",
            "[LightGBM] [Warning] No further splits with positive gain, best gain: -inf\n",
            "[LightGBM] [Warning] No further splits with positive gain, best gain: -inf\n",
            "[LightGBM] [Warning] No further splits with positive gain, best gain: -inf\n",
            "[LightGBM] [Warning] No further splits with positive gain, best gain: -inf\n",
            "[LightGBM] [Warning] No further splits with positive gain, best gain: -inf\n",
            "[LightGBM] [Warning] No further splits with positive gain, best gain: -inf\n",
            "[LightGBM] [Warning] No further splits with positive gain, best gain: -inf\n",
            "[LightGBM] [Warning] No further splits with positive gain, best gain: -inf\n",
            "[LightGBM] [Warning] No further splits with positive gain, best gain: -inf\n",
            "[LightGBM] [Warning] No further splits with positive gain, best gain: -inf\n",
            "[LightGBM] [Warning] No further splits with positive gain, best gain: -inf\n",
            "[LightGBM] [Warning] No further splits with positive gain, best gain: -inf\n",
            "[LightGBM] [Warning] No further splits with positive gain, best gain: -inf\n",
            "[LightGBM] [Warning] No further splits with positive gain, best gain: -inf\n",
            "[LightGBM] [Warning] No further splits with positive gain, best gain: -inf\n",
            "[LightGBM] [Warning] No further splits with positive gain, best gain: -inf\n",
            "[LightGBM] [Warning] No further splits with positive gain, best gain: -inf\n",
            "[LightGBM] [Warning] No further splits with positive gain, best gain: -inf\n",
            "[LightGBM] [Warning] No further splits with positive gain, best gain: -inf\n",
            "[LightGBM] [Warning] No further splits with positive gain, best gain: -inf\n",
            "[LightGBM] [Warning] No further splits with positive gain, best gain: -inf\n",
            "[LightGBM] [Warning] No further splits with positive gain, best gain: -inf\n",
            "[LightGBM] [Warning] No further splits with positive gain, best gain: -inf\n",
            "[LightGBM] [Warning] No further splits with positive gain, best gain: -inf\n",
            "[LightGBM] [Warning] No further splits with positive gain, best gain: -inf\n",
            "[LightGBM] [Warning] No further splits with positive gain, best gain: -inf\n",
            "[LightGBM] [Warning] No further splits with positive gain, best gain: -inf\n",
            "[LightGBM] [Warning] No further splits with positive gain, best gain: -inf\n",
            "[LightGBM] [Warning] No further splits with positive gain, best gain: -inf\n",
            "[LightGBM] [Warning] No further splits with positive gain, best gain: -inf\n",
            "[LightGBM] [Warning] No further splits with positive gain, best gain: -inf\n",
            "[LightGBM] [Warning] No further splits with positive gain, best gain: -inf\n",
            "[LightGBM] [Warning] No further splits with positive gain, best gain: -inf\n",
            "[LightGBM] [Warning] No further splits with positive gain, best gain: -inf\n",
            "[LightGBM] [Warning] No further splits with positive gain, best gain: -inf\n",
            "[LightGBM] [Warning] No further splits with positive gain, best gain: -inf\n",
            "[LightGBM] [Warning] No further splits with positive gain, best gain: -inf\n",
            "[LightGBM] [Warning] No further splits with positive gain, best gain: -inf\n",
            "[LightGBM] [Warning] No further splits with positive gain, best gain: -inf\n",
            "[LightGBM] [Warning] No further splits with positive gain, best gain: -inf\n",
            "[LightGBM] [Warning] No further splits with positive gain, best gain: -inf\n",
            "[LightGBM] [Warning] No further splits with positive gain, best gain: -inf\n",
            "[LightGBM] [Warning] No further splits with positive gain, best gain: -inf\n",
            "[LightGBM] [Warning] No further splits with positive gain, best gain: -inf\n",
            "[LightGBM] [Warning] No further splits with positive gain, best gain: -inf\n",
            "[LightGBM] [Warning] No further splits with positive gain, best gain: -inf\n",
            "[LightGBM] [Warning] No further splits with positive gain, best gain: -inf\n",
            "[LightGBM] [Warning] No further splits with positive gain, best gain: -inf\n",
            "[LightGBM] [Warning] No further splits with positive gain, best gain: -inf\n",
            "[LightGBM] [Warning] No further splits with positive gain, best gain: -inf\n",
            "[LightGBM] [Warning] No further splits with positive gain, best gain: -inf\n",
            "[LightGBM] [Warning] No further splits with positive gain, best gain: -inf\n",
            "[LightGBM] [Warning] Accuracy may be bad since you didn't explicitly set num_leaves OR 2^max_depth > num_leaves. (num_leaves=31).\n",
            "[LightGBM] [Warning] Accuracy may be bad since you didn't explicitly set num_leaves OR 2^max_depth > num_leaves. (num_leaves=31).\n",
            "[LightGBM] [Warning] Accuracy may be bad since you didn't explicitly set num_leaves OR 2^max_depth > num_leaves. (num_leaves=31).\n",
            "[LightGBM] [Info] Number of positive: 934, number of negative: 1137\n",
            "[LightGBM] [Info] Auto-choosing row-wise multi-threading, the overhead of testing was 0.000598 seconds.\n",
            "You can set `force_row_wise=true` to remove the overhead.\n",
            "And if memory is not enough, you can set `force_col_wise=true`.\n",
            "[LightGBM] [Info] Total Bins 804\n",
            "[LightGBM] [Info] Number of data points in the train set: 2071, number of used features: 20\n",
            "[LightGBM] [Info] [binary:BoostFromScore]: pavg=0.450990 -> initscore=-0.196672\n",
            "[LightGBM] [Info] Start training from score -0.196672\n",
            "[LightGBM] [Warning] No further splits with positive gain, best gain: -inf\n",
            "[LightGBM] [Warning] No further splits with positive gain, best gain: -inf\n",
            "[LightGBM] [Warning] No further splits with positive gain, best gain: -inf\n",
            "[LightGBM] [Warning] No further splits with positive gain, best gain: -inf\n",
            "[LightGBM] [Warning] No further splits with positive gain, best gain: -inf\n",
            "[LightGBM] [Warning] No further splits with positive gain, best gain: -inf\n",
            "[LightGBM] [Warning] No further splits with positive gain, best gain: -inf\n",
            "[LightGBM] [Warning] No further splits with positive gain, best gain: -inf\n",
            "[LightGBM] [Warning] No further splits with positive gain, best gain: -inf\n",
            "[LightGBM] [Warning] No further splits with positive gain, best gain: -inf\n",
            "[LightGBM] [Warning] No further splits with positive gain, best gain: -inf\n",
            "[LightGBM] [Warning] No further splits with positive gain, best gain: -inf\n",
            "[LightGBM] [Warning] No further splits with positive gain, best gain: -inf\n",
            "[LightGBM] [Warning] No further splits with positive gain, best gain: -inf\n",
            "[LightGBM] [Warning] No further splits with positive gain, best gain: -inf\n",
            "[LightGBM] [Warning] No further splits with positive gain, best gain: -inf\n",
            "[LightGBM] [Warning] No further splits with positive gain, best gain: -inf\n",
            "[LightGBM] [Warning] No further splits with positive gain, best gain: -inf\n",
            "[LightGBM] [Warning] No further splits with positive gain, best gain: -inf\n",
            "[LightGBM] [Warning] No further splits with positive gain, best gain: -inf\n",
            "[LightGBM] [Warning] No further splits with positive gain, best gain: -inf\n",
            "[LightGBM] [Warning] No further splits with positive gain, best gain: -inf\n",
            "[LightGBM] [Warning] No further splits with positive gain, best gain: -inf\n",
            "[LightGBM] [Warning] No further splits with positive gain, best gain: -inf\n",
            "[LightGBM] [Warning] No further splits with positive gain, best gain: -inf\n",
            "[LightGBM] [Warning] No further splits with positive gain, best gain: -inf\n",
            "[LightGBM] [Warning] No further splits with positive gain, best gain: -inf\n",
            "[LightGBM] [Warning] No further splits with positive gain, best gain: -inf\n",
            "[LightGBM] [Warning] No further splits with positive gain, best gain: -inf\n",
            "[LightGBM] [Warning] No further splits with positive gain, best gain: -inf\n",
            "[LightGBM] [Warning] No further splits with positive gain, best gain: -inf\n",
            "[LightGBM] [Warning] No further splits with positive gain, best gain: -inf\n",
            "[LightGBM] [Warning] No further splits with positive gain, best gain: -inf\n",
            "[LightGBM] [Warning] No further splits with positive gain, best gain: -inf\n",
            "[LightGBM] [Warning] No further splits with positive gain, best gain: -inf\n",
            "[LightGBM] [Warning] No further splits with positive gain, best gain: -inf\n",
            "[LightGBM] [Warning] No further splits with positive gain, best gain: -inf\n",
            "[LightGBM] [Warning] No further splits with positive gain, best gain: -inf\n",
            "[LightGBM] [Warning] No further splits with positive gain, best gain: -inf\n",
            "[LightGBM] [Warning] No further splits with positive gain, best gain: -inf\n",
            "[LightGBM] [Warning] No further splits with positive gain, best gain: -inf\n",
            "[LightGBM] [Warning] No further splits with positive gain, best gain: -inf\n",
            "[LightGBM] [Warning] No further splits with positive gain, best gain: -inf\n",
            "[LightGBM] [Warning] No further splits with positive gain, best gain: -inf\n",
            "[LightGBM] [Warning] No further splits with positive gain, best gain: -inf\n",
            "[LightGBM] [Warning] No further splits with positive gain, best gain: -inf\n",
            "[LightGBM] [Warning] No further splits with positive gain, best gain: -inf\n",
            "[LightGBM] [Warning] No further splits with positive gain, best gain: -inf\n",
            "[LightGBM] [Warning] No further splits with positive gain, best gain: -inf\n",
            "[LightGBM] [Warning] No further splits with positive gain, best gain: -inf\n",
            "[LightGBM] [Warning] No further splits with positive gain, best gain: -inf\n",
            "[LightGBM] [Warning] No further splits with positive gain, best gain: -inf\n",
            "[LightGBM] [Warning] No further splits with positive gain, best gain: -inf\n",
            "[LightGBM] [Warning] No further splits with positive gain, best gain: -inf\n",
            "[LightGBM] [Warning] No further splits with positive gain, best gain: -inf\n",
            "[LightGBM] [Warning] No further splits with positive gain, best gain: -inf\n",
            "[LightGBM] [Warning] No further splits with positive gain, best gain: -inf\n",
            "[LightGBM] [Warning] No further splits with positive gain, best gain: -inf\n",
            "[LightGBM] [Warning] No further splits with positive gain, best gain: -inf\n",
            "[LightGBM] [Warning] No further splits with positive gain, best gain: -inf\n",
            "[LightGBM] [Warning] No further splits with positive gain, best gain: -inf\n",
            "[LightGBM] [Warning] No further splits with positive gain, best gain: -inf\n",
            "[LightGBM] [Warning] No further splits with positive gain, best gain: -inf\n",
            "[LightGBM] [Warning] No further splits with positive gain, best gain: -inf\n",
            "[LightGBM] [Warning] No further splits with positive gain, best gain: -inf\n",
            "[LightGBM] [Warning] No further splits with positive gain, best gain: -inf\n",
            "[LightGBM] [Warning] No further splits with positive gain, best gain: -inf\n",
            "[LightGBM] [Warning] Accuracy may be bad since you didn't explicitly set num_leaves OR 2^max_depth > num_leaves. (num_leaves=31).\n",
            "[LightGBM] [Warning] Accuracy may be bad since you didn't explicitly set num_leaves OR 2^max_depth > num_leaves. (num_leaves=31).\n",
            "[LightGBM] [Warning] Accuracy may be bad since you didn't explicitly set num_leaves OR 2^max_depth > num_leaves. (num_leaves=31).\n",
            "[LightGBM] [Info] Number of positive: 934, number of negative: 1137\n",
            "[LightGBM] [Info] Auto-choosing row-wise multi-threading, the overhead of testing was 0.000660 seconds.\n",
            "You can set `force_row_wise=true` to remove the overhead.\n",
            "And if memory is not enough, you can set `force_col_wise=true`.\n",
            "[LightGBM] [Info] Total Bins 792\n",
            "[LightGBM] [Info] Number of data points in the train set: 2071, number of used features: 20\n",
            "[LightGBM] [Info] [binary:BoostFromScore]: pavg=0.450990 -> initscore=-0.196672\n",
            "[LightGBM] [Info] Start training from score -0.196672\n",
            "[LightGBM] [Warning] No further splits with positive gain, best gain: -inf\n",
            "[LightGBM] [Warning] No further splits with positive gain, best gain: -inf\n",
            "[LightGBM] [Warning] No further splits with positive gain, best gain: -inf\n",
            "[LightGBM] [Warning] No further splits with positive gain, best gain: -inf\n",
            "[LightGBM] [Warning] No further splits with positive gain, best gain: -inf\n",
            "[LightGBM] [Warning] No further splits with positive gain, best gain: -inf\n",
            "[LightGBM] [Warning] No further splits with positive gain, best gain: -inf\n",
            "[LightGBM] [Warning] No further splits with positive gain, best gain: -inf\n",
            "[LightGBM] [Warning] No further splits with positive gain, best gain: -inf\n",
            "[LightGBM] [Warning] No further splits with positive gain, best gain: -inf\n",
            "[LightGBM] [Warning] No further splits with positive gain, best gain: -inf\n",
            "[LightGBM] [Warning] No further splits with positive gain, best gain: -inf\n",
            "[LightGBM] [Warning] No further splits with positive gain, best gain: -inf\n",
            "[LightGBM] [Warning] No further splits with positive gain, best gain: -inf\n",
            "[LightGBM] [Warning] No further splits with positive gain, best gain: -inf\n",
            "[LightGBM] [Warning] No further splits with positive gain, best gain: -inf\n",
            "[LightGBM] [Warning] No further splits with positive gain, best gain: -inf\n",
            "[LightGBM] [Warning] No further splits with positive gain, best gain: -inf\n",
            "[LightGBM] [Warning] No further splits with positive gain, best gain: -inf\n",
            "[LightGBM] [Warning] No further splits with positive gain, best gain: -inf\n",
            "[LightGBM] [Warning] No further splits with positive gain, best gain: -inf\n",
            "[LightGBM] [Warning] No further splits with positive gain, best gain: -inf\n",
            "[LightGBM] [Warning] No further splits with positive gain, best gain: -inf\n",
            "[LightGBM] [Warning] No further splits with positive gain, best gain: -inf\n",
            "[LightGBM] [Warning] No further splits with positive gain, best gain: -inf\n",
            "[LightGBM] [Warning] No further splits with positive gain, best gain: -inf\n",
            "[LightGBM] [Warning] No further splits with positive gain, best gain: -inf\n",
            "[LightGBM] [Warning] No further splits with positive gain, best gain: -inf\n",
            "[LightGBM] [Warning] No further splits with positive gain, best gain: -inf\n",
            "[LightGBM] [Warning] No further splits with positive gain, best gain: -inf\n",
            "[LightGBM] [Warning] No further splits with positive gain, best gain: -inf\n",
            "[LightGBM] [Warning] No further splits with positive gain, best gain: -inf\n",
            "[LightGBM] [Warning] No further splits with positive gain, best gain: -inf\n",
            "[LightGBM] [Warning] No further splits with positive gain, best gain: -inf\n",
            "[LightGBM] [Warning] No further splits with positive gain, best gain: -inf\n",
            "[LightGBM] [Warning] No further splits with positive gain, best gain: -inf\n",
            "[LightGBM] [Warning] No further splits with positive gain, best gain: -inf\n",
            "[LightGBM] [Warning] No further splits with positive gain, best gain: -inf\n",
            "[LightGBM] [Warning] No further splits with positive gain, best gain: -inf\n",
            "[LightGBM] [Warning] No further splits with positive gain, best gain: -inf\n",
            "[LightGBM] [Warning] No further splits with positive gain, best gain: -inf\n",
            "[LightGBM] [Warning] No further splits with positive gain, best gain: -inf\n",
            "[LightGBM] [Warning] No further splits with positive gain, best gain: -inf\n",
            "[LightGBM] [Warning] No further splits with positive gain, best gain: -inf\n",
            "[LightGBM] [Warning] No further splits with positive gain, best gain: -inf\n",
            "[LightGBM] [Warning] No further splits with positive gain, best gain: -inf\n",
            "[LightGBM] [Warning] No further splits with positive gain, best gain: -inf\n",
            "[LightGBM] [Warning] No further splits with positive gain, best gain: -inf\n",
            "[LightGBM] [Warning] No further splits with positive gain, best gain: -inf\n",
            "[LightGBM] [Warning] No further splits with positive gain, best gain: -inf\n",
            "[LightGBM] [Warning] No further splits with positive gain, best gain: -inf\n",
            "[LightGBM] [Warning] No further splits with positive gain, best gain: -inf\n",
            "[LightGBM] [Warning] No further splits with positive gain, best gain: -inf\n",
            "[LightGBM] [Warning] No further splits with positive gain, best gain: -inf\n",
            "[LightGBM] [Warning] No further splits with positive gain, best gain: -inf\n",
            "[LightGBM] [Warning] No further splits with positive gain, best gain: -inf\n",
            "[LightGBM] [Warning] No further splits with positive gain, best gain: -inf\n",
            "[LightGBM] [Warning] No further splits with positive gain, best gain: -inf\n",
            "[LightGBM] [Warning] No further splits with positive gain, best gain: -inf\n",
            "[LightGBM] [Warning] No further splits with positive gain, best gain: -inf\n",
            "[LightGBM] [Warning] No further splits with positive gain, best gain: -inf\n",
            "[LightGBM] [Warning] Accuracy may be bad since you didn't explicitly set num_leaves OR 2^max_depth > num_leaves. (num_leaves=31).\n",
            "[LightGBM] [Warning] Accuracy may be bad since you didn't explicitly set num_leaves OR 2^max_depth > num_leaves. (num_leaves=31).\n",
            "[LightGBM] [Warning] Accuracy may be bad since you didn't explicitly set num_leaves OR 2^max_depth > num_leaves. (num_leaves=31).\n",
            "[LightGBM] [Info] Number of positive: 934, number of negative: 1138\n",
            "[LightGBM] [Info] Auto-choosing row-wise multi-threading, the overhead of testing was 0.000711 seconds.\n",
            "You can set `force_row_wise=true` to remove the overhead.\n",
            "And if memory is not enough, you can set `force_col_wise=true`.\n",
            "[LightGBM] [Info] Total Bins 757\n",
            "[LightGBM] [Info] Number of data points in the train set: 2072, number of used features: 20\n",
            "[LightGBM] [Info] [binary:BoostFromScore]: pavg=0.450772 -> initscore=-0.197551\n",
            "[LightGBM] [Info] Start training from score -0.197551\n",
            "[LightGBM] [Warning] No further splits with positive gain, best gain: -inf\n",
            "[LightGBM] [Warning] No further splits with positive gain, best gain: -inf\n",
            "[LightGBM] [Warning] No further splits with positive gain, best gain: -inf\n",
            "[LightGBM] [Warning] No further splits with positive gain, best gain: -inf\n",
            "[LightGBM] [Warning] No further splits with positive gain, best gain: -inf\n",
            "[LightGBM] [Warning] No further splits with positive gain, best gain: -inf\n",
            "[LightGBM] [Warning] No further splits with positive gain, best gain: -inf\n",
            "[LightGBM] [Warning] No further splits with positive gain, best gain: -inf\n",
            "[LightGBM] [Warning] No further splits with positive gain, best gain: -inf\n",
            "[LightGBM] [Warning] No further splits with positive gain, best gain: -inf\n",
            "[LightGBM] [Warning] No further splits with positive gain, best gain: -inf\n",
            "[LightGBM] [Warning] No further splits with positive gain, best gain: -inf\n",
            "[LightGBM] [Warning] No further splits with positive gain, best gain: -inf\n",
            "[LightGBM] [Warning] No further splits with positive gain, best gain: -inf\n",
            "[LightGBM] [Warning] No further splits with positive gain, best gain: -inf\n",
            "[LightGBM] [Warning] No further splits with positive gain, best gain: -inf\n",
            "[LightGBM] [Warning] No further splits with positive gain, best gain: -inf\n",
            "[LightGBM] [Warning] No further splits with positive gain, best gain: -inf\n",
            "[LightGBM] [Warning] No further splits with positive gain, best gain: -inf\n",
            "[LightGBM] [Warning] No further splits with positive gain, best gain: -inf\n",
            "[LightGBM] [Warning] No further splits with positive gain, best gain: -inf\n",
            "[LightGBM] [Warning] No further splits with positive gain, best gain: -inf\n",
            "[LightGBM] [Warning] No further splits with positive gain, best gain: -inf\n",
            "[LightGBM] [Warning] No further splits with positive gain, best gain: -inf\n",
            "[LightGBM] [Warning] No further splits with positive gain, best gain: -inf\n",
            "[LightGBM] [Warning] No further splits with positive gain, best gain: -inf\n",
            "[LightGBM] [Warning] No further splits with positive gain, best gain: -inf\n",
            "[LightGBM] [Warning] No further splits with positive gain, best gain: -inf\n",
            "[LightGBM] [Warning] No further splits with positive gain, best gain: -inf\n",
            "[LightGBM] [Warning] No further splits with positive gain, best gain: -inf\n",
            "[LightGBM] [Warning] No further splits with positive gain, best gain: -inf\n",
            "[LightGBM] [Warning] No further splits with positive gain, best gain: -inf\n",
            "[LightGBM] [Warning] No further splits with positive gain, best gain: -inf\n",
            "[LightGBM] [Warning] No further splits with positive gain, best gain: -inf\n",
            "[LightGBM] [Warning] No further splits with positive gain, best gain: -inf\n",
            "[LightGBM] [Warning] No further splits with positive gain, best gain: -inf\n",
            "[LightGBM] [Warning] No further splits with positive gain, best gain: -inf\n",
            "[LightGBM] [Warning] No further splits with positive gain, best gain: -inf\n",
            "[LightGBM] [Warning] No further splits with positive gain, best gain: -inf\n",
            "[LightGBM] [Warning] No further splits with positive gain, best gain: -inf\n",
            "[LightGBM] [Warning] No further splits with positive gain, best gain: -inf\n",
            "[LightGBM] [Warning] No further splits with positive gain, best gain: -inf\n",
            "[LightGBM] [Warning] No further splits with positive gain, best gain: -inf\n",
            "[LightGBM] [Warning] No further splits with positive gain, best gain: -inf\n",
            "[LightGBM] [Warning] No further splits with positive gain, best gain: -inf\n",
            "[LightGBM] [Warning] No further splits with positive gain, best gain: -inf\n",
            "[LightGBM] [Warning] No further splits with positive gain, best gain: -inf\n",
            "[LightGBM] [Warning] No further splits with positive gain, best gain: -inf\n",
            "[LightGBM] [Warning] No further splits with positive gain, best gain: -inf\n",
            "[LightGBM] [Warning] No further splits with positive gain, best gain: -inf\n",
            "[LightGBM] [Warning] No further splits with positive gain, best gain: -inf\n",
            "[LightGBM] [Warning] No further splits with positive gain, best gain: -inf\n",
            "[LightGBM] [Warning] No further splits with positive gain, best gain: -inf\n",
            "[LightGBM] [Warning] No further splits with positive gain, best gain: -inf\n",
            "[LightGBM] [Warning] No further splits with positive gain, best gain: -inf\n",
            "[LightGBM] [Warning] No further splits with positive gain, best gain: -inf\n",
            "[LightGBM] [Warning] No further splits with positive gain, best gain: -inf\n",
            "[LightGBM] [Warning] No further splits with positive gain, best gain: -inf\n",
            "[LightGBM] [Warning] No further splits with positive gain, best gain: -inf\n",
            "[LightGBM] [Warning] No further splits with positive gain, best gain: -inf\n",
            "[LightGBM] [Warning] No further splits with positive gain, best gain: -inf\n",
            "[LightGBM] [Warning] No further splits with positive gain, best gain: -inf\n",
            "[LightGBM] [Warning] No further splits with positive gain, best gain: -inf\n",
            "[LightGBM] [Warning] No further splits with positive gain, best gain: -inf\n",
            "[LightGBM] [Warning] No further splits with positive gain, best gain: -inf\n",
            "[LightGBM] [Warning] No further splits with positive gain, best gain: -inf\n",
            "[LightGBM] [Warning] No further splits with positive gain, best gain: -inf\n",
            "[LightGBM] [Warning] No further splits with positive gain, best gain: -inf\n",
            "[LightGBM] [Warning] No further splits with positive gain, best gain: -inf\n",
            "[LightGBM] [Warning] Accuracy may be bad since you didn't explicitly set num_leaves OR 2^max_depth > num_leaves. (num_leaves=31).\n",
            "0:\tlearn: 0.5696024\ttotal: 11.7ms\tremaining: 620ms\n",
            "1:\tlearn: 0.4817789\ttotal: 22.8ms\tremaining: 593ms\n",
            "2:\tlearn: 0.4185103\ttotal: 35.8ms\tremaining: 608ms\n",
            "3:\tlearn: 0.3791606\ttotal: 47.4ms\tremaining: 592ms\n",
            "4:\tlearn: 0.3518888\ttotal: 58.8ms\tremaining: 576ms\n",
            "5:\tlearn: 0.3241994\ttotal: 70.3ms\tremaining: 562ms\n",
            "6:\tlearn: 0.2827686\ttotal: 91ms\tremaining: 611ms\n",
            "7:\tlearn: 0.2698940\ttotal: 102ms\tremaining: 589ms\n",
            "8:\tlearn: 0.2546695\ttotal: 114ms\tremaining: 568ms\n",
            "9:\tlearn: 0.2449664\ttotal: 125ms\tremaining: 549ms\n",
            "10:\tlearn: 0.2299477\ttotal: 136ms\tremaining: 532ms\n",
            "11:\tlearn: 0.2226546\ttotal: 147ms\tremaining: 515ms\n",
            "12:\tlearn: 0.2141899\ttotal: 158ms\tremaining: 499ms\n",
            "13:\tlearn: 0.2061985\ttotal: 170ms\tremaining: 484ms\n",
            "14:\tlearn: 0.1972761\ttotal: 182ms\tremaining: 472ms\n",
            "15:\tlearn: 0.1910765\ttotal: 193ms\tremaining: 458ms\n",
            "16:\tlearn: 0.1836649\ttotal: 204ms\tremaining: 445ms\n",
            "17:\tlearn: 0.1738331\ttotal: 218ms\tremaining: 436ms\n",
            "18:\tlearn: 0.1654526\ttotal: 233ms\tremaining: 429ms\n",
            "19:\tlearn: 0.1598353\ttotal: 248ms\tremaining: 421ms\n",
            "20:\tlearn: 0.1544173\ttotal: 260ms\tremaining: 408ms\n",
            "21:\tlearn: 0.1451162\ttotal: 271ms\tremaining: 394ms\n",
            "22:\tlearn: 0.1407089\ttotal: 282ms\tremaining: 380ms\n",
            "23:\tlearn: 0.1382963\ttotal: 297ms\tremaining: 372ms\n",
            "24:\tlearn: 0.1348170\ttotal: 308ms\tremaining: 358ms\n",
            "25:\tlearn: 0.1296387\ttotal: 319ms\tremaining: 344ms\n",
            "26:\tlearn: 0.1250658\ttotal: 331ms\tremaining: 331ms\n",
            "27:\tlearn: 0.1178541\ttotal: 342ms\tremaining: 318ms\n",
            "28:\tlearn: 0.1138845\ttotal: 354ms\tremaining: 305ms\n",
            "29:\tlearn: 0.1104192\ttotal: 365ms\tremaining: 292ms\n",
            "30:\tlearn: 0.1053852\ttotal: 377ms\tremaining: 279ms\n",
            "31:\tlearn: 0.1020784\ttotal: 388ms\tremaining: 267ms\n",
            "32:\tlearn: 0.0991338\ttotal: 399ms\tremaining: 254ms\n",
            "33:\tlearn: 0.0972773\ttotal: 406ms\tremaining: 239ms\n",
            "34:\tlearn: 0.0936382\ttotal: 417ms\tremaining: 226ms\n",
            "35:\tlearn: 0.0889772\ttotal: 428ms\tremaining: 214ms\n",
            "36:\tlearn: 0.0846142\ttotal: 439ms\tremaining: 202ms\n",
            "37:\tlearn: 0.0832861\ttotal: 450ms\tremaining: 190ms\n",
            "38:\tlearn: 0.0799173\ttotal: 462ms\tremaining: 178ms\n",
            "39:\tlearn: 0.0762681\ttotal: 473ms\tremaining: 166ms\n",
            "40:\tlearn: 0.0736805\ttotal: 485ms\tremaining: 154ms\n",
            "41:\tlearn: 0.0717339\ttotal: 501ms\tremaining: 143ms\n",
            "42:\tlearn: 0.0697035\ttotal: 514ms\tremaining: 132ms\n",
            "43:\tlearn: 0.0684256\ttotal: 525ms\tremaining: 119ms\n",
            "44:\tlearn: 0.0666267\ttotal: 537ms\tremaining: 107ms\n",
            "45:\tlearn: 0.0665406\ttotal: 540ms\tremaining: 93.8ms\n",
            "46:\tlearn: 0.0655681\ttotal: 551ms\tremaining: 82.1ms\n",
            "47:\tlearn: 0.0654344\ttotal: 564ms\tremaining: 70.4ms\n",
            "48:\tlearn: 0.0652842\ttotal: 575ms\tremaining: 58.7ms\n",
            "49:\tlearn: 0.0637021\ttotal: 587ms\tremaining: 47ms\n",
            "50:\tlearn: 0.0604804\ttotal: 600ms\tremaining: 35.3ms\n",
            "51:\tlearn: 0.0586486\ttotal: 611ms\tremaining: 23.5ms\n",
            "52:\tlearn: 0.0585219\ttotal: 614ms\tremaining: 11.6ms\n",
            "53:\tlearn: 0.0556119\ttotal: 625ms\tremaining: 0us\n",
            "0:\tlearn: 0.5702106\ttotal: 26.6ms\tremaining: 1.41s\n",
            "1:\tlearn: 0.4826610\ttotal: 57.8ms\tremaining: 1.5s\n",
            "2:\tlearn: 0.4074570\ttotal: 83.6ms\tremaining: 1.42s\n",
            "3:\tlearn: 0.3723331\ttotal: 112ms\tremaining: 1.4s\n",
            "4:\tlearn: 0.3323726\ttotal: 139ms\tremaining: 1.36s\n",
            "5:\tlearn: 0.3039677\ttotal: 165ms\tremaining: 1.32s\n",
            "6:\tlearn: 0.2798247\ttotal: 183ms\tremaining: 1.23s\n",
            "7:\tlearn: 0.2646027\ttotal: 209ms\tremaining: 1.2s\n",
            "8:\tlearn: 0.2495207\ttotal: 235ms\tremaining: 1.18s\n",
            "9:\tlearn: 0.2394460\ttotal: 258ms\tremaining: 1.14s\n",
            "10:\tlearn: 0.2254507\ttotal: 282ms\tremaining: 1.1s\n",
            "11:\tlearn: 0.2177605\ttotal: 304ms\tremaining: 1.06s\n",
            "12:\tlearn: 0.2058490\ttotal: 324ms\tremaining: 1.02s\n",
            "13:\tlearn: 0.1996722\ttotal: 346ms\tremaining: 990ms\n",
            "14:\tlearn: 0.1896808\ttotal: 368ms\tremaining: 957ms\n",
            "15:\tlearn: 0.1846502\ttotal: 390ms\tremaining: 926ms\n",
            "16:\tlearn: 0.1690721\ttotal: 411ms\tremaining: 895ms\n",
            "17:\tlearn: 0.1660580\ttotal: 439ms\tremaining: 878ms\n",
            "18:\tlearn: 0.1607538\ttotal: 461ms\tremaining: 849ms\n",
            "19:\tlearn: 0.1537651\ttotal: 485ms\tremaining: 825ms\n",
            "20:\tlearn: 0.1514913\ttotal: 503ms\tremaining: 791ms\n",
            "21:\tlearn: 0.1440530\ttotal: 521ms\tremaining: 758ms\n",
            "22:\tlearn: 0.1410931\ttotal: 535ms\tremaining: 721ms\n",
            "23:\tlearn: 0.1365637\ttotal: 548ms\tremaining: 685ms\n",
            "24:\tlearn: 0.1324508\ttotal: 563ms\tremaining: 653ms\n",
            "25:\tlearn: 0.1277555\ttotal: 576ms\tremaining: 620ms\n",
            "26:\tlearn: 0.1233136\ttotal: 592ms\tremaining: 592ms\n",
            "27:\tlearn: 0.1207118\ttotal: 618ms\tremaining: 574ms\n",
            "28:\tlearn: 0.1192262\ttotal: 645ms\tremaining: 556ms\n",
            "29:\tlearn: 0.1160921\ttotal: 669ms\tremaining: 536ms\n",
            "30:\tlearn: 0.1121669\ttotal: 695ms\tremaining: 516ms\n",
            "31:\tlearn: 0.1068790\ttotal: 714ms\tremaining: 491ms\n",
            "32:\tlearn: 0.1016918\ttotal: 730ms\tremaining: 464ms\n",
            "33:\tlearn: 0.0984144\ttotal: 746ms\tremaining: 439ms\n",
            "34:\tlearn: 0.0958370\ttotal: 760ms\tremaining: 413ms\n",
            "35:\tlearn: 0.0932787\ttotal: 774ms\tremaining: 387ms\n",
            "36:\tlearn: 0.0897255\ttotal: 797ms\tremaining: 366ms\n",
            "37:\tlearn: 0.0877047\ttotal: 819ms\tremaining: 345ms\n",
            "38:\tlearn: 0.0856030\ttotal: 845ms\tremaining: 325ms\n",
            "39:\tlearn: 0.0829326\ttotal: 868ms\tremaining: 304ms\n",
            "40:\tlearn: 0.0815970\ttotal: 895ms\tremaining: 284ms\n",
            "41:\tlearn: 0.0795790\ttotal: 917ms\tremaining: 262ms\n",
            "42:\tlearn: 0.0782459\ttotal: 940ms\tremaining: 241ms\n",
            "43:\tlearn: 0.0754080\ttotal: 963ms\tremaining: 219ms\n",
            "44:\tlearn: 0.0738903\ttotal: 980ms\tremaining: 196ms\n",
            "45:\tlearn: 0.0717623\ttotal: 999ms\tremaining: 174ms\n",
            "46:\tlearn: 0.0706300\ttotal: 1.02s\tremaining: 152ms\n",
            "47:\tlearn: 0.0697058\ttotal: 1.04s\tremaining: 131ms\n",
            "48:\tlearn: 0.0683647\ttotal: 1.07s\tremaining: 109ms\n",
            "49:\tlearn: 0.0643217\ttotal: 1.09s\tremaining: 87.6ms\n",
            "50:\tlearn: 0.0626256\ttotal: 1.12s\tremaining: 65.8ms\n",
            "51:\tlearn: 0.0599388\ttotal: 1.14s\tremaining: 44ms\n",
            "52:\tlearn: 0.0580399\ttotal: 1.17s\tremaining: 22ms\n",
            "53:\tlearn: 0.0561696\ttotal: 1.19s\tremaining: 0us\n",
            "0:\tlearn: 0.5764896\ttotal: 24.6ms\tremaining: 1.3s\n",
            "1:\tlearn: 0.4819148\ttotal: 48.4ms\tremaining: 1.26s\n",
            "2:\tlearn: 0.4148659\ttotal: 69.9ms\tremaining: 1.19s\n",
            "3:\tlearn: 0.3705483\ttotal: 96.3ms\tremaining: 1.2s\n",
            "4:\tlearn: 0.3324766\ttotal: 120ms\tremaining: 1.17s\n",
            "5:\tlearn: 0.3050034\ttotal: 144ms\tremaining: 1.15s\n",
            "6:\tlearn: 0.2649221\ttotal: 169ms\tremaining: 1.13s\n",
            "7:\tlearn: 0.2497192\ttotal: 191ms\tremaining: 1.09s\n",
            "8:\tlearn: 0.2289873\ttotal: 207ms\tremaining: 1.03s\n",
            "9:\tlearn: 0.2145527\ttotal: 226ms\tremaining: 996ms\n",
            "10:\tlearn: 0.2000902\ttotal: 251ms\tremaining: 980ms\n",
            "11:\tlearn: 0.1881543\ttotal: 275ms\tremaining: 961ms\n",
            "12:\tlearn: 0.1727861\ttotal: 298ms\tremaining: 941ms\n",
            "13:\tlearn: 0.1676298\ttotal: 324ms\tremaining: 926ms\n",
            "14:\tlearn: 0.1619850\ttotal: 345ms\tremaining: 897ms\n",
            "15:\tlearn: 0.1544220\ttotal: 370ms\tremaining: 879ms\n",
            "16:\tlearn: 0.1504774\ttotal: 393ms\tremaining: 856ms\n",
            "17:\tlearn: 0.1459766\ttotal: 418ms\tremaining: 836ms\n",
            "18:\tlearn: 0.1415038\ttotal: 444ms\tremaining: 818ms\n",
            "19:\tlearn: 0.1375952\ttotal: 466ms\tremaining: 793ms\n",
            "20:\tlearn: 0.1298565\ttotal: 489ms\tremaining: 769ms\n",
            "21:\tlearn: 0.1199915\ttotal: 512ms\tremaining: 745ms\n",
            "22:\tlearn: 0.1145523\ttotal: 537ms\tremaining: 724ms\n",
            "23:\tlearn: 0.1102378\ttotal: 562ms\tremaining: 703ms\n",
            "24:\tlearn: 0.1038713\ttotal: 586ms\tremaining: 679ms\n",
            "25:\tlearn: 0.0990167\ttotal: 607ms\tremaining: 654ms\n",
            "26:\tlearn: 0.0947660\ttotal: 634ms\tremaining: 634ms\n",
            "27:\tlearn: 0.0915675\ttotal: 664ms\tremaining: 617ms\n",
            "28:\tlearn: 0.0869686\ttotal: 686ms\tremaining: 592ms\n",
            "29:\tlearn: 0.0841312\ttotal: 710ms\tremaining: 568ms\n",
            "30:\tlearn: 0.0813668\ttotal: 734ms\tremaining: 545ms\n",
            "31:\tlearn: 0.0784250\ttotal: 759ms\tremaining: 522ms\n",
            "32:\tlearn: 0.0760318\ttotal: 778ms\tremaining: 495ms\n",
            "33:\tlearn: 0.0742033\ttotal: 792ms\tremaining: 466ms\n",
            "34:\tlearn: 0.0723218\ttotal: 809ms\tremaining: 439ms\n",
            "35:\tlearn: 0.0699247\ttotal: 826ms\tremaining: 413ms\n",
            "36:\tlearn: 0.0681988\ttotal: 848ms\tremaining: 390ms\n",
            "37:\tlearn: 0.0672651\ttotal: 879ms\tremaining: 370ms\n",
            "38:\tlearn: 0.0652987\ttotal: 896ms\tremaining: 345ms\n",
            "39:\tlearn: 0.0625066\ttotal: 919ms\tremaining: 322ms\n",
            "40:\tlearn: 0.0610826\ttotal: 942ms\tremaining: 299ms\n",
            "41:\tlearn: 0.0591375\ttotal: 966ms\tremaining: 276ms\n",
            "42:\tlearn: 0.0575770\ttotal: 991ms\tremaining: 254ms\n",
            "43:\tlearn: 0.0553143\ttotal: 1.01s\tremaining: 230ms\n",
            "44:\tlearn: 0.0536124\ttotal: 1.03s\tremaining: 206ms\n",
            "45:\tlearn: 0.0519282\ttotal: 1.06s\tremaining: 184ms\n",
            "46:\tlearn: 0.0510474\ttotal: 1.08s\tremaining: 161ms\n",
            "47:\tlearn: 0.0492386\ttotal: 1.11s\tremaining: 138ms\n",
            "48:\tlearn: 0.0489208\ttotal: 1.13s\tremaining: 115ms\n",
            "49:\tlearn: 0.0479063\ttotal: 1.15s\tremaining: 91.8ms\n",
            "50:\tlearn: 0.0468438\ttotal: 1.17s\tremaining: 68.8ms\n",
            "51:\tlearn: 0.0457662\ttotal: 1.19s\tremaining: 46ms\n",
            "52:\tlearn: 0.0445739\ttotal: 1.22s\tremaining: 23ms\n",
            "53:\tlearn: 0.0439168\ttotal: 1.24s\tremaining: 0us\n",
            "0:\tlearn: 0.5545909\ttotal: 23.8ms\tremaining: 1.26s\n",
            "1:\tlearn: 0.4625409\ttotal: 47.5ms\tremaining: 1.24s\n",
            "2:\tlearn: 0.3987827\ttotal: 72ms\tremaining: 1.22s\n",
            "3:\tlearn: 0.3580480\ttotal: 89.7ms\tremaining: 1.12s\n",
            "4:\tlearn: 0.3214308\ttotal: 114ms\tremaining: 1.11s\n",
            "5:\tlearn: 0.2930327\ttotal: 135ms\tremaining: 1.08s\n",
            "6:\tlearn: 0.2685330\ttotal: 160ms\tremaining: 1.08s\n",
            "7:\tlearn: 0.2445588\ttotal: 185ms\tremaining: 1.06s\n",
            "8:\tlearn: 0.2313057\ttotal: 207ms\tremaining: 1.03s\n",
            "9:\tlearn: 0.2201492\ttotal: 231ms\tremaining: 1.01s\n",
            "10:\tlearn: 0.2081299\ttotal: 252ms\tremaining: 986ms\n",
            "11:\tlearn: 0.1986843\ttotal: 274ms\tremaining: 958ms\n",
            "12:\tlearn: 0.1854041\ttotal: 295ms\tremaining: 931ms\n",
            "13:\tlearn: 0.1788864\ttotal: 323ms\tremaining: 924ms\n",
            "14:\tlearn: 0.1692627\ttotal: 346ms\tremaining: 900ms\n",
            "15:\tlearn: 0.1631592\ttotal: 370ms\tremaining: 879ms\n",
            "16:\tlearn: 0.1565904\ttotal: 394ms\tremaining: 857ms\n",
            "17:\tlearn: 0.1505107\ttotal: 416ms\tremaining: 832ms\n",
            "18:\tlearn: 0.1439479\ttotal: 445ms\tremaining: 820ms\n",
            "19:\tlearn: 0.1331168\ttotal: 467ms\tremaining: 794ms\n",
            "20:\tlearn: 0.1261634\ttotal: 490ms\tremaining: 770ms\n",
            "21:\tlearn: 0.1178457\ttotal: 517ms\tremaining: 753ms\n",
            "22:\tlearn: 0.1102856\ttotal: 540ms\tremaining: 728ms\n",
            "23:\tlearn: 0.1079639\ttotal: 562ms\tremaining: 702ms\n",
            "24:\tlearn: 0.1029152\ttotal: 587ms\tremaining: 681ms\n",
            "25:\tlearn: 0.0998216\ttotal: 615ms\tremaining: 663ms\n",
            "26:\tlearn: 0.0967252\ttotal: 639ms\tremaining: 639ms\n",
            "27:\tlearn: 0.0938946\ttotal: 667ms\tremaining: 619ms\n",
            "28:\tlearn: 0.0916023\ttotal: 690ms\tremaining: 595ms\n",
            "29:\tlearn: 0.0884762\ttotal: 712ms\tremaining: 570ms\n",
            "30:\tlearn: 0.0853861\ttotal: 734ms\tremaining: 545ms\n",
            "31:\tlearn: 0.0818892\ttotal: 757ms\tremaining: 520ms\n",
            "32:\tlearn: 0.0785069\ttotal: 780ms\tremaining: 496ms\n",
            "33:\tlearn: 0.0773937\ttotal: 805ms\tremaining: 473ms\n",
            "34:\tlearn: 0.0753927\ttotal: 828ms\tremaining: 449ms\n",
            "35:\tlearn: 0.0738669\ttotal: 856ms\tremaining: 428ms\n",
            "36:\tlearn: 0.0712695\ttotal: 872ms\tremaining: 400ms\n",
            "37:\tlearn: 0.0689592\ttotal: 888ms\tremaining: 374ms\n",
            "38:\tlearn: 0.0671575\ttotal: 904ms\tremaining: 348ms\n",
            "39:\tlearn: 0.0654272\ttotal: 931ms\tremaining: 326ms\n",
            "40:\tlearn: 0.0653342\ttotal: 941ms\tremaining: 298ms\n",
            "41:\tlearn: 0.0619689\ttotal: 964ms\tremaining: 275ms\n",
            "42:\tlearn: 0.0598461\ttotal: 986ms\tremaining: 252ms\n",
            "43:\tlearn: 0.0597923\ttotal: 988ms\tremaining: 225ms\n",
            "44:\tlearn: 0.0580031\ttotal: 1.01s\tremaining: 203ms\n",
            "45:\tlearn: 0.0578590\ttotal: 1.03s\tremaining: 180ms\n",
            "46:\tlearn: 0.0561006\ttotal: 1.06s\tremaining: 158ms\n",
            "47:\tlearn: 0.0543095\ttotal: 1.08s\tremaining: 135ms\n",
            "48:\tlearn: 0.0542234\ttotal: 1.1s\tremaining: 112ms\n",
            "49:\tlearn: 0.0529625\ttotal: 1.12s\tremaining: 89.3ms\n",
            "50:\tlearn: 0.0526946\ttotal: 1.13s\tremaining: 66.7ms\n",
            "51:\tlearn: 0.0507080\ttotal: 1.15s\tremaining: 44.4ms\n",
            "52:\tlearn: 0.0505275\ttotal: 1.18s\tremaining: 22.2ms\n",
            "53:\tlearn: 0.0485962\ttotal: 1.2s\tremaining: 0us\n",
            "0:\tlearn: 0.5611693\ttotal: 28.4ms\tremaining: 1.5s\n",
            "1:\tlearn: 0.4723207\ttotal: 44.1ms\tremaining: 1.15s\n",
            "2:\tlearn: 0.4214691\ttotal: 58.8ms\tremaining: 999ms\n",
            "3:\tlearn: 0.3780931\ttotal: 73.4ms\tremaining: 917ms\n",
            "4:\tlearn: 0.3488716\ttotal: 89.2ms\tremaining: 874ms\n",
            "5:\tlearn: 0.3175314\ttotal: 113ms\tremaining: 907ms\n",
            "6:\tlearn: 0.2942071\ttotal: 135ms\tremaining: 908ms\n",
            "7:\tlearn: 0.2722994\ttotal: 157ms\tremaining: 903ms\n",
            "8:\tlearn: 0.2575300\ttotal: 181ms\tremaining: 905ms\n",
            "9:\tlearn: 0.2490016\ttotal: 191ms\tremaining: 842ms\n",
            "10:\tlearn: 0.2382342\ttotal: 216ms\tremaining: 843ms\n",
            "11:\tlearn: 0.2264035\ttotal: 235ms\tremaining: 822ms\n",
            "12:\tlearn: 0.2201063\ttotal: 258ms\tremaining: 814ms\n",
            "13:\tlearn: 0.2071653\ttotal: 283ms\tremaining: 808ms\n",
            "14:\tlearn: 0.2012324\ttotal: 301ms\tremaining: 782ms\n",
            "15:\tlearn: 0.1962242\ttotal: 324ms\tremaining: 770ms\n",
            "16:\tlearn: 0.1911877\ttotal: 347ms\tremaining: 756ms\n",
            "17:\tlearn: 0.1832002\ttotal: 376ms\tremaining: 753ms\n",
            "18:\tlearn: 0.1722208\ttotal: 400ms\tremaining: 737ms\n",
            "19:\tlearn: 0.1656395\ttotal: 417ms\tremaining: 709ms\n",
            "20:\tlearn: 0.1550730\ttotal: 439ms\tremaining: 690ms\n",
            "21:\tlearn: 0.1496447\ttotal: 459ms\tremaining: 667ms\n",
            "22:\tlearn: 0.1465808\ttotal: 474ms\tremaining: 639ms\n",
            "23:\tlearn: 0.1437619\ttotal: 496ms\tremaining: 620ms\n",
            "24:\tlearn: 0.1376112\ttotal: 519ms\tremaining: 602ms\n",
            "25:\tlearn: 0.1333083\ttotal: 537ms\tremaining: 578ms\n",
            "26:\tlearn: 0.1309262\ttotal: 561ms\tremaining: 561ms\n",
            "27:\tlearn: 0.1259307\ttotal: 584ms\tremaining: 542ms\n",
            "28:\tlearn: 0.1219793\ttotal: 608ms\tremaining: 524ms\n",
            "29:\tlearn: 0.1182494\ttotal: 630ms\tremaining: 504ms\n",
            "30:\tlearn: 0.1178800\ttotal: 634ms\tremaining: 471ms\n",
            "31:\tlearn: 0.1128189\ttotal: 660ms\tremaining: 454ms\n",
            "32:\tlearn: 0.1082304\ttotal: 676ms\tremaining: 430ms\n",
            "33:\tlearn: 0.1044642\ttotal: 700ms\tremaining: 412ms\n",
            "34:\tlearn: 0.1015331\ttotal: 726ms\tremaining: 394ms\n",
            "35:\tlearn: 0.0992996\ttotal: 752ms\tremaining: 376ms\n",
            "36:\tlearn: 0.0958763\ttotal: 776ms\tremaining: 356ms\n",
            "37:\tlearn: 0.0926910\ttotal: 792ms\tremaining: 333ms\n",
            "38:\tlearn: 0.0909181\ttotal: 808ms\tremaining: 311ms\n",
            "39:\tlearn: 0.0872708\ttotal: 825ms\tremaining: 289ms\n",
            "40:\tlearn: 0.0843375\ttotal: 848ms\tremaining: 269ms\n",
            "41:\tlearn: 0.0841795\ttotal: 860ms\tremaining: 246ms\n",
            "42:\tlearn: 0.0805031\ttotal: 882ms\tremaining: 226ms\n",
            "43:\tlearn: 0.0775329\ttotal: 906ms\tremaining: 206ms\n",
            "44:\tlearn: 0.0762757\ttotal: 928ms\tremaining: 186ms\n",
            "45:\tlearn: 0.0740157\ttotal: 951ms\tremaining: 165ms\n",
            "46:\tlearn: 0.0720268\ttotal: 975ms\tremaining: 145ms\n",
            "47:\tlearn: 0.0712191\ttotal: 997ms\tremaining: 125ms\n",
            "48:\tlearn: 0.0679856\ttotal: 1.02s\tremaining: 104ms\n",
            "49:\tlearn: 0.0654212\ttotal: 1.04s\tremaining: 83.4ms\n",
            "50:\tlearn: 0.0638475\ttotal: 1.05s\tremaining: 62ms\n",
            "51:\tlearn: 0.0632355\ttotal: 1.07s\tremaining: 41.2ms\n",
            "52:\tlearn: 0.0614886\ttotal: 1.08s\tremaining: 20.4ms\n",
            "53:\tlearn: 0.0596117\ttotal: 1.09s\tremaining: 0us\n",
            "0:\tlearn: 0.5444120\ttotal: 15.1ms\tremaining: 800ms\n",
            "1:\tlearn: 0.4415896\ttotal: 28ms\tremaining: 727ms\n",
            "2:\tlearn: 0.3675514\ttotal: 40.5ms\tremaining: 688ms\n",
            "3:\tlearn: 0.3122510\ttotal: 53ms\tremaining: 663ms\n",
            "4:\tlearn: 0.2698217\ttotal: 71.6ms\tremaining: 701ms\n",
            "5:\tlearn: 0.2406330\ttotal: 86.6ms\tremaining: 693ms\n",
            "6:\tlearn: 0.2161212\ttotal: 99.2ms\tremaining: 666ms\n",
            "7:\tlearn: 0.1965875\ttotal: 113ms\tremaining: 652ms\n",
            "8:\tlearn: 0.1818400\ttotal: 120ms\tremaining: 601ms\n",
            "9:\tlearn: 0.1685599\ttotal: 133ms\tremaining: 587ms\n",
            "10:\tlearn: 0.1577745\ttotal: 153ms\tremaining: 597ms\n",
            "11:\tlearn: 0.1497903\ttotal: 165ms\tremaining: 579ms\n",
            "12:\tlearn: 0.1428172\ttotal: 179ms\tremaining: 563ms\n",
            "13:\tlearn: 0.1365070\ttotal: 192ms\tremaining: 548ms\n",
            "14:\tlearn: 0.1310384\ttotal: 204ms\tremaining: 532ms\n",
            "15:\tlearn: 0.1276263\ttotal: 217ms\tremaining: 515ms\n",
            "16:\tlearn: 0.1242365\ttotal: 229ms\tremaining: 499ms\n",
            "17:\tlearn: 0.1212044\ttotal: 242ms\tremaining: 484ms\n",
            "18:\tlearn: 0.1192640\ttotal: 265ms\tremaining: 488ms\n",
            "19:\tlearn: 0.1167276\ttotal: 278ms\tremaining: 473ms\n",
            "20:\tlearn: 0.1143233\ttotal: 291ms\tremaining: 457ms\n",
            "21:\tlearn: 0.1128194\ttotal: 304ms\tremaining: 442ms\n",
            "22:\tlearn: 0.1117635\ttotal: 316ms\tremaining: 426ms\n",
            "23:\tlearn: 0.1103808\ttotal: 329ms\tremaining: 412ms\n",
            "24:\tlearn: 0.1086580\ttotal: 347ms\tremaining: 402ms\n",
            "25:\tlearn: 0.1075045\ttotal: 362ms\tremaining: 390ms\n",
            "26:\tlearn: 0.1061155\ttotal: 375ms\tremaining: 375ms\n",
            "27:\tlearn: 0.1051682\ttotal: 387ms\tremaining: 359ms\n",
            "28:\tlearn: 0.1038810\ttotal: 400ms\tremaining: 344ms\n",
            "29:\tlearn: 0.1028661\ttotal: 413ms\tremaining: 330ms\n",
            "30:\tlearn: 0.1020772\ttotal: 426ms\tremaining: 316ms\n",
            "31:\tlearn: 0.1010050\ttotal: 438ms\tremaining: 301ms\n",
            "32:\tlearn: 0.1001008\ttotal: 450ms\tremaining: 287ms\n",
            "33:\tlearn: 0.0994664\ttotal: 463ms\tremaining: 272ms\n",
            "34:\tlearn: 0.0984976\ttotal: 477ms\tremaining: 259ms\n",
            "35:\tlearn: 0.0977916\ttotal: 490ms\tremaining: 245ms\n",
            "36:\tlearn: 0.0971652\ttotal: 505ms\tremaining: 232ms\n",
            "37:\tlearn: 0.0962696\ttotal: 519ms\tremaining: 219ms\n",
            "38:\tlearn: 0.0957678\ttotal: 532ms\tremaining: 205ms\n",
            "39:\tlearn: 0.0948626\ttotal: 544ms\tremaining: 191ms\n",
            "40:\tlearn: 0.0943443\ttotal: 562ms\tremaining: 178ms\n",
            "41:\tlearn: 0.0936218\ttotal: 574ms\tremaining: 164ms\n",
            "42:\tlearn: 0.0931279\ttotal: 586ms\tremaining: 150ms\n",
            "43:\tlearn: 0.0925154\ttotal: 599ms\tremaining: 136ms\n",
            "44:\tlearn: 0.0921718\ttotal: 611ms\tremaining: 122ms\n",
            "45:\tlearn: 0.0917169\ttotal: 624ms\tremaining: 108ms\n",
            "46:\tlearn: 0.0913703\ttotal: 635ms\tremaining: 94.6ms\n",
            "47:\tlearn: 0.0911935\ttotal: 648ms\tremaining: 81ms\n",
            "48:\tlearn: 0.0907311\ttotal: 661ms\tremaining: 67.4ms\n",
            "49:\tlearn: 0.0902543\ttotal: 672ms\tremaining: 53.8ms\n",
            "50:\tlearn: 0.0898014\ttotal: 684ms\tremaining: 40.3ms\n",
            "51:\tlearn: 0.0894289\ttotal: 697ms\tremaining: 26.8ms\n",
            "52:\tlearn: 0.0890851\ttotal: 709ms\tremaining: 13.4ms\n",
            "53:\tlearn: 0.0889121\ttotal: 721ms\tremaining: 0us\n"
          ]
        },
        {
          "output_type": "execute_result",
          "data": {
            "text/plain": [
              "StackingClassifier(estimators=[('RF',\n",
              "                                RandomForestClassifier(max_depth=10,\n",
              "                                                       n_estimators=400)),\n",
              "                               ('XGB',\n",
              "                                XGBClassifier(base_score=0.88, booster=None,\n",
              "                                              callbacks=None,\n",
              "                                              colsample_bylevel=None,\n",
              "                                              colsample_bynode=None,\n",
              "                                              colsample_bytree=None,\n",
              "                                              device=None,\n",
              "                                              early_stopping_rounds=None,\n",
              "                                              enable_categorical=False,\n",
              "                                              eval_metric=None,\n",
              "                                              feature_types=None, gamma=None,\n",
              "                                              grow_policy=Non...\n",
              "                                              min_child_weight=None,\n",
              "                                              missing=nan,\n",
              "                                              monotone_constraints=None,\n",
              "                                              multi_strategy=None,\n",
              "                                              n_estimators=500, n_jobs=None,\n",
              "                                              num_parallel_tree=None,\n",
              "                                              random_state=None, ...)),\n",
              "                               ('LGBM',\n",
              "                                LGBMClassifier(learning_rate=0.5, max_depth=7)),\n",
              "                               ('CAT',\n",
              "                                <catboost.core.CatBoostClassifier object at 0x780657739210>)],\n",
              "                   final_estimator=<catboost.core.CatBoostClassifier object at 0x78065773b190>)"
            ],
            "text/html": [
              "<style>#sk-container-id-4 {color: black;background-color: white;}#sk-container-id-4 pre{padding: 0;}#sk-container-id-4 div.sk-toggleable {background-color: white;}#sk-container-id-4 label.sk-toggleable__label {cursor: pointer;display: block;width: 100%;margin-bottom: 0;padding: 0.3em;box-sizing: border-box;text-align: center;}#sk-container-id-4 label.sk-toggleable__label-arrow:before {content: \"▸\";float: left;margin-right: 0.25em;color: #696969;}#sk-container-id-4 label.sk-toggleable__label-arrow:hover:before {color: black;}#sk-container-id-4 div.sk-estimator:hover label.sk-toggleable__label-arrow:before {color: black;}#sk-container-id-4 div.sk-toggleable__content {max-height: 0;max-width: 0;overflow: hidden;text-align: left;background-color: #f0f8ff;}#sk-container-id-4 div.sk-toggleable__content pre {margin: 0.2em;color: black;border-radius: 0.25em;background-color: #f0f8ff;}#sk-container-id-4 input.sk-toggleable__control:checked~div.sk-toggleable__content {max-height: 200px;max-width: 100%;overflow: auto;}#sk-container-id-4 input.sk-toggleable__control:checked~label.sk-toggleable__label-arrow:before {content: \"▾\";}#sk-container-id-4 div.sk-estimator input.sk-toggleable__control:checked~label.sk-toggleable__label {background-color: #d4ebff;}#sk-container-id-4 div.sk-label input.sk-toggleable__control:checked~label.sk-toggleable__label {background-color: #d4ebff;}#sk-container-id-4 input.sk-hidden--visually {border: 0;clip: rect(1px 1px 1px 1px);clip: rect(1px, 1px, 1px, 1px);height: 1px;margin: -1px;overflow: hidden;padding: 0;position: absolute;width: 1px;}#sk-container-id-4 div.sk-estimator {font-family: monospace;background-color: #f0f8ff;border: 1px dotted black;border-radius: 0.25em;box-sizing: border-box;margin-bottom: 0.5em;}#sk-container-id-4 div.sk-estimator:hover {background-color: #d4ebff;}#sk-container-id-4 div.sk-parallel-item::after {content: \"\";width: 100%;border-bottom: 1px solid gray;flex-grow: 1;}#sk-container-id-4 div.sk-label:hover label.sk-toggleable__label {background-color: #d4ebff;}#sk-container-id-4 div.sk-serial::before {content: \"\";position: absolute;border-left: 1px solid gray;box-sizing: border-box;top: 0;bottom: 0;left: 50%;z-index: 0;}#sk-container-id-4 div.sk-serial {display: flex;flex-direction: column;align-items: center;background-color: white;padding-right: 0.2em;padding-left: 0.2em;position: relative;}#sk-container-id-4 div.sk-item {position: relative;z-index: 1;}#sk-container-id-4 div.sk-parallel {display: flex;align-items: stretch;justify-content: center;background-color: white;position: relative;}#sk-container-id-4 div.sk-item::before, #sk-container-id-4 div.sk-parallel-item::before {content: \"\";position: absolute;border-left: 1px solid gray;box-sizing: border-box;top: 0;bottom: 0;left: 50%;z-index: -1;}#sk-container-id-4 div.sk-parallel-item {display: flex;flex-direction: column;z-index: 1;position: relative;background-color: white;}#sk-container-id-4 div.sk-parallel-item:first-child::after {align-self: flex-end;width: 50%;}#sk-container-id-4 div.sk-parallel-item:last-child::after {align-self: flex-start;width: 50%;}#sk-container-id-4 div.sk-parallel-item:only-child::after {width: 0;}#sk-container-id-4 div.sk-dashed-wrapped {border: 1px dashed gray;margin: 0 0.4em 0.5em 0.4em;box-sizing: border-box;padding-bottom: 0.4em;background-color: white;}#sk-container-id-4 div.sk-label label {font-family: monospace;font-weight: bold;display: inline-block;line-height: 1.2em;}#sk-container-id-4 div.sk-label-container {text-align: center;}#sk-container-id-4 div.sk-container {/* jupyter's `normalize.less` sets `[hidden] { display: none; }` but bootstrap.min.css set `[hidden] { display: none !important; }` so we also need the `!important` here to be able to override the default hidden behavior on the sphinx rendered scikit-learn.org. See: https://github.com/scikit-learn/scikit-learn/issues/21755 */display: inline-block !important;position: relative;}#sk-container-id-4 div.sk-text-repr-fallback {display: none;}</style><div id=\"sk-container-id-4\" class=\"sk-top-container\"><div class=\"sk-text-repr-fallback\"><pre>StackingClassifier(estimators=[(&#x27;RF&#x27;,\n",
              "                                RandomForestClassifier(max_depth=10,\n",
              "                                                       n_estimators=400)),\n",
              "                               (&#x27;XGB&#x27;,\n",
              "                                XGBClassifier(base_score=0.88, booster=None,\n",
              "                                              callbacks=None,\n",
              "                                              colsample_bylevel=None,\n",
              "                                              colsample_bynode=None,\n",
              "                                              colsample_bytree=None,\n",
              "                                              device=None,\n",
              "                                              early_stopping_rounds=None,\n",
              "                                              enable_categorical=False,\n",
              "                                              eval_metric=None,\n",
              "                                              feature_types=None, gamma=None,\n",
              "                                              grow_policy=Non...\n",
              "                                              min_child_weight=None,\n",
              "                                              missing=nan,\n",
              "                                              monotone_constraints=None,\n",
              "                                              multi_strategy=None,\n",
              "                                              n_estimators=500, n_jobs=None,\n",
              "                                              num_parallel_tree=None,\n",
              "                                              random_state=None, ...)),\n",
              "                               (&#x27;LGBM&#x27;,\n",
              "                                LGBMClassifier(learning_rate=0.5, max_depth=7)),\n",
              "                               (&#x27;CAT&#x27;,\n",
              "                                &lt;catboost.core.CatBoostClassifier object at 0x780657739210&gt;)],\n",
              "                   final_estimator=&lt;catboost.core.CatBoostClassifier object at 0x78065773b190&gt;)</pre><b>In a Jupyter environment, please rerun this cell to show the HTML representation or trust the notebook. <br />On GitHub, the HTML representation is unable to render, please try loading this page with nbviewer.org.</b></div><div class=\"sk-container\" hidden><div class=\"sk-item sk-dashed-wrapped\"><div class=\"sk-label-container\"><div class=\"sk-label sk-toggleable\"><input class=\"sk-toggleable__control sk-hidden--visually\" id=\"sk-estimator-id-4\" type=\"checkbox\" ><label for=\"sk-estimator-id-4\" class=\"sk-toggleable__label sk-toggleable__label-arrow\">StackingClassifier</label><div class=\"sk-toggleable__content\"><pre>StackingClassifier(estimators=[(&#x27;RF&#x27;,\n",
              "                                RandomForestClassifier(max_depth=10,\n",
              "                                                       n_estimators=400)),\n",
              "                               (&#x27;XGB&#x27;,\n",
              "                                XGBClassifier(base_score=0.88, booster=None,\n",
              "                                              callbacks=None,\n",
              "                                              colsample_bylevel=None,\n",
              "                                              colsample_bynode=None,\n",
              "                                              colsample_bytree=None,\n",
              "                                              device=None,\n",
              "                                              early_stopping_rounds=None,\n",
              "                                              enable_categorical=False,\n",
              "                                              eval_metric=None,\n",
              "                                              feature_types=None, gamma=None,\n",
              "                                              grow_policy=Non...\n",
              "                                              min_child_weight=None,\n",
              "                                              missing=nan,\n",
              "                                              monotone_constraints=None,\n",
              "                                              multi_strategy=None,\n",
              "                                              n_estimators=500, n_jobs=None,\n",
              "                                              num_parallel_tree=None,\n",
              "                                              random_state=None, ...)),\n",
              "                               (&#x27;LGBM&#x27;,\n",
              "                                LGBMClassifier(learning_rate=0.5, max_depth=7)),\n",
              "                               (&#x27;CAT&#x27;,\n",
              "                                &lt;catboost.core.CatBoostClassifier object at 0x780657739210&gt;)],\n",
              "                   final_estimator=&lt;catboost.core.CatBoostClassifier object at 0x78065773b190&gt;)</pre></div></div></div><div class=\"sk-serial\"><div class=\"sk-item\"><div class=\"sk-parallel\"><div class=\"sk-parallel-item\"><div class=\"sk-item\"><div class=\"sk-label-container\"><div class=\"sk-label sk-toggleable\"><label>RF</label></div></div><div class=\"sk-serial\"><div class=\"sk-item\"><div class=\"sk-estimator sk-toggleable\"><input class=\"sk-toggleable__control sk-hidden--visually\" id=\"sk-estimator-id-5\" type=\"checkbox\" ><label for=\"sk-estimator-id-5\" class=\"sk-toggleable__label sk-toggleable__label-arrow\">RandomForestClassifier</label><div class=\"sk-toggleable__content\"><pre>RandomForestClassifier(max_depth=10, n_estimators=400)</pre></div></div></div></div></div></div><div class=\"sk-parallel-item\"><div class=\"sk-item\"><div class=\"sk-label-container\"><div class=\"sk-label sk-toggleable\"><label>XGB</label></div></div><div class=\"sk-serial\"><div class=\"sk-item\"><div class=\"sk-estimator sk-toggleable\"><input class=\"sk-toggleable__control sk-hidden--visually\" id=\"sk-estimator-id-6\" type=\"checkbox\" ><label for=\"sk-estimator-id-6\" class=\"sk-toggleable__label sk-toggleable__label-arrow\">XGBClassifier</label><div class=\"sk-toggleable__content\"><pre>XGBClassifier(base_score=0.88, booster=None, callbacks=None,\n",
              "              colsample_bylevel=None, colsample_bynode=None,\n",
              "              colsample_bytree=None, device=None, early_stopping_rounds=None,\n",
              "              enable_categorical=False, eval_metric=None, feature_types=None,\n",
              "              gamma=None, grow_policy=None, importance_type=None,\n",
              "              interaction_constraints=None, learning_rate=0.2, max_bin=None,\n",
              "              max_cat_threshold=None, max_cat_to_onehot=None,\n",
              "              max_delta_step=None, max_depth=7, max_leaves=None,\n",
              "              min_child_weight=None, missing=nan, monotone_constraints=None,\n",
              "              multi_strategy=None, n_estimators=500, n_jobs=None,\n",
              "              num_parallel_tree=None, random_state=None, ...)</pre></div></div></div></div></div></div><div class=\"sk-parallel-item\"><div class=\"sk-item\"><div class=\"sk-label-container\"><div class=\"sk-label sk-toggleable\"><label>LGBM</label></div></div><div class=\"sk-serial\"><div class=\"sk-item\"><div class=\"sk-estimator sk-toggleable\"><input class=\"sk-toggleable__control sk-hidden--visually\" id=\"sk-estimator-id-7\" type=\"checkbox\" ><label for=\"sk-estimator-id-7\" class=\"sk-toggleable__label sk-toggleable__label-arrow\">LGBMClassifier</label><div class=\"sk-toggleable__content\"><pre>LGBMClassifier(learning_rate=0.5, max_depth=7)</pre></div></div></div></div></div></div><div class=\"sk-parallel-item\"><div class=\"sk-item\"><div class=\"sk-label-container\"><div class=\"sk-label sk-toggleable\"><label>CAT</label></div></div><div class=\"sk-serial\"><div class=\"sk-item\"><div class=\"sk-estimator sk-toggleable\"><input class=\"sk-toggleable__control sk-hidden--visually\" id=\"sk-estimator-id-8\" type=\"checkbox\" ><label for=\"sk-estimator-id-8\" class=\"sk-toggleable__label sk-toggleable__label-arrow\">CatBoostClassifier</label><div class=\"sk-toggleable__content\"><pre>&lt;catboost.core.CatBoostClassifier object at 0x780657739210&gt;</pre></div></div></div></div></div></div></div></div><div class=\"sk-item\"><div class=\"sk-parallel\"><div class=\"sk-parallel-item\"><div class=\"sk-item\"><div class=\"sk-label-container\"><div class=\"sk-label sk-toggleable\"><label>final_estimator</label></div></div><div class=\"sk-serial\"><div class=\"sk-item\"><div class=\"sk-estimator sk-toggleable\"><input class=\"sk-toggleable__control sk-hidden--visually\" id=\"sk-estimator-id-9\" type=\"checkbox\" ><label for=\"sk-estimator-id-9\" class=\"sk-toggleable__label sk-toggleable__label-arrow\">CatBoostClassifier</label><div class=\"sk-toggleable__content\"><pre>&lt;catboost.core.CatBoostClassifier object at 0x78065773b190&gt;</pre></div></div></div></div></div></div></div></div></div></div></div></div>"
            ]
          },
          "metadata": {},
          "execution_count": 46
        }
      ]
    },
    {
      "cell_type": "code",
      "source": [
        "pred = model.predict(xtest)"
      ],
      "metadata": {
        "id": "-VnRhjELqgEn",
        "colab": {
          "base_uri": "https://localhost:8080/"
        },
        "outputId": "df1f8ce4-31aa-409c-adcf-f6534a24c3fd"
      },
      "execution_count": null,
      "outputs": [
        {
          "output_type": "stream",
          "name": "stdout",
          "text": [
            "[LightGBM] [Warning] Accuracy may be bad since you didn't explicitly set num_leaves OR 2^max_depth > num_leaves. (num_leaves=31).\n"
          ]
        }
      ]
    },
    {
      "cell_type": "code",
      "source": [
        "accuracy_score(ytest,pred), precision_score(ytest, pred), recall_score(ytest, pred), f1_score(ytest, pred)"
      ],
      "metadata": {
        "colab": {
          "base_uri": "https://localhost:8080/"
        },
        "id": "1iyPoA5qqhCj",
        "outputId": "ddffca65-a68b-483d-9e3d-715856a31df7"
      },
      "execution_count": null,
      "outputs": [
        {
          "output_type": "execute_result",
          "data": {
            "text/plain": [
              "(0.9807692307692307,\n",
              " 0.9699248120300752,\n",
              " 0.9923076923076923,\n",
              " 0.9809885931558935)"
            ]
          },
          "metadata": {},
          "execution_count": 73
        }
      ]
    },
    {
      "cell_type": "code",
      "source": [
        "mcc = matthews_corrcoef(ytest, pred)\n",
        "mcc"
      ],
      "metadata": {
        "colab": {
          "base_uri": "https://localhost:8080/"
        },
        "id": "VK_ljhlPJPSv",
        "outputId": "79d95a86-e607-4617-b8f8-cbd8d5ba2bb9"
      },
      "execution_count": null,
      "outputs": [
        {
          "output_type": "execute_result",
          "data": {
            "text/plain": [
              "0.9771833083127817"
            ]
          },
          "metadata": {},
          "execution_count": 48
        }
      ]
    },
    {
      "cell_type": "code",
      "source": [
        "cm = confusion_matrix(ytest,pred)"
      ],
      "metadata": {
        "id": "4NPx4J-Pqnm7"
      },
      "execution_count": null,
      "outputs": []
    },
    {
      "cell_type": "code",
      "source": [
        "cm"
      ],
      "metadata": {
        "colab": {
          "base_uri": "https://localhost:8080/"
        },
        "id": "A6yJZASOYVOo",
        "outputId": "6b54c397-a3ec-4fc7-b950-f5b39744551f"
      },
      "execution_count": null,
      "outputs": [
        {
          "output_type": "execute_result",
          "data": {
            "text/plain": [
              "array([[126,   4],\n",
              "       [  1, 129]])"
            ]
          },
          "metadata": {},
          "execution_count": 75
        }
      ]
    },
    {
      "cell_type": "code",
      "source": [
        "# True Positives (TP)\n",
        "tp = cm[1, 1]\n",
        "\n",
        "# True Negatives (TN)\n",
        "tn = cm[0, 0]\n",
        "\n",
        "# False Positives (FP)\n",
        "fp = cm[0, 1]\n",
        "\n",
        "# False Negatives (FN)\n",
        "fn = cm[1, 0]\n",
        "\n",
        "# Sensitivity (True Positive Rate or Recall)\n",
        "sensitivity = tp / (tp + fn)\n",
        "\n",
        "# Specificity (True Negative Rate)\n",
        "specificity = tn / (tn + fp)\n",
        "\n",
        "print(\"Sensitivity:\", sensitivity)\n",
        "print(\"Specificity:\", specificity)"
      ],
      "metadata": {
        "colab": {
          "base_uri": "https://localhost:8080/"
        },
        "id": "-KF1RHZCYV6F",
        "outputId": "358e1f01-e17f-4414-896c-e9551b3f0206"
      },
      "execution_count": null,
      "outputs": [
        {
          "output_type": "stream",
          "name": "stdout",
          "text": [
            "Sensitivity: 0.9923076923076923\n",
            "Specificity: 0.9692307692307692\n"
          ]
        }
      ]
    },
    {
      "cell_type": "code",
      "source": [
        "plt.figure(figsize=(4, 3))\n",
        "sns.set(font_scale=1.2)\n",
        "sns.heatmap(cm, annot=True, fmt='d', cmap='Blues', annot_kws={\"size\": 16}, cbar=False)\n",
        "plt.xlabel('Predicted')\n",
        "plt.ylabel('True')\n",
        "plt.title('Confusion Matrix')\n",
        "plt.show()"
      ],
      "metadata": {
        "colab": {
          "base_uri": "https://localhost:8080/",
          "height": 347
        },
        "id": "osxa0jkOYbzD",
        "outputId": "a135066c-6b28-468b-a14c-edde8fccf2c5"
      },
      "execution_count": null,
      "outputs": [
        {
          "output_type": "display_data",
          "data": {
            "text/plain": [
              "<Figure size 400x300 with 1 Axes>"
            ],
            "image/png": "[encoded data removed]"
          },
          "metadata": {}
        }
      ]
    }
  ]
}